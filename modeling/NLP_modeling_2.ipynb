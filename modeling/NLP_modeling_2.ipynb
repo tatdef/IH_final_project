{
 "cells": [
  {
   "attachments": {},
   "cell_type": "markdown",
   "metadata": {},
   "source": [
    "# Random Forest Model"
   ]
  },
  {
   "attachments": {},
   "cell_type": "markdown",
   "metadata": {},
   "source": [
    "## Initializing"
   ]
  },
  {
   "cell_type": "code",
   "execution_count": 257,
   "metadata": {},
   "outputs": [],
   "source": [
    "import pandas as pd\n",
    "import numpy as np\n",
    "from matplotlib import pyplot as plt"
   ]
  },
  {
   "cell_type": "code",
   "execution_count": 301,
   "metadata": {},
   "outputs": [],
   "source": [
    "from sklearn.feature_extraction.text import CountVectorizer\n",
    "from sklearn.feature_extraction.text import TfidfVectorizer\n",
    "from sklearn.feature_extraction._stop_words import ENGLISH_STOP_WORDS\n",
    "\n",
    "from nltk.stem.snowball import EnglishStemmer, FrenchStemmer\n",
    "\n",
    "from sklearn.model_selection import train_test_split\n",
    "\n",
    "from sklearn.model_selection import GridSearchCV\n",
    "\n",
    "from sklearn.ensemble import RandomForestClassifier\n",
    "from sklearn.neighbors import KNeighborsClassifier\n",
    "\n",
    "from sklearn.metrics import (confusion_matrix,\n",
    "    accuracy_score, precision_score, recall_score,\n",
    "    precision_recall_curve, roc_curve, roc_auc_score)\n",
    "\n",
    "from sklearn.utils.class_weight import compute_sample_weight\n",
    "\n",
    "pd.set_option(\"display.max_colwidth\", 500)"
   ]
  },
  {
   "cell_type": "code",
   "execution_count": 259,
   "metadata": {},
   "outputs": [],
   "source": [
    "# import file\n",
    "df= pd.read_csv(\"dataset.csv\", sep=';')"
   ]
  },
  {
   "cell_type": "code",
   "execution_count": 260,
   "metadata": {},
   "outputs": [
    {
     "name": "stdout",
     "output_type": "stream",
     "text": [
      "(168, 63)\n",
      "['ed_1degreeName', 'ed_1fieldOfStudy', 'ed_1schoolName', 'ed_1timePeriod', 'ed_2degreeName', 'ed_2fieldOfStudy', 'ed_2schoolName', 'ed_2timePeriod', 'ed_3degreeName', 'ed_3fieldOfStudy', 'ed_3schoolName', 'ed_3timePeriod', 'exp_1company', 'exp_1companyName', 'exp_1description', 'exp_1geoLocationName', 'exp_1locationName', 'exp_1region', 'exp_1timePeriod', 'exp_1title', 'exp_2company', 'exp_2companyName', 'exp_2description', 'exp_2geoLocationName', 'exp_2locationName', 'exp_2region', 'exp_2timePeriod', 'exp_2title', 'exp_3company', 'exp_3companyName', 'exp_3description', 'exp_3geoLocationName', 'exp_3locationName', 'exp_3region', 'exp_3timePeriod', 'exp_3title', 'exp_4company', 'exp_4companyName', 'exp_4description', 'exp_4geoLocationName', 'exp_4locationName', 'exp_4timePeriod', 'exp_4title', 'exp_5company', 'exp_5companyName', 'exp_5description', 'exp_5geoLocationName', 'exp_5locationName', 'exp_5timePeriod', 'exp_5title', 'geoCountryName', 'geoLocationName', 'headline', 'industryName', 'lang_1name', 'lang_1proficiency', 'lang_2name', 'lang_2proficiency', 'lang_3name', 'lang_3proficiency', 'summary', 'vol_1companyName', 'vol_1role']\n"
     ]
    }
   ],
   "source": [
    "# check it \n",
    "print(df.shape)\n",
    "print(list(df.columns))"
   ]
  },
  {
   "attachments": {},
   "cell_type": "markdown",
   "metadata": {},
   "source": [
    "## Creating the target column"
   ]
  },
  {
   "cell_type": "code",
   "execution_count": 261,
   "metadata": {},
   "outputs": [],
   "source": [
    "import re"
   ]
  },
  {
   "cell_type": "code",
   "execution_count": 262,
   "metadata": {},
   "outputs": [],
   "source": [
    "def create_target(x):\n",
    "    x=str(x)\n",
    "    pattern = r\"\\['.*'\\]\"\n",
    "    a= re.findall(pattern, x)\n",
    "    a= ''.join(a)\n",
    "    return a[2:-2]"
   ]
  },
  {
   "cell_type": "code",
   "execution_count": 263,
   "metadata": {},
   "outputs": [],
   "source": [
    "# testing the function \n",
    "#text = \"{'employeeCountRange': {'start': 2, 'end': 10}, 'industries': ['Computer Software']} \"\n",
    "#create_target(text)"
   ]
  },
  {
   "cell_type": "code",
   "execution_count": 264,
   "metadata": {},
   "outputs": [],
   "source": [
    "df['target']= df['exp_1company'].apply(create_target)"
   ]
  },
  {
   "cell_type": "code",
   "execution_count": 265,
   "metadata": {},
   "outputs": [
    {
     "name": "stdout",
     "output_type": "stream",
     "text": [
      "47\n"
     ]
    },
    {
     "data": {
      "text/plain": [
       "Computer Software                      19\n",
       "                                       17\n",
       "Information Technology and Services    17\n",
       "Government Administration              14\n",
       "Civic & Social Organization            13\n",
       "Management Consulting                  10\n",
       "Higher Education                        8\n",
       "Research                                7\n",
       "Nonprofit Organization Management       5\n",
       "International Affairs                   4\n",
       "Banking                                 3\n",
       "Public Relations and Communications     3\n",
       "Leisure, Travel & Tourism               3\n",
       "Renewables & Environment                3\n",
       "Online Media                            3\n",
       "Venture Capital & Private Equity        3\n",
       "Internet                                3\n",
       "Think Tanks                             2\n",
       "Marketing and Advertising               2\n",
       "Performing Arts                         2\n",
       "Telecommunications                      1\n",
       "Fine Art                                1\n",
       "Restaurants                             1\n",
       "Security and Investigations             1\n",
       "Professional Training & Coaching        1\n",
       "Computer & Network Security             1\n",
       "Building Materials                      1\n",
       "Design                                  1\n",
       "Architecture & Planning                 1\n",
       "Farming                                 1\n",
       "Insurance                               1\n",
       "Consumer Goods                          1\n",
       "Environmental Services                  1\n",
       "Real Estate                             1\n",
       "Human Resources                         1\n",
       "Chemicals                               1\n",
       "Hospital & Health Care                  1\n",
       "Transportation/Trucking/Railroad        1\n",
       "Investment Banking                      1\n",
       "Market Research                         1\n",
       "Retail                                  1\n",
       "Information Services                    1\n",
       "Pharmaceuticals                         1\n",
       "Education Management                    1\n",
       "Government Relations                    1\n",
       "Civil Engineering                       1\n",
       "Political Organization                  1\n",
       "Name: target, dtype: int64"
      ]
     },
     "execution_count": 265,
     "metadata": {},
     "output_type": "execute_result"
    }
   ],
   "source": [
    "print(len(df.target.unique()))\n",
    "df.target.value_counts()"
   ]
  },
  {
   "cell_type": "code",
   "execution_count": 266,
   "metadata": {},
   "outputs": [
    {
     "name": "stdout",
     "output_type": "stream",
     "text": [
      "141\n",
      "['1001mots', 'A Voté', 'AD Education', 'AFD', 'AI Builders', \"ANSSI - Agence nationale de la sécurité des systèmes d'information\", 'APALA', \"ASFE - Alliance Solidaire des Français de l'Etranger\", 'Accenta.ai', 'Adie', 'Agence Française de Développement', 'Agence Proches', 'Agence Régionale du Tourisme Grand Est [ART GE]', 'AgroParisTech', 'Altermakers', 'Amethis', 'Analog Sport', 'Antidox', 'ArsLonga', 'Assistance Publique - Hôpitaux de Paris', 'Asterion Ventures', 'Avere-France', 'Avolta', 'BESNARD CHARPENTE SARL', 'BINGE AUDIO', 'Billy', 'Boston Consulting Group (BCG)', 'CERBA HEALTHCARE', \"CNIL - Commission Nationale de l'Informatique et des Libertés\", \"CRT Côte d'Azur France\", 'Cap Collectif', 'Capgemini Invent', 'Carbone 4', 'Change.org', 'Citipo - citipo.com', 'Civocracy', 'Ckatalyzen', 'Coca-Cola Europacific Partners', 'Colas Rail', 'Combo (ex-Snapshift)', 'Communauté urbaine du Grand Reims', 'Cour des comptes', 'Crédit Agricole CIB', 'Dailymotion', 'Datagora', 'Decidim', 'Deleris automobile', 'Démocratie Ouverte', 'EDF', 'EGIS CONSEIL', 'EY', 'Egis', 'Emmaüs Connect', 'Envu', 'European Network for Women in Leadership (WIL Europe)', 'Fluicity', 'Forward College', 'Google', 'Gov-Sync, LLC', 'GrandVision FRANCE', 'Greenly | Certified B Corp', 'Groupe Caisse des Dépôts', 'Groupe Roullier', 'Groupe VYV', 'HEC Paris', 'Haute Autorité de Santé', 'Hippocrate Développement', 'IMPACT TANK', 'IRSN', 'Impact Hub Berlin', 'Indépendant', 'Ingérop', 'Institut des Politiques Publiques', 'International Coach Federation', 'JoliCode', 'Jolicode', \"Journaliste d'Impact Positif\", 'KOZ - Affaires publiques | Plaidoyer | Concertation', 'Kawaa', 'Klarna', \"L'Institut Paris Region\", 'La Cour des Contes', 'La MedNum', 'Latitudes –\\xa0Exploring Tech for Good', 'Le Havre Seine Métropole', 'Leto', 'Low-tech Lab', 'Make.org', 'Malt', 'Matrice', 'Ministère de l’Économie, des Finances et de la Souveraineté industrielle et numérique', 'Mon Avis Citoyen - Cities Zen', 'Multitudes Foundation', 'Nantes Métropole', 'Nestlé France', 'OECD - OCDE', 'Office de Tourisme de Limoges Métropole', 'Oh Activ', 'Open Source Politics', 'Orange', 'Orchestre National de Jazz', 'Perrotin', 'Plateau Urbain', 'Qomon', 'ROCH Ventures', 'Ranc Développement', 'SAMAP (mutuelle assurance maritime)', 'SELL - Syndicat des Éditeurs de Logiciels de Loisirs', 'SLOOP', 'Sciences Po OFCE', 'Sdui', 'Self-employed', 'Sicoval', 'Sobi - Swedish Orphan Biovitrum AB (publ)', 'Social Builder NGO', 'Substack', 'The Future Society', 'The ONE Campaign', 'Ticketr', 'Trikoï Conseil', 'UMI', 'Udaf 71', 'University of Paris I: Panthéon-Sorbonne', 'Université de Technologie de Compiègne', 'VOXE', \"Ville d'Alfortville\", 'Ville de Cachan', 'Ville de Lyon', 'Voxe', 'WWF-France', 'WeTechCare', 'Yaniro', 'Yespark', '[]', 'abcdeep', 'beta.gouv.fr', 'bluenove', 'i-Managing', 'lesbudgetsparticipatifs.fr', 'multi', 'ÉS']\n"
     ]
    }
   ],
   "source": [
    "companies= list(df.exp_1companyName.unique())\n",
    "companies.sort()\n",
    "print(len(companies))\n",
    "print(companies)"
   ]
  },
  {
   "attachments": {},
   "cell_type": "markdown",
   "metadata": {},
   "source": [
    "## Preparing the dataframe"
   ]
  },
  {
   "cell_type": "code",
   "execution_count": 267,
   "metadata": {},
   "outputs": [],
   "source": [
    "# our \"y\" here is the exp1_industry \n",
    "# it could be the companies but there are a lot of them (128)\n",
    "# next we are going to drop everything else related to the 1st (last) experience\n",
    "# ['exp1_locationName', 'exp1_companyName',\n",
    "#       'exp1_description', 'exp1_title', 'exp1_startDate_month',\n",
    "#       'exp1_startDate_year', 'exp1_industry', 'exp1_company_empl_low']"
   ]
  },
  {
   "cell_type": "code",
   "execution_count": 268,
   "metadata": {},
   "outputs": [],
   "source": [
    "exp1_columns= [i for i in df.columns if 'exp_1' in i]\n",
    "df.drop(columns=exp1_columns, inplace=True)"
   ]
  },
  {
   "cell_type": "code",
   "execution_count": 269,
   "metadata": {},
   "outputs": [],
   "source": [
    "df=df.applymap(str)"
   ]
  },
  {
   "cell_type": "code",
   "execution_count": 270,
   "metadata": {},
   "outputs": [
    {
     "data": {
      "text/html": [
       "<div>\n",
       "<style scoped>\n",
       "    .dataframe tbody tr th:only-of-type {\n",
       "        vertical-align: middle;\n",
       "    }\n",
       "\n",
       "    .dataframe tbody tr th {\n",
       "        vertical-align: top;\n",
       "    }\n",
       "\n",
       "    .dataframe thead th {\n",
       "        text-align: right;\n",
       "    }\n",
       "</style>\n",
       "<table border=\"1\" class=\"dataframe\">\n",
       "  <thead>\n",
       "    <tr style=\"text-align: right;\">\n",
       "      <th></th>\n",
       "      <th>target</th>\n",
       "      <th>text</th>\n",
       "    </tr>\n",
       "  </thead>\n",
       "  <tbody>\n",
       "    <tr>\n",
       "      <th>0</th>\n",
       "      <td></td>\n",
       "      <td>Master informatique Architecture logicielle distribuée Université Bordeaux I {'endDate': {'year': 2009}, 'startDate': {'year': 2004}} [] [] [] [] [] [] [] [] {'employeeCountRange': {'start': 201, 'end': 500}, 'industries': ['Information Technology and Services']} Clever Age Expert PHP : audit, performance, méthodologie autour des développements framework (symfony, Jelix), et CMS (Drupal). Accompagnement dans le développement et formation. [] [] [] {'endDate': {'month': 1, 'year': 2012}, 'sta...</td>\n",
       "    </tr>\n",
       "    <tr>\n",
       "      <th>1</th>\n",
       "      <td>Computer Software</td>\n",
       "      <td>Master 2 Sciences politiques Université Paris 1 Panthéon-Sorbonne {'endDate': {'year': 2007}, 'startDate': {'year': 2005}} Licence Droit Université Lille 2 Droit et Santé {'endDate': {'year': 2005}, 'startDate': {'year': 2002}} [] [] [] [] {'employeeCountRange': {'start': 11, 'end': 50}, 'industries': ['Computer Software']} Cap Collectif Key figures : 250 clients / 2,5 M€ CA / 30 ETP. \\nPrincipaux clients : ministères (République numérique, Grand débat national...), collectivités territorial...</td>\n",
       "    </tr>\n",
       "  </tbody>\n",
       "</table>\n",
       "</div>"
      ],
      "text/plain": [
       "              target  \\\n",
       "0                      \n",
       "1  Computer Software   \n",
       "\n",
       "                                                                                                                                                                                                                                                                                                                                                                                                                                                                                                                  text  \n",
       "0  Master informatique Architecture logicielle distribuée Université Bordeaux I {'endDate': {'year': 2009}, 'startDate': {'year': 2004}} [] [] [] [] [] [] [] [] {'employeeCountRange': {'start': 201, 'end': 500}, 'industries': ['Information Technology and Services']} Clever Age Expert PHP : audit, performance, méthodologie autour des développements framework (symfony, Jelix), et CMS (Drupal). Accompagnement dans le développement et formation. [] [] [] {'endDate': {'month': 1, 'year': 2012}, 'sta...  \n",
       "1  Master 2 Sciences politiques Université Paris 1 Panthéon-Sorbonne {'endDate': {'year': 2007}, 'startDate': {'year': 2005}} Licence Droit Université Lille 2 Droit et Santé {'endDate': {'year': 2005}, 'startDate': {'year': 2002}} [] [] [] [] {'employeeCountRange': {'start': 11, 'end': 50}, 'industries': ['Computer Software']} Cap Collectif Key figures : 250 clients / 2,5 M€ CA / 30 ETP. \\nPrincipaux clients : ministères (République numérique, Grand débat national...), collectivités territorial...  "
      ]
     },
     "execution_count": 270,
     "metadata": {},
     "output_type": "execute_result"
    }
   ],
   "source": [
    "# creating a new database with only 2 columns (joining all text)\n",
    "df.set_index(\"target\", drop=True, inplace=True)\n",
    "list_df_columns=list(df.columns)\n",
    "df[\"text\"] = df[list_df_columns].apply(lambda x: \" \".join(x), axis =1)\n",
    "df.reset_index(inplace=True)\n",
    "mod_df=df[[\"target\", \"text\"]]\n",
    "mod_df.head(2)"
   ]
  },
  {
   "cell_type": "code",
   "execution_count": 271,
   "metadata": {},
   "outputs": [],
   "source": [
    "def clean_text_col(x):\n",
    "    x=str(x)\n",
    "    x= \"\".join(ch for ch in x if ch.isalnum() or ch==' ')\n",
    "    x= x.lower()\n",
    "    return x"
   ]
  },
  {
   "cell_type": "code",
   "execution_count": 272,
   "metadata": {},
   "outputs": [
    {
     "name": "stderr",
     "output_type": "stream",
     "text": [
      "/var/folders/5g/jskfzb8j377fh7wl3_rxvkrc0000gn/T/ipykernel_5551/1958694200.py:1: SettingWithCopyWarning: \n",
      "A value is trying to be set on a copy of a slice from a DataFrame.\n",
      "Try using .loc[row_indexer,col_indexer] = value instead\n",
      "\n",
      "See the caveats in the documentation: https://pandas.pydata.org/pandas-docs/stable/user_guide/indexing.html#returning-a-view-versus-a-copy\n",
      "  mod_df[\"text\"] = mod_df['text'].apply(clean_text_col)\n"
     ]
    }
   ],
   "source": [
    "mod_df[\"text\"] = mod_df['text'].apply(clean_text_col)"
   ]
  },
  {
   "cell_type": "code",
   "execution_count": 273,
   "metadata": {},
   "outputs": [
    {
     "data": {
      "text/html": [
       "<div>\n",
       "<style scoped>\n",
       "    .dataframe tbody tr th:only-of-type {\n",
       "        vertical-align: middle;\n",
       "    }\n",
       "\n",
       "    .dataframe tbody tr th {\n",
       "        vertical-align: top;\n",
       "    }\n",
       "\n",
       "    .dataframe thead th {\n",
       "        text-align: right;\n",
       "    }\n",
       "</style>\n",
       "<table border=\"1\" class=\"dataframe\">\n",
       "  <thead>\n",
       "    <tr style=\"text-align: right;\">\n",
       "      <th></th>\n",
       "      <th>target</th>\n",
       "      <th>text</th>\n",
       "    </tr>\n",
       "  </thead>\n",
       "  <tbody>\n",
       "    <tr>\n",
       "      <th>0</th>\n",
       "      <td></td>\n",
       "      <td>master informatique architecture logicielle distribuée université bordeaux i enddate year 2009 startdate year 2004         employeecountrange start 201 end 500 industries information technology and services clever age expert php  audit performance méthodologie autour des développements framework symfony jelix et cms drupal accompagnement dans le développement et formation    enddate month 1 year 2012 startdate month 9 year 2009 consultant expert php  solution interactive     enddate month 9 ...</td>\n",
       "    </tr>\n",
       "    <tr>\n",
       "      <th>23</th>\n",
       "      <td></td>\n",
       "      <td>graphiste plurimédia  école des métiers de linformation scop sa enddate year 2022 startdate year 2021  communication général université sorbonne nouvelle enddate year 1994 startdate year 1991  sociologie et linguistique université paris descartes enddate year 1991 startdate year 1990 employeecountrange start 201 end 500 industries civic  social organization mouvement international atd quart monde stage pratique de fin de formation au sein de la direction de la communication et de lengagement...</td>\n",
       "    </tr>\n",
       "    <tr>\n",
       "      <th>27</th>\n",
       "      <td></td>\n",
       "      <td>diploma in global leadership and public policy for the 21st century harvard kennedy school enddate year 2013 startdate year 2013   ecole nationale dadministration enddate year 2002 startdate year 2000  economics and finance  political science sciences po enddate year 1990 startdate year 1987  sustainable  leading sme towards sustainability to generate shared value along the supply chain strategy  sustainability consulting optimizing blue chip companies supply chain through sustainability    ...</td>\n",
       "    </tr>\n",
       "    <tr>\n",
       "      <th>29</th>\n",
       "      <td></td>\n",
       "      <td>sciences economiques université paris 1 panthéonsorbonne enddate year 1974 startdate year 1968          librairie résistances  paris paris  enddate month 2 year 2020 startdate month 9 year 2012 gérant industries graphic design typical  paris paris  enddate month 2 year 2020 startdate month 1 year 1995 cofondateur gérant  sepelco signalétique  paris paris enddate month 10 year 2010 startdate month 5 year 1980 cofondateur gérant employeecountrange start 10001 industries public policy ministèr...</td>\n",
       "    </tr>\n",
       "    <tr>\n",
       "      <th>77</th>\n",
       "      <td></td>\n",
       "      <td>centre de formation des journalistes enddate year 2015 startdate year 2013 bachelor in international business international business grenoble ecole de management enddate year 2012 startdate year 2009  sciences politiques et gouvernement classe préparatoire  intégrale enddate year 2009 startdate year 2008  supplément dâme      startdate month 11 year 2018 créatrice du podcast supplément dâme  employeecountrange start 1001 end 5000 industries international affairs un environment  région de p...</td>\n",
       "    </tr>\n",
       "    <tr>\n",
       "      <th>79</th>\n",
       "      <td></td>\n",
       "      <td>france greater paris metropolitan region  senior product designer freelance  uxui  ux writing  3d  figma internet</td>\n",
       "    </tr>\n",
       "    <tr>\n",
       "      <th>85</th>\n",
       "      <td></td>\n",
       "      <td>france greater paris metropolitan region  civic  social organization        100 000 entrepreneurs intervenante</td>\n",
       "    </tr>\n",
       "    <tr>\n",
       "      <th>90</th>\n",
       "      <td></td>\n",
       "      <td>france greater saintbrieuc area responsable direction commerciale it services and it consulting</td>\n",
       "    </tr>\n",
       "    <tr>\n",
       "      <th>107</th>\n",
       "      <td></td>\n",
       "      <td>masters degree governing the large metropolis sciences po enddate year 2017 startdate year 2015 institut de droit et déconomie appliqués à limmobilier   droit de lurbanisme et de laménagement  conservatoire national des arts et métiers enddate year 2018 startdate year 2017 exchange student urbanisme philosophie sciences politiques universidad nacional autónoma de méxico enddate year 2015 startdate year 2014 employeecountrange start 1001 end 5000 industries higher education université paris 8...</td>\n",
       "    </tr>\n",
       "    <tr>\n",
       "      <th>115</th>\n",
       "      <td></td>\n",
       "      <td>imanaging après 6 années dadjoint au maire 13 années passées à faire avancer ma commune en qualité de maire et 30 années de consultant en management jai décidé de me rendre disponible pour accompagner les maires des petites communes de france dans la mise au point de leur plan stratégique communalet cest donc sous mon profil professionnel que japparaitrai donc désormais sans lécharpe de mairemais ce nest pas pour oublier mes anciens pairs mais pour mieux les accompagner désormai...</td>\n",
       "    </tr>\n",
       "    <tr>\n",
       "      <th>120</th>\n",
       "      <td></td>\n",
       "      <td>france galgan occitanie chef entreprise motor vehicle manufacturing</td>\n",
       "    </tr>\n",
       "    <tr>\n",
       "      <th>140</th>\n",
       "      <td></td>\n",
       "      <td>certificat administrateur de société business administration and management general sciences po enddate year 2018 startdate year 2018 master international education policy harvard university enddate year 2008 startdate year 2007 med international education policy harvard university graduate school of education enddate year 2008 startdate year 2007 employeecountrange start 1001 end 5000 industries nonprofit organization management alima     startdate month 11 year 2019 administratrice  etabli...</td>\n",
       "    </tr>\n",
       "    <tr>\n",
       "      <th>146</th>\n",
       "      <td></td>\n",
       "      <td>master 2 communication publique et politique institut detudes politiques de bordeaux enddate year 2006 startdate year 2005 maîtrise communication des organisations des entreprises et des territoires université bordeaux montaigne ex  bordeaux 3 enddate year 2005 startdate year 2004 licence communication and medias leeds trinity university enddate year 2004 startdate year 2003 employeecountrange start 5001 end 10000 industries government administration ministère chargé du travail  chef de proj...</td>\n",
       "    </tr>\n",
       "    <tr>\n",
       "      <th>155</th>\n",
       "      <td></td>\n",
       "      <td>dea équivalent master ii économie internationale université paris 1 panthéonsorbonne enddate year 1995 startdate year 1990          samap mutuelle assurance maritime     enddate month 11 year 2018 startdate month 9 year 2018 directeur général adjoint employeecountrange start 1001 end 5000 industries insurance coface re sa  région de lausanne suisse région de lausanne suisse urnlifsregionch4932 enddate year 2017 startdate year 2014 directeur général   coface re sa  lausanne lausanne enddate y...</td>\n",
       "    </tr>\n",
       "    <tr>\n",
       "      <th>157</th>\n",
       "      <td></td>\n",
       "      <td>mba finance audit escp europe enddate year 1989 startdate year 1986   collège stanislas    collège passy buzenval  employeecountrange start 2 end 10 industries computer software eaagle text mining technologies    startdate month 9 year 2008 president  ceo employeecountrange start 201 end 500 industries computer software medasys also member of the audit comittee    enddate month 11 year 2011 startdate month 6 year 2010 member of the board      enddate year 1989 startdate year 1988         fra...</td>\n",
       "    </tr>\n",
       "    <tr>\n",
       "      <th>158</th>\n",
       "      <td></td>\n",
       "      <td>masters degree marketing research and strategic development institut detudes politiques de paris  sciences po paris enddate year 2004 startdate year 2002 masters degree communication and marketing institut detudes politiques de paris  sciences po paris enddate year 2002 startdate year 1998      selfemployed jury de hackathon advisor expertises  développement des partenariats stratégiques développement commercial marketing communication    startdate month 1 year 2019 startup mentor  selfemplo...</td>\n",
       "    </tr>\n",
       "    <tr>\n",
       "      <th>163</th>\n",
       "      <td></td>\n",
       "      <td>france paris îledefrance consultant stagiaire chez carbone 4 renewable energy semiconductor manufacturing</td>\n",
       "    </tr>\n",
       "  </tbody>\n",
       "</table>\n",
       "</div>"
      ],
      "text/plain": [
       "    target  \\\n",
       "0            \n",
       "23           \n",
       "27           \n",
       "29           \n",
       "77           \n",
       "79           \n",
       "85           \n",
       "90           \n",
       "107          \n",
       "115          \n",
       "120          \n",
       "140          \n",
       "146          \n",
       "155          \n",
       "157          \n",
       "158          \n",
       "163          \n",
       "\n",
       "                                                                                                                                                                                                                                                                                                                                                                                                                                                                                                                    text  \n",
       "0    master informatique architecture logicielle distribuée université bordeaux i enddate year 2009 startdate year 2004         employeecountrange start 201 end 500 industries information technology and services clever age expert php  audit performance méthodologie autour des développements framework symfony jelix et cms drupal accompagnement dans le développement et formation    enddate month 1 year 2012 startdate month 9 year 2009 consultant expert php  solution interactive     enddate month 9 ...  \n",
       "23   graphiste plurimédia  école des métiers de linformation scop sa enddate year 2022 startdate year 2021  communication général université sorbonne nouvelle enddate year 1994 startdate year 1991  sociologie et linguistique université paris descartes enddate year 1991 startdate year 1990 employeecountrange start 201 end 500 industries civic  social organization mouvement international atd quart monde stage pratique de fin de formation au sein de la direction de la communication et de lengagement...  \n",
       "27   diploma in global leadership and public policy for the 21st century harvard kennedy school enddate year 2013 startdate year 2013   ecole nationale dadministration enddate year 2002 startdate year 2000  economics and finance  political science sciences po enddate year 1990 startdate year 1987  sustainable  leading sme towards sustainability to generate shared value along the supply chain strategy  sustainability consulting optimizing blue chip companies supply chain through sustainability    ...  \n",
       "29    sciences economiques université paris 1 panthéonsorbonne enddate year 1974 startdate year 1968          librairie résistances  paris paris  enddate month 2 year 2020 startdate month 9 year 2012 gérant industries graphic design typical  paris paris  enddate month 2 year 2020 startdate month 1 year 1995 cofondateur gérant  sepelco signalétique  paris paris enddate month 10 year 2010 startdate month 5 year 1980 cofondateur gérant employeecountrange start 10001 industries public policy ministèr...  \n",
       "77     centre de formation des journalistes enddate year 2015 startdate year 2013 bachelor in international business international business grenoble ecole de management enddate year 2012 startdate year 2009  sciences politiques et gouvernement classe préparatoire  intégrale enddate year 2009 startdate year 2008  supplément dâme      startdate month 11 year 2018 créatrice du podcast supplément dâme  employeecountrange start 1001 end 5000 industries international affairs un environment  région de p...  \n",
       "79                                                                                                                                                                                                                                                                                                                                                                                            france greater paris metropolitan region  senior product designer freelance  uxui  ux writing  3d  figma internet           \n",
       "85                                                                                                                                                                                                                                                                                                                                                                                                        france greater paris metropolitan region  civic  social organization        100 000 entrepreneurs intervenante  \n",
       "90                                                                                                                                                                                                                                                                                                                                                                                                              france greater saintbrieuc area responsable direction commerciale it services and it consulting           \n",
       "107  masters degree governing the large metropolis sciences po enddate year 2017 startdate year 2015 institut de droit et déconomie appliqués à limmobilier   droit de lurbanisme et de laménagement  conservatoire national des arts et métiers enddate year 2018 startdate year 2017 exchange student urbanisme philosophie sciences politiques universidad nacional autónoma de méxico enddate year 2015 startdate year 2014 employeecountrange start 1001 end 5000 industries higher education université paris 8...  \n",
       "115               imanaging après 6 années dadjoint au maire 13 années passées à faire avancer ma commune en qualité de maire et 30 années de consultant en management jai décidé de me rendre disponible pour accompagner les maires des petites communes de france dans la mise au point de leur plan stratégique communalet cest donc sous mon profil professionnel que japparaitrai donc désormais sans lécharpe de mairemais ce nest pas pour oublier mes anciens pairs mais pour mieux les accompagner désormai...  \n",
       "120                                                                                                                                                                                                                                                                                                                                                                                                                                         france galgan occitanie chef entreprise motor vehicle manufacturing           \n",
       "140  certificat administrateur de société business administration and management general sciences po enddate year 2018 startdate year 2018 master international education policy harvard university enddate year 2008 startdate year 2007 med international education policy harvard university graduate school of education enddate year 2008 startdate year 2007 employeecountrange start 1001 end 5000 industries nonprofit organization management alima     startdate month 11 year 2019 administratrice  etabli...  \n",
       "146  master 2 communication publique et politique institut detudes politiques de bordeaux enddate year 2006 startdate year 2005 maîtrise communication des organisations des entreprises et des territoires université bordeaux montaigne ex  bordeaux 3 enddate year 2005 startdate year 2004 licence communication and medias leeds trinity university enddate year 2004 startdate year 2003 employeecountrange start 5001 end 10000 industries government administration ministère chargé du travail  chef de proj...  \n",
       "155  dea équivalent master ii économie internationale université paris 1 panthéonsorbonne enddate year 1995 startdate year 1990          samap mutuelle assurance maritime     enddate month 11 year 2018 startdate month 9 year 2018 directeur général adjoint employeecountrange start 1001 end 5000 industries insurance coface re sa  région de lausanne suisse région de lausanne suisse urnlifsregionch4932 enddate year 2017 startdate year 2014 directeur général   coface re sa  lausanne lausanne enddate y...  \n",
       "157  mba finance audit escp europe enddate year 1989 startdate year 1986   collège stanislas    collège passy buzenval  employeecountrange start 2 end 10 industries computer software eaagle text mining technologies    startdate month 9 year 2008 president  ceo employeecountrange start 201 end 500 industries computer software medasys also member of the audit comittee    enddate month 11 year 2011 startdate month 6 year 2010 member of the board      enddate year 1989 startdate year 1988         fra...  \n",
       "158  masters degree marketing research and strategic development institut detudes politiques de paris  sciences po paris enddate year 2004 startdate year 2002 masters degree communication and marketing institut detudes politiques de paris  sciences po paris enddate year 2002 startdate year 1998      selfemployed jury de hackathon advisor expertises  développement des partenariats stratégiques développement commercial marketing communication    startdate month 1 year 2019 startup mentor  selfemplo...  \n",
       "163                                                                                                                                                                                                                                                                                                                                                                                                   france paris îledefrance consultant stagiaire chez carbone 4 renewable energy semiconductor manufacturing           "
      ]
     },
     "execution_count": 273,
     "metadata": {},
     "output_type": "execute_result"
    }
   ],
   "source": [
    "# keep this dataframe because it could be useful to test the model later\n",
    "exp1_industry_nan= mod_df.loc[mod_df[\"target\"]=='']\n",
    "mod_df= mod_df.loc[mod_df[\"target\"]!='']\n",
    "exp1_industry_nan"
   ]
  },
  {
   "cell_type": "code",
   "execution_count": 274,
   "metadata": {},
   "outputs": [
    {
     "name": "stdout",
     "output_type": "stream",
     "text": [
      "['Computer Software', 'Internet', 'Information Technology and Services', 'Civic & Social Organization', 'Management Consulting', 'Higher Education', 'Performing Arts', 'Marketing and Advertising', 'Research', 'Civil Engineering', 'Venture Capital & Private Equity', 'Nonprofit Organization Management', 'Government Relations', 'Banking', 'Education Management', 'Pharmaceuticals', 'Government Administration', 'Information Services', 'Retail', 'Market Research', 'Investment Banking', 'Transportation/Trucking/Railroad', 'Consumer Goods', 'Renewables & Environment', 'Hospital & Health Care', 'Chemicals', 'Human Resources', 'Public Relations and Communications', 'International Affairs', 'Real Estate', 'Environmental Services', 'Think Tanks', 'Online Media', 'Farming', 'Architecture & Planning', 'Leisure, Travel & Tourism', 'Building Materials', 'Computer & Network Security', 'Professional Training & Coaching', 'Security and Investigations', 'Restaurants', 'Telecommunications', 'Insurance', 'Fine Art', 'Design', 'Political Organization']\n"
     ]
    }
   ],
   "source": [
    "factor = pd.factorize(mod_df['target'])\n",
    "mod_df.target = factor[0]\n",
    "definitions = factor[1]\n",
    "print(list(definitions))\n"
   ]
  },
  {
   "cell_type": "code",
   "execution_count": 275,
   "metadata": {},
   "outputs": [
    {
     "data": {
      "text/html": [
       "<div>\n",
       "<style scoped>\n",
       "    .dataframe tbody tr th:only-of-type {\n",
       "        vertical-align: middle;\n",
       "    }\n",
       "\n",
       "    .dataframe tbody tr th {\n",
       "        vertical-align: top;\n",
       "    }\n",
       "\n",
       "    .dataframe thead th {\n",
       "        text-align: right;\n",
       "    }\n",
       "</style>\n",
       "<table border=\"1\" class=\"dataframe\">\n",
       "  <thead>\n",
       "    <tr style=\"text-align: right;\">\n",
       "      <th></th>\n",
       "      <th>target</th>\n",
       "      <th>text</th>\n",
       "    </tr>\n",
       "  </thead>\n",
       "  <tbody>\n",
       "    <tr>\n",
       "      <th>1</th>\n",
       "      <td>0</td>\n",
       "      <td>master 2 sciences politiques université paris 1 panthéonsorbonne enddate year 2007 startdate year 2005 licence droit université lille 2 droit et santé enddate year 2005 startdate year 2002     employeecountrange start 11 end 50 industries computer software cap collectif key figures  250 clients  25 m ca  30 etp principaux clients  ministères république numérique grand débat national collectivités territoriales  100 communes départements et régions entreprises la poste edf carrefour colas ass...</td>\n",
       "    </tr>\n",
       "    <tr>\n",
       "      <th>2</th>\n",
       "      <td>1</td>\n",
       "      <td>masters 2 degree  marketing  strategy  integrated marketing communication imc  université paris dauphine enddate year 2015 startdate year 2014 postgraduate masters degree in information and communication  sorbonne nouvelle university  université sorbonne nouvelle paris iii enddate year 2013 startdate year 2009 bachelors degree communication rédaction et multimédia université de sherbrooke  sherbrooke university enddate year 2012 startdate year 2011 employeecountrange start 0 end 1 industries...</td>\n",
       "    </tr>\n",
       "  </tbody>\n",
       "</table>\n",
       "</div>"
      ],
      "text/plain": [
       "   target  \\\n",
       "1       0   \n",
       "2       1   \n",
       "\n",
       "                                                                                                                                                                                                                                                                                                                                                                                                                                                                                                                  text  \n",
       "1  master 2 sciences politiques université paris 1 panthéonsorbonne enddate year 2007 startdate year 2005 licence droit université lille 2 droit et santé enddate year 2005 startdate year 2002     employeecountrange start 11 end 50 industries computer software cap collectif key figures  250 clients  25 m ca  30 etp principaux clients  ministères république numérique grand débat national collectivités territoriales  100 communes départements et régions entreprises la poste edf carrefour colas ass...  \n",
       "2  masters 2 degree  marketing  strategy  integrated marketing communication imc  université paris dauphine enddate year 2015 startdate year 2014 postgraduate masters degree in information and communication  sorbonne nouvelle university  université sorbonne nouvelle paris iii enddate year 2013 startdate year 2009 bachelors degree communication rédaction et multimédia université de sherbrooke  sherbrooke university enddate year 2012 startdate year 2011 employeecountrange start 0 end 1 industries...  "
      ]
     },
     "execution_count": 275,
     "metadata": {},
     "output_type": "execute_result"
    }
   ],
   "source": [
    "mod_df.head(2)"
   ]
  },
  {
   "attachments": {},
   "cell_type": "markdown",
   "metadata": {},
   "source": [
    "## Setting X, y, test & train sets"
   ]
  },
  {
   "cell_type": "code",
   "execution_count": 289,
   "metadata": {},
   "outputs": [],
   "source": [
    "X= mod_df[\"text\"]\n",
    "y= mod_df[\"target\"]\n",
    "texts_train, texts_test, Y_train, Y_test = train_test_split(X, y, test_size=0.15,\n",
    "                                                            random_state=432)"
   ]
  },
  {
   "attachments": {},
   "cell_type": "markdown",
   "metadata": {},
   "source": [
    "### Random Forest with basic CountVectorizer"
   ]
  },
  {
   "cell_type": "code",
   "execution_count": 277,
   "metadata": {},
   "outputs": [],
   "source": [
    "vectorizer = CountVectorizer()\n",
    "X_train = vectorizer.fit_transform(texts_train)\n",
    "X_test = vectorizer.transform(texts_test)"
   ]
  },
  {
   "cell_type": "code",
   "execution_count": 278,
   "metadata": {},
   "outputs": [
    {
     "data": {
      "text/html": [
       "<style>#sk-container-id-5 {color: black;background-color: white;}#sk-container-id-5 pre{padding: 0;}#sk-container-id-5 div.sk-toggleable {background-color: white;}#sk-container-id-5 label.sk-toggleable__label {cursor: pointer;display: block;width: 100%;margin-bottom: 0;padding: 0.3em;box-sizing: border-box;text-align: center;}#sk-container-id-5 label.sk-toggleable__label-arrow:before {content: \"▸\";float: left;margin-right: 0.25em;color: #696969;}#sk-container-id-5 label.sk-toggleable__label-arrow:hover:before {color: black;}#sk-container-id-5 div.sk-estimator:hover label.sk-toggleable__label-arrow:before {color: black;}#sk-container-id-5 div.sk-toggleable__content {max-height: 0;max-width: 0;overflow: hidden;text-align: left;background-color: #f0f8ff;}#sk-container-id-5 div.sk-toggleable__content pre {margin: 0.2em;color: black;border-radius: 0.25em;background-color: #f0f8ff;}#sk-container-id-5 input.sk-toggleable__control:checked~div.sk-toggleable__content {max-height: 200px;max-width: 100%;overflow: auto;}#sk-container-id-5 input.sk-toggleable__control:checked~label.sk-toggleable__label-arrow:before {content: \"▾\";}#sk-container-id-5 div.sk-estimator input.sk-toggleable__control:checked~label.sk-toggleable__label {background-color: #d4ebff;}#sk-container-id-5 div.sk-label input.sk-toggleable__control:checked~label.sk-toggleable__label {background-color: #d4ebff;}#sk-container-id-5 input.sk-hidden--visually {border: 0;clip: rect(1px 1px 1px 1px);clip: rect(1px, 1px, 1px, 1px);height: 1px;margin: -1px;overflow: hidden;padding: 0;position: absolute;width: 1px;}#sk-container-id-5 div.sk-estimator {font-family: monospace;background-color: #f0f8ff;border: 1px dotted black;border-radius: 0.25em;box-sizing: border-box;margin-bottom: 0.5em;}#sk-container-id-5 div.sk-estimator:hover {background-color: #d4ebff;}#sk-container-id-5 div.sk-parallel-item::after {content: \"\";width: 100%;border-bottom: 1px solid gray;flex-grow: 1;}#sk-container-id-5 div.sk-label:hover label.sk-toggleable__label {background-color: #d4ebff;}#sk-container-id-5 div.sk-serial::before {content: \"\";position: absolute;border-left: 1px solid gray;box-sizing: border-box;top: 0;bottom: 0;left: 50%;z-index: 0;}#sk-container-id-5 div.sk-serial {display: flex;flex-direction: column;align-items: center;background-color: white;padding-right: 0.2em;padding-left: 0.2em;position: relative;}#sk-container-id-5 div.sk-item {position: relative;z-index: 1;}#sk-container-id-5 div.sk-parallel {display: flex;align-items: stretch;justify-content: center;background-color: white;position: relative;}#sk-container-id-5 div.sk-item::before, #sk-container-id-5 div.sk-parallel-item::before {content: \"\";position: absolute;border-left: 1px solid gray;box-sizing: border-box;top: 0;bottom: 0;left: 50%;z-index: -1;}#sk-container-id-5 div.sk-parallel-item {display: flex;flex-direction: column;z-index: 1;position: relative;background-color: white;}#sk-container-id-5 div.sk-parallel-item:first-child::after {align-self: flex-end;width: 50%;}#sk-container-id-5 div.sk-parallel-item:last-child::after {align-self: flex-start;width: 50%;}#sk-container-id-5 div.sk-parallel-item:only-child::after {width: 0;}#sk-container-id-5 div.sk-dashed-wrapped {border: 1px dashed gray;margin: 0 0.4em 0.5em 0.4em;box-sizing: border-box;padding-bottom: 0.4em;background-color: white;}#sk-container-id-5 div.sk-label label {font-family: monospace;font-weight: bold;display: inline-block;line-height: 1.2em;}#sk-container-id-5 div.sk-label-container {text-align: center;}#sk-container-id-5 div.sk-container {/* jupyter's `normalize.less` sets `[hidden] { display: none; }` but bootstrap.min.css set `[hidden] { display: none !important; }` so we also need the `!important` here to be able to override the default hidden behavior on the sphinx rendered scikit-learn.org. See: https://github.com/scikit-learn/scikit-learn/issues/21755 */display: inline-block !important;position: relative;}#sk-container-id-5 div.sk-text-repr-fallback {display: none;}</style><div id=\"sk-container-id-5\" class=\"sk-top-container\"><div class=\"sk-text-repr-fallback\"><pre>RandomForestClassifier()</pre><b>In a Jupyter environment, please rerun this cell to show the HTML representation or trust the notebook. <br />On GitHub, the HTML representation is unable to render, please try loading this page with nbviewer.org.</b></div><div class=\"sk-container\" hidden><div class=\"sk-item\"><div class=\"sk-estimator sk-toggleable\"><input class=\"sk-toggleable__control sk-hidden--visually\" id=\"sk-estimator-id-5\" type=\"checkbox\" checked><label for=\"sk-estimator-id-5\" class=\"sk-toggleable__label sk-toggleable__label-arrow\">RandomForestClassifier</label><div class=\"sk-toggleable__content\"><pre>RandomForestClassifier()</pre></div></div></div></div></div>"
      ],
      "text/plain": [
       "RandomForestClassifier()"
      ]
     },
     "execution_count": 278,
     "metadata": {},
     "output_type": "execute_result"
    }
   ],
   "source": [
    "model_rf = RandomForestClassifier()#(class_weight='balanced_subsample')\n",
    "model_rf.fit(X_train, Y_train)"
   ]
  },
  {
   "cell_type": "code",
   "execution_count": 279,
   "metadata": {},
   "outputs": [],
   "source": [
    "y_pred = model_rf.predict(X_test)"
   ]
  },
  {
   "cell_type": "code",
   "execution_count": 280,
   "metadata": {},
   "outputs": [
    {
     "data": {
      "text/plain": [
       "0.21739130434782608"
      ]
     },
     "execution_count": 280,
     "metadata": {},
     "output_type": "execute_result"
    }
   ],
   "source": [
    "accuracy_score(Y_test, y_pred)"
   ]
  },
  {
   "cell_type": "code",
   "execution_count": 254,
   "metadata": {},
   "outputs": [],
   "source": [
    "#Reverse factorize (converting y_pred from 0s,1s and 2s to industries)\n",
    "#reversefactor = dict(zip(range(44),definitions))\n",
    "#Y_test = np.vectorize(reversefactor.get)(Y_test)\n",
    "#y_pred = np.vectorize(reversefactor.get)(y_pred)\n",
    "\n",
    "# Making the Confusion Matrix is actually useless with 44 categories \n",
    "#print(pd.crosstab(Y_test, y_pred, rownames=['Industry'], colnames=['Predicted Industry']))\n"
   ]
  },
  {
   "attachments": {},
   "cell_type": "markdown",
   "metadata": {},
   "source": [
    "*Notes on this try*  \n",
    "Accuracy is around 20. Compared to 1/47, it's ok.  \n",
    "But adding the information on languages, publications, honors, etc. actually confuses the model :)  \n",
    "Regarding measures : ROC AUC apparently only works for binary (which makes sense)  "
   ]
  },
  {
   "attachments": {},
   "cell_type": "markdown",
   "metadata": {},
   "source": [
    "### Random Forest with CountVectorizer and stop words"
   ]
  },
  {
   "cell_type": "code",
   "execution_count": 293,
   "metadata": {},
   "outputs": [],
   "source": [
    "X= mod_df[\"text\"]\n",
    "y= mod_df[\"target\"]\n",
    "texts_train, texts_test, Y_train, Y_test = train_test_split(X, y, test_size=0.15,\n",
    "                                                            random_state=432)"
   ]
  },
  {
   "cell_type": "code",
   "execution_count": 294,
   "metadata": {},
   "outputs": [
    {
     "data": {
      "text/plain": [
       "(151, 39648)"
      ]
     },
     "execution_count": 294,
     "metadata": {},
     "output_type": "execute_result"
    }
   ],
   "source": [
    "vectorizer = CountVectorizer(stop_words=\"english\", ngram_range=(1, 2))\n",
    "vectors = vectorizer.fit_transform(X).todense()\n",
    "pd.set_option(\"display.max_rows\", 10)\n",
    "vocabulary = vectorizer.get_feature_names_out()\n",
    "pd.DataFrame(vectors, columns=vocabulary, index=X).shape"
   ]
  },
  {
   "cell_type": "code",
   "execution_count": 295,
   "metadata": {},
   "outputs": [
    {
     "data": {
      "text/html": [
       "<style>#sk-container-id-9 {color: black;background-color: white;}#sk-container-id-9 pre{padding: 0;}#sk-container-id-9 div.sk-toggleable {background-color: white;}#sk-container-id-9 label.sk-toggleable__label {cursor: pointer;display: block;width: 100%;margin-bottom: 0;padding: 0.3em;box-sizing: border-box;text-align: center;}#sk-container-id-9 label.sk-toggleable__label-arrow:before {content: \"▸\";float: left;margin-right: 0.25em;color: #696969;}#sk-container-id-9 label.sk-toggleable__label-arrow:hover:before {color: black;}#sk-container-id-9 div.sk-estimator:hover label.sk-toggleable__label-arrow:before {color: black;}#sk-container-id-9 div.sk-toggleable__content {max-height: 0;max-width: 0;overflow: hidden;text-align: left;background-color: #f0f8ff;}#sk-container-id-9 div.sk-toggleable__content pre {margin: 0.2em;color: black;border-radius: 0.25em;background-color: #f0f8ff;}#sk-container-id-9 input.sk-toggleable__control:checked~div.sk-toggleable__content {max-height: 200px;max-width: 100%;overflow: auto;}#sk-container-id-9 input.sk-toggleable__control:checked~label.sk-toggleable__label-arrow:before {content: \"▾\";}#sk-container-id-9 div.sk-estimator input.sk-toggleable__control:checked~label.sk-toggleable__label {background-color: #d4ebff;}#sk-container-id-9 div.sk-label input.sk-toggleable__control:checked~label.sk-toggleable__label {background-color: #d4ebff;}#sk-container-id-9 input.sk-hidden--visually {border: 0;clip: rect(1px 1px 1px 1px);clip: rect(1px, 1px, 1px, 1px);height: 1px;margin: -1px;overflow: hidden;padding: 0;position: absolute;width: 1px;}#sk-container-id-9 div.sk-estimator {font-family: monospace;background-color: #f0f8ff;border: 1px dotted black;border-radius: 0.25em;box-sizing: border-box;margin-bottom: 0.5em;}#sk-container-id-9 div.sk-estimator:hover {background-color: #d4ebff;}#sk-container-id-9 div.sk-parallel-item::after {content: \"\";width: 100%;border-bottom: 1px solid gray;flex-grow: 1;}#sk-container-id-9 div.sk-label:hover label.sk-toggleable__label {background-color: #d4ebff;}#sk-container-id-9 div.sk-serial::before {content: \"\";position: absolute;border-left: 1px solid gray;box-sizing: border-box;top: 0;bottom: 0;left: 50%;z-index: 0;}#sk-container-id-9 div.sk-serial {display: flex;flex-direction: column;align-items: center;background-color: white;padding-right: 0.2em;padding-left: 0.2em;position: relative;}#sk-container-id-9 div.sk-item {position: relative;z-index: 1;}#sk-container-id-9 div.sk-parallel {display: flex;align-items: stretch;justify-content: center;background-color: white;position: relative;}#sk-container-id-9 div.sk-item::before, #sk-container-id-9 div.sk-parallel-item::before {content: \"\";position: absolute;border-left: 1px solid gray;box-sizing: border-box;top: 0;bottom: 0;left: 50%;z-index: -1;}#sk-container-id-9 div.sk-parallel-item {display: flex;flex-direction: column;z-index: 1;position: relative;background-color: white;}#sk-container-id-9 div.sk-parallel-item:first-child::after {align-self: flex-end;width: 50%;}#sk-container-id-9 div.sk-parallel-item:last-child::after {align-self: flex-start;width: 50%;}#sk-container-id-9 div.sk-parallel-item:only-child::after {width: 0;}#sk-container-id-9 div.sk-dashed-wrapped {border: 1px dashed gray;margin: 0 0.4em 0.5em 0.4em;box-sizing: border-box;padding-bottom: 0.4em;background-color: white;}#sk-container-id-9 div.sk-label label {font-family: monospace;font-weight: bold;display: inline-block;line-height: 1.2em;}#sk-container-id-9 div.sk-label-container {text-align: center;}#sk-container-id-9 div.sk-container {/* jupyter's `normalize.less` sets `[hidden] { display: none; }` but bootstrap.min.css set `[hidden] { display: none !important; }` so we also need the `!important` here to be able to override the default hidden behavior on the sphinx rendered scikit-learn.org. See: https://github.com/scikit-learn/scikit-learn/issues/21755 */display: inline-block !important;position: relative;}#sk-container-id-9 div.sk-text-repr-fallback {display: none;}</style><div id=\"sk-container-id-9\" class=\"sk-top-container\"><div class=\"sk-text-repr-fallback\"><pre>RandomForestClassifier()</pre><b>In a Jupyter environment, please rerun this cell to show the HTML representation or trust the notebook. <br />On GitHub, the HTML representation is unable to render, please try loading this page with nbviewer.org.</b></div><div class=\"sk-container\" hidden><div class=\"sk-item\"><div class=\"sk-estimator sk-toggleable\"><input class=\"sk-toggleable__control sk-hidden--visually\" id=\"sk-estimator-id-9\" type=\"checkbox\" checked><label for=\"sk-estimator-id-9\" class=\"sk-toggleable__label sk-toggleable__label-arrow\">RandomForestClassifier</label><div class=\"sk-toggleable__content\"><pre>RandomForestClassifier()</pre></div></div></div></div></div>"
      ],
      "text/plain": [
       "RandomForestClassifier()"
      ]
     },
     "execution_count": 295,
     "metadata": {},
     "output_type": "execute_result"
    }
   ],
   "source": [
    "X_train = vectorizer.fit_transform(texts_train)\n",
    "X_test = vectorizer.transform(texts_test)\n",
    "model_rf = RandomForestClassifier()#(class_weight='balanced_subsample')\n",
    "model_rf.fit(X_train, Y_train)"
   ]
  },
  {
   "cell_type": "code",
   "execution_count": 296,
   "metadata": {},
   "outputs": [
    {
     "data": {
      "text/plain": [
       "0.21739130434782608"
      ]
     },
     "execution_count": 296,
     "metadata": {},
     "output_type": "execute_result"
    }
   ],
   "source": [
    "y_pred = model_rf.predict(X_test)\n",
    "accuracy_score(Y_test, y_pred)"
   ]
  },
  {
   "attachments": {},
   "cell_type": "markdown",
   "metadata": {},
   "source": [
    "Notes on this try :  \n",
    "Returns approximately the same accuracy score"
   ]
  },
  {
   "attachments": {},
   "cell_type": "markdown",
   "metadata": {},
   "source": [
    "### Random Forest with CountVectorizer, stop words & stemming "
   ]
  },
  {
   "cell_type": "code",
   "execution_count": 299,
   "metadata": {},
   "outputs": [],
   "source": [
    "X= mod_df[\"text\"]\n",
    "y= mod_df[\"target\"]\n",
    "texts_train, texts_test, Y_train, Y_test = train_test_split(X, y, test_size=0.15,\n",
    "                                                            random_state=432)"
   ]
  },
  {
   "cell_type": "code",
   "execution_count": 302,
   "metadata": {},
   "outputs": [],
   "source": [
    "stemmer = EnglishStemmer()\n",
    "default_analyzer = CountVectorizer(stop_words=ENGLISH_STOP_WORDS).build_analyzer()\n",
    "def analyze_with_stemming(text):\n",
    "    unstemmed_words = default_analyzer(text)\n",
    "    return (stemmer.stem(word) for word in unstemmed_words)\n",
    "stemmer_vectorizer = CountVectorizer(analyzer=analyze_with_stemming)"
   ]
  },
  {
   "cell_type": "code",
   "execution_count": 303,
   "metadata": {},
   "outputs": [
    {
     "data": {
      "text/plain": [
       "(151, 7205)"
      ]
     },
     "execution_count": 303,
     "metadata": {},
     "output_type": "execute_result"
    }
   ],
   "source": [
    "vectors = stemmer_vectorizer.fit_transform(X).todense()\n",
    "vocabulary = stemmer_vectorizer.get_feature_names_out()\n",
    "pd.DataFrame(vectors, columns=vocabulary, index=X).shape"
   ]
  },
  {
   "cell_type": "code",
   "execution_count": 304,
   "metadata": {},
   "outputs": [
    {
     "data": {
      "text/html": [
       "<style>#sk-container-id-10 {color: black;background-color: white;}#sk-container-id-10 pre{padding: 0;}#sk-container-id-10 div.sk-toggleable {background-color: white;}#sk-container-id-10 label.sk-toggleable__label {cursor: pointer;display: block;width: 100%;margin-bottom: 0;padding: 0.3em;box-sizing: border-box;text-align: center;}#sk-container-id-10 label.sk-toggleable__label-arrow:before {content: \"▸\";float: left;margin-right: 0.25em;color: #696969;}#sk-container-id-10 label.sk-toggleable__label-arrow:hover:before {color: black;}#sk-container-id-10 div.sk-estimator:hover label.sk-toggleable__label-arrow:before {color: black;}#sk-container-id-10 div.sk-toggleable__content {max-height: 0;max-width: 0;overflow: hidden;text-align: left;background-color: #f0f8ff;}#sk-container-id-10 div.sk-toggleable__content pre {margin: 0.2em;color: black;border-radius: 0.25em;background-color: #f0f8ff;}#sk-container-id-10 input.sk-toggleable__control:checked~div.sk-toggleable__content {max-height: 200px;max-width: 100%;overflow: auto;}#sk-container-id-10 input.sk-toggleable__control:checked~label.sk-toggleable__label-arrow:before {content: \"▾\";}#sk-container-id-10 div.sk-estimator input.sk-toggleable__control:checked~label.sk-toggleable__label {background-color: #d4ebff;}#sk-container-id-10 div.sk-label input.sk-toggleable__control:checked~label.sk-toggleable__label {background-color: #d4ebff;}#sk-container-id-10 input.sk-hidden--visually {border: 0;clip: rect(1px 1px 1px 1px);clip: rect(1px, 1px, 1px, 1px);height: 1px;margin: -1px;overflow: hidden;padding: 0;position: absolute;width: 1px;}#sk-container-id-10 div.sk-estimator {font-family: monospace;background-color: #f0f8ff;border: 1px dotted black;border-radius: 0.25em;box-sizing: border-box;margin-bottom: 0.5em;}#sk-container-id-10 div.sk-estimator:hover {background-color: #d4ebff;}#sk-container-id-10 div.sk-parallel-item::after {content: \"\";width: 100%;border-bottom: 1px solid gray;flex-grow: 1;}#sk-container-id-10 div.sk-label:hover label.sk-toggleable__label {background-color: #d4ebff;}#sk-container-id-10 div.sk-serial::before {content: \"\";position: absolute;border-left: 1px solid gray;box-sizing: border-box;top: 0;bottom: 0;left: 50%;z-index: 0;}#sk-container-id-10 div.sk-serial {display: flex;flex-direction: column;align-items: center;background-color: white;padding-right: 0.2em;padding-left: 0.2em;position: relative;}#sk-container-id-10 div.sk-item {position: relative;z-index: 1;}#sk-container-id-10 div.sk-parallel {display: flex;align-items: stretch;justify-content: center;background-color: white;position: relative;}#sk-container-id-10 div.sk-item::before, #sk-container-id-10 div.sk-parallel-item::before {content: \"\";position: absolute;border-left: 1px solid gray;box-sizing: border-box;top: 0;bottom: 0;left: 50%;z-index: -1;}#sk-container-id-10 div.sk-parallel-item {display: flex;flex-direction: column;z-index: 1;position: relative;background-color: white;}#sk-container-id-10 div.sk-parallel-item:first-child::after {align-self: flex-end;width: 50%;}#sk-container-id-10 div.sk-parallel-item:last-child::after {align-self: flex-start;width: 50%;}#sk-container-id-10 div.sk-parallel-item:only-child::after {width: 0;}#sk-container-id-10 div.sk-dashed-wrapped {border: 1px dashed gray;margin: 0 0.4em 0.5em 0.4em;box-sizing: border-box;padding-bottom: 0.4em;background-color: white;}#sk-container-id-10 div.sk-label label {font-family: monospace;font-weight: bold;display: inline-block;line-height: 1.2em;}#sk-container-id-10 div.sk-label-container {text-align: center;}#sk-container-id-10 div.sk-container {/* jupyter's `normalize.less` sets `[hidden] { display: none; }` but bootstrap.min.css set `[hidden] { display: none !important; }` so we also need the `!important` here to be able to override the default hidden behavior on the sphinx rendered scikit-learn.org. See: https://github.com/scikit-learn/scikit-learn/issues/21755 */display: inline-block !important;position: relative;}#sk-container-id-10 div.sk-text-repr-fallback {display: none;}</style><div id=\"sk-container-id-10\" class=\"sk-top-container\"><div class=\"sk-text-repr-fallback\"><pre>RandomForestClassifier()</pre><b>In a Jupyter environment, please rerun this cell to show the HTML representation or trust the notebook. <br />On GitHub, the HTML representation is unable to render, please try loading this page with nbviewer.org.</b></div><div class=\"sk-container\" hidden><div class=\"sk-item\"><div class=\"sk-estimator sk-toggleable\"><input class=\"sk-toggleable__control sk-hidden--visually\" id=\"sk-estimator-id-10\" type=\"checkbox\" checked><label for=\"sk-estimator-id-10\" class=\"sk-toggleable__label sk-toggleable__label-arrow\">RandomForestClassifier</label><div class=\"sk-toggleable__content\"><pre>RandomForestClassifier()</pre></div></div></div></div></div>"
      ],
      "text/plain": [
       "RandomForestClassifier()"
      ]
     },
     "execution_count": 304,
     "metadata": {},
     "output_type": "execute_result"
    }
   ],
   "source": [
    "X_train = vectorizer.fit_transform(texts_train)\n",
    "X_test = vectorizer.transform(texts_test)\n",
    "model_rf = RandomForestClassifier()#(class_weight='balanced_subsample')\n",
    "model_rf.fit(X_train, Y_train)"
   ]
  },
  {
   "cell_type": "code",
   "execution_count": 305,
   "metadata": {},
   "outputs": [
    {
     "data": {
      "text/plain": [
       "0.21739130434782608"
      ]
     },
     "execution_count": 305,
     "metadata": {},
     "output_type": "execute_result"
    }
   ],
   "source": [
    "y_pred = model_rf.predict(X_test)\n",
    "accuracy_score(Y_test, y_pred)"
   ]
  },
  {
   "attachments": {},
   "cell_type": "markdown",
   "metadata": {},
   "source": [
    "This doesn't change anything either... "
   ]
  },
  {
   "attachments": {},
   "cell_type": "markdown",
   "metadata": {},
   "source": [
    "### Random Forest with TDIF vectorizer"
   ]
  },
  {
   "cell_type": "code",
   "execution_count": 322,
   "metadata": {},
   "outputs": [],
   "source": [
    "X= mod_df[\"text\"]\n",
    "y= mod_df[\"target\"]\n",
    "texts_train, texts_test, Y_train, Y_test = train_test_split(X, y, test_size=0.15,\n",
    "                                                            random_state=432)"
   ]
  },
  {
   "cell_type": "code",
   "execution_count": 323,
   "metadata": {},
   "outputs": [
    {
     "data": {
      "text/plain": [
       "(151, 9123)"
      ]
     },
     "execution_count": 323,
     "metadata": {},
     "output_type": "execute_result"
    }
   ],
   "source": [
    "vectorizer = TfidfVectorizer(stop_words=\"english\")\n",
    "vectors = vectorizer.fit_transform(X).todense()\n",
    "pd.set_option(\"display.max_rows\", 10)\n",
    "vocabulary = vectorizer.get_feature_names_out()\n",
    "pd.DataFrame(vectors, columns=vocabulary, index=X).shape"
   ]
  },
  {
   "cell_type": "code",
   "execution_count": 324,
   "metadata": {},
   "outputs": [
    {
     "data": {
      "text/html": [
       "<style>#sk-container-id-15 {color: black;background-color: white;}#sk-container-id-15 pre{padding: 0;}#sk-container-id-15 div.sk-toggleable {background-color: white;}#sk-container-id-15 label.sk-toggleable__label {cursor: pointer;display: block;width: 100%;margin-bottom: 0;padding: 0.3em;box-sizing: border-box;text-align: center;}#sk-container-id-15 label.sk-toggleable__label-arrow:before {content: \"▸\";float: left;margin-right: 0.25em;color: #696969;}#sk-container-id-15 label.sk-toggleable__label-arrow:hover:before {color: black;}#sk-container-id-15 div.sk-estimator:hover label.sk-toggleable__label-arrow:before {color: black;}#sk-container-id-15 div.sk-toggleable__content {max-height: 0;max-width: 0;overflow: hidden;text-align: left;background-color: #f0f8ff;}#sk-container-id-15 div.sk-toggleable__content pre {margin: 0.2em;color: black;border-radius: 0.25em;background-color: #f0f8ff;}#sk-container-id-15 input.sk-toggleable__control:checked~div.sk-toggleable__content {max-height: 200px;max-width: 100%;overflow: auto;}#sk-container-id-15 input.sk-toggleable__control:checked~label.sk-toggleable__label-arrow:before {content: \"▾\";}#sk-container-id-15 div.sk-estimator input.sk-toggleable__control:checked~label.sk-toggleable__label {background-color: #d4ebff;}#sk-container-id-15 div.sk-label input.sk-toggleable__control:checked~label.sk-toggleable__label {background-color: #d4ebff;}#sk-container-id-15 input.sk-hidden--visually {border: 0;clip: rect(1px 1px 1px 1px);clip: rect(1px, 1px, 1px, 1px);height: 1px;margin: -1px;overflow: hidden;padding: 0;position: absolute;width: 1px;}#sk-container-id-15 div.sk-estimator {font-family: monospace;background-color: #f0f8ff;border: 1px dotted black;border-radius: 0.25em;box-sizing: border-box;margin-bottom: 0.5em;}#sk-container-id-15 div.sk-estimator:hover {background-color: #d4ebff;}#sk-container-id-15 div.sk-parallel-item::after {content: \"\";width: 100%;border-bottom: 1px solid gray;flex-grow: 1;}#sk-container-id-15 div.sk-label:hover label.sk-toggleable__label {background-color: #d4ebff;}#sk-container-id-15 div.sk-serial::before {content: \"\";position: absolute;border-left: 1px solid gray;box-sizing: border-box;top: 0;bottom: 0;left: 50%;z-index: 0;}#sk-container-id-15 div.sk-serial {display: flex;flex-direction: column;align-items: center;background-color: white;padding-right: 0.2em;padding-left: 0.2em;position: relative;}#sk-container-id-15 div.sk-item {position: relative;z-index: 1;}#sk-container-id-15 div.sk-parallel {display: flex;align-items: stretch;justify-content: center;background-color: white;position: relative;}#sk-container-id-15 div.sk-item::before, #sk-container-id-15 div.sk-parallel-item::before {content: \"\";position: absolute;border-left: 1px solid gray;box-sizing: border-box;top: 0;bottom: 0;left: 50%;z-index: -1;}#sk-container-id-15 div.sk-parallel-item {display: flex;flex-direction: column;z-index: 1;position: relative;background-color: white;}#sk-container-id-15 div.sk-parallel-item:first-child::after {align-self: flex-end;width: 50%;}#sk-container-id-15 div.sk-parallel-item:last-child::after {align-self: flex-start;width: 50%;}#sk-container-id-15 div.sk-parallel-item:only-child::after {width: 0;}#sk-container-id-15 div.sk-dashed-wrapped {border: 1px dashed gray;margin: 0 0.4em 0.5em 0.4em;box-sizing: border-box;padding-bottom: 0.4em;background-color: white;}#sk-container-id-15 div.sk-label label {font-family: monospace;font-weight: bold;display: inline-block;line-height: 1.2em;}#sk-container-id-15 div.sk-label-container {text-align: center;}#sk-container-id-15 div.sk-container {/* jupyter's `normalize.less` sets `[hidden] { display: none; }` but bootstrap.min.css set `[hidden] { display: none !important; }` so we also need the `!important` here to be able to override the default hidden behavior on the sphinx rendered scikit-learn.org. See: https://github.com/scikit-learn/scikit-learn/issues/21755 */display: inline-block !important;position: relative;}#sk-container-id-15 div.sk-text-repr-fallback {display: none;}</style><div id=\"sk-container-id-15\" class=\"sk-top-container\"><div class=\"sk-text-repr-fallback\"><pre>RandomForestClassifier()</pre><b>In a Jupyter environment, please rerun this cell to show the HTML representation or trust the notebook. <br />On GitHub, the HTML representation is unable to render, please try loading this page with nbviewer.org.</b></div><div class=\"sk-container\" hidden><div class=\"sk-item\"><div class=\"sk-estimator sk-toggleable\"><input class=\"sk-toggleable__control sk-hidden--visually\" id=\"sk-estimator-id-15\" type=\"checkbox\" checked><label for=\"sk-estimator-id-15\" class=\"sk-toggleable__label sk-toggleable__label-arrow\">RandomForestClassifier</label><div class=\"sk-toggleable__content\"><pre>RandomForestClassifier()</pre></div></div></div></div></div>"
      ],
      "text/plain": [
       "RandomForestClassifier()"
      ]
     },
     "execution_count": 324,
     "metadata": {},
     "output_type": "execute_result"
    }
   ],
   "source": [
    "X_train = vectorizer.fit_transform(texts_train)\n",
    "X_test = vectorizer.transform(texts_test)\n",
    "model_rf = RandomForestClassifier()#(class_weight='balanced_subsample')\n",
    "model_rf.fit(X_train, Y_train)"
   ]
  },
  {
   "cell_type": "code",
   "execution_count": 325,
   "metadata": {},
   "outputs": [
    {
     "data": {
      "text/plain": [
       "0.17391304347826086"
      ]
     },
     "execution_count": 325,
     "metadata": {},
     "output_type": "execute_result"
    }
   ],
   "source": [
    "y_pred = model_rf.predict(X_test)\n",
    "accuracy_score(Y_test, y_pred)"
   ]
  },
  {
   "attachments": {},
   "cell_type": "markdown",
   "metadata": {},
   "source": [
    "Scores evolve a lot  \n",
    "Could that be related to the model not having a random state set ?"
   ]
  },
  {
   "attachments": {},
   "cell_type": "markdown",
   "metadata": {},
   "source": [
    "### Random Forest with count vectorizer and stemming, but with imbalance handling"
   ]
  },
  {
   "cell_type": "code",
   "execution_count": 393,
   "metadata": {},
   "outputs": [],
   "source": [
    "X= mod_df[\"text\"]\n",
    "y= mod_df[\"target\"]\n",
    "texts_train, texts_test, Y_train, Y_test = train_test_split(X, y, test_size=0.15,\n",
    "                                                            random_state=432)"
   ]
  },
  {
   "cell_type": "code",
   "execution_count": 394,
   "metadata": {},
   "outputs": [
    {
     "data": {
      "text/plain": [
       "(151, 8902)"
      ]
     },
     "execution_count": 394,
     "metadata": {},
     "output_type": "execute_result"
    }
   ],
   "source": [
    "vectorizer = CountVectorizer(stop_words=\"english\", strip_accents='unicode', max_df=0.5) \n",
    "vectors = vectorizer.fit_transform(X).todense()\n",
    "pd.set_option(\"display.max_rows\", 10)\n",
    "vocabulary = vectorizer.get_feature_names_out()\n",
    "pd.DataFrame(vectors, columns=vocabulary, index=X).shape"
   ]
  },
  {
   "cell_type": "code",
   "execution_count": 395,
   "metadata": {},
   "outputs": [
    {
     "data": {
      "text/html": [
       "<style>#sk-container-id-31 {color: black;background-color: white;}#sk-container-id-31 pre{padding: 0;}#sk-container-id-31 div.sk-toggleable {background-color: white;}#sk-container-id-31 label.sk-toggleable__label {cursor: pointer;display: block;width: 100%;margin-bottom: 0;padding: 0.3em;box-sizing: border-box;text-align: center;}#sk-container-id-31 label.sk-toggleable__label-arrow:before {content: \"▸\";float: left;margin-right: 0.25em;color: #696969;}#sk-container-id-31 label.sk-toggleable__label-arrow:hover:before {color: black;}#sk-container-id-31 div.sk-estimator:hover label.sk-toggleable__label-arrow:before {color: black;}#sk-container-id-31 div.sk-toggleable__content {max-height: 0;max-width: 0;overflow: hidden;text-align: left;background-color: #f0f8ff;}#sk-container-id-31 div.sk-toggleable__content pre {margin: 0.2em;color: black;border-radius: 0.25em;background-color: #f0f8ff;}#sk-container-id-31 input.sk-toggleable__control:checked~div.sk-toggleable__content {max-height: 200px;max-width: 100%;overflow: auto;}#sk-container-id-31 input.sk-toggleable__control:checked~label.sk-toggleable__label-arrow:before {content: \"▾\";}#sk-container-id-31 div.sk-estimator input.sk-toggleable__control:checked~label.sk-toggleable__label {background-color: #d4ebff;}#sk-container-id-31 div.sk-label input.sk-toggleable__control:checked~label.sk-toggleable__label {background-color: #d4ebff;}#sk-container-id-31 input.sk-hidden--visually {border: 0;clip: rect(1px 1px 1px 1px);clip: rect(1px, 1px, 1px, 1px);height: 1px;margin: -1px;overflow: hidden;padding: 0;position: absolute;width: 1px;}#sk-container-id-31 div.sk-estimator {font-family: monospace;background-color: #f0f8ff;border: 1px dotted black;border-radius: 0.25em;box-sizing: border-box;margin-bottom: 0.5em;}#sk-container-id-31 div.sk-estimator:hover {background-color: #d4ebff;}#sk-container-id-31 div.sk-parallel-item::after {content: \"\";width: 100%;border-bottom: 1px solid gray;flex-grow: 1;}#sk-container-id-31 div.sk-label:hover label.sk-toggleable__label {background-color: #d4ebff;}#sk-container-id-31 div.sk-serial::before {content: \"\";position: absolute;border-left: 1px solid gray;box-sizing: border-box;top: 0;bottom: 0;left: 50%;z-index: 0;}#sk-container-id-31 div.sk-serial {display: flex;flex-direction: column;align-items: center;background-color: white;padding-right: 0.2em;padding-left: 0.2em;position: relative;}#sk-container-id-31 div.sk-item {position: relative;z-index: 1;}#sk-container-id-31 div.sk-parallel {display: flex;align-items: stretch;justify-content: center;background-color: white;position: relative;}#sk-container-id-31 div.sk-item::before, #sk-container-id-31 div.sk-parallel-item::before {content: \"\";position: absolute;border-left: 1px solid gray;box-sizing: border-box;top: 0;bottom: 0;left: 50%;z-index: -1;}#sk-container-id-31 div.sk-parallel-item {display: flex;flex-direction: column;z-index: 1;position: relative;background-color: white;}#sk-container-id-31 div.sk-parallel-item:first-child::after {align-self: flex-end;width: 50%;}#sk-container-id-31 div.sk-parallel-item:last-child::after {align-self: flex-start;width: 50%;}#sk-container-id-31 div.sk-parallel-item:only-child::after {width: 0;}#sk-container-id-31 div.sk-dashed-wrapped {border: 1px dashed gray;margin: 0 0.4em 0.5em 0.4em;box-sizing: border-box;padding-bottom: 0.4em;background-color: white;}#sk-container-id-31 div.sk-label label {font-family: monospace;font-weight: bold;display: inline-block;line-height: 1.2em;}#sk-container-id-31 div.sk-label-container {text-align: center;}#sk-container-id-31 div.sk-container {/* jupyter's `normalize.less` sets `[hidden] { display: none; }` but bootstrap.min.css set `[hidden] { display: none !important; }` so we also need the `!important` here to be able to override the default hidden behavior on the sphinx rendered scikit-learn.org. See: https://github.com/scikit-learn/scikit-learn/issues/21755 */display: inline-block !important;position: relative;}#sk-container-id-31 div.sk-text-repr-fallback {display: none;}</style><div id=\"sk-container-id-31\" class=\"sk-top-container\"><div class=\"sk-text-repr-fallback\"><pre>RandomForestClassifier(class_weight=&#x27;balanced_subsample&#x27;)</pre><b>In a Jupyter environment, please rerun this cell to show the HTML representation or trust the notebook. <br />On GitHub, the HTML representation is unable to render, please try loading this page with nbviewer.org.</b></div><div class=\"sk-container\" hidden><div class=\"sk-item\"><div class=\"sk-estimator sk-toggleable\"><input class=\"sk-toggleable__control sk-hidden--visually\" id=\"sk-estimator-id-31\" type=\"checkbox\" checked><label for=\"sk-estimator-id-31\" class=\"sk-toggleable__label sk-toggleable__label-arrow\">RandomForestClassifier</label><div class=\"sk-toggleable__content\"><pre>RandomForestClassifier(class_weight=&#x27;balanced_subsample&#x27;)</pre></div></div></div></div></div>"
      ],
      "text/plain": [
       "RandomForestClassifier(class_weight='balanced_subsample')"
      ]
     },
     "execution_count": 395,
     "metadata": {},
     "output_type": "execute_result"
    }
   ],
   "source": [
    "X_train = vectorizer.fit_transform(texts_train)\n",
    "X_test = vectorizer.transform(texts_test)\n",
    "model_rf = RandomForestClassifier(class_weight='balanced_subsample')\n",
    "model_rf.fit(X_train, Y_train)"
   ]
  },
  {
   "cell_type": "code",
   "execution_count": 396,
   "metadata": {},
   "outputs": [
    {
     "data": {
      "text/plain": [
       "0.17391304347826086"
      ]
     },
     "execution_count": 396,
     "metadata": {},
     "output_type": "execute_result"
    }
   ],
   "source": [
    "y_pred = model_rf.predict(X_test)\n",
    "accuracy_score(Y_test, y_pred)"
   ]
  },
  {
   "cell_type": "code",
   "execution_count": 392,
   "metadata": {},
   "outputs": [],
   "source": [
    "# stripping accents doesn't seem to do much... a little bit higher but should check with the 10 scores for the model. \n",
    "# same for setting max_df at different ranges (0.5, 0.7, 0.8) - not many words seem to be shared in the corpus, which is odd. \n"
   ]
  },
  {
   "attachments": {},
   "cell_type": "markdown",
   "metadata": {},
   "source": [
    "# ADDITIONAL STUFF TO TRY\n",
    "\n",
    "Model tweaking with Gridsearch & parameters for the vectorizers: \n",
    "* Count : https://scikit-learn.org/stable/modules/generated/sklearn.feature_extraction.text.CountVectorizer.html\n",
    "* TDIF : https://scikit-learn.org/stable/modules/generated/sklearn.feature_extraction.text.TfidfVectorizer.html\n",
    "* Random Forest parameters: https://scikit-learn.org/stable/modules/generated/sklearn.ensemble.RandomForestClassifier.html\n",
    "\n",
    "Try nearest neighbors: https://scikit-learn.org/stable/modules/generated/sklearn.neighbors.NearestNeighbors.html#sklearn.neighbors.NearestNeighbors  \n",
    "And the associated user guide: https://scikit-learn.org/stable/modules/neighbors.html#unsupervised-neighbors  \n",
    "Given an array or dataframe of vectors (each row representing an item) and a new vector (just one row, representing the reference item chosen by the user), it will give you the k closest items (smallest distance).  \n",
    "\n",
    "\n",
    "Text preparation issues : \n",
    "* remove numbers ? \n",
    "* impute industry for the missing ones \n",
    "* should some words have more weight than others ? \n",
    "\n",
    "### Notes for later : \n",
    "* cosine similarity instead of TDIF vectorizer ? \n",
    "* use PCA and make clusters of people ? \n",
    "* change the Y to 1/0 based on a civic tech list (e.g. the one that appears when creating companies SQL tables)\n",
    "* work with companies' data to make clusters of similar companies and predict for that/ recommend closest neighbors (and NGOs)\n"
   ]
  },
  {
   "attachments": {},
   "cell_type": "markdown",
   "metadata": {},
   "source": []
  }
 ],
 "metadata": {
  "kernelspec": {
   "display_name": "base",
   "language": "python",
   "name": "python3"
  },
  "language_info": {
   "codemirror_mode": {
    "name": "ipython",
    "version": 3
   },
   "file_extension": ".py",
   "mimetype": "text/x-python",
   "name": "python",
   "nbconvert_exporter": "python",
   "pygments_lexer": "ipython3",
   "version": "3.9.16"
  },
  "orig_nbformat": 4
 },
 "nbformat": 4,
 "nbformat_minor": 2
}
