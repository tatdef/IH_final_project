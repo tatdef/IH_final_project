{
 "cells": [
  {
   "attachments": {},
   "cell_type": "markdown",
   "metadata": {},
   "source": [
    "# Random Forest Model"
   ]
  },
  {
   "attachments": {},
   "cell_type": "markdown",
   "metadata": {},
   "source": [
    "## Initializing"
   ]
  },
  {
   "cell_type": "code",
   "execution_count": 223,
   "metadata": {},
   "outputs": [],
   "source": [
    "import pandas as pd\n",
    "import numpy as np"
   ]
  },
  {
   "cell_type": "code",
   "execution_count": 224,
   "metadata": {},
   "outputs": [],
   "source": [
    "from sklearn.feature_extraction.text import CountVectorizer\n",
    "from sklearn.model_selection import train_test_split\n",
    "from sklearn.ensemble import RandomForestClassifier\n",
    "from sklearn.metrics import accuracy_score\n",
    "from sklearn.metrics import confusion_matrix\n",
    "pd.set_option(\"display.max_colwidth\", 500)"
   ]
  },
  {
   "cell_type": "code",
   "execution_count": 225,
   "metadata": {},
   "outputs": [],
   "source": [
    "# only if starting from this step \n",
    "df= pd.read_csv(\"dataset.csv\", sep=';')"
   ]
  },
  {
   "cell_type": "code",
   "execution_count": 226,
   "metadata": {},
   "outputs": [
    {
     "name": "stdout",
     "output_type": "stream",
     "text": [
      "(156, 72)\n",
      "['ID', 'geoCountryName', 'geoLocationName', 'summary', 'industryName', 'headline', 'languages', 'publications', 'certifications', 'volunteer', 'honors', 'projects', 'exp1_locationName', 'exp1_companyName', 'exp1_description', 'exp1_title', 'exp1_startDate_month', 'exp1_startDate_year', 'exp1_industry', 'exp1_company_empl_low', 'exp2_locationName', 'exp2_companyName', 'exp2_description', 'exp2_title', 'exp2_startDate_month', 'exp2_startDate_year', 'exp2_endDate_month', 'exp2_endDate_year', 'exp2_industry', 'exp2_company_empl_low', 'exp3_locationName', 'exp3_companyName', 'exp3_title', 'exp3_description', 'exp3_startDate_month', 'exp3_startDate_year', 'exp3_endDate_month', 'exp3_endDate_year', 'exp3_industry', 'exp3_company_empl_low', 'exp4_locationName', 'exp4_companyName', 'exp4_description', 'exp4_title', 'exp4_startDate_month', 'exp4_startDate_year', 'exp4_endDate_month', 'exp4_endDate_year', 'exp4_industry', 'exp4_company_empl_low', 'exp5_locationName', 'exp5_companyName', 'exp5_description', 'exp5_title', 'exp5_startDate_month', 'exp5_startDate_year', 'exp5_endDate_month', 'exp5_endDate_year', 'exp5_industry', 'exp5_company_empl_low', 'ed1_degreeName', 'ed1_schoolName', 'ed1_fieldOfStudy', 'ed1_startDate_year', 'ed2_schoolName', 'ed2_fieldOfStudy', 'ed2_degreeName', 'ed2_startDate_year', 'ed3_degreeName', 'ed3_schoolName', 'ed3_fieldOfStudy', 'ed3_startDate_year']\n"
     ]
    }
   ],
   "source": [
    "print(df.shape)\n",
    "print(list(df.columns))"
   ]
  },
  {
   "cell_type": "code",
   "execution_count": 227,
   "metadata": {},
   "outputs": [
    {
     "data": {
      "text/plain": [
       "Computer Software                      19\n",
       "Information Technology and Services    17\n",
       "Civic Social Organization              13\n",
       "Government Administration              12\n",
       "Management Consulting                   8\n",
       "                                       ..\n",
       "Education Management                    1\n",
       "Investment Banking                      1\n",
       "Market Research                         1\n",
       "Retail                                  1\n",
       "Political Organization                  1\n",
       "Name: exp1_industry, Length: 43, dtype: int64"
      ]
     },
     "execution_count": 227,
     "metadata": {},
     "output_type": "execute_result"
    }
   ],
   "source": [
    "df.exp1_industry.value_counts()"
   ]
  },
  {
   "cell_type": "code",
   "execution_count": 228,
   "metadata": {},
   "outputs": [
    {
     "data": {
      "text/plain": [
       "44"
      ]
     },
     "execution_count": 228,
     "metadata": {},
     "output_type": "execute_result"
    }
   ],
   "source": [
    "len(df.exp1_industry.unique())"
   ]
  },
  {
   "cell_type": "code",
   "execution_count": 229,
   "metadata": {},
   "outputs": [
    {
     "name": "stdout",
     "output_type": "stream",
     "text": [
      "128\n",
      "['bluenove', 'jolicode', 'cap collectif', 'change.org', 'fluicity', 'adie', 'civocracy', 'VOXE', 'abcdeep', 'sdui', 'leto', 'make.org', 'klarna', 'open source politics', 'sell - syndicat des éditeurs de logiciels de loisirs', 'freelance', 'ad education', 'nestlé france', 'analog sport', 'la cour des contes', 'malt', 'decidim', 'sloop', 'impact hub berlin', 'the one campaign', 'billy', 'institut des politiques publiques', 'egis', 'roch ventures', 'multitudes foundation', \"ville d'alfortville\", 'afd', 'trikoï conseil', 'google', 'sciences po ofce', 'orchestre national de jazz', 'hippocrate développement', 'sobi - swedish orphan biovitrum ab (publ)', 'capgemini invent', 'impact tank', 'ville de lyon', 'datagora', 'grandvision france', 'cour des comptes', \"l'institut paris region\", 'umi', 'udaf 71', 'avolta', 'university of paris i: panthéon-sorbonne', 'ville de cachan', 'edf', 'combo (ex-snapshift)', 'cerba healthcare', 'accenta.ai', 'sicoval', 'haute autorité de santé', \"journaliste d'impact positif\", 'université de technologie de compiègne', nan, 'irsn', 'crédit agricole cib', 'envu', 'yaniro', 'agence proches', 'oecd - ocde', 'indépendant', 'oh activ', 'citipo - citipo.com', 'gov-sync, llc', 'wwf-france', 'the future society', '1001mots', 'agence française de développement', 'altermakers', 'ckatalyzen', 'a voté', 'european network for women in leadership (wil europe)', \"cnil - commission nationale de l'informatique et des libertés\", 'la mednum', 'low-tech lab', 'egis conseil', 'démocratie ouverte', 'ministère de l’économie, des finances et de la souveraineté industrielle et numérique', 'ticketr', 'social builder ngo', 'groupe roullier', 'multi', 'i-managing', 'ingérop', 'forward college', 'wetechcare', 'plateau urbain', 'deleris automobile', 'office de tourisme de limoges métropole', 'qomon', 'dailymotion', 'groupe caisse des dépôts', 'koz - affaires publiques | plaidoyer | concertation', 'agroparistech', 'international coach federation', 'és', \"anssi - agence nationale de la sécurité des systèmes d'information\", 'matrice', 'ranc développement', 'greenly | certified b corp', 'antidox', 'kawaa', 'assistance publique - hôpitaux de paris', 'apala', 'Orange', 'agence régionale du tourisme grand est [art ge]', 'groupe vyv', 'hec paris', 'lesbudgetsparticipatifs.fr', \"crt côte d'azur france\", 'perrotin', 'ey', 'amethis', 'emmaüs connect', 'arslonga', 'samap (mutuelle assurance maritime)', 'substack', 'mon avis citoyen - cities zen', 'beta.gouv.fr', 'le havre seine métropole', 'communauté urbaine du grand reims', \"asfe - alliance solidaire des français de l'etranger\", 'yespark']\n"
     ]
    }
   ],
   "source": [
    "print(len(list(df.exp1_companyName.unique())))\n",
    "print(list(df.exp1_companyName.unique()))"
   ]
  },
  {
   "attachments": {},
   "cell_type": "markdown",
   "metadata": {},
   "source": [
    "## Preparing the dataframe"
   ]
  },
  {
   "cell_type": "code",
   "execution_count": 230,
   "metadata": {},
   "outputs": [],
   "source": [
    "# our \"y\" here is the exp1_industry \n",
    "# it could be the companies but there are a lot of them (128)\n",
    "# next we are going to drop everything else related to the 1st (last) experience\n",
    "# ['exp1_locationName', 'exp1_companyName',\n",
    "#       'exp1_description', 'exp1_title', 'exp1_startDate_month',\n",
    "#       'exp1_startDate_year', 'exp1_industry', 'exp1_company_empl_low']\n",
    "# as well as the ID "
   ]
  },
  {
   "cell_type": "code",
   "execution_count": 231,
   "metadata": {},
   "outputs": [],
   "source": [
    "df.set_index(['exp1_industry'], drop=True, inplace=True)"
   ]
  },
  {
   "cell_type": "code",
   "execution_count": 232,
   "metadata": {},
   "outputs": [],
   "source": [
    "df.drop(columns=[\"ID\", 'exp1_locationName', 'exp1_companyName',\n",
    "       'exp1_description', 'exp1_title', 'exp1_startDate_month',\n",
    "       'exp1_startDate_year', 'exp1_company_empl_low'], inplace=True)"
   ]
  },
  {
   "cell_type": "code",
   "execution_count": 233,
   "metadata": {},
   "outputs": [
    {
     "name": "stdout",
     "output_type": "stream",
     "text": [
      "['geoCountryName', 'geoLocationName', 'summary', 'industryName', 'headline', 'languages', 'publications', 'certifications', 'volunteer', 'honors', 'projects', 'exp2_locationName', 'exp2_companyName', 'exp2_description', 'exp2_title', 'exp2_startDate_month', 'exp2_startDate_year', 'exp2_endDate_month', 'exp2_endDate_year', 'exp2_industry', 'exp2_company_empl_low', 'exp3_locationName', 'exp3_companyName', 'exp3_title', 'exp3_description', 'exp3_startDate_month', 'exp3_startDate_year', 'exp3_endDate_month', 'exp3_endDate_year', 'exp3_industry', 'exp3_company_empl_low', 'exp4_locationName', 'exp4_companyName', 'exp4_description', 'exp4_title', 'exp4_startDate_month', 'exp4_startDate_year', 'exp4_endDate_month', 'exp4_endDate_year', 'exp4_industry', 'exp4_company_empl_low', 'exp5_locationName', 'exp5_companyName', 'exp5_description', 'exp5_title', 'exp5_startDate_month', 'exp5_startDate_year', 'exp5_endDate_month', 'exp5_endDate_year', 'exp5_industry', 'exp5_company_empl_low', 'ed1_degreeName', 'ed1_schoolName', 'ed1_fieldOfStudy', 'ed1_startDate_year', 'ed2_schoolName', 'ed2_fieldOfStudy', 'ed2_degreeName', 'ed2_startDate_year', 'ed3_degreeName', 'ed3_schoolName', 'ed3_fieldOfStudy', 'ed3_startDate_year']\n"
     ]
    }
   ],
   "source": [
    "list_df_columns= list(df.columns)\n",
    "print(list_df_columns)"
   ]
  },
  {
   "cell_type": "code",
   "execution_count": 234,
   "metadata": {},
   "outputs": [],
   "source": [
    "df=df.applymap(str)"
   ]
  },
  {
   "cell_type": "code",
   "execution_count": 235,
   "metadata": {},
   "outputs": [
    {
     "data": {
      "text/html": [
       "<div>\n",
       "<style scoped>\n",
       "    .dataframe tbody tr th:only-of-type {\n",
       "        vertical-align: middle;\n",
       "    }\n",
       "\n",
       "    .dataframe tbody tr th {\n",
       "        vertical-align: top;\n",
       "    }\n",
       "\n",
       "    .dataframe thead th {\n",
       "        text-align: right;\n",
       "    }\n",
       "</style>\n",
       "<table border=\"1\" class=\"dataframe\">\n",
       "  <thead>\n",
       "    <tr style=\"text-align: right;\">\n",
       "      <th></th>\n",
       "      <th>exp1_industry</th>\n",
       "      <th>text</th>\n",
       "    </tr>\n",
       "  </thead>\n",
       "  <tbody>\n",
       "    <tr>\n",
       "      <th>0</th>\n",
       "      <td>Management Consulting</td>\n",
       "      <td>France Paris Metropolitan Region Antoine croit à l’intelligence de tous et à la responsabilité de chacun pour réinventer un monde qui reste à hauteur d’homme.\\nIl est à ce titre partie prenante de nombreux projets qui tous visent à rallumer les soleils humains, et notamment : \\nDirecteur associé de Bluenove, qui assume que les organisations positives les plus impactantes de demain sont celles qui feront levier de l’intelligence collective\\nA l’initiative du projet #BrightMirror visant à perm...</td>\n",
       "    </tr>\n",
       "    <tr>\n",
       "      <th>1</th>\n",
       "      <td>NaN</td>\n",
       "      <td>France Paris Metropolitan Region IT Consultant, Technical Expert, Lead developer, I have an extensive experience in Web development and software architecture. I like solving complex situation, both human and technical.\\n\\nExpertises: \\n- PHP development, CMS (huge experience with Drupal), \"components\" (Symfony2, Silex, Slim), MVC frameworks (particularly Jelix, symfony 1), \\n- Software architecture, using the *right* number of moving part to easily scale your infrastructure while enhancing t...</td>\n",
       "    </tr>\n",
       "  </tbody>\n",
       "</table>\n",
       "</div>"
      ],
      "text/plain": [
       "           exp1_industry  \\\n",
       "0  Management Consulting   \n",
       "1                    NaN   \n",
       "\n",
       "                                                                                                                                                                                                                                                                                                                                                                                                                                                                                                                  text  \n",
       "0  France Paris Metropolitan Region Antoine croit à l’intelligence de tous et à la responsabilité de chacun pour réinventer un monde qui reste à hauteur d’homme.\\nIl est à ce titre partie prenante de nombreux projets qui tous visent à rallumer les soleils humains, et notamment : \\nDirecteur associé de Bluenove, qui assume que les organisations positives les plus impactantes de demain sont celles qui feront levier de l’intelligence collective\\nA l’initiative du projet #BrightMirror visant à perm...  \n",
       "1  France Paris Metropolitan Region IT Consultant, Technical Expert, Lead developer, I have an extensive experience in Web development and software architecture. I like solving complex situation, both human and technical.\\n\\nExpertises: \\n- PHP development, CMS (huge experience with Drupal), \"components\" (Symfony2, Silex, Slim), MVC frameworks (particularly Jelix, symfony 1), \\n- Software architecture, using the *right* number of moving part to easily scale your infrastructure while enhancing t...  "
      ]
     },
     "execution_count": 235,
     "metadata": {},
     "output_type": "execute_result"
    }
   ],
   "source": [
    "df[\"text\"] = df[list_df_columns].apply(lambda x: \" \".join(x), axis =1)\n",
    "df.reset_index(inplace=True)\n",
    "mod_df=df[[\"exp1_industry\", \"text\"]]\n",
    "mod_df.head(2)"
   ]
  },
  {
   "cell_type": "code",
   "execution_count": 236,
   "metadata": {},
   "outputs": [],
   "source": [
    "# mod_df.isna().sum()\n",
    "# keep this dataframe because it could be useful to test the model later\n",
    "exp1_industry_nan= mod_df.loc[mod_df[\"exp1_industry\"].isna()]\n",
    "mod_df= mod_df.loc[mod_df[\"exp1_industry\"].notna()]"
   ]
  },
  {
   "cell_type": "code",
   "execution_count": 237,
   "metadata": {},
   "outputs": [
    {
     "name": "stdout",
     "output_type": "stream",
     "text": [
      "String before conversion:  sPe@#$ci8<\n",
      "7al*& m_ot.h[r f{uc'6r\n",
      "string after conversion: sPeci87al mothr fuc6r\n"
     ]
    }
   ],
   "source": [
    "# String with special characters \n",
    "special_string=\"sPe@#$ci8<\\n7al*& m_ot.h[r f{uc'6r\"\n",
    "print(\"String before conversion: \",special_string)\n",
    "# Create a list with normal characters using the isalnum() method\n",
    "# use the join() function to convert the list to string\n",
    "normal_string=\"\".join(ch for ch in special_string if ch.isalnum() or ch==' ')\n",
    "# print the normal string \n",
    "print(\"string after conversion:\",normal_string)"
   ]
  },
  {
   "cell_type": "code",
   "execution_count": 238,
   "metadata": {},
   "outputs": [],
   "source": [
    "def clean_text_col(x):\n",
    "    x=str(x)\n",
    "    x= \"\".join(ch for ch in x if ch.isalnum() or ch==' ')\n",
    "    x= x.lower()\n",
    "    return x"
   ]
  },
  {
   "cell_type": "code",
   "execution_count": 239,
   "metadata": {},
   "outputs": [
    {
     "data": {
      "text/plain": [
       "Index(['exp1_industry', 'text'], dtype='object')"
      ]
     },
     "execution_count": 239,
     "metadata": {},
     "output_type": "execute_result"
    }
   ],
   "source": [
    "mod_df.columns"
   ]
  },
  {
   "cell_type": "code",
   "execution_count": 240,
   "metadata": {},
   "outputs": [],
   "source": [
    "mod_df[\"text\"] = mod_df['text'].apply(clean_text_col)"
   ]
  },
  {
   "cell_type": "code",
   "execution_count": 241,
   "metadata": {},
   "outputs": [
    {
     "data": {
      "text/html": [
       "<div>\n",
       "<style scoped>\n",
       "    .dataframe tbody tr th:only-of-type {\n",
       "        vertical-align: middle;\n",
       "    }\n",
       "\n",
       "    .dataframe tbody tr th {\n",
       "        vertical-align: top;\n",
       "    }\n",
       "\n",
       "    .dataframe thead th {\n",
       "        text-align: right;\n",
       "    }\n",
       "</style>\n",
       "<table border=\"1\" class=\"dataframe\">\n",
       "  <thead>\n",
       "    <tr style=\"text-align: right;\">\n",
       "      <th></th>\n",
       "      <th>exp1_industry</th>\n",
       "      <th>text</th>\n",
       "    </tr>\n",
       "  </thead>\n",
       "  <tbody>\n",
       "    <tr>\n",
       "      <th>0</th>\n",
       "      <td>Management Consulting</td>\n",
       "      <td>france paris metropolitan region antoine croit à lintelligence de tous et à la responsabilité de chacun pour réinventer un monde qui reste à hauteur dhommeil est à ce titre partie prenante de nombreux projets qui tous visent à rallumer les soleils humains et notamment  directeur associé de bluenove qui assume que les organisations positives les plus impactantes de demain sont celles qui feront levier de lintelligence collectivea linitiative du projet brightmirror visant à permettre la scénar...</td>\n",
       "    </tr>\n",
       "    <tr>\n",
       "      <th>2</th>\n",
       "      <td>Computer Software</td>\n",
       "      <td>france paris metropolitan region nan it services and it consulting directrice des opérations chez cap collectif nan nan nan role administratrice companyname la cravate solidaire timeperiod enddate month 6 year 2021 startdate month 9 year 2016 company minicompany objecturn urnlicompany5186825 entityurn urnlifsminicompany5186825 name la cravate solidaire showcase false active true logo comlinkedincommonvectorimage artifacts width 200 fileidentifyingurlpathsegment 20020001519903535287e169344000...</td>\n",
       "    </tr>\n",
       "  </tbody>\n",
       "</table>\n",
       "</div>"
      ],
      "text/plain": [
       "           exp1_industry  \\\n",
       "0  Management Consulting   \n",
       "2      Computer Software   \n",
       "\n",
       "                                                                                                                                                                                                                                                                                                                                                                                                                                                                                                                  text  \n",
       "0  france paris metropolitan region antoine croit à lintelligence de tous et à la responsabilité de chacun pour réinventer un monde qui reste à hauteur dhommeil est à ce titre partie prenante de nombreux projets qui tous visent à rallumer les soleils humains et notamment  directeur associé de bluenove qui assume que les organisations positives les plus impactantes de demain sont celles qui feront levier de lintelligence collectivea linitiative du projet brightmirror visant à permettre la scénar...  \n",
       "2  france paris metropolitan region nan it services and it consulting directrice des opérations chez cap collectif nan nan nan role administratrice companyname la cravate solidaire timeperiod enddate month 6 year 2021 startdate month 9 year 2016 company minicompany objecturn urnlicompany5186825 entityurn urnlifsminicompany5186825 name la cravate solidaire showcase false active true logo comlinkedincommonvectorimage artifacts width 200 fileidentifyingurlpathsegment 20020001519903535287e169344000...  "
      ]
     },
     "execution_count": 241,
     "metadata": {},
     "output_type": "execute_result"
    }
   ],
   "source": [
    "mod_df.head(2)"
   ]
  },
  {
   "cell_type": "code",
   "execution_count": 242,
   "metadata": {},
   "outputs": [
    {
     "data": {
      "text/plain": [
       "Computer Software                      19\n",
       "Information Technology and Services    17\n",
       "Civic Social Organization              13\n",
       "Government Administration              12\n",
       "Management Consulting                   8\n",
       "                                       ..\n",
       "Education Management                    1\n",
       "Investment Banking                      1\n",
       "Market Research                         1\n",
       "Retail                                  1\n",
       "Political Organization                  1\n",
       "Name: exp1_industry, Length: 43, dtype: int64"
      ]
     },
     "execution_count": 242,
     "metadata": {},
     "output_type": "execute_result"
    }
   ],
   "source": [
    "mod_df.exp1_industry.value_counts()"
   ]
  },
  {
   "cell_type": "code",
   "execution_count": 243,
   "metadata": {},
   "outputs": [
    {
     "name": "stdout",
     "output_type": "stream",
     "text": [
      "0    0\n",
      "2    1\n",
      "3    2\n",
      "4    3\n",
      "5    4\n",
      "Name: exp1_industry, dtype: int64\n",
      "Index(['Management Consulting', 'Computer Software', 'Internet',\n",
      "       'Information Technology and Services', 'Civic Social Organization',\n",
      "       'Higher Education', 'Performing Arts', 'Marketing and Advertising',\n",
      "       'Research', 'Civil Engineering', 'Venture Capital Private Equity',\n",
      "       'Nonprofit Organization Management', 'Government Relations', 'Banking',\n",
      "       'Education Management', 'Pharmaceuticals', 'Government Administration',\n",
      "       'Information Services', 'Retail', 'Market Research',\n",
      "       'Investment Banking', 'Renewables Environment', 'Hospital Health Care',\n",
      "       'Chemicals', 'Human Resources', 'Public Relations and Communications',\n",
      "       'International Affairs', 'Real Estate', 'Environmental Services',\n",
      "       'Think Tanks', 'Farming', 'Architecture Planning',\n",
      "       'Leisure Travel Tourism', 'Online Media', 'Computer Network Security',\n",
      "       'Professional Training Coaching', 'Security and Investigations',\n",
      "       'Restaurants', 'Telecommunications', 'Insurance', 'Fine Art', 'Design',\n",
      "       'Political Organization'],\n",
      "      dtype='object')\n"
     ]
    }
   ],
   "source": [
    "factor = pd.factorize(mod_df['exp1_industry'])\n",
    "mod_df.exp1_industry = factor[0]\n",
    "definitions = factor[1]\n",
    "print(mod_df.exp1_industry.head())\n",
    "print(definitions)\n"
   ]
  },
  {
   "cell_type": "code",
   "execution_count": 244,
   "metadata": {},
   "outputs": [
    {
     "data": {
      "text/html": [
       "<div>\n",
       "<style scoped>\n",
       "    .dataframe tbody tr th:only-of-type {\n",
       "        vertical-align: middle;\n",
       "    }\n",
       "\n",
       "    .dataframe tbody tr th {\n",
       "        vertical-align: top;\n",
       "    }\n",
       "\n",
       "    .dataframe thead th {\n",
       "        text-align: right;\n",
       "    }\n",
       "</style>\n",
       "<table border=\"1\" class=\"dataframe\">\n",
       "  <thead>\n",
       "    <tr style=\"text-align: right;\">\n",
       "      <th></th>\n",
       "      <th>exp1_industry</th>\n",
       "      <th>text</th>\n",
       "    </tr>\n",
       "  </thead>\n",
       "  <tbody>\n",
       "    <tr>\n",
       "      <th>0</th>\n",
       "      <td>0</td>\n",
       "      <td>france paris metropolitan region antoine croit à lintelligence de tous et à la responsabilité de chacun pour réinventer un monde qui reste à hauteur dhommeil est à ce titre partie prenante de nombreux projets qui tous visent à rallumer les soleils humains et notamment  directeur associé de bluenove qui assume que les organisations positives les plus impactantes de demain sont celles qui feront levier de lintelligence collectivea linitiative du projet brightmirror visant à permettre la scénar...</td>\n",
       "    </tr>\n",
       "    <tr>\n",
       "      <th>2</th>\n",
       "      <td>1</td>\n",
       "      <td>france paris metropolitan region nan it services and it consulting directrice des opérations chez cap collectif nan nan nan role administratrice companyname la cravate solidaire timeperiod enddate month 6 year 2021 startdate month 9 year 2016 company minicompany objecturn urnlicompany5186825 entityurn urnlifsminicompany5186825 name la cravate solidaire showcase false active true logo comlinkedincommonvectorimage artifacts width 200 fileidentifyingurlpathsegment 20020001519903535287e169344000...</td>\n",
       "    </tr>\n",
       "    <tr>\n",
       "      <th>3</th>\n",
       "      <td>2</td>\n",
       "      <td>france paris metropolitan region people power civic and social organizations regional director france italy russia and spain at changeorg name anglais proficiency fullprofessional name espagnol proficiency limitedworking name français proficiency nativeorbilingual name hindi proficiency elementary nan nan role volunteer companyname samu social de paris timeperiod enddate month 12 year 2012 startdate month 12 year 2009 cause socialservices description  giving meals to homeles during christmas...</td>\n",
       "    </tr>\n",
       "    <tr>\n",
       "      <th>4</th>\n",
       "      <td>3</td>\n",
       "      <td>france paris metropolitan region 16 years of experience driving change in the tech  media industrygovernment business development expertisedelivering results in versatile and fastpaced environmentsawarded  mit innovator under 35 top social innovator tedxparis inspiring 50 award for women in techin parallel of my role of ceo fluicity i volunteer in ngos as board member becode or founding member association civic tech europe it services and it consulting cofounder  ceo fluicity  cofounder asso...</td>\n",
       "    </tr>\n",
       "    <tr>\n",
       "      <th>5</th>\n",
       "      <td>4</td>\n",
       "      <td>france paris metropolitan region nan nonprofit organizations directrice générale adjointe chez adie name anglais proficiency professionalworking name français proficiency nativeorbilingual nan nan nan nan nan paris metropolitan region adie nan directrice des relations institutionnelles et du plaidoyer 90 20190 nan nan civic social organization 5010 paris metropolitan region fluicity responsable du développement start up de la civic tech  plateforme numérique de participation citoyennedévelop...</td>\n",
       "    </tr>\n",
       "  </tbody>\n",
       "</table>\n",
       "</div>"
      ],
      "text/plain": [
       "   exp1_industry  \\\n",
       "0              0   \n",
       "2              1   \n",
       "3              2   \n",
       "4              3   \n",
       "5              4   \n",
       "\n",
       "                                                                                                                                                                                                                                                                                                                                                                                                                                                                                                                  text  \n",
       "0  france paris metropolitan region antoine croit à lintelligence de tous et à la responsabilité de chacun pour réinventer un monde qui reste à hauteur dhommeil est à ce titre partie prenante de nombreux projets qui tous visent à rallumer les soleils humains et notamment  directeur associé de bluenove qui assume que les organisations positives les plus impactantes de demain sont celles qui feront levier de lintelligence collectivea linitiative du projet brightmirror visant à permettre la scénar...  \n",
       "2  france paris metropolitan region nan it services and it consulting directrice des opérations chez cap collectif nan nan nan role administratrice companyname la cravate solidaire timeperiod enddate month 6 year 2021 startdate month 9 year 2016 company minicompany objecturn urnlicompany5186825 entityurn urnlifsminicompany5186825 name la cravate solidaire showcase false active true logo comlinkedincommonvectorimage artifacts width 200 fileidentifyingurlpathsegment 20020001519903535287e169344000...  \n",
       "3  france paris metropolitan region people power civic and social organizations regional director france italy russia and spain at changeorg name anglais proficiency fullprofessional name espagnol proficiency limitedworking name français proficiency nativeorbilingual name hindi proficiency elementary nan nan role volunteer companyname samu social de paris timeperiod enddate month 12 year 2012 startdate month 12 year 2009 cause socialservices description  giving meals to homeles during christmas...  \n",
       "4  france paris metropolitan region 16 years of experience driving change in the tech  media industrygovernment business development expertisedelivering results in versatile and fastpaced environmentsawarded  mit innovator under 35 top social innovator tedxparis inspiring 50 award for women in techin parallel of my role of ceo fluicity i volunteer in ngos as board member becode or founding member association civic tech europe it services and it consulting cofounder  ceo fluicity  cofounder asso...  \n",
       "5  france paris metropolitan region nan nonprofit organizations directrice générale adjointe chez adie name anglais proficiency professionalworking name français proficiency nativeorbilingual nan nan nan nan nan paris metropolitan region adie nan directrice des relations institutionnelles et du plaidoyer 90 20190 nan nan civic social organization 5010 paris metropolitan region fluicity responsable du développement start up de la civic tech  plateforme numérique de participation citoyennedévelop...  "
      ]
     },
     "execution_count": 244,
     "metadata": {},
     "output_type": "execute_result"
    }
   ],
   "source": [
    "mod_df.head()"
   ]
  },
  {
   "attachments": {},
   "cell_type": "markdown",
   "metadata": {},
   "source": [
    "## Setting X, y, test & train sets and vectorize"
   ]
  },
  {
   "cell_type": "code",
   "execution_count": 245,
   "metadata": {},
   "outputs": [],
   "source": [
    "X= mod_df[\"text\"]\n",
    "y= mod_df[\"exp1_industry\"]"
   ]
  },
  {
   "cell_type": "code",
   "execution_count": 246,
   "metadata": {},
   "outputs": [],
   "source": [
    "texts_train, texts_test, Y_train, Y_test = train_test_split(X, y, test_size=0.15,\n",
    "                                                            random_state=432)"
   ]
  },
  {
   "cell_type": "code",
   "execution_count": 247,
   "metadata": {},
   "outputs": [],
   "source": [
    "vectorizer = CountVectorizer()\n",
    "X_train = vectorizer.fit_transform(texts_train)\n",
    "X_test = vectorizer.transform(texts_test)"
   ]
  },
  {
   "attachments": {},
   "cell_type": "markdown",
   "metadata": {},
   "source": [
    "## Random Forest Modeling"
   ]
  },
  {
   "cell_type": "code",
   "execution_count": 248,
   "metadata": {},
   "outputs": [],
   "source": [
    "model_rf = RandomForestClassifier()#(class_weight='balanced_subsample')"
   ]
  },
  {
   "cell_type": "code",
   "execution_count": 249,
   "metadata": {},
   "outputs": [
    {
     "data": {
      "text/html": [
       "<style>#sk-container-id-6 {color: black;background-color: white;}#sk-container-id-6 pre{padding: 0;}#sk-container-id-6 div.sk-toggleable {background-color: white;}#sk-container-id-6 label.sk-toggleable__label {cursor: pointer;display: block;width: 100%;margin-bottom: 0;padding: 0.3em;box-sizing: border-box;text-align: center;}#sk-container-id-6 label.sk-toggleable__label-arrow:before {content: \"▸\";float: left;margin-right: 0.25em;color: #696969;}#sk-container-id-6 label.sk-toggleable__label-arrow:hover:before {color: black;}#sk-container-id-6 div.sk-estimator:hover label.sk-toggleable__label-arrow:before {color: black;}#sk-container-id-6 div.sk-toggleable__content {max-height: 0;max-width: 0;overflow: hidden;text-align: left;background-color: #f0f8ff;}#sk-container-id-6 div.sk-toggleable__content pre {margin: 0.2em;color: black;border-radius: 0.25em;background-color: #f0f8ff;}#sk-container-id-6 input.sk-toggleable__control:checked~div.sk-toggleable__content {max-height: 200px;max-width: 100%;overflow: auto;}#sk-container-id-6 input.sk-toggleable__control:checked~label.sk-toggleable__label-arrow:before {content: \"▾\";}#sk-container-id-6 div.sk-estimator input.sk-toggleable__control:checked~label.sk-toggleable__label {background-color: #d4ebff;}#sk-container-id-6 div.sk-label input.sk-toggleable__control:checked~label.sk-toggleable__label {background-color: #d4ebff;}#sk-container-id-6 input.sk-hidden--visually {border: 0;clip: rect(1px 1px 1px 1px);clip: rect(1px, 1px, 1px, 1px);height: 1px;margin: -1px;overflow: hidden;padding: 0;position: absolute;width: 1px;}#sk-container-id-6 div.sk-estimator {font-family: monospace;background-color: #f0f8ff;border: 1px dotted black;border-radius: 0.25em;box-sizing: border-box;margin-bottom: 0.5em;}#sk-container-id-6 div.sk-estimator:hover {background-color: #d4ebff;}#sk-container-id-6 div.sk-parallel-item::after {content: \"\";width: 100%;border-bottom: 1px solid gray;flex-grow: 1;}#sk-container-id-6 div.sk-label:hover label.sk-toggleable__label {background-color: #d4ebff;}#sk-container-id-6 div.sk-serial::before {content: \"\";position: absolute;border-left: 1px solid gray;box-sizing: border-box;top: 0;bottom: 0;left: 50%;z-index: 0;}#sk-container-id-6 div.sk-serial {display: flex;flex-direction: column;align-items: center;background-color: white;padding-right: 0.2em;padding-left: 0.2em;position: relative;}#sk-container-id-6 div.sk-item {position: relative;z-index: 1;}#sk-container-id-6 div.sk-parallel {display: flex;align-items: stretch;justify-content: center;background-color: white;position: relative;}#sk-container-id-6 div.sk-item::before, #sk-container-id-6 div.sk-parallel-item::before {content: \"\";position: absolute;border-left: 1px solid gray;box-sizing: border-box;top: 0;bottom: 0;left: 50%;z-index: -1;}#sk-container-id-6 div.sk-parallel-item {display: flex;flex-direction: column;z-index: 1;position: relative;background-color: white;}#sk-container-id-6 div.sk-parallel-item:first-child::after {align-self: flex-end;width: 50%;}#sk-container-id-6 div.sk-parallel-item:last-child::after {align-self: flex-start;width: 50%;}#sk-container-id-6 div.sk-parallel-item:only-child::after {width: 0;}#sk-container-id-6 div.sk-dashed-wrapped {border: 1px dashed gray;margin: 0 0.4em 0.5em 0.4em;box-sizing: border-box;padding-bottom: 0.4em;background-color: white;}#sk-container-id-6 div.sk-label label {font-family: monospace;font-weight: bold;display: inline-block;line-height: 1.2em;}#sk-container-id-6 div.sk-label-container {text-align: center;}#sk-container-id-6 div.sk-container {/* jupyter's `normalize.less` sets `[hidden] { display: none; }` but bootstrap.min.css set `[hidden] { display: none !important; }` so we also need the `!important` here to be able to override the default hidden behavior on the sphinx rendered scikit-learn.org. See: https://github.com/scikit-learn/scikit-learn/issues/21755 */display: inline-block !important;position: relative;}#sk-container-id-6 div.sk-text-repr-fallback {display: none;}</style><div id=\"sk-container-id-6\" class=\"sk-top-container\"><div class=\"sk-text-repr-fallback\"><pre>RandomForestClassifier()</pre><b>In a Jupyter environment, please rerun this cell to show the HTML representation or trust the notebook. <br />On GitHub, the HTML representation is unable to render, please try loading this page with nbviewer.org.</b></div><div class=\"sk-container\" hidden><div class=\"sk-item\"><div class=\"sk-estimator sk-toggleable\"><input class=\"sk-toggleable__control sk-hidden--visually\" id=\"sk-estimator-id-6\" type=\"checkbox\" checked><label for=\"sk-estimator-id-6\" class=\"sk-toggleable__label sk-toggleable__label-arrow\">RandomForestClassifier</label><div class=\"sk-toggleable__content\"><pre>RandomForestClassifier()</pre></div></div></div></div></div>"
      ],
      "text/plain": [
       "RandomForestClassifier()"
      ]
     },
     "execution_count": 249,
     "metadata": {},
     "output_type": "execute_result"
    }
   ],
   "source": [
    "# to check if there is a problem (and there often is) \n",
    "# note XGBoost works for binary classification only \n",
    "# even though the error message says somthing else \n",
    "\n",
    "model_rf.fit(X_train, Y_train)"
   ]
  },
  {
   "cell_type": "code",
   "execution_count": null,
   "metadata": {},
   "outputs": [],
   "source": []
  },
  {
   "cell_type": "code",
   "execution_count": 250,
   "metadata": {},
   "outputs": [],
   "source": [
    "y_pred = model_rf.predict(X_test)"
   ]
  },
  {
   "cell_type": "code",
   "execution_count": 251,
   "metadata": {},
   "outputs": [
    {
     "name": "stdout",
     "output_type": "stream",
     "text": [
      "Predicted Industry  0   1   3   4   6   8   16\n",
      "Industry                                      \n",
      "0                    1   1   0   0   0   0   0\n",
      "1                    0   2   0   0   0   0   0\n",
      "3                    0   0   4   0   0   0   0\n",
      "4                    0   1   0   3   0   0   0\n",
      "5                    0   0   1   0   0   0   0\n",
      "...                 ..  ..  ..  ..  ..  ..  ..\n",
      "19                   0   0   0   0   0   1   0\n",
      "20                   0   0   1   0   0   0   0\n",
      "31                   0   0   0   1   0   0   0\n",
      "32                   0   0   0   0   1   0   0\n",
      "33                   0   1   0   0   0   0   0\n",
      "\n",
      "[13 rows x 7 columns]\n"
     ]
    }
   ],
   "source": [
    "#Reverse factorize (converting y_pred from 0s,1s and 2s to industries)\n",
    "#reversefactor = dict(zip(range(44),definitions))\n",
    "#Y_test = np.vectorize(reversefactor.get)(Y_test)\n",
    "#y_pred = np.vectorize(reversefactor.get)(y_pred)\n",
    "# Making the Confusion Matrix\n",
    "print(pd.crosstab(Y_test, y_pred, rownames=['Industry'], colnames=['Predicted Industry']))\n"
   ]
  },
  {
   "cell_type": "code",
   "execution_count": 252,
   "metadata": {},
   "outputs": [
    {
     "data": {
      "text/plain": [
       "0.5238095238095238"
      ]
     },
     "execution_count": 252,
     "metadata": {},
     "output_type": "execute_result"
    }
   ],
   "source": [
    "accuracy_score(Y_test, y_pred)"
   ]
  },
  {
   "attachments": {},
   "cell_type": "markdown",
   "metadata": {},
   "source": [
    "## Additional work"
   ]
  },
  {
   "cell_type": "code",
   "execution_count": 253,
   "metadata": {},
   "outputs": [],
   "source": [
    "# try to get the ROC-AUC score \n",
    "# Clean the columns in original dataframe to avoid getting URNs - languages, publications, etc\n",
    "# try vectorizer without stemming but with stop words and vectorizer with stemming \n",
    "# try TDIF \n",
    "# Try KNN (cf. Thomas's message)\n",
    "\n",
    "# remove numbers ? \n",
    "# impute industry for the missing ones \n",
    "# handle imbalance ? \n",
    "# should some words have more weight than others ? \n",
    "\n",
    "# Notes for later : \n",
    "# cosine similarity instead of TDIF vectorizer ? \n",
    "# use PCA and make clusters of people \n",
    "# change the Y to 1/0 based on a civic tech list (e.g. the one that appears when creating companies SQL tables)\n",
    "# work with companies' data to make clusters of similar companies and predict for that/ recommend closest neighbors (and NGOs)\n"
   ]
  },
  {
   "attachments": {},
   "cell_type": "markdown",
   "metadata": {},
   "source": [
    "### Vectorizer without stemming"
   ]
  },
  {
   "cell_type": "code",
   "execution_count": 254,
   "metadata": {},
   "outputs": [],
   "source": [
    "vectorizer = CountVectorizer(stop_words=\"english\", ngram_range=(1, 2))"
   ]
  },
  {
   "cell_type": "code",
   "execution_count": 255,
   "metadata": {},
   "outputs": [],
   "source": [
    "vectors = vectorizer.fit_transform(X).todense()"
   ]
  },
  {
   "cell_type": "code",
   "execution_count": 256,
   "metadata": {},
   "outputs": [],
   "source": [
    "pd.set_option(\"display.max_rows\", 10)"
   ]
  },
  {
   "cell_type": "code",
   "execution_count": 257,
   "metadata": {},
   "outputs": [],
   "source": [
    "vocabulary = vectorizer.get_feature_names_out()"
   ]
  },
  {
   "cell_type": "code",
   "execution_count": 258,
   "metadata": {},
   "outputs": [
    {
     "data": {
      "text/plain": [
       "(140, 85569)"
      ]
     },
     "execution_count": 258,
     "metadata": {},
     "output_type": "execute_result"
    }
   ],
   "source": [
    "pd.DataFrame(vectors, columns=vocabulary, index=X).shape"
   ]
  },
  {
   "attachments": {},
   "cell_type": "markdown",
   "metadata": {},
   "source": [
    "### Vectorizer with stemming "
   ]
  },
  {
   "cell_type": "code",
   "execution_count": 259,
   "metadata": {},
   "outputs": [],
   "source": [
    "from nltk.stem.snowball import EnglishStemmer, FrenchStemmer\n",
    "from sklearn.feature_extraction._stop_words import ENGLISH_STOP_WORDS"
   ]
  },
  {
   "cell_type": "code",
   "execution_count": 260,
   "metadata": {},
   "outputs": [],
   "source": [
    "stemmer = EnglishStemmer()"
   ]
  },
  {
   "cell_type": "code",
   "execution_count": 261,
   "metadata": {},
   "outputs": [],
   "source": [
    "default_analyzer = CountVectorizer(stop_words=ENGLISH_STOP_WORDS).build_analyzer()"
   ]
  },
  {
   "cell_type": "code",
   "execution_count": 262,
   "metadata": {},
   "outputs": [],
   "source": [
    "def analyze_with_stemming(text):\n",
    "    unstemmed_words = default_analyzer(text)\n",
    "    return (stemmer.stem(word) for word in unstemmed_words)"
   ]
  },
  {
   "cell_type": "code",
   "execution_count": 263,
   "metadata": {},
   "outputs": [],
   "source": [
    "stemmer_vectorizer = CountVectorizer(analyzer=analyze_with_stemming)"
   ]
  },
  {
   "cell_type": "code",
   "execution_count": 264,
   "metadata": {},
   "outputs": [
    {
     "data": {
      "text/plain": [
       "(140, 17549)"
      ]
     },
     "execution_count": 264,
     "metadata": {},
     "output_type": "execute_result"
    }
   ],
   "source": [
    "vectors = stemmer_vectorizer.fit_transform(X).todense()\n",
    "vocabulary = stemmer_vectorizer.get_feature_names_out()\n",
    "pd.DataFrame(vectors, columns=vocabulary, index=X).shape"
   ]
  }
 ],
 "metadata": {
  "kernelspec": {
   "display_name": "base",
   "language": "python",
   "name": "python3"
  },
  "language_info": {
   "codemirror_mode": {
    "name": "ipython",
    "version": 3
   },
   "file_extension": ".py",
   "mimetype": "text/x-python",
   "name": "python",
   "nbconvert_exporter": "python",
   "pygments_lexer": "ipython3",
   "version": "3.9.16"
  },
  "orig_nbformat": 4
 },
 "nbformat": 4,
 "nbformat_minor": 2
}
