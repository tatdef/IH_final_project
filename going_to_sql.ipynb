{
 "cells": [
  {
   "attachments": {},
   "cell_type": "markdown",
   "metadata": {},
   "source": [
    "# Setup"
   ]
  },
  {
   "cell_type": "code",
   "execution_count": 1,
   "metadata": {},
   "outputs": [],
   "source": [
    "import pandas as pd\n",
    "import pymysql.cursors\n",
    "from sqlalchemy import create_engine, MetaData\n",
    "from sqlalchemy.schema import CreateTable\n",
    "from sqlalchemy import text\n",
    "import getpass\n",
    "import os\n",
    "\n",
    "sql_pass = getpass.getpass()\n",
    "#sql_pass = os.environ['MySQLPass']\n",
    "connection_string = 'mysql+pymysql://root:' + sql_pass + '@localhost:3306/'\n",
    "engine = create_engine(connection_string)\n"
   ]
  },
  {
   "attachments": {},
   "cell_type": "markdown",
   "metadata": {},
   "source": [
    "# People"
   ]
  },
  {
   "attachments": {},
   "cell_type": "markdown",
   "metadata": {},
   "source": [
    "### Names"
   ]
  },
  {
   "cell_type": "code",
   "execution_count": 2,
   "metadata": {},
   "outputs": [],
   "source": [
    "names= pd.read_csv('profiles/names.csv', sep=';')"
   ]
  },
  {
   "cell_type": "code",
   "execution_count": 3,
   "metadata": {},
   "outputs": [
    {
     "data": {
      "text/plain": [
       "47"
      ]
     },
     "execution_count": 3,
     "metadata": {},
     "output_type": "execute_result"
    }
   ],
   "source": [
    "names.to_sql('people_names', engine, 'civictech', if_exists='replace', index=False)"
   ]
  },
  {
   "attachments": {},
   "cell_type": "markdown",
   "metadata": {},
   "source": [
    "### Profiles"
   ]
  },
  {
   "cell_type": "code",
   "execution_count": 4,
   "metadata": {},
   "outputs": [
    {
     "name": "stdout",
     "output_type": "stream",
     "text": [
      "['ind_id', 'geoCountryName', 'geoLocationName', 'summary', 'industryName', 'headline', 'experience', 'education', 'languages', 'publications', 'certifications', 'volunteer', 'honors', 'projects', 'experience1', 'experience2', 'experience3', 'experience4', 'experience5', 'education1', 'education2', 'education3', 'languages_over2', 'honors_stated', 'publications_stated', 'volunteer_stated', 'projects_stated', 'certifications_stated', 'languages_stated', 'consulting_roles', 'direction_roles', 'founding_roles']\n",
      "32\n"
     ]
    }
   ],
   "source": [
    "people=pd.read_csv('profiles/people_main_db.csv', sep=';')\n",
    "print(list(people.columns))\n",
    "print(len(list(people.columns)))"
   ]
  },
  {
   "cell_type": "code",
   "execution_count": 5,
   "metadata": {},
   "outputs": [
    {
     "data": {
      "text/html": [
       "<div>\n",
       "<style scoped>\n",
       "    .dataframe tbody tr th:only-of-type {\n",
       "        vertical-align: middle;\n",
       "    }\n",
       "\n",
       "    .dataframe tbody tr th {\n",
       "        vertical-align: top;\n",
       "    }\n",
       "\n",
       "    .dataframe thead th {\n",
       "        text-align: right;\n",
       "    }\n",
       "</style>\n",
       "<table border=\"1\" class=\"dataframe\">\n",
       "  <thead>\n",
       "    <tr style=\"text-align: right;\">\n",
       "      <th></th>\n",
       "      <th>0</th>\n",
       "    </tr>\n",
       "  </thead>\n",
       "  <tbody>\n",
       "    <tr>\n",
       "      <th>summary</th>\n",
       "      <td>15</td>\n",
       "    </tr>\n",
       "    <tr>\n",
       "      <th>education3</th>\n",
       "      <td>12</td>\n",
       "    </tr>\n",
       "    <tr>\n",
       "      <th>education2</th>\n",
       "      <td>6</td>\n",
       "    </tr>\n",
       "    <tr>\n",
       "      <th>geoLocationName</th>\n",
       "      <td>4</td>\n",
       "    </tr>\n",
       "    <tr>\n",
       "      <th>experience5</th>\n",
       "      <td>3</td>\n",
       "    </tr>\n",
       "    <tr>\n",
       "      <th>experience4</th>\n",
       "      <td>2</td>\n",
       "    </tr>\n",
       "    <tr>\n",
       "      <th>geoCountryName</th>\n",
       "      <td>2</td>\n",
       "    </tr>\n",
       "    <tr>\n",
       "      <th>education1</th>\n",
       "      <td>1</td>\n",
       "    </tr>\n",
       "    <tr>\n",
       "      <th>honors_stated</th>\n",
       "      <td>0</td>\n",
       "    </tr>\n",
       "    <tr>\n",
       "      <th>languages_over2</th>\n",
       "      <td>0</td>\n",
       "    </tr>\n",
       "    <tr>\n",
       "      <th>ind_id</th>\n",
       "      <td>0</td>\n",
       "    </tr>\n",
       "    <tr>\n",
       "      <th>publications_stated</th>\n",
       "      <td>0</td>\n",
       "    </tr>\n",
       "    <tr>\n",
       "      <th>projects_stated</th>\n",
       "      <td>0</td>\n",
       "    </tr>\n",
       "    <tr>\n",
       "      <th>certifications_stated</th>\n",
       "      <td>0</td>\n",
       "    </tr>\n",
       "    <tr>\n",
       "      <th>languages_stated</th>\n",
       "      <td>0</td>\n",
       "    </tr>\n",
       "  </tbody>\n",
       "</table>\n",
       "</div>"
      ],
      "text/plain": [
       "                        0\n",
       "summary                15\n",
       "education3             12\n",
       "education2              6\n",
       "geoLocationName         4\n",
       "experience5             3\n",
       "experience4             2\n",
       "geoCountryName          2\n",
       "education1              1\n",
       "honors_stated           0\n",
       "languages_over2         0\n",
       "ind_id                  0\n",
       "publications_stated     0\n",
       "projects_stated         0\n",
       "certifications_stated   0\n",
       "languages_stated        0"
      ]
     },
     "execution_count": 5,
     "metadata": {},
     "output_type": "execute_result"
    }
   ],
   "source": [
    "# We may want to drop the columns with too many missing values.\n",
    "pd.DataFrame(people.isna().sum().sort_values(ascending=False)).head(15)"
   ]
  },
  {
   "cell_type": "code",
   "execution_count": 6,
   "metadata": {},
   "outputs": [
    {
     "data": {
      "text/plain": [
       "ind_id                    int64\n",
       "consulting_roles          int64\n",
       "languages_stated          int64\n",
       "certifications_stated     int64\n",
       "projects_stated           int64\n",
       "volunteer_stated          int64\n",
       "publications_stated       int64\n",
       "honors_stated             int64\n",
       "languages_over2           int64\n",
       "direction_roles           int64\n",
       "founding_roles            int64\n",
       "volunteer                object\n",
       "geoCountryName           object\n",
       "geoLocationName          object\n",
       "summary                  object\n",
       "industryName             object\n",
       "headline                 object\n",
       "experience               object\n",
       "education                object\n",
       "languages                object\n",
       "certifications           object\n",
       "education3               object\n",
       "education1               object\n",
       "experience5              object\n",
       "experience4              object\n",
       "experience3              object\n",
       "publications             object\n",
       "experience1              object\n",
       "projects                 object\n",
       "honors                   object\n",
       "education2               object\n",
       "experience2              object\n",
       "dtype: object"
      ]
     },
     "execution_count": 6,
     "metadata": {},
     "output_type": "execute_result"
    }
   ],
   "source": [
    "# and/or drop text columns \n",
    "people.dtypes.sort_values()"
   ]
  },
  {
   "cell_type": "code",
   "execution_count": 7,
   "metadata": {},
   "outputs": [],
   "source": [
    "people.to_csv(\"sql/people.csv\", sep=\";\", index=False)"
   ]
  },
  {
   "cell_type": "code",
   "execution_count": 81,
   "metadata": {},
   "outputs": [
    {
     "data": {
      "text/plain": [
       "47"
      ]
     },
     "execution_count": 81,
     "metadata": {},
     "output_type": "execute_result"
    }
   ],
   "source": [
    "# for now we are keeping it as is\n",
    "people.to_sql('people', engine, 'civictech', if_exists='replace', index=False)"
   ]
  },
  {
   "attachments": {},
   "cell_type": "markdown",
   "metadata": {},
   "source": [
    "### Experience"
   ]
  },
  {
   "cell_type": "code",
   "execution_count": 9,
   "metadata": {},
   "outputs": [],
   "source": [
    "experience=pd.read_csv('profiles/people_experience_db.csv', sep=';')"
   ]
  },
  {
   "cell_type": "code",
   "execution_count": 10,
   "metadata": {},
   "outputs": [
    {
     "name": "stdout",
     "output_type": "stream",
     "text": [
      "['index', 'ind_id', 'locationName', 'companyName', 'description', 'title', 'startDate_month', 'startDate_year', 'endDate_month', 'endDate_year', 'industry', 'company_empl_low', 'company_empl_high', 'title_direction', 'titleconsulting', 'titlefounder']\n",
      "16\n",
      "235\n"
     ]
    }
   ],
   "source": [
    "print(list(experience.columns))\n",
    "print(len(list(experience.columns)))\n",
    "print(len(experience))"
   ]
  },
  {
   "cell_type": "code",
   "execution_count": 11,
   "metadata": {},
   "outputs": [
    {
     "data": {
      "text/plain": [
       "locationName         62\n",
       "description          57\n",
       "industry             20\n",
       "companyName           5\n",
       "title                 5\n",
       "index                 0\n",
       "ind_id                0\n",
       "startDate_month       0\n",
       "startDate_year        0\n",
       "endDate_month         0\n",
       "endDate_year          0\n",
       "company_empl_low      0\n",
       "company_empl_high     0\n",
       "title_direction       0\n",
       "titleconsulting       0\n",
       "titlefounder          0\n",
       "dtype: int64"
      ]
     },
     "execution_count": 11,
     "metadata": {},
     "output_type": "execute_result"
    }
   ],
   "source": [
    "experience.isna().sum().sort_values(ascending=False)"
   ]
  },
  {
   "cell_type": "code",
   "execution_count": 12,
   "metadata": {},
   "outputs": [
    {
     "data": {
      "text/plain": [
       "locationName         62\n",
       "description          57\n",
       "industry             20\n",
       "companyName           5\n",
       "title                 5\n",
       "index                 0\n",
       "ind_id                0\n",
       "startDate_month       0\n",
       "startDate_year        0\n",
       "endDate_month         0\n",
       "endDate_year          0\n",
       "company_empl_low      0\n",
       "company_empl_high     0\n",
       "title_direction       0\n",
       "titleconsulting       0\n",
       "titlefounder          0\n",
       "dtype: int64"
      ]
     },
     "execution_count": 12,
     "metadata": {},
     "output_type": "execute_result"
    }
   ],
   "source": [
    "experience.isna().sum().sort_values(ascending=False)"
   ]
  },
  {
   "cell_type": "code",
   "execution_count": 13,
   "metadata": {},
   "outputs": [],
   "source": [
    "experience['startDate_year'] = experience['startDate_year'].fillna(0)\n",
    "experience['startDate_month'] = experience['startDate_month'].fillna(0)\n",
    "experience['endDate_year'] = experience['endDate_year'].fillna(0)\n",
    "experience['endDate_month'] = experience['endDate_month'].fillna(0)\n",
    "experience['company_empl_low'] = experience['company_empl_low'].fillna(999)\n",
    "experience['company_empl_high'] = experience['company_empl_high'].fillna(999)"
   ]
  },
  {
   "cell_type": "code",
   "execution_count": 14,
   "metadata": {},
   "outputs": [],
   "source": [
    "experience['startDate_year'] = experience['startDate_year'].astype(int)\n",
    "experience['startDate_month'] = experience['startDate_month'].astype(int)\n",
    "experience['endDate_year'] = experience['endDate_year'].astype(int)\n",
    "experience['endDate_month'] = experience['endDate_month'].astype(int)\n",
    "experience['company_empl_low'] = experience['company_empl_low'].astype(int)\n",
    "experience['company_empl_high'] = experience['company_empl_high'].astype(int)"
   ]
  },
  {
   "cell_type": "code",
   "execution_count": 15,
   "metadata": {},
   "outputs": [
    {
     "data": {
      "text/plain": [
       "\"['Management Consulting']\""
      ]
     },
     "execution_count": 15,
     "metadata": {},
     "output_type": "execute_result"
    }
   ],
   "source": [
    "experience.industry[1]"
   ]
  },
  {
   "cell_type": "code",
   "execution_count": 16,
   "metadata": {},
   "outputs": [],
   "source": [
    "import re\n",
    "def clean_industry(x):\n",
    "    x=str(x)\n",
    "    pattern = \"[a-zA-Z]+ [a-zA-Z]+|[a-zA-Z]+\"\n",
    "    a= re.findall(pattern, x)\n",
    "    a= ' '.join(a)\n",
    "    #a= a[1:-1]\n",
    "    return a"
   ]
  },
  {
   "cell_type": "code",
   "execution_count": 17,
   "metadata": {},
   "outputs": [
    {
     "name": "stdout",
     "output_type": "stream",
     "text": [
      "['Management Consulting', 'Management Consulting', 'Management Consulting', 'Management Consulting', 'Management Consulting', 'Venture Capital Private Equity', 'Venture Capital Private Equity', 'Venture Capital Private Equity', 'Venture Capital Private Equity', 'Venture Capital Private Equity', 'Nonprofit Organization Management', 'Nonprofit Organization Management', 'Nonprofit Organization Management', 'Nonprofit Organization Management', 'Nonprofit Organization Management', 'nan', 'nan', 'nan', 'nan', 'nan', 'Computer Software', 'Computer Software', 'Computer Software', 'Computer Software', 'Computer Software', 'Internet', 'Internet', 'Internet', 'Internet', 'Internet', 'Information Technology and Services', 'Information Technology and Services', 'Information Technology and Services', 'Information Technology and Services', 'Information Technology and Services', 'Civic Social Organization', 'Civic Social Organization', 'Civic Social Organization', 'Civic Social Organization', 'Civic Social Organization', 'Management Consulting', 'Management Consulting', 'Management Consulting', 'Management Consulting', 'Management Consulting', 'Civic Social Organization', 'Civic Social Organization', 'Civic Social Organization', 'Civic Social Organization', 'Civic Social Organization', 'Graphic Design', 'Graphic Design', 'Graphic Design', 'Graphic Design', 'Graphic Design', 'Higher Education', 'Higher Education', 'Higher Education', 'Higher Education', 'Higher Education', 'Computer Software', 'Computer Software', 'Computer Software', 'Computer Software', 'Computer Software', 'Computer Software', 'Computer Software', 'Computer Software', 'Computer Software', 'Computer Software', 'Computer Software', 'Computer Software', 'Computer Software', 'Computer Software', 'Computer Software', 'Information Technology and Services', 'Information Technology and Services', 'Information Technology and Services', 'Information Technology and Services', 'Information Technology and Services', 'Computer Software', 'Computer Software', 'Computer Software', 'Computer Software', 'Computer Software', 'Computer Software', 'Computer Software', 'Computer Software', 'Computer Software', 'Computer Software', 'Computer Software', 'Computer Software', 'Computer Software', 'Computer Software', 'Computer Software', 'Management Consulting', 'Management Consulting', 'Management Consulting', 'Management Consulting', 'Management Consulting', 'Information Technology and Services', 'Information Technology and Services', 'Information Technology and Services', 'Information Technology and Services', 'Information Technology and Services', 'Information Technology and Services', 'Information Technology and Services', 'Information Technology and Services', 'Information Technology and Services', 'Information Technology and Services', 'Management Consulting', 'Management Consulting', 'Management Consulting', 'Management Consulting', 'Management Consulting', 'Computer Software', 'Computer Software', 'Computer Software', 'Computer Software', 'Computer Software', 'Civic Social Organization', 'Civic Social Organization', 'Civic Social Organization', 'Civic Social Organization', 'Civic Social Organization', 'Higher Education', 'Higher Education', 'Higher Education', 'Higher Education', 'Higher Education', 'Civic Social Organization', 'Civic Social Organization', 'Civic Social Organization', 'Civic Social Organization', 'Civic Social Organization', 'nan', 'nan', 'nan', 'nan', 'nan', 'Higher Education', 'Higher Education', 'Higher Education', 'Higher Education', 'Higher Education', 'Information Technology and Services', 'Information Technology and Services', 'Information Technology and Services', 'Information Technology and Services', 'Information Technology and Services', 'Information Technology and Services', 'Information Technology and Services', 'Information Technology and Services', 'Information Technology and Services', 'Information Technology and Services', 'nan', 'nan', 'nan', 'nan', 'nan', 'Civic Social Organization', 'Civic Social Organization', 'Civic Social Organization', 'Civic Social Organization', 'Civic Social Organization', 'nan', 'nan', 'nan', 'nan', 'nan', 'Performing Arts', 'Performing Arts', 'Performing Arts', 'Performing Arts', 'Performing Arts', 'Internet', 'Internet', 'Internet', 'Internet', 'Internet', 'Information Technology and Services', 'Information Technology and Services', 'Information Technology and Services', 'Information Technology and Services', 'Information Technology and Services', 'Computer Software', 'Computer Software', 'Computer Software', 'Computer Software', 'Computer Software', 'Marketing and Advertising', 'Marketing and Advertising', 'Marketing and Advertising', 'Marketing and Advertising', 'Marketing and Advertising', 'Civic Social Organization', 'Civic Social Organization', 'Civic Social Organization', 'Civic Social Organization', 'Civic Social Organization', 'Computer Software', 'Computer Software', 'Computer Software', 'Computer Software', 'Computer Software', 'Civic Social Organization', 'Civic Social Organization', 'Civic Social Organization', 'Civic Social Organization', 'Civic Social Organization', 'Computer Software', 'Computer Software', 'Computer Software', 'Computer Software', 'Computer Software', 'Information Technology and Services', 'Information Technology and Services', 'Information Technology and Services', 'Information Technology and Services', 'Information Technology and Services', 'Information Technology and Services', 'Information Technology and Services', 'Information Technology and Services', 'Information Technology and Services', 'Information Technology and Services', 'Higher Education', 'Higher Education', 'Higher Education', 'Higher Education', 'Higher Education', 'Research', 'Research', 'Research', 'Research', 'Research']\n"
     ]
    }
   ],
   "source": [
    "print(list(experience['industry'].apply(clean_industry)))"
   ]
  },
  {
   "cell_type": "code",
   "execution_count": 18,
   "metadata": {},
   "outputs": [],
   "source": [
    "experience['industry']= experience['industry'].apply(clean_industry)"
   ]
  },
  {
   "cell_type": "code",
   "execution_count": 19,
   "metadata": {},
   "outputs": [
    {
     "data": {
      "text/plain": [
       "Computer Software                      55\n",
       "Information Technology and Services    45\n",
       "Civic Social Organization              35\n",
       "Management Consulting                  20\n",
       "nan                                    20\n",
       "Higher Education                       20\n",
       "Internet                               10\n",
       "Venture Capital Private Equity          5\n",
       "Nonprofit Organization Management       5\n",
       "Graphic Design                          5\n",
       "Performing Arts                         5\n",
       "Marketing and Advertising               5\n",
       "Research                                5\n",
       "Name: industry, dtype: int64"
      ]
     },
     "execution_count": 19,
     "metadata": {},
     "output_type": "execute_result"
    }
   ],
   "source": [
    "experience['industry'].value_counts()"
   ]
  },
  {
   "cell_type": "code",
   "execution_count": 20,
   "metadata": {},
   "outputs": [
    {
     "data": {
      "text/html": [
       "<div>\n",
       "<style scoped>\n",
       "    .dataframe tbody tr th:only-of-type {\n",
       "        vertical-align: middle;\n",
       "    }\n",
       "\n",
       "    .dataframe tbody tr th {\n",
       "        vertical-align: top;\n",
       "    }\n",
       "\n",
       "    .dataframe thead th {\n",
       "        text-align: right;\n",
       "    }\n",
       "</style>\n",
       "<table border=\"1\" class=\"dataframe\">\n",
       "  <thead>\n",
       "    <tr style=\"text-align: right;\">\n",
       "      <th></th>\n",
       "      <th>ind_id</th>\n",
       "      <th>locationName</th>\n",
       "      <th>companyName</th>\n",
       "      <th>description</th>\n",
       "      <th>title</th>\n",
       "      <th>startDate_month</th>\n",
       "      <th>startDate_year</th>\n",
       "      <th>endDate_month</th>\n",
       "      <th>endDate_year</th>\n",
       "      <th>industry</th>\n",
       "      <th>company_empl_low</th>\n",
       "      <th>company_empl_high</th>\n",
       "      <th>title_direction</th>\n",
       "      <th>titleconsulting</th>\n",
       "      <th>titlefounder</th>\n",
       "    </tr>\n",
       "  </thead>\n",
       "  <tbody>\n",
       "    <tr>\n",
       "      <th>0</th>\n",
       "      <td>0</td>\n",
       "      <td>Paris Metropolitan Region</td>\n",
       "      <td>bluenove</td>\n",
       "      <td>Bluenove accompagne la transformation positive...</td>\n",
       "      <td>Directeur associé</td>\n",
       "      <td>11</td>\n",
       "      <td>2017</td>\n",
       "      <td>0</td>\n",
       "      <td>0</td>\n",
       "      <td>Management Consulting</td>\n",
       "      <td>11</td>\n",
       "      <td>50</td>\n",
       "      <td>1</td>\n",
       "      <td>0</td>\n",
       "      <td>0</td>\n",
       "    </tr>\n",
       "    <tr>\n",
       "      <th>1</th>\n",
       "      <td>0</td>\n",
       "      <td>Paris Metropolitan Region</td>\n",
       "      <td>démocratie ouverte</td>\n",
       "      <td>Démocratie Ouverte est un collectif citoyen in...</td>\n",
       "      <td>Co-Président</td>\n",
       "      <td>1</td>\n",
       "      <td>2018</td>\n",
       "      <td>5</td>\n",
       "      <td>2020</td>\n",
       "      <td>Management Consulting</td>\n",
       "      <td>11</td>\n",
       "      <td>50</td>\n",
       "      <td>1</td>\n",
       "      <td>0</td>\n",
       "      <td>0</td>\n",
       "    </tr>\n",
       "    <tr>\n",
       "      <th>2</th>\n",
       "      <td>0</td>\n",
       "      <td>Paris Metropolitan Region</td>\n",
       "      <td>apm - association progrès du management</td>\n",
       "      <td>NaN</td>\n",
       "      <td>Expert</td>\n",
       "      <td>1</td>\n",
       "      <td>2017</td>\n",
       "      <td>0</td>\n",
       "      <td>0</td>\n",
       "      <td>Management Consulting</td>\n",
       "      <td>11</td>\n",
       "      <td>50</td>\n",
       "      <td>0</td>\n",
       "      <td>0</td>\n",
       "      <td>0</td>\n",
       "    </tr>\n",
       "    <tr>\n",
       "      <th>3</th>\n",
       "      <td>0</td>\n",
       "      <td>NaN</td>\n",
       "      <td>démocratie ouverte</td>\n",
       "      <td>NaN</td>\n",
       "      <td>Membre du Comité d'Orientation Stratégique</td>\n",
       "      <td>7</td>\n",
       "      <td>2021</td>\n",
       "      <td>0</td>\n",
       "      <td>0</td>\n",
       "      <td>Management Consulting</td>\n",
       "      <td>11</td>\n",
       "      <td>50</td>\n",
       "      <td>0</td>\n",
       "      <td>0</td>\n",
       "      <td>0</td>\n",
       "    </tr>\n",
       "    <tr>\n",
       "      <th>4</th>\n",
       "      <td>0</td>\n",
       "      <td>Paris Metropolitan Region</td>\n",
       "      <td>dassault systèmes</td>\n",
       "      <td>Netvibes provides Dashboard Intelligence ~ tra...</td>\n",
       "      <td>Senior Director, Strategic Business Development</td>\n",
       "      <td>2</td>\n",
       "      <td>2013</td>\n",
       "      <td>10</td>\n",
       "      <td>2017</td>\n",
       "      <td>Management Consulting</td>\n",
       "      <td>11</td>\n",
       "      <td>50</td>\n",
       "      <td>1</td>\n",
       "      <td>0</td>\n",
       "      <td>0</td>\n",
       "    </tr>\n",
       "  </tbody>\n",
       "</table>\n",
       "</div>"
      ],
      "text/plain": [
       "   ind_id               locationName                              companyName  \\\n",
       "0       0  Paris Metropolitan Region                                 bluenove   \n",
       "1       0  Paris Metropolitan Region                       démocratie ouverte   \n",
       "2       0  Paris Metropolitan Region  apm - association progrès du management   \n",
       "3       0                        NaN                       démocratie ouverte   \n",
       "4       0  Paris Metropolitan Region                        dassault systèmes   \n",
       "\n",
       "                                         description  \\\n",
       "0  Bluenove accompagne la transformation positive...   \n",
       "1  Démocratie Ouverte est un collectif citoyen in...   \n",
       "2                                                NaN   \n",
       "3                                                NaN   \n",
       "4  Netvibes provides Dashboard Intelligence ~ tra...   \n",
       "\n",
       "                                              title  startDate_month  \\\n",
       "0                                 Directeur associé               11   \n",
       "1                                      Co-Président                1   \n",
       "2                                            Expert                1   \n",
       "3        Membre du Comité d'Orientation Stratégique                7   \n",
       "4  Senior Director, Strategic Business Development                 2   \n",
       "\n",
       "   startDate_year  endDate_month  endDate_year               industry  \\\n",
       "0            2017              0             0  Management Consulting   \n",
       "1            2018              5          2020  Management Consulting   \n",
       "2            2017              0             0  Management Consulting   \n",
       "3            2021              0             0  Management Consulting   \n",
       "4            2013             10          2017  Management Consulting   \n",
       "\n",
       "   company_empl_low  company_empl_high  title_direction  titleconsulting  \\\n",
       "0                11                 50                1                0   \n",
       "1                11                 50                1                0   \n",
       "2                11                 50                0                0   \n",
       "3                11                 50                0                0   \n",
       "4                11                 50                1                0   \n",
       "\n",
       "   titlefounder  \n",
       "0             0  \n",
       "1             0  \n",
       "2             0  \n",
       "3             0  \n",
       "4             0  "
      ]
     },
     "execution_count": 20,
     "metadata": {},
     "output_type": "execute_result"
    }
   ],
   "source": [
    "experience.drop(columns='index', inplace=True)\n",
    "experience.head()"
   ]
  },
  {
   "cell_type": "code",
   "execution_count": 21,
   "metadata": {},
   "outputs": [],
   "source": [
    "experience.reset_index(inplace=True)"
   ]
  },
  {
   "cell_type": "code",
   "execution_count": 22,
   "metadata": {},
   "outputs": [],
   "source": [
    "experience.rename(columns={\"index\":\"exp_id\"}, inplace=True)"
   ]
  },
  {
   "cell_type": "code",
   "execution_count": 23,
   "metadata": {},
   "outputs": [
    {
     "data": {
      "text/plain": [
       "exp_id                int64\n",
       "ind_id                int64\n",
       "locationName         object\n",
       "companyName          object\n",
       "description          object\n",
       "title                object\n",
       "startDate_month       int64\n",
       "startDate_year        int64\n",
       "endDate_month         int64\n",
       "endDate_year          int64\n",
       "industry             object\n",
       "company_empl_low      int64\n",
       "company_empl_high     int64\n",
       "title_direction       int64\n",
       "titleconsulting       int64\n",
       "titlefounder          int64\n",
       "dtype: object"
      ]
     },
     "execution_count": 23,
     "metadata": {},
     "output_type": "execute_result"
    }
   ],
   "source": [
    "experience.dtypes"
   ]
  },
  {
   "cell_type": "code",
   "execution_count": 24,
   "metadata": {},
   "outputs": [
    {
     "data": {
      "text/plain": [
       "Index(['exp_id', 'ind_id', 'locationName', 'companyName', 'description',\n",
       "       'title', 'startDate_month', 'startDate_year', 'endDate_month',\n",
       "       'endDate_year', 'industry', 'company_empl_low', 'company_empl_high',\n",
       "       'title_direction', 'titleconsulting', 'titlefounder'],\n",
       "      dtype='object')"
      ]
     },
     "execution_count": 24,
     "metadata": {},
     "output_type": "execute_result"
    }
   ],
   "source": [
    "experience.columns"
   ]
  },
  {
   "cell_type": "code",
   "execution_count": 25,
   "metadata": {},
   "outputs": [
    {
     "data": {
      "text/html": [
       "<div>\n",
       "<style scoped>\n",
       "    .dataframe tbody tr th:only-of-type {\n",
       "        vertical-align: middle;\n",
       "    }\n",
       "\n",
       "    .dataframe tbody tr th {\n",
       "        vertical-align: top;\n",
       "    }\n",
       "\n",
       "    .dataframe thead th {\n",
       "        text-align: right;\n",
       "    }\n",
       "</style>\n",
       "<table border=\"1\" class=\"dataframe\">\n",
       "  <thead>\n",
       "    <tr style=\"text-align: right;\">\n",
       "      <th></th>\n",
       "      <th>exp_id</th>\n",
       "      <th>ind_id</th>\n",
       "      <th>locationName</th>\n",
       "      <th>companyName</th>\n",
       "      <th>description</th>\n",
       "      <th>title</th>\n",
       "      <th>startDate_month</th>\n",
       "      <th>startDate_year</th>\n",
       "      <th>endDate_month</th>\n",
       "      <th>endDate_year</th>\n",
       "      <th>industry</th>\n",
       "      <th>company_empl_low</th>\n",
       "      <th>company_empl_high</th>\n",
       "      <th>title_direction</th>\n",
       "      <th>titleconsulting</th>\n",
       "      <th>titlefounder</th>\n",
       "    </tr>\n",
       "  </thead>\n",
       "  <tbody>\n",
       "    <tr>\n",
       "      <th>0</th>\n",
       "      <td>0</td>\n",
       "      <td>0</td>\n",
       "      <td>Paris Metropolitan Region</td>\n",
       "      <td>bluenove</td>\n",
       "      <td>Bluenove accompagne la transformation positive...</td>\n",
       "      <td>Directeur associé</td>\n",
       "      <td>11</td>\n",
       "      <td>2017</td>\n",
       "      <td>0</td>\n",
       "      <td>0</td>\n",
       "      <td>Management Consulting</td>\n",
       "      <td>11</td>\n",
       "      <td>50</td>\n",
       "      <td>1</td>\n",
       "      <td>0</td>\n",
       "      <td>0</td>\n",
       "    </tr>\n",
       "    <tr>\n",
       "      <th>1</th>\n",
       "      <td>1</td>\n",
       "      <td>0</td>\n",
       "      <td>Paris Metropolitan Region</td>\n",
       "      <td>démocratie ouverte</td>\n",
       "      <td>Démocratie Ouverte est un collectif citoyen in...</td>\n",
       "      <td>Co-Président</td>\n",
       "      <td>1</td>\n",
       "      <td>2018</td>\n",
       "      <td>5</td>\n",
       "      <td>2020</td>\n",
       "      <td>Management Consulting</td>\n",
       "      <td>11</td>\n",
       "      <td>50</td>\n",
       "      <td>1</td>\n",
       "      <td>0</td>\n",
       "      <td>0</td>\n",
       "    </tr>\n",
       "    <tr>\n",
       "      <th>2</th>\n",
       "      <td>2</td>\n",
       "      <td>0</td>\n",
       "      <td>Paris Metropolitan Region</td>\n",
       "      <td>apm - association progrès du management</td>\n",
       "      <td>NaN</td>\n",
       "      <td>Expert</td>\n",
       "      <td>1</td>\n",
       "      <td>2017</td>\n",
       "      <td>0</td>\n",
       "      <td>0</td>\n",
       "      <td>Management Consulting</td>\n",
       "      <td>11</td>\n",
       "      <td>50</td>\n",
       "      <td>0</td>\n",
       "      <td>0</td>\n",
       "      <td>0</td>\n",
       "    </tr>\n",
       "    <tr>\n",
       "      <th>3</th>\n",
       "      <td>3</td>\n",
       "      <td>0</td>\n",
       "      <td>NaN</td>\n",
       "      <td>démocratie ouverte</td>\n",
       "      <td>NaN</td>\n",
       "      <td>Membre du Comité d'Orientation Stratégique</td>\n",
       "      <td>7</td>\n",
       "      <td>2021</td>\n",
       "      <td>0</td>\n",
       "      <td>0</td>\n",
       "      <td>Management Consulting</td>\n",
       "      <td>11</td>\n",
       "      <td>50</td>\n",
       "      <td>0</td>\n",
       "      <td>0</td>\n",
       "      <td>0</td>\n",
       "    </tr>\n",
       "    <tr>\n",
       "      <th>4</th>\n",
       "      <td>4</td>\n",
       "      <td>0</td>\n",
       "      <td>Paris Metropolitan Region</td>\n",
       "      <td>dassault systèmes</td>\n",
       "      <td>Netvibes provides Dashboard Intelligence ~ tra...</td>\n",
       "      <td>Senior Director, Strategic Business Development</td>\n",
       "      <td>2</td>\n",
       "      <td>2013</td>\n",
       "      <td>10</td>\n",
       "      <td>2017</td>\n",
       "      <td>Management Consulting</td>\n",
       "      <td>11</td>\n",
       "      <td>50</td>\n",
       "      <td>1</td>\n",
       "      <td>0</td>\n",
       "      <td>0</td>\n",
       "    </tr>\n",
       "  </tbody>\n",
       "</table>\n",
       "</div>"
      ],
      "text/plain": [
       "   exp_id  ind_id               locationName  \\\n",
       "0       0       0  Paris Metropolitan Region   \n",
       "1       1       0  Paris Metropolitan Region   \n",
       "2       2       0  Paris Metropolitan Region   \n",
       "3       3       0                        NaN   \n",
       "4       4       0  Paris Metropolitan Region   \n",
       "\n",
       "                               companyName  \\\n",
       "0                                 bluenove   \n",
       "1                       démocratie ouverte   \n",
       "2  apm - association progrès du management   \n",
       "3                       démocratie ouverte   \n",
       "4                        dassault systèmes   \n",
       "\n",
       "                                         description  \\\n",
       "0  Bluenove accompagne la transformation positive...   \n",
       "1  Démocratie Ouverte est un collectif citoyen in...   \n",
       "2                                                NaN   \n",
       "3                                                NaN   \n",
       "4  Netvibes provides Dashboard Intelligence ~ tra...   \n",
       "\n",
       "                                              title  startDate_month  \\\n",
       "0                                 Directeur associé               11   \n",
       "1                                      Co-Président                1   \n",
       "2                                            Expert                1   \n",
       "3        Membre du Comité d'Orientation Stratégique                7   \n",
       "4  Senior Director, Strategic Business Development                 2   \n",
       "\n",
       "   startDate_year  endDate_month  endDate_year               industry  \\\n",
       "0            2017              0             0  Management Consulting   \n",
       "1            2018              5          2020  Management Consulting   \n",
       "2            2017              0             0  Management Consulting   \n",
       "3            2021              0             0  Management Consulting   \n",
       "4            2013             10          2017  Management Consulting   \n",
       "\n",
       "   company_empl_low  company_empl_high  title_direction  titleconsulting  \\\n",
       "0                11                 50                1                0   \n",
       "1                11                 50                1                0   \n",
       "2                11                 50                0                0   \n",
       "3                11                 50                0                0   \n",
       "4                11                 50                1                0   \n",
       "\n",
       "   titlefounder  \n",
       "0             0  \n",
       "1             0  \n",
       "2             0  \n",
       "3             0  \n",
       "4             0  "
      ]
     },
     "execution_count": 25,
     "metadata": {},
     "output_type": "execute_result"
    }
   ],
   "source": [
    "experience.head()"
   ]
  },
  {
   "cell_type": "code",
   "execution_count": 26,
   "metadata": {},
   "outputs": [],
   "source": [
    "experience.to_csv(\"sql/experience.csv\", sep=\";\", index=False)"
   ]
  },
  {
   "cell_type": "code",
   "execution_count": 27,
   "metadata": {},
   "outputs": [
    {
     "data": {
      "text/plain": [
       "Index(['exp_id', 'ind_id', 'locationName', 'companyName', 'description',\n",
       "       'title', 'startDate_month', 'startDate_year', 'endDate_month',\n",
       "       'endDate_year', 'industry', 'company_empl_low', 'company_empl_high',\n",
       "       'title_direction', 'titleconsulting', 'titlefounder'],\n",
       "      dtype='object')"
      ]
     },
     "execution_count": 27,
     "metadata": {},
     "output_type": "execute_result"
    }
   ],
   "source": [
    "experience.columns"
   ]
  },
  {
   "cell_type": "code",
   "execution_count": 28,
   "metadata": {},
   "outputs": [
    {
     "data": {
      "text/plain": [
       "235"
      ]
     },
     "execution_count": 28,
     "metadata": {},
     "output_type": "execute_result"
    }
   ],
   "source": [
    "\n",
    "experience.to_sql('people_experience',engine, 'civictech', if_exists='replace', index=False)# dtype={'locationName': string, 'companyName':'VARCHAR(500)', 'description':'VARCHAR(600)', 'title': 'VARCHAR(700)', 'industry':'VARCHAR(500)'})\n"
   ]
  },
  {
   "attachments": {},
   "cell_type": "markdown",
   "metadata": {},
   "source": [
    "### Education"
   ]
  },
  {
   "cell_type": "code",
   "execution_count": 29,
   "metadata": {},
   "outputs": [],
   "source": [
    "education=pd.read_csv('profiles/people_education_db.csv', sep=';')"
   ]
  },
  {
   "cell_type": "code",
   "execution_count": 30,
   "metadata": {},
   "outputs": [
    {
     "name": "stdout",
     "output_type": "stream",
     "text": [
      "['ind_id', 'school', 'degreeName', 'schoolName', 'fieldOfStudy', 'startDate_year']\n",
      "6\n",
      "141\n"
     ]
    }
   ],
   "source": [
    "print(list(education.columns))\n",
    "print(len(list(education.columns)))\n",
    "print(len(education))"
   ]
  },
  {
   "cell_type": "code",
   "execution_count": 31,
   "metadata": {},
   "outputs": [
    {
     "data": {
      "text/plain": [
       "fieldOfStudy      51\n",
       "school            46\n",
       "degreeName        44\n",
       "startDate_year    30\n",
       "schoolName        19\n",
       "ind_id             0\n",
       "dtype: int64"
      ]
     },
     "execution_count": 31,
     "metadata": {},
     "output_type": "execute_result"
    }
   ],
   "source": [
    "education.isna().sum().sort_values(ascending=False)"
   ]
  },
  {
   "cell_type": "code",
   "execution_count": 32,
   "metadata": {},
   "outputs": [
    {
     "data": {
      "text/plain": [
       "school             object\n",
       "degreeName         object\n",
       "schoolName         object\n",
       "fieldOfStudy       object\n",
       "startDate_year    float64\n",
       "ind_id              int64\n",
       "dtype: object"
      ]
     },
     "execution_count": 32,
     "metadata": {},
     "output_type": "execute_result"
    }
   ],
   "source": [
    "education.dtypes.sort_values(ascending=False)"
   ]
  },
  {
   "cell_type": "code",
   "execution_count": 33,
   "metadata": {},
   "outputs": [],
   "source": [
    "education.startDate_year.value_counts(dropna=False)\n",
    "education['startDate_year'] = education['startDate_year'].fillna(0)"
   ]
  },
  {
   "cell_type": "code",
   "execution_count": 34,
   "metadata": {},
   "outputs": [],
   "source": [
    "education['startDate_year']= education['startDate_year'].astype(int)"
   ]
  },
  {
   "cell_type": "code",
   "execution_count": 35,
   "metadata": {},
   "outputs": [],
   "source": [
    "education.to_csv(\"sql/education_2.csv\", sep=\";\", index=False)"
   ]
  },
  {
   "cell_type": "code",
   "execution_count": 36,
   "metadata": {},
   "outputs": [
    {
     "data": {
      "text/plain": [
       "141"
      ]
     },
     "execution_count": 36,
     "metadata": {},
     "output_type": "execute_result"
    }
   ],
   "source": [
    "education.to_sql('people_education', engine, 'civictech', if_exists='replace', index=False)"
   ]
  },
  {
   "attachments": {},
   "cell_type": "markdown",
   "metadata": {},
   "source": [
    "# Organizations"
   ]
  },
  {
   "attachments": {},
   "cell_type": "markdown",
   "metadata": {},
   "source": [
    "## Companies finance data"
   ]
  },
  {
   "cell_type": "code",
   "execution_count": 37,
   "metadata": {},
   "outputs": [],
   "source": [
    "companies_finance=pd.read_csv('organizations/companies_finance_data.csv', sep=';') # possible index drop"
   ]
  },
  {
   "cell_type": "code",
   "execution_count": 38,
   "metadata": {},
   "outputs": [
    {
     "data": {
      "text/html": [
       "<div>\n",
       "<style scoped>\n",
       "    .dataframe tbody tr th:only-of-type {\n",
       "        vertical-align: middle;\n",
       "    }\n",
       "\n",
       "    .dataframe tbody tr th {\n",
       "        vertical-align: top;\n",
       "    }\n",
       "\n",
       "    .dataframe thead th {\n",
       "        text-align: right;\n",
       "    }\n",
       "</style>\n",
       "<table border=\"1\" class=\"dataframe\">\n",
       "  <thead>\n",
       "    <tr style=\"text-align: right;\">\n",
       "      <th></th>\n",
       "      <th>company</th>\n",
       "      <th>annee</th>\n",
       "      <th>chiffre_daffaires_e</th>\n",
       "      <th>marge_brute_e</th>\n",
       "      <th>resultat_dexploitation_e</th>\n",
       "      <th>resultat_net_e</th>\n",
       "      <th>taux_croissance_ca_pc</th>\n",
       "      <th>taux_marge_brute_pc</th>\n",
       "      <th>taux_marge_operationnelle_pc</th>\n",
       "      <th>gestion_bfr</th>\n",
       "      <th>...</th>\n",
       "      <th>marge_nette_pc</th>\n",
       "      <th>rentabilite_sur_fonds_propres_pc</th>\n",
       "      <th>rentabilite_economique_pc</th>\n",
       "      <th>valeur_ajoutee_e</th>\n",
       "      <th>valeur_ajoutee_sur_ca_pc</th>\n",
       "      <th>structure_dactivite</th>\n",
       "      <th>salaires_et_charges_sociales_e</th>\n",
       "      <th>salaires_sur_ca_pc</th>\n",
       "      <th>impots_et_taxes_e</th>\n",
       "      <th>chiffre_daffaires_a_lexport_e</th>\n",
       "    </tr>\n",
       "  </thead>\n",
       "  <tbody>\n",
       "    <tr>\n",
       "      <th>0</th>\n",
       "      <td>citility</td>\n",
       "      <td>2017.0</td>\n",
       "      <td>0.0</td>\n",
       "      <td>0</td>\n",
       "      <td>0</td>\n",
       "      <td>-562000</td>\n",
       "      <td>0</td>\n",
       "      <td>0</td>\n",
       "      <td>0</td>\n",
       "      <td>2017.0</td>\n",
       "      <td>...</td>\n",
       "      <td>0</td>\n",
       "      <td>0</td>\n",
       "      <td>0</td>\n",
       "      <td>0</td>\n",
       "      <td>0</td>\n",
       "      <td>2017.0</td>\n",
       "      <td>0</td>\n",
       "      <td>0</td>\n",
       "      <td>0</td>\n",
       "      <td>0</td>\n",
       "    </tr>\n",
       "    <tr>\n",
       "      <th>1</th>\n",
       "      <td>citility</td>\n",
       "      <td>2016.0</td>\n",
       "      <td>30700.0</td>\n",
       "      <td>527000</td>\n",
       "      <td>-296000</td>\n",
       "      <td>-238000</td>\n",
       "      <td>4</td>\n",
       "      <td>1720</td>\n",
       "      <td>-965</td>\n",
       "      <td>2016.0</td>\n",
       "      <td>...</td>\n",
       "      <td>-775</td>\n",
       "      <td>-623</td>\n",
       "      <td>-173</td>\n",
       "      <td>351000</td>\n",
       "      <td>1140</td>\n",
       "      <td>2016.0</td>\n",
       "      <td>636000</td>\n",
       "      <td>2070</td>\n",
       "      <td>9160</td>\n",
       "      <td>0</td>\n",
       "    </tr>\n",
       "    <tr>\n",
       "      <th>2</th>\n",
       "      <td>voxcracy</td>\n",
       "      <td>2019.0</td>\n",
       "      <td>46300.0</td>\n",
       "      <td>46300</td>\n",
       "      <td>-38500</td>\n",
       "      <td>-39000</td>\n",
       "      <td>177</td>\n",
       "      <td>100</td>\n",
       "      <td>-833</td>\n",
       "      <td>2019.0</td>\n",
       "      <td>...</td>\n",
       "      <td>-842</td>\n",
       "      <td>-76</td>\n",
       "      <td>-63</td>\n",
       "      <td>2170</td>\n",
       "      <td>47</td>\n",
       "      <td>2019.0</td>\n",
       "      <td>33600</td>\n",
       "      <td>725</td>\n",
       "      <td>137</td>\n",
       "      <td>0</td>\n",
       "    </tr>\n",
       "    <tr>\n",
       "      <th>3</th>\n",
       "      <td>voxcracy</td>\n",
       "      <td>2018.0</td>\n",
       "      <td>16700.0</td>\n",
       "      <td>157000</td>\n",
       "      <td>-130000</td>\n",
       "      <td>-112000</td>\n",
       "      <td>861</td>\n",
       "      <td>940</td>\n",
       "      <td>-776</td>\n",
       "      <td>2018.0</td>\n",
       "      <td>...</td>\n",
       "      <td>-668</td>\n",
       "      <td>-202</td>\n",
       "      <td>-169</td>\n",
       "      <td>-21000</td>\n",
       "      <td>-126</td>\n",
       "      <td>2018.0</td>\n",
       "      <td>101000</td>\n",
       "      <td>602</td>\n",
       "      <td>1120</td>\n",
       "      <td>5000</td>\n",
       "    </tr>\n",
       "    <tr>\n",
       "      <th>4</th>\n",
       "      <td>voxcracy</td>\n",
       "      <td>2017.0</td>\n",
       "      <td>1740.0</td>\n",
       "      <td>75900</td>\n",
       "      <td>-30300</td>\n",
       "      <td>-23400</td>\n",
       "      <td>0</td>\n",
       "      <td>4360</td>\n",
       "      <td>-1740</td>\n",
       "      <td>2017.0</td>\n",
       "      <td>...</td>\n",
       "      <td>-1350</td>\n",
       "      <td>-41</td>\n",
       "      <td>-39</td>\n",
       "      <td>-5040</td>\n",
       "      <td>-290</td>\n",
       "      <td>2017.0</td>\n",
       "      <td>19100</td>\n",
       "      <td>1100</td>\n",
       "      <td>329</td>\n",
       "      <td>0</td>\n",
       "    </tr>\n",
       "  </tbody>\n",
       "</table>\n",
       "<p>5 rows × 46 columns</p>\n",
       "</div>"
      ],
      "text/plain": [
       "    company   annee  chiffre_daffaires_e  marge_brute_e  \\\n",
       "0  citility  2017.0                  0.0              0   \n",
       "1  citility  2016.0              30700.0         527000   \n",
       "2  voxcracy  2019.0              46300.0          46300   \n",
       "3  voxcracy  2018.0              16700.0         157000   \n",
       "4  voxcracy  2017.0               1740.0          75900   \n",
       "\n",
       "   resultat_dexploitation_e  resultat_net_e  taux_croissance_ca_pc  \\\n",
       "0                         0         -562000                      0   \n",
       "1                   -296000         -238000                      4   \n",
       "2                    -38500          -39000                    177   \n",
       "3                   -130000         -112000                    861   \n",
       "4                    -30300          -23400                      0   \n",
       "\n",
       "   taux_marge_brute_pc  taux_marge_operationnelle_pc  gestion_bfr  ...  \\\n",
       "0                    0                             0       2017.0  ...   \n",
       "1                 1720                          -965       2016.0  ...   \n",
       "2                  100                          -833       2019.0  ...   \n",
       "3                  940                          -776       2018.0  ...   \n",
       "4                 4360                         -1740       2017.0  ...   \n",
       "\n",
       "   marge_nette_pc  rentabilite_sur_fonds_propres_pc  \\\n",
       "0               0                                 0   \n",
       "1            -775                              -623   \n",
       "2            -842                               -76   \n",
       "3            -668                              -202   \n",
       "4           -1350                               -41   \n",
       "\n",
       "   rentabilite_economique_pc  valeur_ajoutee_e  valeur_ajoutee_sur_ca_pc  \\\n",
       "0                          0                 0                         0   \n",
       "1                       -173            351000                      1140   \n",
       "2                        -63              2170                        47   \n",
       "3                       -169            -21000                      -126   \n",
       "4                        -39             -5040                      -290   \n",
       "\n",
       "   structure_dactivite  salaires_et_charges_sociales_e  salaires_sur_ca_pc  \\\n",
       "0               2017.0                               0                   0   \n",
       "1               2016.0                          636000                2070   \n",
       "2               2019.0                           33600                 725   \n",
       "3               2018.0                          101000                 602   \n",
       "4               2017.0                           19100                1100   \n",
       "\n",
       "   impots_et_taxes_e  chiffre_daffaires_a_lexport_e  \n",
       "0                  0                              0  \n",
       "1               9160                              0  \n",
       "2                137                              0  \n",
       "3               1120                           5000  \n",
       "4                329                              0  \n",
       "\n",
       "[5 rows x 46 columns]"
      ]
     },
     "execution_count": 38,
     "metadata": {},
     "output_type": "execute_result"
    }
   ],
   "source": [
    "companies_finance.head()"
   ]
  },
  {
   "cell_type": "code",
   "execution_count": 39,
   "metadata": {},
   "outputs": [],
   "source": [
    "companies_finance.drop(columns=['gestion_bfr', 'autonomie_financiere','solvabilite', 'rentabilite','structure_dactivite'], inplace=True)"
   ]
  },
  {
   "cell_type": "code",
   "execution_count": 40,
   "metadata": {},
   "outputs": [],
   "source": [
    "companies_finance.reset_index(inplace=True)"
   ]
  },
  {
   "cell_type": "code",
   "execution_count": 41,
   "metadata": {},
   "outputs": [],
   "source": [
    "companies_finance.rename(columns={\"index\": \"company_year_ide\"}, inplace=True)"
   ]
  },
  {
   "cell_type": "code",
   "execution_count": 42,
   "metadata": {},
   "outputs": [
    {
     "data": {
      "text/html": [
       "<div>\n",
       "<style scoped>\n",
       "    .dataframe tbody tr th:only-of-type {\n",
       "        vertical-align: middle;\n",
       "    }\n",
       "\n",
       "    .dataframe tbody tr th {\n",
       "        vertical-align: top;\n",
       "    }\n",
       "\n",
       "    .dataframe thead th {\n",
       "        text-align: right;\n",
       "    }\n",
       "</style>\n",
       "<table border=\"1\" class=\"dataframe\">\n",
       "  <thead>\n",
       "    <tr style=\"text-align: right;\">\n",
       "      <th></th>\n",
       "      <th>company_year_ide</th>\n",
       "      <th>company</th>\n",
       "      <th>annee</th>\n",
       "      <th>chiffre_daffaires_e</th>\n",
       "      <th>marge_brute_e</th>\n",
       "      <th>resultat_dexploitation_e</th>\n",
       "      <th>resultat_net_e</th>\n",
       "      <th>taux_croissance_ca_pc</th>\n",
       "      <th>taux_marge_brute_pc</th>\n",
       "      <th>taux_marge_operationnelle_pc</th>\n",
       "      <th>...</th>\n",
       "      <th>fonds_propres_e</th>\n",
       "      <th>marge_nette_pc</th>\n",
       "      <th>rentabilite_sur_fonds_propres_pc</th>\n",
       "      <th>rentabilite_economique_pc</th>\n",
       "      <th>valeur_ajoutee_e</th>\n",
       "      <th>valeur_ajoutee_sur_ca_pc</th>\n",
       "      <th>salaires_et_charges_sociales_e</th>\n",
       "      <th>salaires_sur_ca_pc</th>\n",
       "      <th>impots_et_taxes_e</th>\n",
       "      <th>chiffre_daffaires_a_lexport_e</th>\n",
       "    </tr>\n",
       "  </thead>\n",
       "  <tbody>\n",
       "    <tr>\n",
       "      <th>0</th>\n",
       "      <td>0</td>\n",
       "      <td>citility</td>\n",
       "      <td>2017.0</td>\n",
       "      <td>0.0</td>\n",
       "      <td>0</td>\n",
       "      <td>0</td>\n",
       "      <td>-562000</td>\n",
       "      <td>0</td>\n",
       "      <td>0</td>\n",
       "      <td>0</td>\n",
       "      <td>...</td>\n",
       "      <td>1380000</td>\n",
       "      <td>0</td>\n",
       "      <td>0</td>\n",
       "      <td>0</td>\n",
       "      <td>0</td>\n",
       "      <td>0</td>\n",
       "      <td>0</td>\n",
       "      <td>0</td>\n",
       "      <td>0</td>\n",
       "      <td>0</td>\n",
       "    </tr>\n",
       "    <tr>\n",
       "      <th>1</th>\n",
       "      <td>1</td>\n",
       "      <td>citility</td>\n",
       "      <td>2016.0</td>\n",
       "      <td>30700.0</td>\n",
       "      <td>527000</td>\n",
       "      <td>-296000</td>\n",
       "      <td>-238000</td>\n",
       "      <td>4</td>\n",
       "      <td>1720</td>\n",
       "      <td>-965</td>\n",
       "      <td>...</td>\n",
       "      <td>382000</td>\n",
       "      <td>-775</td>\n",
       "      <td>-623</td>\n",
       "      <td>-173</td>\n",
       "      <td>351000</td>\n",
       "      <td>1140</td>\n",
       "      <td>636000</td>\n",
       "      <td>2070</td>\n",
       "      <td>9160</td>\n",
       "      <td>0</td>\n",
       "    </tr>\n",
       "    <tr>\n",
       "      <th>2</th>\n",
       "      <td>2</td>\n",
       "      <td>voxcracy</td>\n",
       "      <td>2019.0</td>\n",
       "      <td>46300.0</td>\n",
       "      <td>46300</td>\n",
       "      <td>-38500</td>\n",
       "      <td>-39000</td>\n",
       "      <td>177</td>\n",
       "      <td>100</td>\n",
       "      <td>-833</td>\n",
       "      <td>...</td>\n",
       "      <td>513000</td>\n",
       "      <td>-842</td>\n",
       "      <td>-76</td>\n",
       "      <td>-63</td>\n",
       "      <td>2170</td>\n",
       "      <td>47</td>\n",
       "      <td>33600</td>\n",
       "      <td>725</td>\n",
       "      <td>137</td>\n",
       "      <td>0</td>\n",
       "    </tr>\n",
       "    <tr>\n",
       "      <th>3</th>\n",
       "      <td>3</td>\n",
       "      <td>voxcracy</td>\n",
       "      <td>2018.0</td>\n",
       "      <td>16700.0</td>\n",
       "      <td>157000</td>\n",
       "      <td>-130000</td>\n",
       "      <td>-112000</td>\n",
       "      <td>861</td>\n",
       "      <td>940</td>\n",
       "      <td>-776</td>\n",
       "      <td>...</td>\n",
       "      <td>552000</td>\n",
       "      <td>-668</td>\n",
       "      <td>-202</td>\n",
       "      <td>-169</td>\n",
       "      <td>-21000</td>\n",
       "      <td>-126</td>\n",
       "      <td>101000</td>\n",
       "      <td>602</td>\n",
       "      <td>1120</td>\n",
       "      <td>5000</td>\n",
       "    </tr>\n",
       "    <tr>\n",
       "      <th>4</th>\n",
       "      <td>4</td>\n",
       "      <td>voxcracy</td>\n",
       "      <td>2017.0</td>\n",
       "      <td>1740.0</td>\n",
       "      <td>75900</td>\n",
       "      <td>-30300</td>\n",
       "      <td>-23400</td>\n",
       "      <td>0</td>\n",
       "      <td>4360</td>\n",
       "      <td>-1740</td>\n",
       "      <td>...</td>\n",
       "      <td>569000</td>\n",
       "      <td>-1350</td>\n",
       "      <td>-41</td>\n",
       "      <td>-39</td>\n",
       "      <td>-5040</td>\n",
       "      <td>-290</td>\n",
       "      <td>19100</td>\n",
       "      <td>1100</td>\n",
       "      <td>329</td>\n",
       "      <td>0</td>\n",
       "    </tr>\n",
       "  </tbody>\n",
       "</table>\n",
       "<p>5 rows × 42 columns</p>\n",
       "</div>"
      ],
      "text/plain": [
       "   company_year_ide   company   annee  chiffre_daffaires_e  marge_brute_e  \\\n",
       "0                 0  citility  2017.0                  0.0              0   \n",
       "1                 1  citility  2016.0              30700.0         527000   \n",
       "2                 2  voxcracy  2019.0              46300.0          46300   \n",
       "3                 3  voxcracy  2018.0              16700.0         157000   \n",
       "4                 4  voxcracy  2017.0               1740.0          75900   \n",
       "\n",
       "   resultat_dexploitation_e  resultat_net_e  taux_croissance_ca_pc  \\\n",
       "0                         0         -562000                      0   \n",
       "1                   -296000         -238000                      4   \n",
       "2                    -38500          -39000                    177   \n",
       "3                   -130000         -112000                    861   \n",
       "4                    -30300          -23400                      0   \n",
       "\n",
       "   taux_marge_brute_pc  taux_marge_operationnelle_pc  ...  fonds_propres_e  \\\n",
       "0                    0                             0  ...          1380000   \n",
       "1                 1720                          -965  ...           382000   \n",
       "2                  100                          -833  ...           513000   \n",
       "3                  940                          -776  ...           552000   \n",
       "4                 4360                         -1740  ...           569000   \n",
       "\n",
       "   marge_nette_pc  rentabilite_sur_fonds_propres_pc  \\\n",
       "0               0                                 0   \n",
       "1            -775                              -623   \n",
       "2            -842                               -76   \n",
       "3            -668                              -202   \n",
       "4           -1350                               -41   \n",
       "\n",
       "   rentabilite_economique_pc  valeur_ajoutee_e  valeur_ajoutee_sur_ca_pc  \\\n",
       "0                          0                 0                         0   \n",
       "1                       -173            351000                      1140   \n",
       "2                        -63              2170                        47   \n",
       "3                       -169            -21000                      -126   \n",
       "4                        -39             -5040                      -290   \n",
       "\n",
       "   salaires_et_charges_sociales_e  salaires_sur_ca_pc  impots_et_taxes_e  \\\n",
       "0                               0                   0                  0   \n",
       "1                          636000                2070               9160   \n",
       "2                           33600                 725                137   \n",
       "3                          101000                 602               1120   \n",
       "4                           19100                1100                329   \n",
       "\n",
       "   chiffre_daffaires_a_lexport_e  \n",
       "0                              0  \n",
       "1                              0  \n",
       "2                              0  \n",
       "3                           5000  \n",
       "4                              0  \n",
       "\n",
       "[5 rows x 42 columns]"
      ]
     },
     "execution_count": 42,
     "metadata": {},
     "output_type": "execute_result"
    }
   ],
   "source": [
    "companies_finance.head()"
   ]
  },
  {
   "cell_type": "code",
   "execution_count": 43,
   "metadata": {},
   "outputs": [],
   "source": [
    "companies_finance.to_csv(\"sql/companies_finance.csv\", sep=\";\", index=False)"
   ]
  },
  {
   "cell_type": "code",
   "execution_count": 44,
   "metadata": {},
   "outputs": [
    {
     "data": {
      "text/plain": [
       "74"
      ]
     },
     "execution_count": 44,
     "metadata": {},
     "output_type": "execute_result"
    }
   ],
   "source": [
    "companies_finance.to_sql('companies_finance', engine, 'civictech', if_exists='replace', index=False)"
   ]
  },
  {
   "attachments": {},
   "cell_type": "markdown",
   "metadata": {},
   "source": [
    "## Organizations general data"
   ]
  },
  {
   "attachments": {},
   "cell_type": "markdown",
   "metadata": {},
   "source": [
    "### initial cleaning for all"
   ]
  },
  {
   "cell_type": "code",
   "execution_count": 45,
   "metadata": {},
   "outputs": [
    {
     "name": "stdout",
     "output_type": "stream",
     "text": [
      "Index(['company_id', 'companyName', 'Adresse :', 'Activité :', 'Effectif :',\n",
      "       'Création :', 'Dirigeants :', 'Forme juridique :',\n",
      "       'Inscription au RCS :', 'Capital social :',\n",
      "       'Activité principale déclarée :', 'Code NAF ou APE :',\n",
      "       'Domaine d’activité :', 'Dirigeant :', 'Inscription au RNA :',\n",
      "       'Identifiant association :', 'Objet de l'association :',\n",
      "       'Statut INSEE :'],\n",
      "      dtype='object')\n"
     ]
    }
   ],
   "source": [
    "companies_info=pd.read_csv('organizations/companies_info_data.csv', sep=';')\n",
    "print(companies_info.columns)"
   ]
  },
  {
   "cell_type": "code",
   "execution_count": 46,
   "metadata": {},
   "outputs": [
    {
     "data": {
      "text/html": [
       "<div>\n",
       "<style scoped>\n",
       "    .dataframe tbody tr th:only-of-type {\n",
       "        vertical-align: middle;\n",
       "    }\n",
       "\n",
       "    .dataframe tbody tr th {\n",
       "        vertical-align: top;\n",
       "    }\n",
       "\n",
       "    .dataframe thead th {\n",
       "        text-align: right;\n",
       "    }\n",
       "</style>\n",
       "<table border=\"1\" class=\"dataframe\">\n",
       "  <thead>\n",
       "    <tr style=\"text-align: right;\">\n",
       "      <th></th>\n",
       "      <th>company_id</th>\n",
       "      <th>companyName</th>\n",
       "      <th>Adresse :</th>\n",
       "      <th>Activité :</th>\n",
       "      <th>Effectif :</th>\n",
       "      <th>Création :</th>\n",
       "      <th>Dirigeants :</th>\n",
       "      <th>Forme juridique :</th>\n",
       "      <th>Inscription au RCS :</th>\n",
       "      <th>Capital social :</th>\n",
       "      <th>Activité principale déclarée :</th>\n",
       "      <th>Code NAF ou APE :</th>\n",
       "      <th>Domaine d’activité :</th>\n",
       "      <th>Dirigeant :</th>\n",
       "      <th>Inscription au RNA :</th>\n",
       "      <th>Identifiant association :</th>\n",
       "      <th>Objet de l'association :</th>\n",
       "      <th>Statut INSEE :</th>\n",
       "    </tr>\n",
       "  </thead>\n",
       "  <tbody>\n",
       "    <tr>\n",
       "      <th>0</th>\n",
       "      <td>0</td>\n",
       "      <td>citility</td>\n",
       "      <td>5 RUE DE LA CLAIRE 69009 LYON 9EME</td>\n",
       "      <td>Édition de logiciels applicatifs</td>\n",
       "      <td>0 salarié  (donnée 2019)</td>\n",
       "      <td>05/05/2014</td>\n",
       "      <td>André MAY, ODICEO, Sabine SCHNECK</td>\n",
       "      <td>SAS, société par actions simplifiée</td>\n",
       "      <td>INSCRIT (au greffe de LYON, le 12/05/2014)</td>\n",
       "      <td>39 620,00 €</td>\n",
       "      <td>Edition de logiciels applicatifs.</td>\n",
       "      <td>58.29C (Édition de logiciels applicatifs)</td>\n",
       "      <td>Édition</td>\n",
       "      <td>NaN</td>\n",
       "      <td>NaN</td>\n",
       "      <td>NaN</td>\n",
       "      <td>NaN</td>\n",
       "      <td>NaN</td>\n",
       "    </tr>\n",
       "    <tr>\n",
       "      <th>1</th>\n",
       "      <td>1</td>\n",
       "      <td>poligma</td>\n",
       "      <td>RPT BENJAMIN FRANKLIN 34960 MONTPELLIER CEDEX 2</td>\n",
       "      <td>Conseil en systèmes et logiciels informatiques</td>\n",
       "      <td>Entre 3 et 5 salariés  (donnée 2020)</td>\n",
       "      <td>01/09/2015</td>\n",
       "      <td>NaN</td>\n",
       "      <td>SAS, société par actions simplifiée</td>\n",
       "      <td>INSCRIT (au greffe de MONTPELLIER, le 11/09/2015)</td>\n",
       "      <td>20 944,00 €</td>\n",
       "      <td>Développement de services informatiques et num...</td>\n",
       "      <td>62.02A (Conseil en systèmes et logiciels infor...</td>\n",
       "      <td>Programmation, conseil et autres activités inf...</td>\n",
       "      <td>Philippe GERARD</td>\n",
       "      <td>NaN</td>\n",
       "      <td>NaN</td>\n",
       "      <td>NaN</td>\n",
       "      <td>NaN</td>\n",
       "    </tr>\n",
       "    <tr>\n",
       "      <th>2</th>\n",
       "      <td>2</td>\n",
       "      <td>voxcracy</td>\n",
       "      <td>1133 RTE FENERIE 06580 PEGOMAS</td>\n",
       "      <td>Programmation informatique</td>\n",
       "      <td>0 salarié</td>\n",
       "      <td>01/09/2014</td>\n",
       "      <td>Olivier ROCCA, Pascal RUSCICA</td>\n",
       "      <td>SAS, société par actions simplifiée</td>\n",
       "      <td>INSCRIT (au greffe de GRASSE, le 17/07/2014)</td>\n",
       "      <td>1 000,00 €</td>\n",
       "      <td>La recherche, le développement et la commercia...</td>\n",
       "      <td>62.01Z (Programmation informatique)</td>\n",
       "      <td>Programmation, conseil et autres activités inf...</td>\n",
       "      <td>NaN</td>\n",
       "      <td>NaN</td>\n",
       "      <td>NaN</td>\n",
       "      <td>NaN</td>\n",
       "      <td>NaN</td>\n",
       "    </tr>\n",
       "    <tr>\n",
       "      <th>3</th>\n",
       "      <td>3</td>\n",
       "      <td>LLL_2</td>\n",
       "      <td>16 RUE DU CAIRE 75002 PARIS 2</td>\n",
       "      <td>Autres activités de soutien aux entreprises n....</td>\n",
       "      <td>Entre 3 et 5 salariés  (donnée 2020)</td>\n",
       "      <td>16/01/2015</td>\n",
       "      <td>ANNAMAMASHOW, Raymond Maeder, 3APEXCO</td>\n",
       "      <td>SAS, société par actions simplifiée</td>\n",
       "      <td>INSCRIT (au greffe de PARIS, le 03/02/2015)</td>\n",
       "      <td>45 000,00 €</td>\n",
       "      <td>Développement de nouvelles formes de collabora...</td>\n",
       "      <td>82.99Z (Autres activités de soutien aux entrep...</td>\n",
       "      <td>Activités administratives et autres activités ...</td>\n",
       "      <td>NaN</td>\n",
       "      <td>NaN</td>\n",
       "      <td>NaN</td>\n",
       "      <td>NaN</td>\n",
       "      <td>NaN</td>\n",
       "    </tr>\n",
       "    <tr>\n",
       "      <th>4</th>\n",
       "      <td>4</td>\n",
       "      <td>bluenove</td>\n",
       "      <td>112 B RUE CARDINET 75017 PARIS 17</td>\n",
       "      <td>Conseil pour les affaires et autres conseils d...</td>\n",
       "      <td>Entre 20 et 49 salariés  (donnée 2020)</td>\n",
       "      <td>23/01/2008</td>\n",
       "      <td>GROUPE BLUENOVE INC., Guillaume Drancy, Carole...</td>\n",
       "      <td>SAS, société par actions simplifiée</td>\n",
       "      <td>INSCRIT (au greffe de PARIS, le 21/11/2019)</td>\n",
       "      <td>56 445,00 €</td>\n",
       "      <td>L'activité de conseil en stratégie d'accompagn...</td>\n",
       "      <td>70.22Z (Conseil pour les affaires et autres co...</td>\n",
       "      <td>Activités des sièges sociaux ; conseil de gestion</td>\n",
       "      <td>NaN</td>\n",
       "      <td>NaN</td>\n",
       "      <td>NaN</td>\n",
       "      <td>NaN</td>\n",
       "      <td>NaN</td>\n",
       "    </tr>\n",
       "  </tbody>\n",
       "</table>\n",
       "</div>"
      ],
      "text/plain": [
       "   company_id companyName                                        Adresse :  \\\n",
       "0           0    citility               5 RUE DE LA CLAIRE 69009 LYON 9EME   \n",
       "1           1     poligma  RPT BENJAMIN FRANKLIN 34960 MONTPELLIER CEDEX 2   \n",
       "2           2    voxcracy                   1133 RTE FENERIE 06580 PEGOMAS   \n",
       "3           3       LLL_2                    16 RUE DU CAIRE 75002 PARIS 2   \n",
       "4           4    bluenove                112 B RUE CARDINET 75017 PARIS 17   \n",
       "\n",
       "                                          Activité :  \\\n",
       "0                   Édition de logiciels applicatifs   \n",
       "1     Conseil en systèmes et logiciels informatiques   \n",
       "2                         Programmation informatique   \n",
       "3  Autres activités de soutien aux entreprises n....   \n",
       "4  Conseil pour les affaires et autres conseils d...   \n",
       "\n",
       "                               Effectif :  Création :  \\\n",
       "0                0 salarié  (donnée 2019)  05/05/2014   \n",
       "1    Entre 3 et 5 salariés  (donnée 2020)  01/09/2015   \n",
       "2                               0 salarié  01/09/2014   \n",
       "3    Entre 3 et 5 salariés  (donnée 2020)  16/01/2015   \n",
       "4  Entre 20 et 49 salariés  (donnée 2020)  23/01/2008   \n",
       "\n",
       "                                        Dirigeants :  \\\n",
       "0                  André MAY, ODICEO, Sabine SCHNECK   \n",
       "1                                                NaN   \n",
       "2                      Olivier ROCCA, Pascal RUSCICA   \n",
       "3              ANNAMAMASHOW, Raymond Maeder, 3APEXCO   \n",
       "4  GROUPE BLUENOVE INC., Guillaume Drancy, Carole...   \n",
       "\n",
       "                     Forme juridique :  \\\n",
       "0  SAS, société par actions simplifiée   \n",
       "1  SAS, société par actions simplifiée   \n",
       "2  SAS, société par actions simplifiée   \n",
       "3  SAS, société par actions simplifiée   \n",
       "4  SAS, société par actions simplifiée   \n",
       "\n",
       "                                Inscription au RCS : Capital social :  \\\n",
       "0         INSCRIT (au greffe de LYON, le 12/05/2014)      39 620,00 €   \n",
       "1  INSCRIT (au greffe de MONTPELLIER, le 11/09/2015)      20 944,00 €   \n",
       "2       INSCRIT (au greffe de GRASSE, le 17/07/2014)       1 000,00 €   \n",
       "3        INSCRIT (au greffe de PARIS, le 03/02/2015)      45 000,00 €   \n",
       "4        INSCRIT (au greffe de PARIS, le 21/11/2019)      56 445,00 €   \n",
       "\n",
       "                      Activité principale déclarée :  \\\n",
       "0                  Edition de logiciels applicatifs.   \n",
       "1  Développement de services informatiques et num...   \n",
       "2  La recherche, le développement et la commercia...   \n",
       "3  Développement de nouvelles formes de collabora...   \n",
       "4  L'activité de conseil en stratégie d'accompagn...   \n",
       "\n",
       "                                   Code NAF ou APE :  \\\n",
       "0          58.29C (Édition de logiciels applicatifs)   \n",
       "1  62.02A (Conseil en systèmes et logiciels infor...   \n",
       "2                62.01Z (Programmation informatique)   \n",
       "3  82.99Z (Autres activités de soutien aux entrep...   \n",
       "4  70.22Z (Conseil pour les affaires et autres co...   \n",
       "\n",
       "                                Domaine d’activité :      Dirigeant :  \\\n",
       "0                                            Édition              NaN   \n",
       "1  Programmation, conseil et autres activités inf...  Philippe GERARD   \n",
       "2  Programmation, conseil et autres activités inf...              NaN   \n",
       "3  Activités administratives et autres activités ...              NaN   \n",
       "4  Activités des sièges sociaux ; conseil de gestion              NaN   \n",
       "\n",
       "  Inscription au RNA : Identifiant association : Objet de l'association :  \\\n",
       "0                  NaN                       NaN                      NaN   \n",
       "1                  NaN                       NaN                      NaN   \n",
       "2                  NaN                       NaN                      NaN   \n",
       "3                  NaN                       NaN                      NaN   \n",
       "4                  NaN                       NaN                      NaN   \n",
       "\n",
       "  Statut INSEE :  \n",
       "0            NaN  \n",
       "1            NaN  \n",
       "2            NaN  \n",
       "3            NaN  \n",
       "4            NaN  "
      ]
     },
     "execution_count": 46,
     "metadata": {},
     "output_type": "execute_result"
    }
   ],
   "source": [
    "companies_info.head()"
   ]
  },
  {
   "cell_type": "code",
   "execution_count": 47,
   "metadata": {},
   "outputs": [
    {
     "name": "stdout",
     "output_type": "stream",
     "text": [
      "['company_id', 'companyname', 'adresse', 'activite', 'effectif', 'creation', 'dirigeants', 'forme_juridique', 'inscription_au_rcs', 'capital_social', 'activite_principale_declaree', 'code_naf_ou_ape', 'domaine_dactivite', 'dirigeant', 'inscription_au_rna', 'identifiant_association', 'objet_de_lassociation', 'statut_insee']\n"
     ]
    }
   ],
   "source": [
    "new_cols=[]\n",
    "for i in list(companies_info.columns):\n",
    "    i=i.lower().replace(' :', '').replace('é', 'e').replace(\"(\", '').replace(')', '').replace(' ', '_').replace(\"'\",'').replace(\"’\",'').replace(\"è\", \"e\")\n",
    "    new_cols.append(i)\n",
    "print(new_cols)"
   ]
  },
  {
   "cell_type": "code",
   "execution_count": 48,
   "metadata": {},
   "outputs": [
    {
     "data": {
      "text/html": [
       "<div>\n",
       "<style scoped>\n",
       "    .dataframe tbody tr th:only-of-type {\n",
       "        vertical-align: middle;\n",
       "    }\n",
       "\n",
       "    .dataframe tbody tr th {\n",
       "        vertical-align: top;\n",
       "    }\n",
       "\n",
       "    .dataframe thead th {\n",
       "        text-align: right;\n",
       "    }\n",
       "</style>\n",
       "<table border=\"1\" class=\"dataframe\">\n",
       "  <thead>\n",
       "    <tr style=\"text-align: right;\">\n",
       "      <th></th>\n",
       "      <th>company_id</th>\n",
       "      <th>companyname</th>\n",
       "      <th>adresse</th>\n",
       "      <th>activite</th>\n",
       "      <th>effectif</th>\n",
       "      <th>creation</th>\n",
       "      <th>dirigeants</th>\n",
       "      <th>forme_juridique</th>\n",
       "      <th>inscription_au_rcs</th>\n",
       "      <th>capital_social</th>\n",
       "      <th>activite_principale_declaree</th>\n",
       "      <th>code_naf_ou_ape</th>\n",
       "      <th>domaine_dactivite</th>\n",
       "      <th>dirigeant</th>\n",
       "      <th>inscription_au_rna</th>\n",
       "      <th>identifiant_association</th>\n",
       "      <th>objet_de_lassociation</th>\n",
       "      <th>statut_insee</th>\n",
       "    </tr>\n",
       "  </thead>\n",
       "  <tbody>\n",
       "    <tr>\n",
       "      <th>0</th>\n",
       "      <td>0</td>\n",
       "      <td>citility</td>\n",
       "      <td>5 RUE DE LA CLAIRE 69009 LYON 9EME</td>\n",
       "      <td>Édition de logiciels applicatifs</td>\n",
       "      <td>0 salarié  (donnée 2019)</td>\n",
       "      <td>05/05/2014</td>\n",
       "      <td>André MAY, ODICEO, Sabine SCHNECK</td>\n",
       "      <td>SAS, société par actions simplifiée</td>\n",
       "      <td>INSCRIT (au greffe de LYON, le 12/05/2014)</td>\n",
       "      <td>39 620,00 €</td>\n",
       "      <td>Edition de logiciels applicatifs.</td>\n",
       "      <td>58.29C (Édition de logiciels applicatifs)</td>\n",
       "      <td>Édition</td>\n",
       "      <td>NaN</td>\n",
       "      <td>NaN</td>\n",
       "      <td>NaN</td>\n",
       "      <td>NaN</td>\n",
       "      <td>NaN</td>\n",
       "    </tr>\n",
       "    <tr>\n",
       "      <th>1</th>\n",
       "      <td>1</td>\n",
       "      <td>poligma</td>\n",
       "      <td>RPT BENJAMIN FRANKLIN 34960 MONTPELLIER CEDEX 2</td>\n",
       "      <td>Conseil en systèmes et logiciels informatiques</td>\n",
       "      <td>Entre 3 et 5 salariés  (donnée 2020)</td>\n",
       "      <td>01/09/2015</td>\n",
       "      <td>NaN</td>\n",
       "      <td>SAS, société par actions simplifiée</td>\n",
       "      <td>INSCRIT (au greffe de MONTPELLIER, le 11/09/2015)</td>\n",
       "      <td>20 944,00 €</td>\n",
       "      <td>Développement de services informatiques et num...</td>\n",
       "      <td>62.02A (Conseil en systèmes et logiciels infor...</td>\n",
       "      <td>Programmation, conseil et autres activités inf...</td>\n",
       "      <td>Philippe GERARD</td>\n",
       "      <td>NaN</td>\n",
       "      <td>NaN</td>\n",
       "      <td>NaN</td>\n",
       "      <td>NaN</td>\n",
       "    </tr>\n",
       "    <tr>\n",
       "      <th>2</th>\n",
       "      <td>2</td>\n",
       "      <td>voxcracy</td>\n",
       "      <td>1133 RTE FENERIE 06580 PEGOMAS</td>\n",
       "      <td>Programmation informatique</td>\n",
       "      <td>0 salarié</td>\n",
       "      <td>01/09/2014</td>\n",
       "      <td>Olivier ROCCA, Pascal RUSCICA</td>\n",
       "      <td>SAS, société par actions simplifiée</td>\n",
       "      <td>INSCRIT (au greffe de GRASSE, le 17/07/2014)</td>\n",
       "      <td>1 000,00 €</td>\n",
       "      <td>La recherche, le développement et la commercia...</td>\n",
       "      <td>62.01Z (Programmation informatique)</td>\n",
       "      <td>Programmation, conseil et autres activités inf...</td>\n",
       "      <td>NaN</td>\n",
       "      <td>NaN</td>\n",
       "      <td>NaN</td>\n",
       "      <td>NaN</td>\n",
       "      <td>NaN</td>\n",
       "    </tr>\n",
       "    <tr>\n",
       "      <th>3</th>\n",
       "      <td>3</td>\n",
       "      <td>LLL_2</td>\n",
       "      <td>16 RUE DU CAIRE 75002 PARIS 2</td>\n",
       "      <td>Autres activités de soutien aux entreprises n....</td>\n",
       "      <td>Entre 3 et 5 salariés  (donnée 2020)</td>\n",
       "      <td>16/01/2015</td>\n",
       "      <td>ANNAMAMASHOW, Raymond Maeder, 3APEXCO</td>\n",
       "      <td>SAS, société par actions simplifiée</td>\n",
       "      <td>INSCRIT (au greffe de PARIS, le 03/02/2015)</td>\n",
       "      <td>45 000,00 €</td>\n",
       "      <td>Développement de nouvelles formes de collabora...</td>\n",
       "      <td>82.99Z (Autres activités de soutien aux entrep...</td>\n",
       "      <td>Activités administratives et autres activités ...</td>\n",
       "      <td>NaN</td>\n",
       "      <td>NaN</td>\n",
       "      <td>NaN</td>\n",
       "      <td>NaN</td>\n",
       "      <td>NaN</td>\n",
       "    </tr>\n",
       "    <tr>\n",
       "      <th>4</th>\n",
       "      <td>4</td>\n",
       "      <td>bluenove</td>\n",
       "      <td>112 B RUE CARDINET 75017 PARIS 17</td>\n",
       "      <td>Conseil pour les affaires et autres conseils d...</td>\n",
       "      <td>Entre 20 et 49 salariés  (donnée 2020)</td>\n",
       "      <td>23/01/2008</td>\n",
       "      <td>GROUPE BLUENOVE INC., Guillaume Drancy, Carole...</td>\n",
       "      <td>SAS, société par actions simplifiée</td>\n",
       "      <td>INSCRIT (au greffe de PARIS, le 21/11/2019)</td>\n",
       "      <td>56 445,00 €</td>\n",
       "      <td>L'activité de conseil en stratégie d'accompagn...</td>\n",
       "      <td>70.22Z (Conseil pour les affaires et autres co...</td>\n",
       "      <td>Activités des sièges sociaux ; conseil de gestion</td>\n",
       "      <td>NaN</td>\n",
       "      <td>NaN</td>\n",
       "      <td>NaN</td>\n",
       "      <td>NaN</td>\n",
       "      <td>NaN</td>\n",
       "    </tr>\n",
       "  </tbody>\n",
       "</table>\n",
       "</div>"
      ],
      "text/plain": [
       "   company_id companyname                                          adresse  \\\n",
       "0           0    citility               5 RUE DE LA CLAIRE 69009 LYON 9EME   \n",
       "1           1     poligma  RPT BENJAMIN FRANKLIN 34960 MONTPELLIER CEDEX 2   \n",
       "2           2    voxcracy                   1133 RTE FENERIE 06580 PEGOMAS   \n",
       "3           3       LLL_2                    16 RUE DU CAIRE 75002 PARIS 2   \n",
       "4           4    bluenove                112 B RUE CARDINET 75017 PARIS 17   \n",
       "\n",
       "                                            activite  \\\n",
       "0                   Édition de logiciels applicatifs   \n",
       "1     Conseil en systèmes et logiciels informatiques   \n",
       "2                         Programmation informatique   \n",
       "3  Autres activités de soutien aux entreprises n....   \n",
       "4  Conseil pour les affaires et autres conseils d...   \n",
       "\n",
       "                                 effectif    creation  \\\n",
       "0                0 salarié  (donnée 2019)  05/05/2014   \n",
       "1    Entre 3 et 5 salariés  (donnée 2020)  01/09/2015   \n",
       "2                               0 salarié  01/09/2014   \n",
       "3    Entre 3 et 5 salariés  (donnée 2020)  16/01/2015   \n",
       "4  Entre 20 et 49 salariés  (donnée 2020)  23/01/2008   \n",
       "\n",
       "                                          dirigeants  \\\n",
       "0                  André MAY, ODICEO, Sabine SCHNECK   \n",
       "1                                                NaN   \n",
       "2                      Olivier ROCCA, Pascal RUSCICA   \n",
       "3              ANNAMAMASHOW, Raymond Maeder, 3APEXCO   \n",
       "4  GROUPE BLUENOVE INC., Guillaume Drancy, Carole...   \n",
       "\n",
       "                       forme_juridique  \\\n",
       "0  SAS, société par actions simplifiée   \n",
       "1  SAS, société par actions simplifiée   \n",
       "2  SAS, société par actions simplifiée   \n",
       "3  SAS, société par actions simplifiée   \n",
       "4  SAS, société par actions simplifiée   \n",
       "\n",
       "                                  inscription_au_rcs capital_social  \\\n",
       "0         INSCRIT (au greffe de LYON, le 12/05/2014)    39 620,00 €   \n",
       "1  INSCRIT (au greffe de MONTPELLIER, le 11/09/2015)    20 944,00 €   \n",
       "2       INSCRIT (au greffe de GRASSE, le 17/07/2014)     1 000,00 €   \n",
       "3        INSCRIT (au greffe de PARIS, le 03/02/2015)    45 000,00 €   \n",
       "4        INSCRIT (au greffe de PARIS, le 21/11/2019)    56 445,00 €   \n",
       "\n",
       "                        activite_principale_declaree  \\\n",
       "0                  Edition de logiciels applicatifs.   \n",
       "1  Développement de services informatiques et num...   \n",
       "2  La recherche, le développement et la commercia...   \n",
       "3  Développement de nouvelles formes de collabora...   \n",
       "4  L'activité de conseil en stratégie d'accompagn...   \n",
       "\n",
       "                                     code_naf_ou_ape  \\\n",
       "0          58.29C (Édition de logiciels applicatifs)   \n",
       "1  62.02A (Conseil en systèmes et logiciels infor...   \n",
       "2                62.01Z (Programmation informatique)   \n",
       "3  82.99Z (Autres activités de soutien aux entrep...   \n",
       "4  70.22Z (Conseil pour les affaires et autres co...   \n",
       "\n",
       "                                   domaine_dactivite        dirigeant  \\\n",
       "0                                            Édition              NaN   \n",
       "1  Programmation, conseil et autres activités inf...  Philippe GERARD   \n",
       "2  Programmation, conseil et autres activités inf...              NaN   \n",
       "3  Activités administratives et autres activités ...              NaN   \n",
       "4  Activités des sièges sociaux ; conseil de gestion              NaN   \n",
       "\n",
       "  inscription_au_rna identifiant_association objet_de_lassociation  \\\n",
       "0                NaN                     NaN                   NaN   \n",
       "1                NaN                     NaN                   NaN   \n",
       "2                NaN                     NaN                   NaN   \n",
       "3                NaN                     NaN                   NaN   \n",
       "4                NaN                     NaN                   NaN   \n",
       "\n",
       "  statut_insee  \n",
       "0          NaN  \n",
       "1          NaN  \n",
       "2          NaN  \n",
       "3          NaN  \n",
       "4          NaN  "
      ]
     },
     "execution_count": 48,
     "metadata": {},
     "output_type": "execute_result"
    }
   ],
   "source": [
    "companies_info.columns=new_cols\n",
    "companies_info.head()"
   ]
  },
  {
   "cell_type": "code",
   "execution_count": 49,
   "metadata": {},
   "outputs": [],
   "source": [
    "companies_info['creation'] = pd.to_datetime(companies_info['creation'], format=\"%d/%m/%Y\")"
   ]
  },
  {
   "attachments": {},
   "cell_type": "markdown",
   "metadata": {},
   "source": [
    "### creating associations table"
   ]
  },
  {
   "cell_type": "code",
   "execution_count": 50,
   "metadata": {},
   "outputs": [],
   "source": [
    "# to split companies and NGOs, just \n",
    "associations= pd.DataFrame(companies_info.loc[companies_info['activite']==\"Autres organisations fonctionnant par adhésion volontaire\"])"
   ]
  },
  {
   "cell_type": "code",
   "execution_count": 51,
   "metadata": {},
   "outputs": [],
   "source": [
    "a= pd.DataFrame(associations.isna().sum().sort_values(ascending=False))\n",
    "a.columns=[\"column\"]\n",
    "coltodrop= list(a.loc[a['column']>=15].index)\n",
    "associations.drop(columns=coltodrop, inplace=True)\n",
    "associations.drop(columns=['activite','forme_juridique', 'inscription_au_rcs', 'code_naf_ou_ape', 'domaine_dactivite', 'identifiant_association'], inplace=True)"
   ]
  },
  {
   "cell_type": "code",
   "execution_count": 52,
   "metadata": {},
   "outputs": [],
   "source": [
    "associations.rename(columns={\"company_id\":\"asso_id\", \"companyname\":\"association_name\"}, inplace=True)"
   ]
  },
  {
   "cell_type": "code",
   "execution_count": 53,
   "metadata": {},
   "outputs": [],
   "source": [
    "def clean_inscriptions(x):\n",
    "    x=str(x)\n",
    "    if \"INSCRIT\" in x:\n",
    "        return 1\n",
    "    else:\n",
    "        return 0"
   ]
  },
  {
   "cell_type": "code",
   "execution_count": 54,
   "metadata": {},
   "outputs": [],
   "source": [
    "associations[\"inscription_rna\"]=associations['inscription_au_rna'].apply(clean_inscriptions)"
   ]
  },
  {
   "cell_type": "code",
   "execution_count": 55,
   "metadata": {},
   "outputs": [],
   "source": [
    "def get_date(x):\n",
    "    x=str(x)\n",
    "    pattern=r\"\\d{1,5}/\\d{2,5}/\\d{2,5}\"\n",
    "    a= re.findall(pattern, x)\n",
    "    a= ''.join(a).strip()\n",
    "    return a"
   ]
  },
  {
   "cell_type": "code",
   "execution_count": 56,
   "metadata": {},
   "outputs": [],
   "source": [
    "associations[\"date_inscr\"]=pd.to_datetime(associations['inscription_au_rna'].apply(get_date), dayfirst=True)"
   ]
  },
  {
   "cell_type": "code",
   "execution_count": 57,
   "metadata": {},
   "outputs": [],
   "source": [
    "associations.drop(columns=\"inscription_au_rna\", inplace=True)"
   ]
  },
  {
   "cell_type": "code",
   "execution_count": 58,
   "metadata": {},
   "outputs": [
    {
     "data": {
      "text/html": [
       "<div>\n",
       "<style scoped>\n",
       "    .dataframe tbody tr th:only-of-type {\n",
       "        vertical-align: middle;\n",
       "    }\n",
       "\n",
       "    .dataframe tbody tr th {\n",
       "        vertical-align: top;\n",
       "    }\n",
       "\n",
       "    .dataframe thead th {\n",
       "        text-align: right;\n",
       "    }\n",
       "</style>\n",
       "<table border=\"1\" class=\"dataframe\">\n",
       "  <thead>\n",
       "    <tr style=\"text-align: right;\">\n",
       "      <th></th>\n",
       "      <th>asso_id</th>\n",
       "      <th>association_name</th>\n",
       "      <th>adresse</th>\n",
       "      <th>effectif</th>\n",
       "      <th>creation</th>\n",
       "      <th>objet_de_lassociation</th>\n",
       "      <th>inscription_rna</th>\n",
       "      <th>date_inscr</th>\n",
       "    </tr>\n",
       "  </thead>\n",
       "  <tbody>\n",
       "    <tr>\n",
       "      <th>6</th>\n",
       "      <td>6</td>\n",
       "      <td>make4</td>\n",
       "      <td>14 RUE ST GUILLAUME 75007 PARIS 7</td>\n",
       "      <td>Entre 3 et 5 salariés  (donnée 2020)</td>\n",
       "      <td>2017-01-11</td>\n",
       "      <td>NaN</td>\n",
       "      <td>0</td>\n",
       "      <td>NaT</td>\n",
       "    </tr>\n",
       "    <tr>\n",
       "      <th>8</th>\n",
       "      <td>8</td>\n",
       "      <td>voteetvous</td>\n",
       "      <td>133 RUE ST DOMINIQUE 75007 PARIS 7</td>\n",
       "      <td>Au moins 1 salarié  (donnée 2023)</td>\n",
       "      <td>2014-01-27</td>\n",
       "      <td>Renforcer l'exercice démocratique du vote, en ...</td>\n",
       "      <td>1</td>\n",
       "      <td>2014-01-27</td>\n",
       "    </tr>\n",
       "    <tr>\n",
       "      <th>26</th>\n",
       "      <td>26</td>\n",
       "      <td>lesbricodeurs</td>\n",
       "      <td>8 PL LOUIS CHAZETTE 69001 LYON 1ER</td>\n",
       "      <td>Entre 1 et 2 salariés  (donnée 2020)</td>\n",
       "      <td>2016-04-30</td>\n",
       "      <td>Diffuser la culture numérique et accompagner d...</td>\n",
       "      <td>1</td>\n",
       "      <td>2015-11-05</td>\n",
       "    </tr>\n",
       "    <tr>\n",
       "      <th>38</th>\n",
       "      <td>38</td>\n",
       "      <td>democracyos</td>\n",
       "      <td>17 RUE MYRHA 75018 PARIS 18</td>\n",
       "      <td>Au moins 1 salarié  (donnée 2023)</td>\n",
       "      <td>2015-04-21</td>\n",
       "      <td>Représenter la communauté qui développe et qui...</td>\n",
       "      <td>1</td>\n",
       "      <td>2015-04-21</td>\n",
       "    </tr>\n",
       "    <tr>\n",
       "      <th>39</th>\n",
       "      <td>39</td>\n",
       "      <td>polipart</td>\n",
       "      <td>70 BD DE CLICHY 75018 PARIS 18</td>\n",
       "      <td>0 salarié  (donnée 2023)</td>\n",
       "      <td>2019-03-09</td>\n",
       "      <td>Améliorer la relation entre institutions, élus...</td>\n",
       "      <td>1</td>\n",
       "      <td>2019-03-09</td>\n",
       "    </tr>\n",
       "  </tbody>\n",
       "</table>\n",
       "</div>"
      ],
      "text/plain": [
       "    asso_id association_name                             adresse  \\\n",
       "6         6            make4   14 RUE ST GUILLAUME 75007 PARIS 7   \n",
       "8         8       voteetvous  133 RUE ST DOMINIQUE 75007 PARIS 7   \n",
       "26       26    lesbricodeurs  8 PL LOUIS CHAZETTE 69001 LYON 1ER   \n",
       "38       38      democracyos         17 RUE MYRHA 75018 PARIS 18   \n",
       "39       39         polipart      70 BD DE CLICHY 75018 PARIS 18   \n",
       "\n",
       "                                effectif   creation  \\\n",
       "6   Entre 3 et 5 salariés  (donnée 2020) 2017-01-11   \n",
       "8      Au moins 1 salarié  (donnée 2023) 2014-01-27   \n",
       "26  Entre 1 et 2 salariés  (donnée 2020) 2016-04-30   \n",
       "38     Au moins 1 salarié  (donnée 2023) 2015-04-21   \n",
       "39              0 salarié  (donnée 2023) 2019-03-09   \n",
       "\n",
       "                                objet_de_lassociation  inscription_rna  \\\n",
       "6                                                 NaN                0   \n",
       "8   Renforcer l'exercice démocratique du vote, en ...                1   \n",
       "26  Diffuser la culture numérique et accompagner d...                1   \n",
       "38  Représenter la communauté qui développe et qui...                1   \n",
       "39  Améliorer la relation entre institutions, élus...                1   \n",
       "\n",
       "   date_inscr  \n",
       "6         NaT  \n",
       "8  2014-01-27  \n",
       "26 2015-11-05  \n",
       "38 2015-04-21  \n",
       "39 2019-03-09  "
      ]
     },
     "execution_count": 58,
     "metadata": {},
     "output_type": "execute_result"
    }
   ],
   "source": [
    "associations.head()"
   ]
  },
  {
   "attachments": {},
   "cell_type": "markdown",
   "metadata": {},
   "source": [
    "### Companies table"
   ]
  },
  {
   "cell_type": "code",
   "execution_count": 59,
   "metadata": {},
   "outputs": [],
   "source": [
    "companies= pd.DataFrame(companies_info.loc[companies_info['activite']!=\"Autres organisations fonctionnant par adhésion volontaire\"])"
   ]
  },
  {
   "cell_type": "code",
   "execution_count": 60,
   "metadata": {},
   "outputs": [],
   "source": [
    "companies.drop(columns=['inscription_au_rna', 'identifiant_association', 'objet_de_lassociation'], inplace=True)"
   ]
  },
  {
   "cell_type": "code",
   "execution_count": 61,
   "metadata": {},
   "outputs": [],
   "source": [
    "companies.drop(columns=['statut_insee'], inplace=True)"
   ]
  },
  {
   "cell_type": "code",
   "execution_count": 62,
   "metadata": {},
   "outputs": [],
   "source": [
    "#companies.inscription_au_rcs.value_counts()"
   ]
  },
  {
   "cell_type": "code",
   "execution_count": 63,
   "metadata": {},
   "outputs": [],
   "source": [
    "companies[\"inscription_rcs\"]=companies['inscription_au_rcs'].apply(clean_inscriptions)"
   ]
  },
  {
   "cell_type": "code",
   "execution_count": 64,
   "metadata": {},
   "outputs": [],
   "source": [
    "import re\n",
    "\n",
    "def greffe(x):\n",
    "     x=str(x)\n",
    "     pattern = \" [A-Z]+\"\n",
    "     a= re.findall(pattern, x)\n",
    "     a= ''.join(a).strip()\n",
    "     return a"
   ]
  },
  {
   "cell_type": "code",
   "execution_count": 65,
   "metadata": {},
   "outputs": [],
   "source": [
    "companies[\"greffe\"]= companies['inscription_au_rcs'].apply(greffe)"
   ]
  },
  {
   "cell_type": "code",
   "execution_count": 66,
   "metadata": {},
   "outputs": [],
   "source": [
    "companies[\"date_inscr_rad\"]=pd.to_datetime(companies['inscription_au_rcs'].apply(get_date), dayfirst=True)"
   ]
  },
  {
   "cell_type": "code",
   "execution_count": 67,
   "metadata": {},
   "outputs": [],
   "source": [
    "def select_appr_col(x, y): \n",
    "    x=str(x)\n",
    "    y=str(y)\n",
    "    if x==\"NaN\":\n",
    "        return y\n",
    "    elif y==\"Nan\":\n",
    "        return x"
   ]
  },
  {
   "cell_type": "code",
   "execution_count": 68,
   "metadata": {},
   "outputs": [],
   "source": [
    "companies[\"directors\"]=companies[\"dirigeants\"].astype(str).replace(\"nan\", '')+companies[\"dirigeant\"].astype(str).replace(\"nan\", '')"
   ]
  },
  {
   "cell_type": "code",
   "execution_count": 69,
   "metadata": {},
   "outputs": [],
   "source": [
    "companies.drop(columns=[\"dirigeants\", \"dirigeant\", \"inscription_au_rcs\"], inplace=True)"
   ]
  },
  {
   "cell_type": "code",
   "execution_count": 70,
   "metadata": {},
   "outputs": [],
   "source": [
    "import re\n",
    "def fix_K_social(x):\n",
    "    x=str(x)\n",
    "    x.replace('€', '')\n",
    "    x.replace(' ', '')\n",
    "    if \",\" in x: \n",
    "        y= re.split(',', x)[0]\n",
    "        y= re.split(' ', y)\n",
    "        return \"\".join(y)\n",
    "    else:\n",
    "        return 0\n"
   ]
  },
  {
   "cell_type": "code",
   "execution_count": 71,
   "metadata": {},
   "outputs": [],
   "source": [
    "#test line \n",
    "# companies.capital_social.apply(fix_K_social).astype(int)"
   ]
  },
  {
   "cell_type": "code",
   "execution_count": 72,
   "metadata": {},
   "outputs": [],
   "source": [
    "companies[\"capital_social\"]= companies.capital_social.apply(fix_K_social).astype(int)"
   ]
  },
  {
   "cell_type": "code",
   "execution_count": 73,
   "metadata": {},
   "outputs": [
    {
     "name": "stdout",
     "output_type": "stream",
     "text": [
      "['citility', 'poligma', 'voxcracy', 'LLL_2', 'bluenove', 'ecivis', 'civimetric', 'vooter', 'organigram_97', 'forcity_mere', 'mymairie', 'quorum', 'fullmobs', 'mairesetcitoyens', 'parlonspo', 'make3', 'consultvox', 'loomio', 'politiker', 'citizenlabbv', 'datagora', 'ouiville', 'forcity', 'accromedias', 'crowdpac', 'ledrenche', 'youvote', 'make2', 'ecreall_nova_ideo', 'neocity', 'citieszen', 'politicus', 'capcollectif', 'whip', 'voxestudio', 'LLL', 'citybay_ambitions', 'politizr', 'digitalebox', 'mesopinions', 'madeinvote', 'kawaa', 'ciwik', 'digiworks', 'equivote_myopencity', 'make', 'kohero', 'openagora', 'moneparti', 'nousrassemble', 'bittle', 'marston_massiet', 'koom', 'reperage_urbain', 'D21', 'IDcity', 'Stig', 'opensourcepolitics', 'GOV', 'fluicity', 'civocracy']\n"
     ]
    }
   ],
   "source": [
    "print(list(companies.companyname))"
   ]
  },
  {
   "cell_type": "code",
   "execution_count": 74,
   "metadata": {},
   "outputs": [],
   "source": [
    "companies['companyname'] = companies['companyname'].replace(['LLL', 'make', 'citizenlabbv', 'voxestudio', 'marston_massiet'], ['liberté_living_lab', 'make.org', 'citizenlobbv', 'VOXE', 'marston'])"
   ]
  },
  {
   "cell_type": "code",
   "execution_count": 75,
   "metadata": {},
   "outputs": [
    {
     "data": {
      "text/html": [
       "<div>\n",
       "<style scoped>\n",
       "    .dataframe tbody tr th:only-of-type {\n",
       "        vertical-align: middle;\n",
       "    }\n",
       "\n",
       "    .dataframe tbody tr th {\n",
       "        vertical-align: top;\n",
       "    }\n",
       "\n",
       "    .dataframe thead th {\n",
       "        text-align: right;\n",
       "    }\n",
       "</style>\n",
       "<table border=\"1\" class=\"dataframe\">\n",
       "  <thead>\n",
       "    <tr style=\"text-align: right;\">\n",
       "      <th></th>\n",
       "      <th>company_id</th>\n",
       "      <th>companyname</th>\n",
       "      <th>adresse</th>\n",
       "      <th>activite</th>\n",
       "      <th>effectif</th>\n",
       "      <th>creation</th>\n",
       "      <th>forme_juridique</th>\n",
       "      <th>capital_social</th>\n",
       "      <th>activite_principale_declaree</th>\n",
       "      <th>code_naf_ou_ape</th>\n",
       "      <th>domaine_dactivite</th>\n",
       "      <th>inscription_rcs</th>\n",
       "      <th>greffe</th>\n",
       "      <th>date_inscr_rad</th>\n",
       "      <th>directors</th>\n",
       "    </tr>\n",
       "  </thead>\n",
       "  <tbody>\n",
       "    <tr>\n",
       "      <th>0</th>\n",
       "      <td>0</td>\n",
       "      <td>citility</td>\n",
       "      <td>5 RUE DE LA CLAIRE 69009 LYON 9EME</td>\n",
       "      <td>Édition de logiciels applicatifs</td>\n",
       "      <td>0 salarié  (donnée 2019)</td>\n",
       "      <td>2014-05-05</td>\n",
       "      <td>SAS, société par actions simplifiée</td>\n",
       "      <td>39620</td>\n",
       "      <td>Edition de logiciels applicatifs.</td>\n",
       "      <td>58.29C (Édition de logiciels applicatifs)</td>\n",
       "      <td>Édition</td>\n",
       "      <td>1</td>\n",
       "      <td>LYON</td>\n",
       "      <td>2014-05-12</td>\n",
       "      <td>André MAY, ODICEO, Sabine SCHNECK</td>\n",
       "    </tr>\n",
       "    <tr>\n",
       "      <th>1</th>\n",
       "      <td>1</td>\n",
       "      <td>poligma</td>\n",
       "      <td>RPT BENJAMIN FRANKLIN 34960 MONTPELLIER CEDEX 2</td>\n",
       "      <td>Conseil en systèmes et logiciels informatiques</td>\n",
       "      <td>Entre 3 et 5 salariés  (donnée 2020)</td>\n",
       "      <td>2015-09-01</td>\n",
       "      <td>SAS, société par actions simplifiée</td>\n",
       "      <td>20944</td>\n",
       "      <td>Développement de services informatiques et num...</td>\n",
       "      <td>62.02A (Conseil en systèmes et logiciels infor...</td>\n",
       "      <td>Programmation, conseil et autres activités inf...</td>\n",
       "      <td>1</td>\n",
       "      <td>MONTPELLIER</td>\n",
       "      <td>2015-09-11</td>\n",
       "      <td>Philippe GERARD</td>\n",
       "    </tr>\n",
       "    <tr>\n",
       "      <th>2</th>\n",
       "      <td>2</td>\n",
       "      <td>voxcracy</td>\n",
       "      <td>1133 RTE FENERIE 06580 PEGOMAS</td>\n",
       "      <td>Programmation informatique</td>\n",
       "      <td>0 salarié</td>\n",
       "      <td>2014-09-01</td>\n",
       "      <td>SAS, société par actions simplifiée</td>\n",
       "      <td>1000</td>\n",
       "      <td>La recherche, le développement et la commercia...</td>\n",
       "      <td>62.01Z (Programmation informatique)</td>\n",
       "      <td>Programmation, conseil et autres activités inf...</td>\n",
       "      <td>1</td>\n",
       "      <td>GRASSE</td>\n",
       "      <td>2014-07-17</td>\n",
       "      <td>Olivier ROCCA, Pascal RUSCICA</td>\n",
       "    </tr>\n",
       "    <tr>\n",
       "      <th>3</th>\n",
       "      <td>3</td>\n",
       "      <td>LLL_2</td>\n",
       "      <td>16 RUE DU CAIRE 75002 PARIS 2</td>\n",
       "      <td>Autres activités de soutien aux entreprises n....</td>\n",
       "      <td>Entre 3 et 5 salariés  (donnée 2020)</td>\n",
       "      <td>2015-01-16</td>\n",
       "      <td>SAS, société par actions simplifiée</td>\n",
       "      <td>45000</td>\n",
       "      <td>Développement de nouvelles formes de collabora...</td>\n",
       "      <td>82.99Z (Autres activités de soutien aux entrep...</td>\n",
       "      <td>Activités administratives et autres activités ...</td>\n",
       "      <td>1</td>\n",
       "      <td>PARIS</td>\n",
       "      <td>2015-02-03</td>\n",
       "      <td>ANNAMAMASHOW, Raymond Maeder, 3APEXCO</td>\n",
       "    </tr>\n",
       "    <tr>\n",
       "      <th>4</th>\n",
       "      <td>4</td>\n",
       "      <td>bluenove</td>\n",
       "      <td>112 B RUE CARDINET 75017 PARIS 17</td>\n",
       "      <td>Conseil pour les affaires et autres conseils d...</td>\n",
       "      <td>Entre 20 et 49 salariés  (donnée 2020)</td>\n",
       "      <td>2008-01-23</td>\n",
       "      <td>SAS, société par actions simplifiée</td>\n",
       "      <td>56445</td>\n",
       "      <td>L'activité de conseil en stratégie d'accompagn...</td>\n",
       "      <td>70.22Z (Conseil pour les affaires et autres co...</td>\n",
       "      <td>Activités des sièges sociaux ; conseil de gestion</td>\n",
       "      <td>1</td>\n",
       "      <td>PARIS</td>\n",
       "      <td>2019-11-21</td>\n",
       "      <td>GROUPE BLUENOVE INC., Guillaume Drancy, Carole...</td>\n",
       "    </tr>\n",
       "  </tbody>\n",
       "</table>\n",
       "</div>"
      ],
      "text/plain": [
       "   company_id companyname                                          adresse  \\\n",
       "0           0    citility               5 RUE DE LA CLAIRE 69009 LYON 9EME   \n",
       "1           1     poligma  RPT BENJAMIN FRANKLIN 34960 MONTPELLIER CEDEX 2   \n",
       "2           2    voxcracy                   1133 RTE FENERIE 06580 PEGOMAS   \n",
       "3           3       LLL_2                    16 RUE DU CAIRE 75002 PARIS 2   \n",
       "4           4    bluenove                112 B RUE CARDINET 75017 PARIS 17   \n",
       "\n",
       "                                            activite  \\\n",
       "0                   Édition de logiciels applicatifs   \n",
       "1     Conseil en systèmes et logiciels informatiques   \n",
       "2                         Programmation informatique   \n",
       "3  Autres activités de soutien aux entreprises n....   \n",
       "4  Conseil pour les affaires et autres conseils d...   \n",
       "\n",
       "                                 effectif   creation  \\\n",
       "0                0 salarié  (donnée 2019) 2014-05-05   \n",
       "1    Entre 3 et 5 salariés  (donnée 2020) 2015-09-01   \n",
       "2                               0 salarié 2014-09-01   \n",
       "3    Entre 3 et 5 salariés  (donnée 2020) 2015-01-16   \n",
       "4  Entre 20 et 49 salariés  (donnée 2020) 2008-01-23   \n",
       "\n",
       "                       forme_juridique  capital_social  \\\n",
       "0  SAS, société par actions simplifiée           39620   \n",
       "1  SAS, société par actions simplifiée           20944   \n",
       "2  SAS, société par actions simplifiée            1000   \n",
       "3  SAS, société par actions simplifiée           45000   \n",
       "4  SAS, société par actions simplifiée           56445   \n",
       "\n",
       "                        activite_principale_declaree  \\\n",
       "0                  Edition de logiciels applicatifs.   \n",
       "1  Développement de services informatiques et num...   \n",
       "2  La recherche, le développement et la commercia...   \n",
       "3  Développement de nouvelles formes de collabora...   \n",
       "4  L'activité de conseil en stratégie d'accompagn...   \n",
       "\n",
       "                                     code_naf_ou_ape  \\\n",
       "0          58.29C (Édition de logiciels applicatifs)   \n",
       "1  62.02A (Conseil en systèmes et logiciels infor...   \n",
       "2                62.01Z (Programmation informatique)   \n",
       "3  82.99Z (Autres activités de soutien aux entrep...   \n",
       "4  70.22Z (Conseil pour les affaires et autres co...   \n",
       "\n",
       "                                   domaine_dactivite  inscription_rcs  \\\n",
       "0                                            Édition                1   \n",
       "1  Programmation, conseil et autres activités inf...                1   \n",
       "2  Programmation, conseil et autres activités inf...                1   \n",
       "3  Activités administratives et autres activités ...                1   \n",
       "4  Activités des sièges sociaux ; conseil de gestion                1   \n",
       "\n",
       "        greffe date_inscr_rad  \\\n",
       "0         LYON     2014-05-12   \n",
       "1  MONTPELLIER     2015-09-11   \n",
       "2       GRASSE     2014-07-17   \n",
       "3        PARIS     2015-02-03   \n",
       "4        PARIS     2019-11-21   \n",
       "\n",
       "                                           directors  \n",
       "0                  André MAY, ODICEO, Sabine SCHNECK  \n",
       "1                                    Philippe GERARD  \n",
       "2                      Olivier ROCCA, Pascal RUSCICA  \n",
       "3              ANNAMAMASHOW, Raymond Maeder, 3APEXCO  \n",
       "4  GROUPE BLUENOVE INC., Guillaume Drancy, Carole...  "
      ]
     },
     "execution_count": 75,
     "metadata": {},
     "output_type": "execute_result"
    }
   ],
   "source": [
    "companies.head()"
   ]
  },
  {
   "attachments": {},
   "cell_type": "markdown",
   "metadata": {},
   "source": [
    "### export to sql and csv"
   ]
  },
  {
   "cell_type": "code",
   "execution_count": 76,
   "metadata": {},
   "outputs": [],
   "source": [
    "companies.to_csv(\"sql/companies_info.csv\", sep=\";\", index=False)"
   ]
  },
  {
   "cell_type": "code",
   "execution_count": 77,
   "metadata": {},
   "outputs": [
    {
     "data": {
      "text/plain": [
       "61"
      ]
     },
     "execution_count": 77,
     "metadata": {},
     "output_type": "execute_result"
    }
   ],
   "source": [
    "companies.to_sql('companies_info', engine, 'civictech', if_exists='replace', index=False)"
   ]
  },
  {
   "cell_type": "code",
   "execution_count": 78,
   "metadata": {},
   "outputs": [],
   "source": [
    "associations.to_csv(\"sql/associations_info.csv\", sep=';', index=False)"
   ]
  },
  {
   "cell_type": "code",
   "execution_count": 79,
   "metadata": {},
   "outputs": [
    {
     "data": {
      "text/plain": [
       "15"
      ]
     },
     "execution_count": 79,
     "metadata": {},
     "output_type": "execute_result"
    }
   ],
   "source": [
    "associations.to_sql(\"associations_info\", engine, 'civictech', if_exists='replace', index=False)"
   ]
  },
  {
   "cell_type": "code",
   "execution_count": 80,
   "metadata": {},
   "outputs": [],
   "source": [
    "# https://pandas.pydata.org/docs/reference/api/pandas.DataFrame.to_sql.html\n",
    "\n",
    "# you can pass data types here \n",
    "# from sqlalchemy.types import Integer\n",
    "# df.to_sql('integers', con=engine, index=False,\n",
    "#           dtype={\"A\": Integer()})"
   ]
  }
 ],
 "metadata": {
  "kernelspec": {
   "display_name": "base",
   "language": "python",
   "name": "python3"
  },
  "language_info": {
   "codemirror_mode": {
    "name": "ipython",
    "version": 3
   },
   "file_extension": ".py",
   "mimetype": "text/x-python",
   "name": "python",
   "nbconvert_exporter": "python",
   "pygments_lexer": "ipython3",
   "version": "3.9.16"
  },
  "orig_nbformat": 4
 },
 "nbformat": 4,
 "nbformat_minor": 2
}
