{
 "cells": [
  {
   "attachments": {},
   "cell_type": "markdown",
   "metadata": {},
   "source": [
    "# Setup"
   ]
  },
  {
   "cell_type": "code",
   "execution_count": 169,
   "metadata": {},
   "outputs": [],
   "source": [
    "import pandas as pd\n",
    "import pymysql.cursors\n",
    "from sqlalchemy import create_engine, MetaData\n",
    "from sqlalchemy.schema import CreateTable\n",
    "from sqlalchemy import text\n",
    "import getpass\n",
    "import os\n",
    "\n",
    "sql_pass = getpass.getpass()\n",
    "#sql_pass = os.environ['MySQLPass']\n",
    "connection_string = 'mysql+pymysql://root:' + sql_pass + '@localhost:3306/'\n",
    "engine = create_engine(connection_string)\n"
   ]
  },
  {
   "cell_type": "code",
   "execution_count": 170,
   "metadata": {},
   "outputs": [],
   "source": [
    "#prompt user to enter MySQL root password\n",
    "#create connection string and engine to connect to MySQL database\n",
    "#connection_string = 'mysql+pymysql://root:' + sql_pass + '@localhost:3306/civictech' ### this could change \n",
    "#engine = create_engine(connection_string)"
   ]
  },
  {
   "attachments": {},
   "cell_type": "markdown",
   "metadata": {},
   "source": [
    "# People"
   ]
  },
  {
   "attachments": {},
   "cell_type": "markdown",
   "metadata": {},
   "source": [
    "### Names"
   ]
  },
  {
   "cell_type": "code",
   "execution_count": 171,
   "metadata": {},
   "outputs": [],
   "source": [
    "names= pd.read_csv('profiles/names.csv', sep=';')"
   ]
  },
  {
   "cell_type": "code",
   "execution_count": 172,
   "metadata": {},
   "outputs": [
    {
     "data": {
      "text/plain": [
       "47"
      ]
     },
     "execution_count": 172,
     "metadata": {},
     "output_type": "execute_result"
    }
   ],
   "source": [
    "names.to_sql('names', engine, 'civictech', if_exists='replace', index=False)"
   ]
  },
  {
   "attachments": {},
   "cell_type": "markdown",
   "metadata": {},
   "source": [
    "### Profiles"
   ]
  },
  {
   "cell_type": "code",
   "execution_count": 173,
   "metadata": {},
   "outputs": [
    {
     "name": "stdout",
     "output_type": "stream",
     "text": [
      "['ind_id', 'geoCountryName', 'geoLocationName', 'summary', 'industryName', 'headline', 'experience', 'education', 'languages', 'publications', 'certifications', 'volunteer', 'honors', 'projects', 'experience1', 'experience2', 'experience3', 'experience4', 'experience5', 'education1', 'education2', 'education3', 'languages_over2', 'honors_stated', 'publications_stated', 'volunteer_stated', 'projects_stated', 'certifications_stated', 'languages_stated', 'consulting_roles', 'direction_roles', 'founding_roles']\n",
      "32\n"
     ]
    }
   ],
   "source": [
    "people=pd.read_csv('profiles/people_main_db.csv', sep=';')\n",
    "print(list(people.columns))\n",
    "print(len(list(people.columns)))"
   ]
  },
  {
   "cell_type": "code",
   "execution_count": 174,
   "metadata": {},
   "outputs": [
    {
     "data": {
      "text/html": [
       "<div>\n",
       "<style scoped>\n",
       "    .dataframe tbody tr th:only-of-type {\n",
       "        vertical-align: middle;\n",
       "    }\n",
       "\n",
       "    .dataframe tbody tr th {\n",
       "        vertical-align: top;\n",
       "    }\n",
       "\n",
       "    .dataframe thead th {\n",
       "        text-align: right;\n",
       "    }\n",
       "</style>\n",
       "<table border=\"1\" class=\"dataframe\">\n",
       "  <thead>\n",
       "    <tr style=\"text-align: right;\">\n",
       "      <th></th>\n",
       "      <th>0</th>\n",
       "    </tr>\n",
       "  </thead>\n",
       "  <tbody>\n",
       "    <tr>\n",
       "      <th>summary</th>\n",
       "      <td>15</td>\n",
       "    </tr>\n",
       "    <tr>\n",
       "      <th>education3</th>\n",
       "      <td>12</td>\n",
       "    </tr>\n",
       "    <tr>\n",
       "      <th>education2</th>\n",
       "      <td>6</td>\n",
       "    </tr>\n",
       "    <tr>\n",
       "      <th>geoLocationName</th>\n",
       "      <td>4</td>\n",
       "    </tr>\n",
       "    <tr>\n",
       "      <th>experience5</th>\n",
       "      <td>3</td>\n",
       "    </tr>\n",
       "    <tr>\n",
       "      <th>experience4</th>\n",
       "      <td>2</td>\n",
       "    </tr>\n",
       "    <tr>\n",
       "      <th>geoCountryName</th>\n",
       "      <td>2</td>\n",
       "    </tr>\n",
       "    <tr>\n",
       "      <th>education1</th>\n",
       "      <td>1</td>\n",
       "    </tr>\n",
       "    <tr>\n",
       "      <th>honors_stated</th>\n",
       "      <td>0</td>\n",
       "    </tr>\n",
       "    <tr>\n",
       "      <th>languages_over2</th>\n",
       "      <td>0</td>\n",
       "    </tr>\n",
       "    <tr>\n",
       "      <th>ind_id</th>\n",
       "      <td>0</td>\n",
       "    </tr>\n",
       "    <tr>\n",
       "      <th>publications_stated</th>\n",
       "      <td>0</td>\n",
       "    </tr>\n",
       "    <tr>\n",
       "      <th>projects_stated</th>\n",
       "      <td>0</td>\n",
       "    </tr>\n",
       "    <tr>\n",
       "      <th>certifications_stated</th>\n",
       "      <td>0</td>\n",
       "    </tr>\n",
       "    <tr>\n",
       "      <th>languages_stated</th>\n",
       "      <td>0</td>\n",
       "    </tr>\n",
       "  </tbody>\n",
       "</table>\n",
       "</div>"
      ],
      "text/plain": [
       "                        0\n",
       "summary                15\n",
       "education3             12\n",
       "education2              6\n",
       "geoLocationName         4\n",
       "experience5             3\n",
       "experience4             2\n",
       "geoCountryName          2\n",
       "education1              1\n",
       "honors_stated           0\n",
       "languages_over2         0\n",
       "ind_id                  0\n",
       "publications_stated     0\n",
       "projects_stated         0\n",
       "certifications_stated   0\n",
       "languages_stated        0"
      ]
     },
     "execution_count": 174,
     "metadata": {},
     "output_type": "execute_result"
    }
   ],
   "source": [
    "# We may want to drop the columns with too many missing values.\n",
    "pd.DataFrame(people.isna().sum().sort_values(ascending=False)).head(15)"
   ]
  },
  {
   "cell_type": "code",
   "execution_count": 175,
   "metadata": {},
   "outputs": [
    {
     "data": {
      "text/plain": [
       "ind_id                    int64\n",
       "consulting_roles          int64\n",
       "languages_stated          int64\n",
       "certifications_stated     int64\n",
       "projects_stated           int64\n",
       "volunteer_stated          int64\n",
       "publications_stated       int64\n",
       "honors_stated             int64\n",
       "languages_over2           int64\n",
       "direction_roles           int64\n",
       "founding_roles            int64\n",
       "volunteer                object\n",
       "geoCountryName           object\n",
       "geoLocationName          object\n",
       "summary                  object\n",
       "industryName             object\n",
       "headline                 object\n",
       "experience               object\n",
       "education                object\n",
       "languages                object\n",
       "certifications           object\n",
       "education3               object\n",
       "education1               object\n",
       "experience5              object\n",
       "experience4              object\n",
       "experience3              object\n",
       "publications             object\n",
       "experience1              object\n",
       "projects                 object\n",
       "honors                   object\n",
       "education2               object\n",
       "experience2              object\n",
       "dtype: object"
      ]
     },
     "execution_count": 175,
     "metadata": {},
     "output_type": "execute_result"
    }
   ],
   "source": [
    "# and/or drop text columns \n",
    "people.dtypes.sort_values()"
   ]
  },
  {
   "cell_type": "code",
   "execution_count": 176,
   "metadata": {},
   "outputs": [],
   "source": [
    "people.to_csv(\"sql/people.csv\", sep=\";\", index=False)"
   ]
  },
  {
   "cell_type": "code",
   "execution_count": 177,
   "metadata": {},
   "outputs": [
    {
     "data": {
      "text/plain": [
       "47"
      ]
     },
     "execution_count": 177,
     "metadata": {},
     "output_type": "execute_result"
    }
   ],
   "source": [
    "# for now we are keeping it as is\n",
    "people.to_sql('people', engine, 'civictech', if_exists='replace', index=False)"
   ]
  },
  {
   "attachments": {},
   "cell_type": "markdown",
   "metadata": {},
   "source": [
    "### Experience"
   ]
  },
  {
   "cell_type": "code",
   "execution_count": 178,
   "metadata": {},
   "outputs": [],
   "source": [
    "experience=pd.read_csv('profiles/people_experience_db.csv', sep=';')"
   ]
  },
  {
   "cell_type": "code",
   "execution_count": 179,
   "metadata": {},
   "outputs": [
    {
     "name": "stdout",
     "output_type": "stream",
     "text": [
      "['index', 'ind_id', 'locationName', 'companyName', 'description', 'title', 'startDate_month', 'startDate_year', 'endDate_month', 'endDate_year', 'industry', 'company_empl_low', 'company_empl_high', 'title_direction', 'titleconsulting', 'titlefounder']\n",
      "16\n",
      "235\n"
     ]
    }
   ],
   "source": [
    "print(list(experience.columns))\n",
    "print(len(list(experience.columns)))\n",
    "print(len(experience))"
   ]
  },
  {
   "cell_type": "code",
   "execution_count": 180,
   "metadata": {},
   "outputs": [
    {
     "data": {
      "text/plain": [
       "locationName         62\n",
       "description          57\n",
       "industry             20\n",
       "companyName           5\n",
       "title                 5\n",
       "index                 0\n",
       "ind_id                0\n",
       "startDate_month       0\n",
       "startDate_year        0\n",
       "endDate_month         0\n",
       "endDate_year          0\n",
       "company_empl_low      0\n",
       "company_empl_high     0\n",
       "title_direction       0\n",
       "titleconsulting       0\n",
       "titlefounder          0\n",
       "dtype: int64"
      ]
     },
     "execution_count": 180,
     "metadata": {},
     "output_type": "execute_result"
    }
   ],
   "source": [
    "experience.isna().sum().sort_values(ascending=False)"
   ]
  },
  {
   "cell_type": "code",
   "execution_count": 181,
   "metadata": {},
   "outputs": [
    {
     "data": {
      "text/plain": [
       "locationName         62\n",
       "description          57\n",
       "industry             20\n",
       "companyName           5\n",
       "title                 5\n",
       "index                 0\n",
       "ind_id                0\n",
       "startDate_month       0\n",
       "startDate_year        0\n",
       "endDate_month         0\n",
       "endDate_year          0\n",
       "company_empl_low      0\n",
       "company_empl_high     0\n",
       "title_direction       0\n",
       "titleconsulting       0\n",
       "titlefounder          0\n",
       "dtype: int64"
      ]
     },
     "execution_count": 181,
     "metadata": {},
     "output_type": "execute_result"
    }
   ],
   "source": [
    "experience.isna().sum().sort_values(ascending=False)"
   ]
  },
  {
   "cell_type": "code",
   "execution_count": 182,
   "metadata": {},
   "outputs": [],
   "source": [
    "experience['startDate_year'] = experience['startDate_year'].fillna(0)\n",
    "experience['startDate_month'] = experience['startDate_month'].fillna(0)\n",
    "experience['endDate_year'] = experience['endDate_year'].fillna(0)\n",
    "experience['endDate_month'] = experience['endDate_month'].fillna(0)\n",
    "experience['company_empl_low'] = experience['company_empl_low'].fillna(999)\n",
    "experience['company_empl_high'] = experience['company_empl_high'].fillna(999)"
   ]
  },
  {
   "cell_type": "code",
   "execution_count": 183,
   "metadata": {},
   "outputs": [],
   "source": [
    "experience['startDate_year'] = experience['startDate_year'].astype(int)\n",
    "experience['startDate_month'] = experience['startDate_month'].astype(int)\n",
    "experience['endDate_year'] = experience['endDate_year'].astype(int)\n",
    "experience['endDate_month'] = experience['endDate_month'].astype(int)\n",
    "experience['company_empl_low'] = experience['company_empl_low'].astype(int)\n",
    "experience['company_empl_high'] = experience['company_empl_high'].astype(int)"
   ]
  },
  {
   "cell_type": "code",
   "execution_count": 184,
   "metadata": {},
   "outputs": [
    {
     "data": {
      "text/plain": [
       "\"['Management Consulting']\""
      ]
     },
     "execution_count": 184,
     "metadata": {},
     "output_type": "execute_result"
    }
   ],
   "source": [
    "experience.industry[1]"
   ]
  },
  {
   "cell_type": "code",
   "execution_count": 185,
   "metadata": {},
   "outputs": [],
   "source": [
    "import re\n",
    "def clean_industry(x):\n",
    "    x=str(x)\n",
    "    pattern = \"[a-zA-Z]+ [a-zA-Z]+|[a-zA-Z]+\"\n",
    "    a= re.findall(pattern, x)\n",
    "    a= ' '.join(a)\n",
    "    #a= a[1:-1]\n",
    "    return a"
   ]
  },
  {
   "cell_type": "code",
   "execution_count": 186,
   "metadata": {},
   "outputs": [
    {
     "name": "stdout",
     "output_type": "stream",
     "text": [
      "['Management Consulting', 'Management Consulting', 'Management Consulting', 'Management Consulting', 'Management Consulting', 'Venture Capital Private Equity', 'Venture Capital Private Equity', 'Venture Capital Private Equity', 'Venture Capital Private Equity', 'Venture Capital Private Equity', 'Nonprofit Organization Management', 'Nonprofit Organization Management', 'Nonprofit Organization Management', 'Nonprofit Organization Management', 'Nonprofit Organization Management', 'nan', 'nan', 'nan', 'nan', 'nan', 'Computer Software', 'Computer Software', 'Computer Software', 'Computer Software', 'Computer Software', 'Internet', 'Internet', 'Internet', 'Internet', 'Internet', 'Information Technology and Services', 'Information Technology and Services', 'Information Technology and Services', 'Information Technology and Services', 'Information Technology and Services', 'Civic Social Organization', 'Civic Social Organization', 'Civic Social Organization', 'Civic Social Organization', 'Civic Social Organization', 'Management Consulting', 'Management Consulting', 'Management Consulting', 'Management Consulting', 'Management Consulting', 'Civic Social Organization', 'Civic Social Organization', 'Civic Social Organization', 'Civic Social Organization', 'Civic Social Organization', 'Graphic Design', 'Graphic Design', 'Graphic Design', 'Graphic Design', 'Graphic Design', 'Higher Education', 'Higher Education', 'Higher Education', 'Higher Education', 'Higher Education', 'Computer Software', 'Computer Software', 'Computer Software', 'Computer Software', 'Computer Software', 'Computer Software', 'Computer Software', 'Computer Software', 'Computer Software', 'Computer Software', 'Computer Software', 'Computer Software', 'Computer Software', 'Computer Software', 'Computer Software', 'Information Technology and Services', 'Information Technology and Services', 'Information Technology and Services', 'Information Technology and Services', 'Information Technology and Services', 'Computer Software', 'Computer Software', 'Computer Software', 'Computer Software', 'Computer Software', 'Computer Software', 'Computer Software', 'Computer Software', 'Computer Software', 'Computer Software', 'Computer Software', 'Computer Software', 'Computer Software', 'Computer Software', 'Computer Software', 'Management Consulting', 'Management Consulting', 'Management Consulting', 'Management Consulting', 'Management Consulting', 'Information Technology and Services', 'Information Technology and Services', 'Information Technology and Services', 'Information Technology and Services', 'Information Technology and Services', 'Information Technology and Services', 'Information Technology and Services', 'Information Technology and Services', 'Information Technology and Services', 'Information Technology and Services', 'Management Consulting', 'Management Consulting', 'Management Consulting', 'Management Consulting', 'Management Consulting', 'Computer Software', 'Computer Software', 'Computer Software', 'Computer Software', 'Computer Software', 'Civic Social Organization', 'Civic Social Organization', 'Civic Social Organization', 'Civic Social Organization', 'Civic Social Organization', 'Higher Education', 'Higher Education', 'Higher Education', 'Higher Education', 'Higher Education', 'Civic Social Organization', 'Civic Social Organization', 'Civic Social Organization', 'Civic Social Organization', 'Civic Social Organization', 'nan', 'nan', 'nan', 'nan', 'nan', 'Higher Education', 'Higher Education', 'Higher Education', 'Higher Education', 'Higher Education', 'Information Technology and Services', 'Information Technology and Services', 'Information Technology and Services', 'Information Technology and Services', 'Information Technology and Services', 'Information Technology and Services', 'Information Technology and Services', 'Information Technology and Services', 'Information Technology and Services', 'Information Technology and Services', 'nan', 'nan', 'nan', 'nan', 'nan', 'Civic Social Organization', 'Civic Social Organization', 'Civic Social Organization', 'Civic Social Organization', 'Civic Social Organization', 'nan', 'nan', 'nan', 'nan', 'nan', 'Performing Arts', 'Performing Arts', 'Performing Arts', 'Performing Arts', 'Performing Arts', 'Internet', 'Internet', 'Internet', 'Internet', 'Internet', 'Information Technology and Services', 'Information Technology and Services', 'Information Technology and Services', 'Information Technology and Services', 'Information Technology and Services', 'Computer Software', 'Computer Software', 'Computer Software', 'Computer Software', 'Computer Software', 'Marketing and Advertising', 'Marketing and Advertising', 'Marketing and Advertising', 'Marketing and Advertising', 'Marketing and Advertising', 'Civic Social Organization', 'Civic Social Organization', 'Civic Social Organization', 'Civic Social Organization', 'Civic Social Organization', 'Computer Software', 'Computer Software', 'Computer Software', 'Computer Software', 'Computer Software', 'Civic Social Organization', 'Civic Social Organization', 'Civic Social Organization', 'Civic Social Organization', 'Civic Social Organization', 'Computer Software', 'Computer Software', 'Computer Software', 'Computer Software', 'Computer Software', 'Information Technology and Services', 'Information Technology and Services', 'Information Technology and Services', 'Information Technology and Services', 'Information Technology and Services', 'Information Technology and Services', 'Information Technology and Services', 'Information Technology and Services', 'Information Technology and Services', 'Information Technology and Services', 'Higher Education', 'Higher Education', 'Higher Education', 'Higher Education', 'Higher Education', 'Research', 'Research', 'Research', 'Research', 'Research']\n"
     ]
    }
   ],
   "source": [
    "print(list(experience['industry'].apply(clean_industry)))"
   ]
  },
  {
   "cell_type": "code",
   "execution_count": 187,
   "metadata": {},
   "outputs": [],
   "source": [
    "experience['industry']= experience['industry'].apply(clean_industry)"
   ]
  },
  {
   "cell_type": "code",
   "execution_count": 188,
   "metadata": {},
   "outputs": [
    {
     "data": {
      "text/plain": [
       "Computer Software                      55\n",
       "Information Technology and Services    45\n",
       "Civic Social Organization              35\n",
       "Management Consulting                  20\n",
       "nan                                    20\n",
       "Higher Education                       20\n",
       "Internet                               10\n",
       "Venture Capital Private Equity          5\n",
       "Nonprofit Organization Management       5\n",
       "Graphic Design                          5\n",
       "Performing Arts                         5\n",
       "Marketing and Advertising               5\n",
       "Research                                5\n",
       "Name: industry, dtype: int64"
      ]
     },
     "execution_count": 188,
     "metadata": {},
     "output_type": "execute_result"
    }
   ],
   "source": [
    "experience['industry'].value_counts()"
   ]
  },
  {
   "cell_type": "code",
   "execution_count": 189,
   "metadata": {},
   "outputs": [
    {
     "data": {
      "text/html": [
       "<div>\n",
       "<style scoped>\n",
       "    .dataframe tbody tr th:only-of-type {\n",
       "        vertical-align: middle;\n",
       "    }\n",
       "\n",
       "    .dataframe tbody tr th {\n",
       "        vertical-align: top;\n",
       "    }\n",
       "\n",
       "    .dataframe thead th {\n",
       "        text-align: right;\n",
       "    }\n",
       "</style>\n",
       "<table border=\"1\" class=\"dataframe\">\n",
       "  <thead>\n",
       "    <tr style=\"text-align: right;\">\n",
       "      <th></th>\n",
       "      <th>ind_id</th>\n",
       "      <th>locationName</th>\n",
       "      <th>companyName</th>\n",
       "      <th>description</th>\n",
       "      <th>title</th>\n",
       "      <th>startDate_month</th>\n",
       "      <th>startDate_year</th>\n",
       "      <th>endDate_month</th>\n",
       "      <th>endDate_year</th>\n",
       "      <th>industry</th>\n",
       "      <th>company_empl_low</th>\n",
       "      <th>company_empl_high</th>\n",
       "      <th>title_direction</th>\n",
       "      <th>titleconsulting</th>\n",
       "      <th>titlefounder</th>\n",
       "    </tr>\n",
       "  </thead>\n",
       "  <tbody>\n",
       "    <tr>\n",
       "      <th>0</th>\n",
       "      <td>0</td>\n",
       "      <td>Paris Metropolitan Region</td>\n",
       "      <td>bluenove</td>\n",
       "      <td>Bluenove accompagne la transformation positive...</td>\n",
       "      <td>Directeur associé</td>\n",
       "      <td>11</td>\n",
       "      <td>2017</td>\n",
       "      <td>0</td>\n",
       "      <td>0</td>\n",
       "      <td>Management Consulting</td>\n",
       "      <td>11</td>\n",
       "      <td>50</td>\n",
       "      <td>1</td>\n",
       "      <td>0</td>\n",
       "      <td>0</td>\n",
       "    </tr>\n",
       "    <tr>\n",
       "      <th>1</th>\n",
       "      <td>0</td>\n",
       "      <td>Paris Metropolitan Region</td>\n",
       "      <td>démocratie ouverte</td>\n",
       "      <td>Démocratie Ouverte est un collectif citoyen in...</td>\n",
       "      <td>Co-Président</td>\n",
       "      <td>1</td>\n",
       "      <td>2018</td>\n",
       "      <td>5</td>\n",
       "      <td>2020</td>\n",
       "      <td>Management Consulting</td>\n",
       "      <td>11</td>\n",
       "      <td>50</td>\n",
       "      <td>1</td>\n",
       "      <td>0</td>\n",
       "      <td>0</td>\n",
       "    </tr>\n",
       "    <tr>\n",
       "      <th>2</th>\n",
       "      <td>0</td>\n",
       "      <td>Paris Metropolitan Region</td>\n",
       "      <td>apm - association progrès du management</td>\n",
       "      <td>NaN</td>\n",
       "      <td>Expert</td>\n",
       "      <td>1</td>\n",
       "      <td>2017</td>\n",
       "      <td>0</td>\n",
       "      <td>0</td>\n",
       "      <td>Management Consulting</td>\n",
       "      <td>11</td>\n",
       "      <td>50</td>\n",
       "      <td>0</td>\n",
       "      <td>0</td>\n",
       "      <td>0</td>\n",
       "    </tr>\n",
       "    <tr>\n",
       "      <th>3</th>\n",
       "      <td>0</td>\n",
       "      <td>NaN</td>\n",
       "      <td>démocratie ouverte</td>\n",
       "      <td>NaN</td>\n",
       "      <td>Membre du Comité d'Orientation Stratégique</td>\n",
       "      <td>7</td>\n",
       "      <td>2021</td>\n",
       "      <td>0</td>\n",
       "      <td>0</td>\n",
       "      <td>Management Consulting</td>\n",
       "      <td>11</td>\n",
       "      <td>50</td>\n",
       "      <td>0</td>\n",
       "      <td>0</td>\n",
       "      <td>0</td>\n",
       "    </tr>\n",
       "    <tr>\n",
       "      <th>4</th>\n",
       "      <td>0</td>\n",
       "      <td>Paris Metropolitan Region</td>\n",
       "      <td>dassault systèmes</td>\n",
       "      <td>Netvibes provides Dashboard Intelligence ~ tra...</td>\n",
       "      <td>Senior Director, Strategic Business Development</td>\n",
       "      <td>2</td>\n",
       "      <td>2013</td>\n",
       "      <td>10</td>\n",
       "      <td>2017</td>\n",
       "      <td>Management Consulting</td>\n",
       "      <td>11</td>\n",
       "      <td>50</td>\n",
       "      <td>1</td>\n",
       "      <td>0</td>\n",
       "      <td>0</td>\n",
       "    </tr>\n",
       "  </tbody>\n",
       "</table>\n",
       "</div>"
      ],
      "text/plain": [
       "   ind_id               locationName                              companyName  \\\n",
       "0       0  Paris Metropolitan Region                                 bluenove   \n",
       "1       0  Paris Metropolitan Region                       démocratie ouverte   \n",
       "2       0  Paris Metropolitan Region  apm - association progrès du management   \n",
       "3       0                        NaN                       démocratie ouverte   \n",
       "4       0  Paris Metropolitan Region                        dassault systèmes   \n",
       "\n",
       "                                         description  \\\n",
       "0  Bluenove accompagne la transformation positive...   \n",
       "1  Démocratie Ouverte est un collectif citoyen in...   \n",
       "2                                                NaN   \n",
       "3                                                NaN   \n",
       "4  Netvibes provides Dashboard Intelligence ~ tra...   \n",
       "\n",
       "                                              title  startDate_month  \\\n",
       "0                                 Directeur associé               11   \n",
       "1                                      Co-Président                1   \n",
       "2                                            Expert                1   \n",
       "3        Membre du Comité d'Orientation Stratégique                7   \n",
       "4  Senior Director, Strategic Business Development                 2   \n",
       "\n",
       "   startDate_year  endDate_month  endDate_year               industry  \\\n",
       "0            2017              0             0  Management Consulting   \n",
       "1            2018              5          2020  Management Consulting   \n",
       "2            2017              0             0  Management Consulting   \n",
       "3            2021              0             0  Management Consulting   \n",
       "4            2013             10          2017  Management Consulting   \n",
       "\n",
       "   company_empl_low  company_empl_high  title_direction  titleconsulting  \\\n",
       "0                11                 50                1                0   \n",
       "1                11                 50                1                0   \n",
       "2                11                 50                0                0   \n",
       "3                11                 50                0                0   \n",
       "4                11                 50                1                0   \n",
       "\n",
       "   titlefounder  \n",
       "0             0  \n",
       "1             0  \n",
       "2             0  \n",
       "3             0  \n",
       "4             0  "
      ]
     },
     "execution_count": 189,
     "metadata": {},
     "output_type": "execute_result"
    }
   ],
   "source": [
    "experience.drop(columns='index', inplace=True)\n",
    "experience.head()"
   ]
  },
  {
   "cell_type": "code",
   "execution_count": 190,
   "metadata": {},
   "outputs": [],
   "source": [
    "experience.reset_index(inplace=True)"
   ]
  },
  {
   "cell_type": "code",
   "execution_count": 191,
   "metadata": {},
   "outputs": [],
   "source": [
    "experience.rename(columns={\"index\":\"exp_id\"}, inplace=True)"
   ]
  },
  {
   "cell_type": "code",
   "execution_count": 192,
   "metadata": {},
   "outputs": [
    {
     "data": {
      "text/plain": [
       "exp_id                int64\n",
       "ind_id                int64\n",
       "locationName         object\n",
       "companyName          object\n",
       "description          object\n",
       "title                object\n",
       "startDate_month       int64\n",
       "startDate_year        int64\n",
       "endDate_month         int64\n",
       "endDate_year          int64\n",
       "industry             object\n",
       "company_empl_low      int64\n",
       "company_empl_high     int64\n",
       "title_direction       int64\n",
       "titleconsulting       int64\n",
       "titlefounder          int64\n",
       "dtype: object"
      ]
     },
     "execution_count": 192,
     "metadata": {},
     "output_type": "execute_result"
    }
   ],
   "source": [
    "experience.dtypes"
   ]
  },
  {
   "cell_type": "code",
   "execution_count": 193,
   "metadata": {},
   "outputs": [
    {
     "data": {
      "text/plain": [
       "Index(['exp_id', 'ind_id', 'locationName', 'companyName', 'description',\n",
       "       'title', 'startDate_month', 'startDate_year', 'endDate_month',\n",
       "       'endDate_year', 'industry', 'company_empl_low', 'company_empl_high',\n",
       "       'title_direction', 'titleconsulting', 'titlefounder'],\n",
       "      dtype='object')"
      ]
     },
     "execution_count": 193,
     "metadata": {},
     "output_type": "execute_result"
    }
   ],
   "source": [
    "experience.columns"
   ]
  },
  {
   "cell_type": "code",
   "execution_count": 194,
   "metadata": {},
   "outputs": [
    {
     "data": {
      "text/html": [
       "<div>\n",
       "<style scoped>\n",
       "    .dataframe tbody tr th:only-of-type {\n",
       "        vertical-align: middle;\n",
       "    }\n",
       "\n",
       "    .dataframe tbody tr th {\n",
       "        vertical-align: top;\n",
       "    }\n",
       "\n",
       "    .dataframe thead th {\n",
       "        text-align: right;\n",
       "    }\n",
       "</style>\n",
       "<table border=\"1\" class=\"dataframe\">\n",
       "  <thead>\n",
       "    <tr style=\"text-align: right;\">\n",
       "      <th></th>\n",
       "      <th>exp_id</th>\n",
       "      <th>ind_id</th>\n",
       "      <th>locationName</th>\n",
       "      <th>companyName</th>\n",
       "      <th>description</th>\n",
       "      <th>title</th>\n",
       "      <th>startDate_month</th>\n",
       "      <th>startDate_year</th>\n",
       "      <th>endDate_month</th>\n",
       "      <th>endDate_year</th>\n",
       "      <th>industry</th>\n",
       "      <th>company_empl_low</th>\n",
       "      <th>company_empl_high</th>\n",
       "      <th>title_direction</th>\n",
       "      <th>titleconsulting</th>\n",
       "      <th>titlefounder</th>\n",
       "    </tr>\n",
       "  </thead>\n",
       "  <tbody>\n",
       "    <tr>\n",
       "      <th>0</th>\n",
       "      <td>0</td>\n",
       "      <td>0</td>\n",
       "      <td>Paris Metropolitan Region</td>\n",
       "      <td>bluenove</td>\n",
       "      <td>Bluenove accompagne la transformation positive...</td>\n",
       "      <td>Directeur associé</td>\n",
       "      <td>11</td>\n",
       "      <td>2017</td>\n",
       "      <td>0</td>\n",
       "      <td>0</td>\n",
       "      <td>Management Consulting</td>\n",
       "      <td>11</td>\n",
       "      <td>50</td>\n",
       "      <td>1</td>\n",
       "      <td>0</td>\n",
       "      <td>0</td>\n",
       "    </tr>\n",
       "    <tr>\n",
       "      <th>1</th>\n",
       "      <td>1</td>\n",
       "      <td>0</td>\n",
       "      <td>Paris Metropolitan Region</td>\n",
       "      <td>démocratie ouverte</td>\n",
       "      <td>Démocratie Ouverte est un collectif citoyen in...</td>\n",
       "      <td>Co-Président</td>\n",
       "      <td>1</td>\n",
       "      <td>2018</td>\n",
       "      <td>5</td>\n",
       "      <td>2020</td>\n",
       "      <td>Management Consulting</td>\n",
       "      <td>11</td>\n",
       "      <td>50</td>\n",
       "      <td>1</td>\n",
       "      <td>0</td>\n",
       "      <td>0</td>\n",
       "    </tr>\n",
       "    <tr>\n",
       "      <th>2</th>\n",
       "      <td>2</td>\n",
       "      <td>0</td>\n",
       "      <td>Paris Metropolitan Region</td>\n",
       "      <td>apm - association progrès du management</td>\n",
       "      <td>NaN</td>\n",
       "      <td>Expert</td>\n",
       "      <td>1</td>\n",
       "      <td>2017</td>\n",
       "      <td>0</td>\n",
       "      <td>0</td>\n",
       "      <td>Management Consulting</td>\n",
       "      <td>11</td>\n",
       "      <td>50</td>\n",
       "      <td>0</td>\n",
       "      <td>0</td>\n",
       "      <td>0</td>\n",
       "    </tr>\n",
       "    <tr>\n",
       "      <th>3</th>\n",
       "      <td>3</td>\n",
       "      <td>0</td>\n",
       "      <td>NaN</td>\n",
       "      <td>démocratie ouverte</td>\n",
       "      <td>NaN</td>\n",
       "      <td>Membre du Comité d'Orientation Stratégique</td>\n",
       "      <td>7</td>\n",
       "      <td>2021</td>\n",
       "      <td>0</td>\n",
       "      <td>0</td>\n",
       "      <td>Management Consulting</td>\n",
       "      <td>11</td>\n",
       "      <td>50</td>\n",
       "      <td>0</td>\n",
       "      <td>0</td>\n",
       "      <td>0</td>\n",
       "    </tr>\n",
       "    <tr>\n",
       "      <th>4</th>\n",
       "      <td>4</td>\n",
       "      <td>0</td>\n",
       "      <td>Paris Metropolitan Region</td>\n",
       "      <td>dassault systèmes</td>\n",
       "      <td>Netvibes provides Dashboard Intelligence ~ tra...</td>\n",
       "      <td>Senior Director, Strategic Business Development</td>\n",
       "      <td>2</td>\n",
       "      <td>2013</td>\n",
       "      <td>10</td>\n",
       "      <td>2017</td>\n",
       "      <td>Management Consulting</td>\n",
       "      <td>11</td>\n",
       "      <td>50</td>\n",
       "      <td>1</td>\n",
       "      <td>0</td>\n",
       "      <td>0</td>\n",
       "    </tr>\n",
       "  </tbody>\n",
       "</table>\n",
       "</div>"
      ],
      "text/plain": [
       "   exp_id  ind_id               locationName  \\\n",
       "0       0       0  Paris Metropolitan Region   \n",
       "1       1       0  Paris Metropolitan Region   \n",
       "2       2       0  Paris Metropolitan Region   \n",
       "3       3       0                        NaN   \n",
       "4       4       0  Paris Metropolitan Region   \n",
       "\n",
       "                               companyName  \\\n",
       "0                                 bluenove   \n",
       "1                       démocratie ouverte   \n",
       "2  apm - association progrès du management   \n",
       "3                       démocratie ouverte   \n",
       "4                        dassault systèmes   \n",
       "\n",
       "                                         description  \\\n",
       "0  Bluenove accompagne la transformation positive...   \n",
       "1  Démocratie Ouverte est un collectif citoyen in...   \n",
       "2                                                NaN   \n",
       "3                                                NaN   \n",
       "4  Netvibes provides Dashboard Intelligence ~ tra...   \n",
       "\n",
       "                                              title  startDate_month  \\\n",
       "0                                 Directeur associé               11   \n",
       "1                                      Co-Président                1   \n",
       "2                                            Expert                1   \n",
       "3        Membre du Comité d'Orientation Stratégique                7   \n",
       "4  Senior Director, Strategic Business Development                 2   \n",
       "\n",
       "   startDate_year  endDate_month  endDate_year               industry  \\\n",
       "0            2017              0             0  Management Consulting   \n",
       "1            2018              5          2020  Management Consulting   \n",
       "2            2017              0             0  Management Consulting   \n",
       "3            2021              0             0  Management Consulting   \n",
       "4            2013             10          2017  Management Consulting   \n",
       "\n",
       "   company_empl_low  company_empl_high  title_direction  titleconsulting  \\\n",
       "0                11                 50                1                0   \n",
       "1                11                 50                1                0   \n",
       "2                11                 50                0                0   \n",
       "3                11                 50                0                0   \n",
       "4                11                 50                1                0   \n",
       "\n",
       "   titlefounder  \n",
       "0             0  \n",
       "1             0  \n",
       "2             0  \n",
       "3             0  \n",
       "4             0  "
      ]
     },
     "execution_count": 194,
     "metadata": {},
     "output_type": "execute_result"
    }
   ],
   "source": [
    "experience.head()"
   ]
  },
  {
   "cell_type": "code",
   "execution_count": 195,
   "metadata": {},
   "outputs": [],
   "source": [
    "experience.to_csv(\"sql/experience.csv\", sep=\";\", index=False)"
   ]
  },
  {
   "cell_type": "code",
   "execution_count": 196,
   "metadata": {},
   "outputs": [
    {
     "data": {
      "text/plain": [
       "235"
      ]
     },
     "execution_count": 196,
     "metadata": {},
     "output_type": "execute_result"
    }
   ],
   "source": [
    "people_experience.to_sql('people_experience',engine, 'civictech', if_exists='replace', index=False)"
   ]
  },
  {
   "attachments": {},
   "cell_type": "markdown",
   "metadata": {},
   "source": [
    "### Education"
   ]
  },
  {
   "cell_type": "code",
   "execution_count": 197,
   "metadata": {},
   "outputs": [],
   "source": [
    "education=pd.read_csv('profiles/people_education_db.csv', sep=';')"
   ]
  },
  {
   "cell_type": "code",
   "execution_count": 198,
   "metadata": {},
   "outputs": [
    {
     "name": "stdout",
     "output_type": "stream",
     "text": [
      "['ind_id', 'school', 'degreeName', 'schoolName', 'fieldOfStudy', 'startDate_year']\n",
      "6\n",
      "141\n"
     ]
    }
   ],
   "source": [
    "print(list(education.columns))\n",
    "print(len(list(education.columns)))\n",
    "print(len(education))"
   ]
  },
  {
   "cell_type": "code",
   "execution_count": 199,
   "metadata": {},
   "outputs": [
    {
     "data": {
      "text/plain": [
       "fieldOfStudy      51\n",
       "school            46\n",
       "degreeName        44\n",
       "startDate_year    30\n",
       "schoolName        19\n",
       "ind_id             0\n",
       "dtype: int64"
      ]
     },
     "execution_count": 199,
     "metadata": {},
     "output_type": "execute_result"
    }
   ],
   "source": [
    "education.isna().sum().sort_values(ascending=False)"
   ]
  },
  {
   "cell_type": "code",
   "execution_count": 200,
   "metadata": {},
   "outputs": [
    {
     "data": {
      "text/plain": [
       "school             object\n",
       "degreeName         object\n",
       "schoolName         object\n",
       "fieldOfStudy       object\n",
       "startDate_year    float64\n",
       "ind_id              int64\n",
       "dtype: object"
      ]
     },
     "execution_count": 200,
     "metadata": {},
     "output_type": "execute_result"
    }
   ],
   "source": [
    "education.dtypes.sort_values(ascending=False)"
   ]
  },
  {
   "cell_type": "code",
   "execution_count": 201,
   "metadata": {},
   "outputs": [],
   "source": [
    "education.startDate_year.value_counts(dropna=False)\n",
    "education['startDate_year'] = education['startDate_year'].fillna(0)"
   ]
  },
  {
   "cell_type": "code",
   "execution_count": 202,
   "metadata": {},
   "outputs": [],
   "source": [
    "education['startDate_year']= education['startDate_year'].astype(int)"
   ]
  },
  {
   "cell_type": "code",
   "execution_count": 203,
   "metadata": {},
   "outputs": [],
   "source": [
    "education.to_csv(\"sql/education_2.csv\", sep=\";\", index=False)"
   ]
  },
  {
   "cell_type": "code",
   "execution_count": 204,
   "metadata": {},
   "outputs": [
    {
     "data": {
      "text/plain": [
       "141"
      ]
     },
     "execution_count": 204,
     "metadata": {},
     "output_type": "execute_result"
    }
   ],
   "source": [
    "education.to_sql('education', engine, 'civictech', if_exists='replace', index=False)"
   ]
  },
  {
   "attachments": {},
   "cell_type": "markdown",
   "metadata": {},
   "source": [
    "# Organizations"
   ]
  },
  {
   "attachments": {},
   "cell_type": "markdown",
   "metadata": {},
   "source": [
    "## Companies finance data"
   ]
  },
  {
   "cell_type": "code",
   "execution_count": 205,
   "metadata": {},
   "outputs": [],
   "source": [
    "companies_finance=pd.read_csv('scraping_organizations/companies_finance_data.csv', sep=';') # possible index drop"
   ]
  },
  {
   "cell_type": "code",
   "execution_count": 206,
   "metadata": {},
   "outputs": [
    {
     "data": {
      "text/html": [
       "<div>\n",
       "<style scoped>\n",
       "    .dataframe tbody tr th:only-of-type {\n",
       "        vertical-align: middle;\n",
       "    }\n",
       "\n",
       "    .dataframe tbody tr th {\n",
       "        vertical-align: top;\n",
       "    }\n",
       "\n",
       "    .dataframe thead th {\n",
       "        text-align: right;\n",
       "    }\n",
       "</style>\n",
       "<table border=\"1\" class=\"dataframe\">\n",
       "  <thead>\n",
       "    <tr style=\"text-align: right;\">\n",
       "      <th></th>\n",
       "      <th>company</th>\n",
       "      <th>annee</th>\n",
       "      <th>chiffre_daffaires_e</th>\n",
       "      <th>marge_brute_e</th>\n",
       "      <th>resultat_dexploitation_e</th>\n",
       "      <th>resultat_net_e</th>\n",
       "      <th>taux_croissance_ca_pc</th>\n",
       "      <th>taux_marge_brute_pc</th>\n",
       "      <th>taux_marge_operationnelle_pc</th>\n",
       "      <th>gestion_bfr</th>\n",
       "      <th>...</th>\n",
       "      <th>marge_nette_pc</th>\n",
       "      <th>rentabilite_sur_fonds_propres_pc</th>\n",
       "      <th>rentabilite_economique_pc</th>\n",
       "      <th>valeur_ajoutee_e</th>\n",
       "      <th>valeur_ajoutee_sur_ca_pc</th>\n",
       "      <th>structure_dactivite</th>\n",
       "      <th>salaires_et_charges_sociales_e</th>\n",
       "      <th>salaires_sur_ca_pc</th>\n",
       "      <th>impots_et_taxes_e</th>\n",
       "      <th>chiffre_daffaires_a_lexport_e</th>\n",
       "    </tr>\n",
       "  </thead>\n",
       "  <tbody>\n",
       "    <tr>\n",
       "      <th>0</th>\n",
       "      <td>citility</td>\n",
       "      <td>2017.0</td>\n",
       "      <td>0.0</td>\n",
       "      <td>0</td>\n",
       "      <td>0</td>\n",
       "      <td>-562000</td>\n",
       "      <td>0</td>\n",
       "      <td>0</td>\n",
       "      <td>0</td>\n",
       "      <td>2017.0</td>\n",
       "      <td>...</td>\n",
       "      <td>0</td>\n",
       "      <td>0</td>\n",
       "      <td>0</td>\n",
       "      <td>0</td>\n",
       "      <td>0</td>\n",
       "      <td>2017.0</td>\n",
       "      <td>0</td>\n",
       "      <td>0</td>\n",
       "      <td>0</td>\n",
       "      <td>0</td>\n",
       "    </tr>\n",
       "    <tr>\n",
       "      <th>1</th>\n",
       "      <td>citility</td>\n",
       "      <td>2016.0</td>\n",
       "      <td>30700.0</td>\n",
       "      <td>527000</td>\n",
       "      <td>-296000</td>\n",
       "      <td>-238000</td>\n",
       "      <td>4</td>\n",
       "      <td>1720</td>\n",
       "      <td>-965</td>\n",
       "      <td>2016.0</td>\n",
       "      <td>...</td>\n",
       "      <td>-775</td>\n",
       "      <td>-623</td>\n",
       "      <td>-173</td>\n",
       "      <td>351000</td>\n",
       "      <td>1140</td>\n",
       "      <td>2016.0</td>\n",
       "      <td>636000</td>\n",
       "      <td>2070</td>\n",
       "      <td>9160</td>\n",
       "      <td>0</td>\n",
       "    </tr>\n",
       "    <tr>\n",
       "      <th>2</th>\n",
       "      <td>voxcracy</td>\n",
       "      <td>2019.0</td>\n",
       "      <td>46300.0</td>\n",
       "      <td>46300</td>\n",
       "      <td>-38500</td>\n",
       "      <td>-39000</td>\n",
       "      <td>177</td>\n",
       "      <td>100</td>\n",
       "      <td>-833</td>\n",
       "      <td>2019.0</td>\n",
       "      <td>...</td>\n",
       "      <td>-842</td>\n",
       "      <td>-76</td>\n",
       "      <td>-63</td>\n",
       "      <td>2170</td>\n",
       "      <td>47</td>\n",
       "      <td>2019.0</td>\n",
       "      <td>33600</td>\n",
       "      <td>725</td>\n",
       "      <td>137</td>\n",
       "      <td>0</td>\n",
       "    </tr>\n",
       "    <tr>\n",
       "      <th>3</th>\n",
       "      <td>voxcracy</td>\n",
       "      <td>2018.0</td>\n",
       "      <td>16700.0</td>\n",
       "      <td>157000</td>\n",
       "      <td>-130000</td>\n",
       "      <td>-112000</td>\n",
       "      <td>861</td>\n",
       "      <td>940</td>\n",
       "      <td>-776</td>\n",
       "      <td>2018.0</td>\n",
       "      <td>...</td>\n",
       "      <td>-668</td>\n",
       "      <td>-202</td>\n",
       "      <td>-169</td>\n",
       "      <td>-21000</td>\n",
       "      <td>-126</td>\n",
       "      <td>2018.0</td>\n",
       "      <td>101000</td>\n",
       "      <td>602</td>\n",
       "      <td>1120</td>\n",
       "      <td>5000</td>\n",
       "    </tr>\n",
       "    <tr>\n",
       "      <th>4</th>\n",
       "      <td>voxcracy</td>\n",
       "      <td>2017.0</td>\n",
       "      <td>1740.0</td>\n",
       "      <td>75900</td>\n",
       "      <td>-30300</td>\n",
       "      <td>-23400</td>\n",
       "      <td>0</td>\n",
       "      <td>4360</td>\n",
       "      <td>-1740</td>\n",
       "      <td>2017.0</td>\n",
       "      <td>...</td>\n",
       "      <td>-1350</td>\n",
       "      <td>-41</td>\n",
       "      <td>-39</td>\n",
       "      <td>-5040</td>\n",
       "      <td>-290</td>\n",
       "      <td>2017.0</td>\n",
       "      <td>19100</td>\n",
       "      <td>1100</td>\n",
       "      <td>329</td>\n",
       "      <td>0</td>\n",
       "    </tr>\n",
       "  </tbody>\n",
       "</table>\n",
       "<p>5 rows × 46 columns</p>\n",
       "</div>"
      ],
      "text/plain": [
       "    company   annee  chiffre_daffaires_e  marge_brute_e  \\\n",
       "0  citility  2017.0                  0.0              0   \n",
       "1  citility  2016.0              30700.0         527000   \n",
       "2  voxcracy  2019.0              46300.0          46300   \n",
       "3  voxcracy  2018.0              16700.0         157000   \n",
       "4  voxcracy  2017.0               1740.0          75900   \n",
       "\n",
       "   resultat_dexploitation_e  resultat_net_e  taux_croissance_ca_pc  \\\n",
       "0                         0         -562000                      0   \n",
       "1                   -296000         -238000                      4   \n",
       "2                    -38500          -39000                    177   \n",
       "3                   -130000         -112000                    861   \n",
       "4                    -30300          -23400                      0   \n",
       "\n",
       "   taux_marge_brute_pc  taux_marge_operationnelle_pc  gestion_bfr  ...  \\\n",
       "0                    0                             0       2017.0  ...   \n",
       "1                 1720                          -965       2016.0  ...   \n",
       "2                  100                          -833       2019.0  ...   \n",
       "3                  940                          -776       2018.0  ...   \n",
       "4                 4360                         -1740       2017.0  ...   \n",
       "\n",
       "   marge_nette_pc  rentabilite_sur_fonds_propres_pc  \\\n",
       "0               0                                 0   \n",
       "1            -775                              -623   \n",
       "2            -842                               -76   \n",
       "3            -668                              -202   \n",
       "4           -1350                               -41   \n",
       "\n",
       "   rentabilite_economique_pc  valeur_ajoutee_e  valeur_ajoutee_sur_ca_pc  \\\n",
       "0                          0                 0                         0   \n",
       "1                       -173            351000                      1140   \n",
       "2                        -63              2170                        47   \n",
       "3                       -169            -21000                      -126   \n",
       "4                        -39             -5040                      -290   \n",
       "\n",
       "   structure_dactivite  salaires_et_charges_sociales_e  salaires_sur_ca_pc  \\\n",
       "0               2017.0                               0                   0   \n",
       "1               2016.0                          636000                2070   \n",
       "2               2019.0                           33600                 725   \n",
       "3               2018.0                          101000                 602   \n",
       "4               2017.0                           19100                1100   \n",
       "\n",
       "   impots_et_taxes_e  chiffre_daffaires_a_lexport_e  \n",
       "0                  0                              0  \n",
       "1               9160                              0  \n",
       "2                137                              0  \n",
       "3               1120                           5000  \n",
       "4                329                              0  \n",
       "\n",
       "[5 rows x 46 columns]"
      ]
     },
     "execution_count": 206,
     "metadata": {},
     "output_type": "execute_result"
    }
   ],
   "source": [
    "companies_finance.head()"
   ]
  },
  {
   "cell_type": "code",
   "execution_count": 207,
   "metadata": {},
   "outputs": [],
   "source": [
    "companies_finance.drop(columns=['gestion_bfr', 'autonomie_financiere','solvabilite', 'rentabilite','structure_dactivite'], inplace=True)"
   ]
  },
  {
   "cell_type": "code",
   "execution_count": 208,
   "metadata": {},
   "outputs": [],
   "source": [
    "companies_finance.reset_index(inplace=True)"
   ]
  },
  {
   "cell_type": "code",
   "execution_count": 209,
   "metadata": {},
   "outputs": [],
   "source": [
    "companies_finance.rename(columns={\"index\": \"company_year_ide\"}, inplace=True)"
   ]
  },
  {
   "cell_type": "code",
   "execution_count": 210,
   "metadata": {},
   "outputs": [
    {
     "data": {
      "text/html": [
       "<div>\n",
       "<style scoped>\n",
       "    .dataframe tbody tr th:only-of-type {\n",
       "        vertical-align: middle;\n",
       "    }\n",
       "\n",
       "    .dataframe tbody tr th {\n",
       "        vertical-align: top;\n",
       "    }\n",
       "\n",
       "    .dataframe thead th {\n",
       "        text-align: right;\n",
       "    }\n",
       "</style>\n",
       "<table border=\"1\" class=\"dataframe\">\n",
       "  <thead>\n",
       "    <tr style=\"text-align: right;\">\n",
       "      <th></th>\n",
       "      <th>company_year_ide</th>\n",
       "      <th>company</th>\n",
       "      <th>annee</th>\n",
       "      <th>chiffre_daffaires_e</th>\n",
       "      <th>marge_brute_e</th>\n",
       "      <th>resultat_dexploitation_e</th>\n",
       "      <th>resultat_net_e</th>\n",
       "      <th>taux_croissance_ca_pc</th>\n",
       "      <th>taux_marge_brute_pc</th>\n",
       "      <th>taux_marge_operationnelle_pc</th>\n",
       "      <th>...</th>\n",
       "      <th>fonds_propres_e</th>\n",
       "      <th>marge_nette_pc</th>\n",
       "      <th>rentabilite_sur_fonds_propres_pc</th>\n",
       "      <th>rentabilite_economique_pc</th>\n",
       "      <th>valeur_ajoutee_e</th>\n",
       "      <th>valeur_ajoutee_sur_ca_pc</th>\n",
       "      <th>salaires_et_charges_sociales_e</th>\n",
       "      <th>salaires_sur_ca_pc</th>\n",
       "      <th>impots_et_taxes_e</th>\n",
       "      <th>chiffre_daffaires_a_lexport_e</th>\n",
       "    </tr>\n",
       "  </thead>\n",
       "  <tbody>\n",
       "    <tr>\n",
       "      <th>0</th>\n",
       "      <td>0</td>\n",
       "      <td>citility</td>\n",
       "      <td>2017.0</td>\n",
       "      <td>0.0</td>\n",
       "      <td>0</td>\n",
       "      <td>0</td>\n",
       "      <td>-562000</td>\n",
       "      <td>0</td>\n",
       "      <td>0</td>\n",
       "      <td>0</td>\n",
       "      <td>...</td>\n",
       "      <td>1380000</td>\n",
       "      <td>0</td>\n",
       "      <td>0</td>\n",
       "      <td>0</td>\n",
       "      <td>0</td>\n",
       "      <td>0</td>\n",
       "      <td>0</td>\n",
       "      <td>0</td>\n",
       "      <td>0</td>\n",
       "      <td>0</td>\n",
       "    </tr>\n",
       "    <tr>\n",
       "      <th>1</th>\n",
       "      <td>1</td>\n",
       "      <td>citility</td>\n",
       "      <td>2016.0</td>\n",
       "      <td>30700.0</td>\n",
       "      <td>527000</td>\n",
       "      <td>-296000</td>\n",
       "      <td>-238000</td>\n",
       "      <td>4</td>\n",
       "      <td>1720</td>\n",
       "      <td>-965</td>\n",
       "      <td>...</td>\n",
       "      <td>382000</td>\n",
       "      <td>-775</td>\n",
       "      <td>-623</td>\n",
       "      <td>-173</td>\n",
       "      <td>351000</td>\n",
       "      <td>1140</td>\n",
       "      <td>636000</td>\n",
       "      <td>2070</td>\n",
       "      <td>9160</td>\n",
       "      <td>0</td>\n",
       "    </tr>\n",
       "    <tr>\n",
       "      <th>2</th>\n",
       "      <td>2</td>\n",
       "      <td>voxcracy</td>\n",
       "      <td>2019.0</td>\n",
       "      <td>46300.0</td>\n",
       "      <td>46300</td>\n",
       "      <td>-38500</td>\n",
       "      <td>-39000</td>\n",
       "      <td>177</td>\n",
       "      <td>100</td>\n",
       "      <td>-833</td>\n",
       "      <td>...</td>\n",
       "      <td>513000</td>\n",
       "      <td>-842</td>\n",
       "      <td>-76</td>\n",
       "      <td>-63</td>\n",
       "      <td>2170</td>\n",
       "      <td>47</td>\n",
       "      <td>33600</td>\n",
       "      <td>725</td>\n",
       "      <td>137</td>\n",
       "      <td>0</td>\n",
       "    </tr>\n",
       "    <tr>\n",
       "      <th>3</th>\n",
       "      <td>3</td>\n",
       "      <td>voxcracy</td>\n",
       "      <td>2018.0</td>\n",
       "      <td>16700.0</td>\n",
       "      <td>157000</td>\n",
       "      <td>-130000</td>\n",
       "      <td>-112000</td>\n",
       "      <td>861</td>\n",
       "      <td>940</td>\n",
       "      <td>-776</td>\n",
       "      <td>...</td>\n",
       "      <td>552000</td>\n",
       "      <td>-668</td>\n",
       "      <td>-202</td>\n",
       "      <td>-169</td>\n",
       "      <td>-21000</td>\n",
       "      <td>-126</td>\n",
       "      <td>101000</td>\n",
       "      <td>602</td>\n",
       "      <td>1120</td>\n",
       "      <td>5000</td>\n",
       "    </tr>\n",
       "    <tr>\n",
       "      <th>4</th>\n",
       "      <td>4</td>\n",
       "      <td>voxcracy</td>\n",
       "      <td>2017.0</td>\n",
       "      <td>1740.0</td>\n",
       "      <td>75900</td>\n",
       "      <td>-30300</td>\n",
       "      <td>-23400</td>\n",
       "      <td>0</td>\n",
       "      <td>4360</td>\n",
       "      <td>-1740</td>\n",
       "      <td>...</td>\n",
       "      <td>569000</td>\n",
       "      <td>-1350</td>\n",
       "      <td>-41</td>\n",
       "      <td>-39</td>\n",
       "      <td>-5040</td>\n",
       "      <td>-290</td>\n",
       "      <td>19100</td>\n",
       "      <td>1100</td>\n",
       "      <td>329</td>\n",
       "      <td>0</td>\n",
       "    </tr>\n",
       "  </tbody>\n",
       "</table>\n",
       "<p>5 rows × 42 columns</p>\n",
       "</div>"
      ],
      "text/plain": [
       "   company_year_ide   company   annee  chiffre_daffaires_e  marge_brute_e  \\\n",
       "0                 0  citility  2017.0                  0.0              0   \n",
       "1                 1  citility  2016.0              30700.0         527000   \n",
       "2                 2  voxcracy  2019.0              46300.0          46300   \n",
       "3                 3  voxcracy  2018.0              16700.0         157000   \n",
       "4                 4  voxcracy  2017.0               1740.0          75900   \n",
       "\n",
       "   resultat_dexploitation_e  resultat_net_e  taux_croissance_ca_pc  \\\n",
       "0                         0         -562000                      0   \n",
       "1                   -296000         -238000                      4   \n",
       "2                    -38500          -39000                    177   \n",
       "3                   -130000         -112000                    861   \n",
       "4                    -30300          -23400                      0   \n",
       "\n",
       "   taux_marge_brute_pc  taux_marge_operationnelle_pc  ...  fonds_propres_e  \\\n",
       "0                    0                             0  ...          1380000   \n",
       "1                 1720                          -965  ...           382000   \n",
       "2                  100                          -833  ...           513000   \n",
       "3                  940                          -776  ...           552000   \n",
       "4                 4360                         -1740  ...           569000   \n",
       "\n",
       "   marge_nette_pc  rentabilite_sur_fonds_propres_pc  \\\n",
       "0               0                                 0   \n",
       "1            -775                              -623   \n",
       "2            -842                               -76   \n",
       "3            -668                              -202   \n",
       "4           -1350                               -41   \n",
       "\n",
       "   rentabilite_economique_pc  valeur_ajoutee_e  valeur_ajoutee_sur_ca_pc  \\\n",
       "0                          0                 0                         0   \n",
       "1                       -173            351000                      1140   \n",
       "2                        -63              2170                        47   \n",
       "3                       -169            -21000                      -126   \n",
       "4                        -39             -5040                      -290   \n",
       "\n",
       "   salaires_et_charges_sociales_e  salaires_sur_ca_pc  impots_et_taxes_e  \\\n",
       "0                               0                   0                  0   \n",
       "1                          636000                2070               9160   \n",
       "2                           33600                 725                137   \n",
       "3                          101000                 602               1120   \n",
       "4                           19100                1100                329   \n",
       "\n",
       "   chiffre_daffaires_a_lexport_e  \n",
       "0                              0  \n",
       "1                              0  \n",
       "2                              0  \n",
       "3                           5000  \n",
       "4                              0  \n",
       "\n",
       "[5 rows x 42 columns]"
      ]
     },
     "execution_count": 210,
     "metadata": {},
     "output_type": "execute_result"
    }
   ],
   "source": [
    "companies_finance.head()"
   ]
  },
  {
   "cell_type": "code",
   "execution_count": 211,
   "metadata": {},
   "outputs": [],
   "source": [
    "companies_finance.to_csv(\"sql/companies_finance.csv\", sep=\";\", index=False)"
   ]
  },
  {
   "cell_type": "code",
   "execution_count": 212,
   "metadata": {},
   "outputs": [
    {
     "data": {
      "text/plain": [
       "74"
      ]
     },
     "execution_count": 212,
     "metadata": {},
     "output_type": "execute_result"
    }
   ],
   "source": [
    "companies_finance.to_sql('companies_finance', engine, 'civictech', if_exists='replace', index=False)"
   ]
  },
  {
   "attachments": {},
   "cell_type": "markdown",
   "metadata": {},
   "source": [
    "### Companies info"
   ]
  },
  {
   "cell_type": "code",
   "execution_count": 213,
   "metadata": {},
   "outputs": [
    {
     "name": "stdout",
     "output_type": "stream",
     "text": [
      "Index(['company_id', 'companyName', 'Adresse :', 'Activité :', 'Effectif :',\n",
      "       'Création :', 'Dirigeants :', 'Forme juridique :',\n",
      "       'Inscription au RCS :', 'Capital social :',\n",
      "       'Activité principale déclarée :', 'Code NAF ou APE :',\n",
      "       'Domaine d’activité :', 'Dirigeant :', 'Inscription au RNA :',\n",
      "       'Identifiant association :', 'Objet de l'association :',\n",
      "       'Statut INSEE :'],\n",
      "      dtype='object')\n"
     ]
    }
   ],
   "source": [
    "companies_info=pd.read_csv('scraping_organizations/companies_info_data.csv', sep=';')\n",
    "print(companies_info.columns)"
   ]
  },
  {
   "cell_type": "code",
   "execution_count": 214,
   "metadata": {},
   "outputs": [
    {
     "data": {
      "text/html": [
       "<div>\n",
       "<style scoped>\n",
       "    .dataframe tbody tr th:only-of-type {\n",
       "        vertical-align: middle;\n",
       "    }\n",
       "\n",
       "    .dataframe tbody tr th {\n",
       "        vertical-align: top;\n",
       "    }\n",
       "\n",
       "    .dataframe thead th {\n",
       "        text-align: right;\n",
       "    }\n",
       "</style>\n",
       "<table border=\"1\" class=\"dataframe\">\n",
       "  <thead>\n",
       "    <tr style=\"text-align: right;\">\n",
       "      <th></th>\n",
       "      <th>company_id</th>\n",
       "      <th>companyName</th>\n",
       "      <th>Adresse :</th>\n",
       "      <th>Activité :</th>\n",
       "      <th>Effectif :</th>\n",
       "      <th>Création :</th>\n",
       "      <th>Dirigeants :</th>\n",
       "      <th>Forme juridique :</th>\n",
       "      <th>Inscription au RCS :</th>\n",
       "      <th>Capital social :</th>\n",
       "      <th>Activité principale déclarée :</th>\n",
       "      <th>Code NAF ou APE :</th>\n",
       "      <th>Domaine d’activité :</th>\n",
       "      <th>Dirigeant :</th>\n",
       "      <th>Inscription au RNA :</th>\n",
       "      <th>Identifiant association :</th>\n",
       "      <th>Objet de l'association :</th>\n",
       "      <th>Statut INSEE :</th>\n",
       "    </tr>\n",
       "  </thead>\n",
       "  <tbody>\n",
       "    <tr>\n",
       "      <th>0</th>\n",
       "      <td>0</td>\n",
       "      <td>citility</td>\n",
       "      <td>5 RUE DE LA CLAIRE 69009 LYON 9EME</td>\n",
       "      <td>Édition de logiciels applicatifs</td>\n",
       "      <td>0 salarié  (donnée 2019)</td>\n",
       "      <td>05/05/2014</td>\n",
       "      <td>André MAY, ODICEO, Sabine SCHNECK</td>\n",
       "      <td>SAS, société par actions simplifiée</td>\n",
       "      <td>INSCRIT (au greffe de LYON, le 12/05/2014)</td>\n",
       "      <td>39 620,00 €</td>\n",
       "      <td>Edition de logiciels applicatifs.</td>\n",
       "      <td>58.29C (Édition de logiciels applicatifs)</td>\n",
       "      <td>Édition</td>\n",
       "      <td>NaN</td>\n",
       "      <td>NaN</td>\n",
       "      <td>NaN</td>\n",
       "      <td>NaN</td>\n",
       "      <td>NaN</td>\n",
       "    </tr>\n",
       "    <tr>\n",
       "      <th>1</th>\n",
       "      <td>1</td>\n",
       "      <td>poligma</td>\n",
       "      <td>RPT BENJAMIN FRANKLIN 34960 MONTPELLIER CEDEX 2</td>\n",
       "      <td>Conseil en systèmes et logiciels informatiques</td>\n",
       "      <td>Entre 3 et 5 salariés  (donnée 2020)</td>\n",
       "      <td>01/09/2015</td>\n",
       "      <td>NaN</td>\n",
       "      <td>SAS, société par actions simplifiée</td>\n",
       "      <td>INSCRIT (au greffe de MONTPELLIER, le 11/09/2015)</td>\n",
       "      <td>20 944,00 €</td>\n",
       "      <td>Développement de services informatiques et num...</td>\n",
       "      <td>62.02A (Conseil en systèmes et logiciels infor...</td>\n",
       "      <td>Programmation, conseil et autres activités inf...</td>\n",
       "      <td>Philippe GERARD</td>\n",
       "      <td>NaN</td>\n",
       "      <td>NaN</td>\n",
       "      <td>NaN</td>\n",
       "      <td>NaN</td>\n",
       "    </tr>\n",
       "    <tr>\n",
       "      <th>2</th>\n",
       "      <td>2</td>\n",
       "      <td>voxcracy</td>\n",
       "      <td>1133 RTE FENERIE 06580 PEGOMAS</td>\n",
       "      <td>Programmation informatique</td>\n",
       "      <td>0 salarié</td>\n",
       "      <td>01/09/2014</td>\n",
       "      <td>Olivier ROCCA, Pascal RUSCICA</td>\n",
       "      <td>SAS, société par actions simplifiée</td>\n",
       "      <td>INSCRIT (au greffe de GRASSE, le 17/07/2014)</td>\n",
       "      <td>1 000,00 €</td>\n",
       "      <td>La recherche, le développement et la commercia...</td>\n",
       "      <td>62.01Z (Programmation informatique)</td>\n",
       "      <td>Programmation, conseil et autres activités inf...</td>\n",
       "      <td>NaN</td>\n",
       "      <td>NaN</td>\n",
       "      <td>NaN</td>\n",
       "      <td>NaN</td>\n",
       "      <td>NaN</td>\n",
       "    </tr>\n",
       "    <tr>\n",
       "      <th>3</th>\n",
       "      <td>3</td>\n",
       "      <td>LLL_2</td>\n",
       "      <td>16 RUE DU CAIRE 75002 PARIS 2</td>\n",
       "      <td>Autres activités de soutien aux entreprises n....</td>\n",
       "      <td>Entre 3 et 5 salariés  (donnée 2020)</td>\n",
       "      <td>16/01/2015</td>\n",
       "      <td>ANNAMAMASHOW, Raymond Maeder, 3APEXCO</td>\n",
       "      <td>SAS, société par actions simplifiée</td>\n",
       "      <td>INSCRIT (au greffe de PARIS, le 03/02/2015)</td>\n",
       "      <td>45 000,00 €</td>\n",
       "      <td>Développement de nouvelles formes de collabora...</td>\n",
       "      <td>82.99Z (Autres activités de soutien aux entrep...</td>\n",
       "      <td>Activités administratives et autres activités ...</td>\n",
       "      <td>NaN</td>\n",
       "      <td>NaN</td>\n",
       "      <td>NaN</td>\n",
       "      <td>NaN</td>\n",
       "      <td>NaN</td>\n",
       "    </tr>\n",
       "    <tr>\n",
       "      <th>4</th>\n",
       "      <td>4</td>\n",
       "      <td>bluenove</td>\n",
       "      <td>112 B RUE CARDINET 75017 PARIS 17</td>\n",
       "      <td>Conseil pour les affaires et autres conseils d...</td>\n",
       "      <td>Entre 20 et 49 salariés  (donnée 2020)</td>\n",
       "      <td>23/01/2008</td>\n",
       "      <td>GROUPE BLUENOVE INC., Guillaume Drancy, Carole...</td>\n",
       "      <td>SAS, société par actions simplifiée</td>\n",
       "      <td>INSCRIT (au greffe de PARIS, le 21/11/2019)</td>\n",
       "      <td>56 445,00 €</td>\n",
       "      <td>L'activité de conseil en stratégie d'accompagn...</td>\n",
       "      <td>70.22Z (Conseil pour les affaires et autres co...</td>\n",
       "      <td>Activités des sièges sociaux ; conseil de gestion</td>\n",
       "      <td>NaN</td>\n",
       "      <td>NaN</td>\n",
       "      <td>NaN</td>\n",
       "      <td>NaN</td>\n",
       "      <td>NaN</td>\n",
       "    </tr>\n",
       "  </tbody>\n",
       "</table>\n",
       "</div>"
      ],
      "text/plain": [
       "   company_id companyName                                        Adresse :  \\\n",
       "0           0    citility               5 RUE DE LA CLAIRE 69009 LYON 9EME   \n",
       "1           1     poligma  RPT BENJAMIN FRANKLIN 34960 MONTPELLIER CEDEX 2   \n",
       "2           2    voxcracy                   1133 RTE FENERIE 06580 PEGOMAS   \n",
       "3           3       LLL_2                    16 RUE DU CAIRE 75002 PARIS 2   \n",
       "4           4    bluenove                112 B RUE CARDINET 75017 PARIS 17   \n",
       "\n",
       "                                          Activité :  \\\n",
       "0                   Édition de logiciels applicatifs   \n",
       "1     Conseil en systèmes et logiciels informatiques   \n",
       "2                         Programmation informatique   \n",
       "3  Autres activités de soutien aux entreprises n....   \n",
       "4  Conseil pour les affaires et autres conseils d...   \n",
       "\n",
       "                               Effectif :  Création :  \\\n",
       "0                0 salarié  (donnée 2019)  05/05/2014   \n",
       "1    Entre 3 et 5 salariés  (donnée 2020)  01/09/2015   \n",
       "2                               0 salarié  01/09/2014   \n",
       "3    Entre 3 et 5 salariés  (donnée 2020)  16/01/2015   \n",
       "4  Entre 20 et 49 salariés  (donnée 2020)  23/01/2008   \n",
       "\n",
       "                                        Dirigeants :  \\\n",
       "0                  André MAY, ODICEO, Sabine SCHNECK   \n",
       "1                                                NaN   \n",
       "2                      Olivier ROCCA, Pascal RUSCICA   \n",
       "3              ANNAMAMASHOW, Raymond Maeder, 3APEXCO   \n",
       "4  GROUPE BLUENOVE INC., Guillaume Drancy, Carole...   \n",
       "\n",
       "                     Forme juridique :  \\\n",
       "0  SAS, société par actions simplifiée   \n",
       "1  SAS, société par actions simplifiée   \n",
       "2  SAS, société par actions simplifiée   \n",
       "3  SAS, société par actions simplifiée   \n",
       "4  SAS, société par actions simplifiée   \n",
       "\n",
       "                                Inscription au RCS : Capital social :  \\\n",
       "0         INSCRIT (au greffe de LYON, le 12/05/2014)      39 620,00 €   \n",
       "1  INSCRIT (au greffe de MONTPELLIER, le 11/09/2015)      20 944,00 €   \n",
       "2       INSCRIT (au greffe de GRASSE, le 17/07/2014)       1 000,00 €   \n",
       "3        INSCRIT (au greffe de PARIS, le 03/02/2015)      45 000,00 €   \n",
       "4        INSCRIT (au greffe de PARIS, le 21/11/2019)      56 445,00 €   \n",
       "\n",
       "                      Activité principale déclarée :  \\\n",
       "0                  Edition de logiciels applicatifs.   \n",
       "1  Développement de services informatiques et num...   \n",
       "2  La recherche, le développement et la commercia...   \n",
       "3  Développement de nouvelles formes de collabora...   \n",
       "4  L'activité de conseil en stratégie d'accompagn...   \n",
       "\n",
       "                                   Code NAF ou APE :  \\\n",
       "0          58.29C (Édition de logiciels applicatifs)   \n",
       "1  62.02A (Conseil en systèmes et logiciels infor...   \n",
       "2                62.01Z (Programmation informatique)   \n",
       "3  82.99Z (Autres activités de soutien aux entrep...   \n",
       "4  70.22Z (Conseil pour les affaires et autres co...   \n",
       "\n",
       "                                Domaine d’activité :      Dirigeant :  \\\n",
       "0                                            Édition              NaN   \n",
       "1  Programmation, conseil et autres activités inf...  Philippe GERARD   \n",
       "2  Programmation, conseil et autres activités inf...              NaN   \n",
       "3  Activités administratives et autres activités ...              NaN   \n",
       "4  Activités des sièges sociaux ; conseil de gestion              NaN   \n",
       "\n",
       "  Inscription au RNA : Identifiant association : Objet de l'association :  \\\n",
       "0                  NaN                       NaN                      NaN   \n",
       "1                  NaN                       NaN                      NaN   \n",
       "2                  NaN                       NaN                      NaN   \n",
       "3                  NaN                       NaN                      NaN   \n",
       "4                  NaN                       NaN                      NaN   \n",
       "\n",
       "  Statut INSEE :  \n",
       "0            NaN  \n",
       "1            NaN  \n",
       "2            NaN  \n",
       "3            NaN  \n",
       "4            NaN  "
      ]
     },
     "execution_count": 214,
     "metadata": {},
     "output_type": "execute_result"
    }
   ],
   "source": [
    "companies_info.head()"
   ]
  },
  {
   "cell_type": "code",
   "execution_count": 215,
   "metadata": {},
   "outputs": [
    {
     "name": "stdout",
     "output_type": "stream",
     "text": [
      "['company_id', 'companyname', 'adresse', 'activite', 'effectif', 'creation', 'dirigeants', 'forme_juridique', 'inscription_au_rcs', 'capital_social', 'activite_principale_declaree', 'code_naf_ou_ape', 'domaine_dactivite', 'dirigeant', 'inscription_au_rna', 'identifiant_association', 'objet_de_lassociation', 'statut_insee']\n"
     ]
    }
   ],
   "source": [
    "new_cols=[]\n",
    "for i in list(companies_info.columns):\n",
    "    i=i.lower().replace(' :', '').replace('é', 'e').replace(\"(\", '').replace(')', '').replace(' ', '_').replace(\"'\",'').replace(\"’\",'').replace(\"è\", \"e\")\n",
    "    new_cols.append(i)\n",
    "print(new_cols)"
   ]
  },
  {
   "cell_type": "code",
   "execution_count": 216,
   "metadata": {},
   "outputs": [
    {
     "data": {
      "text/html": [
       "<div>\n",
       "<style scoped>\n",
       "    .dataframe tbody tr th:only-of-type {\n",
       "        vertical-align: middle;\n",
       "    }\n",
       "\n",
       "    .dataframe tbody tr th {\n",
       "        vertical-align: top;\n",
       "    }\n",
       "\n",
       "    .dataframe thead th {\n",
       "        text-align: right;\n",
       "    }\n",
       "</style>\n",
       "<table border=\"1\" class=\"dataframe\">\n",
       "  <thead>\n",
       "    <tr style=\"text-align: right;\">\n",
       "      <th></th>\n",
       "      <th>company_id</th>\n",
       "      <th>companyname</th>\n",
       "      <th>adresse</th>\n",
       "      <th>activite</th>\n",
       "      <th>effectif</th>\n",
       "      <th>creation</th>\n",
       "      <th>dirigeants</th>\n",
       "      <th>forme_juridique</th>\n",
       "      <th>inscription_au_rcs</th>\n",
       "      <th>capital_social</th>\n",
       "      <th>activite_principale_declaree</th>\n",
       "      <th>code_naf_ou_ape</th>\n",
       "      <th>domaine_dactivite</th>\n",
       "      <th>dirigeant</th>\n",
       "      <th>inscription_au_rna</th>\n",
       "      <th>identifiant_association</th>\n",
       "      <th>objet_de_lassociation</th>\n",
       "      <th>statut_insee</th>\n",
       "    </tr>\n",
       "  </thead>\n",
       "  <tbody>\n",
       "    <tr>\n",
       "      <th>0</th>\n",
       "      <td>0</td>\n",
       "      <td>citility</td>\n",
       "      <td>5 RUE DE LA CLAIRE 69009 LYON 9EME</td>\n",
       "      <td>Édition de logiciels applicatifs</td>\n",
       "      <td>0 salarié  (donnée 2019)</td>\n",
       "      <td>05/05/2014</td>\n",
       "      <td>André MAY, ODICEO, Sabine SCHNECK</td>\n",
       "      <td>SAS, société par actions simplifiée</td>\n",
       "      <td>INSCRIT (au greffe de LYON, le 12/05/2014)</td>\n",
       "      <td>39 620,00 €</td>\n",
       "      <td>Edition de logiciels applicatifs.</td>\n",
       "      <td>58.29C (Édition de logiciels applicatifs)</td>\n",
       "      <td>Édition</td>\n",
       "      <td>NaN</td>\n",
       "      <td>NaN</td>\n",
       "      <td>NaN</td>\n",
       "      <td>NaN</td>\n",
       "      <td>NaN</td>\n",
       "    </tr>\n",
       "    <tr>\n",
       "      <th>1</th>\n",
       "      <td>1</td>\n",
       "      <td>poligma</td>\n",
       "      <td>RPT BENJAMIN FRANKLIN 34960 MONTPELLIER CEDEX 2</td>\n",
       "      <td>Conseil en systèmes et logiciels informatiques</td>\n",
       "      <td>Entre 3 et 5 salariés  (donnée 2020)</td>\n",
       "      <td>01/09/2015</td>\n",
       "      <td>NaN</td>\n",
       "      <td>SAS, société par actions simplifiée</td>\n",
       "      <td>INSCRIT (au greffe de MONTPELLIER, le 11/09/2015)</td>\n",
       "      <td>20 944,00 €</td>\n",
       "      <td>Développement de services informatiques et num...</td>\n",
       "      <td>62.02A (Conseil en systèmes et logiciels infor...</td>\n",
       "      <td>Programmation, conseil et autres activités inf...</td>\n",
       "      <td>Philippe GERARD</td>\n",
       "      <td>NaN</td>\n",
       "      <td>NaN</td>\n",
       "      <td>NaN</td>\n",
       "      <td>NaN</td>\n",
       "    </tr>\n",
       "    <tr>\n",
       "      <th>2</th>\n",
       "      <td>2</td>\n",
       "      <td>voxcracy</td>\n",
       "      <td>1133 RTE FENERIE 06580 PEGOMAS</td>\n",
       "      <td>Programmation informatique</td>\n",
       "      <td>0 salarié</td>\n",
       "      <td>01/09/2014</td>\n",
       "      <td>Olivier ROCCA, Pascal RUSCICA</td>\n",
       "      <td>SAS, société par actions simplifiée</td>\n",
       "      <td>INSCRIT (au greffe de GRASSE, le 17/07/2014)</td>\n",
       "      <td>1 000,00 €</td>\n",
       "      <td>La recherche, le développement et la commercia...</td>\n",
       "      <td>62.01Z (Programmation informatique)</td>\n",
       "      <td>Programmation, conseil et autres activités inf...</td>\n",
       "      <td>NaN</td>\n",
       "      <td>NaN</td>\n",
       "      <td>NaN</td>\n",
       "      <td>NaN</td>\n",
       "      <td>NaN</td>\n",
       "    </tr>\n",
       "    <tr>\n",
       "      <th>3</th>\n",
       "      <td>3</td>\n",
       "      <td>LLL_2</td>\n",
       "      <td>16 RUE DU CAIRE 75002 PARIS 2</td>\n",
       "      <td>Autres activités de soutien aux entreprises n....</td>\n",
       "      <td>Entre 3 et 5 salariés  (donnée 2020)</td>\n",
       "      <td>16/01/2015</td>\n",
       "      <td>ANNAMAMASHOW, Raymond Maeder, 3APEXCO</td>\n",
       "      <td>SAS, société par actions simplifiée</td>\n",
       "      <td>INSCRIT (au greffe de PARIS, le 03/02/2015)</td>\n",
       "      <td>45 000,00 €</td>\n",
       "      <td>Développement de nouvelles formes de collabora...</td>\n",
       "      <td>82.99Z (Autres activités de soutien aux entrep...</td>\n",
       "      <td>Activités administratives et autres activités ...</td>\n",
       "      <td>NaN</td>\n",
       "      <td>NaN</td>\n",
       "      <td>NaN</td>\n",
       "      <td>NaN</td>\n",
       "      <td>NaN</td>\n",
       "    </tr>\n",
       "    <tr>\n",
       "      <th>4</th>\n",
       "      <td>4</td>\n",
       "      <td>bluenove</td>\n",
       "      <td>112 B RUE CARDINET 75017 PARIS 17</td>\n",
       "      <td>Conseil pour les affaires et autres conseils d...</td>\n",
       "      <td>Entre 20 et 49 salariés  (donnée 2020)</td>\n",
       "      <td>23/01/2008</td>\n",
       "      <td>GROUPE BLUENOVE INC., Guillaume Drancy, Carole...</td>\n",
       "      <td>SAS, société par actions simplifiée</td>\n",
       "      <td>INSCRIT (au greffe de PARIS, le 21/11/2019)</td>\n",
       "      <td>56 445,00 €</td>\n",
       "      <td>L'activité de conseil en stratégie d'accompagn...</td>\n",
       "      <td>70.22Z (Conseil pour les affaires et autres co...</td>\n",
       "      <td>Activités des sièges sociaux ; conseil de gestion</td>\n",
       "      <td>NaN</td>\n",
       "      <td>NaN</td>\n",
       "      <td>NaN</td>\n",
       "      <td>NaN</td>\n",
       "      <td>NaN</td>\n",
       "    </tr>\n",
       "  </tbody>\n",
       "</table>\n",
       "</div>"
      ],
      "text/plain": [
       "   company_id companyname                                          adresse  \\\n",
       "0           0    citility               5 RUE DE LA CLAIRE 69009 LYON 9EME   \n",
       "1           1     poligma  RPT BENJAMIN FRANKLIN 34960 MONTPELLIER CEDEX 2   \n",
       "2           2    voxcracy                   1133 RTE FENERIE 06580 PEGOMAS   \n",
       "3           3       LLL_2                    16 RUE DU CAIRE 75002 PARIS 2   \n",
       "4           4    bluenove                112 B RUE CARDINET 75017 PARIS 17   \n",
       "\n",
       "                                            activite  \\\n",
       "0                   Édition de logiciels applicatifs   \n",
       "1     Conseil en systèmes et logiciels informatiques   \n",
       "2                         Programmation informatique   \n",
       "3  Autres activités de soutien aux entreprises n....   \n",
       "4  Conseil pour les affaires et autres conseils d...   \n",
       "\n",
       "                                 effectif    creation  \\\n",
       "0                0 salarié  (donnée 2019)  05/05/2014   \n",
       "1    Entre 3 et 5 salariés  (donnée 2020)  01/09/2015   \n",
       "2                               0 salarié  01/09/2014   \n",
       "3    Entre 3 et 5 salariés  (donnée 2020)  16/01/2015   \n",
       "4  Entre 20 et 49 salariés  (donnée 2020)  23/01/2008   \n",
       "\n",
       "                                          dirigeants  \\\n",
       "0                  André MAY, ODICEO, Sabine SCHNECK   \n",
       "1                                                NaN   \n",
       "2                      Olivier ROCCA, Pascal RUSCICA   \n",
       "3              ANNAMAMASHOW, Raymond Maeder, 3APEXCO   \n",
       "4  GROUPE BLUENOVE INC., Guillaume Drancy, Carole...   \n",
       "\n",
       "                       forme_juridique  \\\n",
       "0  SAS, société par actions simplifiée   \n",
       "1  SAS, société par actions simplifiée   \n",
       "2  SAS, société par actions simplifiée   \n",
       "3  SAS, société par actions simplifiée   \n",
       "4  SAS, société par actions simplifiée   \n",
       "\n",
       "                                  inscription_au_rcs capital_social  \\\n",
       "0         INSCRIT (au greffe de LYON, le 12/05/2014)    39 620,00 €   \n",
       "1  INSCRIT (au greffe de MONTPELLIER, le 11/09/2015)    20 944,00 €   \n",
       "2       INSCRIT (au greffe de GRASSE, le 17/07/2014)     1 000,00 €   \n",
       "3        INSCRIT (au greffe de PARIS, le 03/02/2015)    45 000,00 €   \n",
       "4        INSCRIT (au greffe de PARIS, le 21/11/2019)    56 445,00 €   \n",
       "\n",
       "                        activite_principale_declaree  \\\n",
       "0                  Edition de logiciels applicatifs.   \n",
       "1  Développement de services informatiques et num...   \n",
       "2  La recherche, le développement et la commercia...   \n",
       "3  Développement de nouvelles formes de collabora...   \n",
       "4  L'activité de conseil en stratégie d'accompagn...   \n",
       "\n",
       "                                     code_naf_ou_ape  \\\n",
       "0          58.29C (Édition de logiciels applicatifs)   \n",
       "1  62.02A (Conseil en systèmes et logiciels infor...   \n",
       "2                62.01Z (Programmation informatique)   \n",
       "3  82.99Z (Autres activités de soutien aux entrep...   \n",
       "4  70.22Z (Conseil pour les affaires et autres co...   \n",
       "\n",
       "                                   domaine_dactivite        dirigeant  \\\n",
       "0                                            Édition              NaN   \n",
       "1  Programmation, conseil et autres activités inf...  Philippe GERARD   \n",
       "2  Programmation, conseil et autres activités inf...              NaN   \n",
       "3  Activités administratives et autres activités ...              NaN   \n",
       "4  Activités des sièges sociaux ; conseil de gestion              NaN   \n",
       "\n",
       "  inscription_au_rna identifiant_association objet_de_lassociation  \\\n",
       "0                NaN                     NaN                   NaN   \n",
       "1                NaN                     NaN                   NaN   \n",
       "2                NaN                     NaN                   NaN   \n",
       "3                NaN                     NaN                   NaN   \n",
       "4                NaN                     NaN                   NaN   \n",
       "\n",
       "  statut_insee  \n",
       "0          NaN  \n",
       "1          NaN  \n",
       "2          NaN  \n",
       "3          NaN  \n",
       "4          NaN  "
      ]
     },
     "execution_count": 216,
     "metadata": {},
     "output_type": "execute_result"
    }
   ],
   "source": [
    "companies_info.columns=new_cols\n",
    "companies_info.head()"
   ]
  },
  {
   "cell_type": "code",
   "execution_count": 217,
   "metadata": {},
   "outputs": [],
   "source": [
    "companies_info['creation'] = pd.to_datetime(companies_info['creation'], format=\"%d/%m/%Y\")"
   ]
  },
  {
   "cell_type": "code",
   "execution_count": 218,
   "metadata": {},
   "outputs": [],
   "source": [
    "companies_info.to_csv(\"sql/companies_info.csv\", sep=\";\", index=False)"
   ]
  },
  {
   "cell_type": "code",
   "execution_count": 219,
   "metadata": {},
   "outputs": [
    {
     "data": {
      "text/plain": [
       "76"
      ]
     },
     "execution_count": 219,
     "metadata": {},
     "output_type": "execute_result"
    }
   ],
   "source": [
    "companies_info.to_sql('companies_info', engine, 'civictech', if_exists='replace', index=False)"
   ]
  },
  {
   "cell_type": "code",
   "execution_count": 220,
   "metadata": {},
   "outputs": [],
   "source": [
    "# https://pandas.pydata.org/docs/reference/api/pandas.DataFrame.to_sql.html\n",
    "\n",
    "# you can pass data types here \n",
    "# from sqlalchemy.types import Integer\n",
    "# df.to_sql('integers', con=engine, index=False,\n",
    "#           dtype={\"A\": Integer()})"
   ]
  }
 ],
 "metadata": {
  "kernelspec": {
   "display_name": "base",
   "language": "python",
   "name": "python3"
  },
  "language_info": {
   "codemirror_mode": {
    "name": "ipython",
    "version": 3
   },
   "file_extension": ".py",
   "mimetype": "text/x-python",
   "name": "python",
   "nbconvert_exporter": "python",
   "pygments_lexer": "ipython3",
   "version": "3.9.16"
  },
  "orig_nbformat": 4
 },
 "nbformat": 4,
 "nbformat_minor": 2
}
