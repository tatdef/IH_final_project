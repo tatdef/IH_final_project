{
 "cells": [
  {
   "attachments": {},
   "cell_type": "markdown",
   "metadata": {},
   "source": [
    "# Setup"
   ]
  },
  {
   "cell_type": "code",
   "execution_count": 1,
   "metadata": {},
   "outputs": [],
   "source": [
    "import pymysql.cursors\n",
    "from sqlalchemy import create_engine, MetaData\n",
    "from sqlalchemy.schema import CreateTable\n",
    "from sqlalchemy import text\n",
    "import getpass"
   ]
  },
  {
   "cell_type": "code",
   "execution_count": 2,
   "metadata": {},
   "outputs": [],
   "source": [
    "#prompt user to enter MySQL root password\n",
    "sql_pass = getpass.getpass()\n",
    "#create connection string and engine to connect to MySQL database\n",
    "connection_string = 'mysql+pymysql://root:' + sql_pass + '@localhost:3306/civictech'\n",
    "engine = create_engine(connection_string)"
   ]
  },
  {
   "cell_type": "code",
   "execution_count": 3,
   "metadata": {},
   "outputs": [],
   "source": [
    "import pandas as pd"
   ]
  },
  {
   "attachments": {},
   "cell_type": "markdown",
   "metadata": {},
   "source": [
    "# People"
   ]
  },
  {
   "attachments": {},
   "cell_type": "markdown",
   "metadata": {},
   "source": [
    "### Names"
   ]
  },
  {
   "cell_type": "code",
   "execution_count": 4,
   "metadata": {},
   "outputs": [],
   "source": [
    "names= pd.read_csv('profiles/names.csv', sep=';')"
   ]
  },
  {
   "cell_type": "code",
   "execution_count": 5,
   "metadata": {},
   "outputs": [
    {
     "data": {
      "text/plain": [
       "47"
      ]
     },
     "execution_count": 5,
     "metadata": {},
     "output_type": "execute_result"
    }
   ],
   "source": [
    "names.to_sql('names', engine, 'civictech', if_exists='replace', index=False)"
   ]
  },
  {
   "attachments": {},
   "cell_type": "markdown",
   "metadata": {},
   "source": [
    "### Profiles"
   ]
  },
  {
   "cell_type": "code",
   "execution_count": 6,
   "metadata": {},
   "outputs": [
    {
     "name": "stdout",
     "output_type": "stream",
     "text": [
      "['ind_id', 'geoCountryName', 'geoLocationName', 'summary', 'industryName', 'headline', 'experience', 'education', 'languages', 'publications', 'certifications', 'volunteer', 'honors', 'projects', 'experience1', 'experience2', 'experience3', 'experience4', 'experience5', 'education1', 'education2', 'education3', 'languages_over2', 'honors_stated', 'publications_stated', 'volunteer_stated', 'projects_stated', 'certifications_stated', 'languages_stated', 'consulting_roles', 'direction_roles', 'founding_roles']\n",
      "32\n"
     ]
    }
   ],
   "source": [
    "people=pd.read_csv('profiles/people_main_db.csv', sep=';')\n",
    "print(list(people.columns))\n",
    "print(len(list(people.columns)))"
   ]
  },
  {
   "cell_type": "code",
   "execution_count": 7,
   "metadata": {},
   "outputs": [
    {
     "data": {
      "text/html": [
       "<div>\n",
       "<style scoped>\n",
       "    .dataframe tbody tr th:only-of-type {\n",
       "        vertical-align: middle;\n",
       "    }\n",
       "\n",
       "    .dataframe tbody tr th {\n",
       "        vertical-align: top;\n",
       "    }\n",
       "\n",
       "    .dataframe thead th {\n",
       "        text-align: right;\n",
       "    }\n",
       "</style>\n",
       "<table border=\"1\" class=\"dataframe\">\n",
       "  <thead>\n",
       "    <tr style=\"text-align: right;\">\n",
       "      <th></th>\n",
       "      <th>0</th>\n",
       "    </tr>\n",
       "  </thead>\n",
       "  <tbody>\n",
       "    <tr>\n",
       "      <th>summary</th>\n",
       "      <td>15</td>\n",
       "    </tr>\n",
       "    <tr>\n",
       "      <th>education3</th>\n",
       "      <td>12</td>\n",
       "    </tr>\n",
       "    <tr>\n",
       "      <th>education2</th>\n",
       "      <td>6</td>\n",
       "    </tr>\n",
       "    <tr>\n",
       "      <th>geoLocationName</th>\n",
       "      <td>4</td>\n",
       "    </tr>\n",
       "    <tr>\n",
       "      <th>experience5</th>\n",
       "      <td>3</td>\n",
       "    </tr>\n",
       "    <tr>\n",
       "      <th>experience4</th>\n",
       "      <td>2</td>\n",
       "    </tr>\n",
       "    <tr>\n",
       "      <th>geoCountryName</th>\n",
       "      <td>2</td>\n",
       "    </tr>\n",
       "    <tr>\n",
       "      <th>education1</th>\n",
       "      <td>1</td>\n",
       "    </tr>\n",
       "    <tr>\n",
       "      <th>honors_stated</th>\n",
       "      <td>0</td>\n",
       "    </tr>\n",
       "    <tr>\n",
       "      <th>languages_over2</th>\n",
       "      <td>0</td>\n",
       "    </tr>\n",
       "    <tr>\n",
       "      <th>ind_id</th>\n",
       "      <td>0</td>\n",
       "    </tr>\n",
       "    <tr>\n",
       "      <th>publications_stated</th>\n",
       "      <td>0</td>\n",
       "    </tr>\n",
       "    <tr>\n",
       "      <th>projects_stated</th>\n",
       "      <td>0</td>\n",
       "    </tr>\n",
       "    <tr>\n",
       "      <th>certifications_stated</th>\n",
       "      <td>0</td>\n",
       "    </tr>\n",
       "    <tr>\n",
       "      <th>languages_stated</th>\n",
       "      <td>0</td>\n",
       "    </tr>\n",
       "  </tbody>\n",
       "</table>\n",
       "</div>"
      ],
      "text/plain": [
       "                        0\n",
       "summary                15\n",
       "education3             12\n",
       "education2              6\n",
       "geoLocationName         4\n",
       "experience5             3\n",
       "experience4             2\n",
       "geoCountryName          2\n",
       "education1              1\n",
       "honors_stated           0\n",
       "languages_over2         0\n",
       "ind_id                  0\n",
       "publications_stated     0\n",
       "projects_stated         0\n",
       "certifications_stated   0\n",
       "languages_stated        0"
      ]
     },
     "execution_count": 7,
     "metadata": {},
     "output_type": "execute_result"
    }
   ],
   "source": [
    "# We may want to drop the columns with too many missing values.\n",
    "pd.DataFrame(people.isna().sum().sort_values(ascending=False)).head(15)"
   ]
  },
  {
   "cell_type": "code",
   "execution_count": 8,
   "metadata": {},
   "outputs": [
    {
     "data": {
      "text/plain": [
       "ind_id                    int64\n",
       "consulting_roles          int64\n",
       "languages_stated          int64\n",
       "certifications_stated     int64\n",
       "projects_stated           int64\n",
       "volunteer_stated          int64\n",
       "publications_stated       int64\n",
       "honors_stated             int64\n",
       "languages_over2           int64\n",
       "direction_roles           int64\n",
       "founding_roles            int64\n",
       "volunteer                object\n",
       "geoCountryName           object\n",
       "geoLocationName          object\n",
       "summary                  object\n",
       "industryName             object\n",
       "headline                 object\n",
       "experience               object\n",
       "education                object\n",
       "languages                object\n",
       "certifications           object\n",
       "education3               object\n",
       "education1               object\n",
       "experience5              object\n",
       "experience4              object\n",
       "experience3              object\n",
       "publications             object\n",
       "experience1              object\n",
       "projects                 object\n",
       "honors                   object\n",
       "education2               object\n",
       "experience2              object\n",
       "dtype: object"
      ]
     },
     "execution_count": 8,
     "metadata": {},
     "output_type": "execute_result"
    }
   ],
   "source": [
    "# and/or drop text columns \n",
    "people.dtypes.sort_values()"
   ]
  },
  {
   "cell_type": "code",
   "execution_count": 9,
   "metadata": {},
   "outputs": [
    {
     "data": {
      "text/plain": [
       "47"
      ]
     },
     "execution_count": 9,
     "metadata": {},
     "output_type": "execute_result"
    }
   ],
   "source": [
    "# for now we are keeping it as is\n",
    "people.to_sql('people', engine, 'civictech', if_exists='replace', index=False)"
   ]
  },
  {
   "attachments": {},
   "cell_type": "markdown",
   "metadata": {},
   "source": [
    "### Experience"
   ]
  },
  {
   "cell_type": "code",
   "execution_count": 71,
   "metadata": {},
   "outputs": [],
   "source": [
    "experience=pd.read_csv('profiles/people_experience_db.csv', sep=';')"
   ]
  },
  {
   "cell_type": "code",
   "execution_count": 72,
   "metadata": {},
   "outputs": [
    {
     "name": "stdout",
     "output_type": "stream",
     "text": [
      "['ind_id', 'locationName', 'companyName', 'description', 'company', 'title', 'startDate_month', 'startDate_year', 'endDate_month', 'endDate_year', 'industry', 'company_empl_low', 'company_empl_high', 'title_direction', 'titleconsulting', 'titlefounder']\n",
      "16\n",
      "235\n"
     ]
    }
   ],
   "source": [
    "print(list(experience.columns))\n",
    "print(len(list(experience.columns)))\n",
    "print(len(experience))"
   ]
  },
  {
   "cell_type": "code",
   "execution_count": 73,
   "metadata": {},
   "outputs": [
    {
     "data": {
      "text/plain": [
       "endDate_month        82\n",
       "endDate_year         79\n",
       "locationName         62\n",
       "description          57\n",
       "company              33\n",
       "company_empl_low     25\n",
       "company_empl_high    25\n",
       "industry             20\n",
       "startDate_month      12\n",
       "companyName           5\n",
       "title                 5\n",
       "startDate_year        5\n",
       "ind_id                0\n",
       "title_direction       0\n",
       "titleconsulting       0\n",
       "titlefounder          0\n",
       "dtype: int64"
      ]
     },
     "execution_count": 73,
     "metadata": {},
     "output_type": "execute_result"
    }
   ],
   "source": [
    "experience.isna().sum().sort_values(ascending=False)"
   ]
  },
  {
   "cell_type": "code",
   "execution_count": 74,
   "metadata": {},
   "outputs": [
    {
     "data": {
      "text/plain": [
       "endDate_month        82\n",
       "endDate_year         79\n",
       "locationName         62\n",
       "description          57\n",
       "company              33\n",
       "company_empl_low     25\n",
       "company_empl_high    25\n",
       "industry             20\n",
       "startDate_month      12\n",
       "companyName           5\n",
       "title                 5\n",
       "startDate_year        5\n",
       "ind_id                0\n",
       "title_direction       0\n",
       "titleconsulting       0\n",
       "titlefounder          0\n",
       "dtype: int64"
      ]
     },
     "execution_count": 74,
     "metadata": {},
     "output_type": "execute_result"
    }
   ],
   "source": [
    "experience.isna().sum().sort_values(ascending=False)"
   ]
  },
  {
   "cell_type": "code",
   "execution_count": 75,
   "metadata": {},
   "outputs": [],
   "source": [
    "experience['startDate_year'] = experience['startDate_year'].fillna(0)\n",
    "experience['startDate_month'] = experience['startDate_month'].fillna(0)\n",
    "experience['endDate_year'] = experience['endDate_year'].fillna(0)\n",
    "experience['endDate_month'] = experience['endDate_month'].fillna(0)\n",
    "experience['company_empl_low'] = experience['company_empl_low'].fillna(999)\n",
    "experience['company_empl_high'] = experience['company_empl_high'].fillna(999)"
   ]
  },
  {
   "cell_type": "code",
   "execution_count": 76,
   "metadata": {},
   "outputs": [],
   "source": [
    "experience['startDate_year'] = experience['startDate_year'].astype(int)\n",
    "experience['startDate_month'] = experience['startDate_month'].astype(int)\n",
    "experience['endDate_year'] = experience['endDate_year'].astype(int)\n",
    "experience['endDate_month'] = experience['endDate_month'].astype(int)\n",
    "experience['company_empl_low'] = experience['company_empl_low'].astype(int)\n",
    "experience['company_empl_high'] = experience['company_empl_high'].astype(int)"
   ]
  },
  {
   "cell_type": "code",
   "execution_count": 77,
   "metadata": {},
   "outputs": [
    {
     "data": {
      "text/plain": [
       "ind_id                int64\n",
       "startDate_month       int64\n",
       "startDate_year        int64\n",
       "endDate_month         int64\n",
       "endDate_year          int64\n",
       "company_empl_low      int64\n",
       "company_empl_high     int64\n",
       "title_direction       int64\n",
       "titleconsulting       int64\n",
       "titlefounder          int64\n",
       "locationName         object\n",
       "companyName          object\n",
       "description          object\n",
       "company              object\n",
       "title                object\n",
       "industry             object\n",
       "dtype: object"
      ]
     },
     "execution_count": 77,
     "metadata": {},
     "output_type": "execute_result"
    }
   ],
   "source": [
    "experience.dtypes.sort_values()"
   ]
  },
  {
   "cell_type": "code",
   "execution_count": 78,
   "metadata": {},
   "outputs": [],
   "source": [
    "experience.drop(columns='company', inplace=True)"
   ]
  },
  {
   "cell_type": "code",
   "execution_count": 79,
   "metadata": {},
   "outputs": [
    {
     "data": {
      "text/plain": [
       "\"['Management Consulting']\""
      ]
     },
     "execution_count": 79,
     "metadata": {},
     "output_type": "execute_result"
    }
   ],
   "source": [
    "experience.industry[1]"
   ]
  },
  {
   "cell_type": "code",
   "execution_count": 80,
   "metadata": {},
   "outputs": [],
   "source": [
    "import re\n",
    "def clean_industry(x):\n",
    "    x=str(x)\n",
    "    pattern = \"[a-zA-Z]+ [a-zA-Z]+|[a-zA-Z]+\"\n",
    "    return re.findall(pattern, x)"
   ]
  },
  {
   "cell_type": "code",
   "execution_count": 81,
   "metadata": {},
   "outputs": [],
   "source": [
    "experience['industry']= experience['industry'].apply(clean_industry)"
   ]
  },
  {
   "cell_type": "code",
   "execution_count": 82,
   "metadata": {},
   "outputs": [
    {
     "data": {
      "text/plain": [
       "[Computer Software]                       55\n",
       "[Information Technology, and Services]    45\n",
       "[Civic, Social Organization]              35\n",
       "[Management Consulting]                   20\n",
       "[nan]                                     20\n",
       "[Higher Education]                        20\n",
       "[Internet]                                10\n",
       "[Venture Capital, Private Equity]          5\n",
       "[Nonprofit Organization, Management]       5\n",
       "[Graphic Design]                           5\n",
       "[Performing Arts]                          5\n",
       "[Marketing and, Advertising]               5\n",
       "[Research]                                 5\n",
       "Name: industry, dtype: int64"
      ]
     },
     "execution_count": 82,
     "metadata": {},
     "output_type": "execute_result"
    }
   ],
   "source": [
    "experience['industry'].value_counts()"
   ]
  },
  {
   "cell_type": "code",
   "execution_count": 83,
   "metadata": {},
   "outputs": [],
   "source": [
    "experience.reset_index(inplace=True)\n",
    "experience.rename(columns={\"index\":\"exp_id\"}, inplace=True)"
   ]
  },
  {
   "cell_type": "code",
   "execution_count": 84,
   "metadata": {},
   "outputs": [
    {
     "data": {
      "text/plain": [
       "exp_id                int64\n",
       "ind_id                int64\n",
       "locationName         object\n",
       "companyName          object\n",
       "description          object\n",
       "title                object\n",
       "startDate_month       int64\n",
       "startDate_year        int64\n",
       "endDate_month         int64\n",
       "endDate_year          int64\n",
       "industry             object\n",
       "company_empl_low      int64\n",
       "company_empl_high     int64\n",
       "title_direction       int64\n",
       "titleconsulting       int64\n",
       "titlefounder          int64\n",
       "dtype: object"
      ]
     },
     "execution_count": 84,
     "metadata": {},
     "output_type": "execute_result"
    }
   ],
   "source": [
    "experience.dtypes"
   ]
  },
  {
   "cell_type": "code",
   "execution_count": 85,
   "metadata": {},
   "outputs": [
    {
     "data": {
      "text/plain": [
       "Index(['exp_id', 'ind_id', 'locationName', 'companyName', 'description',\n",
       "       'title', 'startDate_month', 'startDate_year', 'endDate_month',\n",
       "       'endDate_year', 'industry', 'company_empl_low', 'company_empl_high',\n",
       "       'title_direction', 'titleconsulting', 'titlefounder'],\n",
       "      dtype='object')"
      ]
     },
     "execution_count": 85,
     "metadata": {},
     "output_type": "execute_result"
    }
   ],
   "source": [
    "experience.columns"
   ]
  },
  {
   "cell_type": "code",
   "execution_count": 87,
   "metadata": {},
   "outputs": [
    {
     "data": {
      "text/html": [
       "<div>\n",
       "<style scoped>\n",
       "    .dataframe tbody tr th:only-of-type {\n",
       "        vertical-align: middle;\n",
       "    }\n",
       "\n",
       "    .dataframe tbody tr th {\n",
       "        vertical-align: top;\n",
       "    }\n",
       "\n",
       "    .dataframe thead th {\n",
       "        text-align: right;\n",
       "    }\n",
       "</style>\n",
       "<table border=\"1\" class=\"dataframe\">\n",
       "  <thead>\n",
       "    <tr style=\"text-align: right;\">\n",
       "      <th></th>\n",
       "      <th>exp_id</th>\n",
       "      <th>ind_id</th>\n",
       "      <th>locationName</th>\n",
       "      <th>companyName</th>\n",
       "      <th>description</th>\n",
       "      <th>title</th>\n",
       "      <th>startDate_month</th>\n",
       "      <th>startDate_year</th>\n",
       "      <th>endDate_month</th>\n",
       "      <th>endDate_year</th>\n",
       "      <th>industry</th>\n",
       "      <th>company_empl_low</th>\n",
       "      <th>company_empl_high</th>\n",
       "      <th>title_direction</th>\n",
       "      <th>titleconsulting</th>\n",
       "      <th>titlefounder</th>\n",
       "    </tr>\n",
       "  </thead>\n",
       "  <tbody>\n",
       "    <tr>\n",
       "      <th>0</th>\n",
       "      <td>0</td>\n",
       "      <td>0</td>\n",
       "      <td>Paris Metropolitan Region</td>\n",
       "      <td>bluenove</td>\n",
       "      <td>Bluenove accompagne la transformation positive...</td>\n",
       "      <td>Directeur associé</td>\n",
       "      <td>11</td>\n",
       "      <td>2017</td>\n",
       "      <td>0</td>\n",
       "      <td>0</td>\n",
       "      <td>[Management Consulting]</td>\n",
       "      <td>11</td>\n",
       "      <td>50</td>\n",
       "      <td>1</td>\n",
       "      <td>0</td>\n",
       "      <td>0</td>\n",
       "    </tr>\n",
       "    <tr>\n",
       "      <th>1</th>\n",
       "      <td>1</td>\n",
       "      <td>0</td>\n",
       "      <td>Paris Metropolitan Region</td>\n",
       "      <td>démocratie ouverte</td>\n",
       "      <td>Démocratie Ouverte est un collectif citoyen in...</td>\n",
       "      <td>Co-Président</td>\n",
       "      <td>1</td>\n",
       "      <td>2018</td>\n",
       "      <td>5</td>\n",
       "      <td>2020</td>\n",
       "      <td>[Management Consulting]</td>\n",
       "      <td>11</td>\n",
       "      <td>50</td>\n",
       "      <td>1</td>\n",
       "      <td>0</td>\n",
       "      <td>0</td>\n",
       "    </tr>\n",
       "    <tr>\n",
       "      <th>2</th>\n",
       "      <td>2</td>\n",
       "      <td>0</td>\n",
       "      <td>Paris Metropolitan Region</td>\n",
       "      <td>apm - association progrès du management</td>\n",
       "      <td>NaN</td>\n",
       "      <td>Expert</td>\n",
       "      <td>1</td>\n",
       "      <td>2017</td>\n",
       "      <td>0</td>\n",
       "      <td>0</td>\n",
       "      <td>[Management Consulting]</td>\n",
       "      <td>11</td>\n",
       "      <td>50</td>\n",
       "      <td>0</td>\n",
       "      <td>0</td>\n",
       "      <td>0</td>\n",
       "    </tr>\n",
       "    <tr>\n",
       "      <th>3</th>\n",
       "      <td>3</td>\n",
       "      <td>0</td>\n",
       "      <td>NaN</td>\n",
       "      <td>démocratie ouverte</td>\n",
       "      <td>NaN</td>\n",
       "      <td>Membre du Comité d'Orientation Stratégique</td>\n",
       "      <td>7</td>\n",
       "      <td>2021</td>\n",
       "      <td>0</td>\n",
       "      <td>0</td>\n",
       "      <td>[Management Consulting]</td>\n",
       "      <td>11</td>\n",
       "      <td>50</td>\n",
       "      <td>0</td>\n",
       "      <td>0</td>\n",
       "      <td>0</td>\n",
       "    </tr>\n",
       "    <tr>\n",
       "      <th>4</th>\n",
       "      <td>4</td>\n",
       "      <td>0</td>\n",
       "      <td>Paris Metropolitan Region</td>\n",
       "      <td>dassault systèmes</td>\n",
       "      <td>Netvibes provides Dashboard Intelligence ~ tra...</td>\n",
       "      <td>Senior Director, Strategic Business Development</td>\n",
       "      <td>2</td>\n",
       "      <td>2013</td>\n",
       "      <td>10</td>\n",
       "      <td>2017</td>\n",
       "      <td>[Management Consulting]</td>\n",
       "      <td>11</td>\n",
       "      <td>50</td>\n",
       "      <td>1</td>\n",
       "      <td>0</td>\n",
       "      <td>0</td>\n",
       "    </tr>\n",
       "  </tbody>\n",
       "</table>\n",
       "</div>"
      ],
      "text/plain": [
       "   exp_id  ind_id               locationName  \\\n",
       "0       0       0  Paris Metropolitan Region   \n",
       "1       1       0  Paris Metropolitan Region   \n",
       "2       2       0  Paris Metropolitan Region   \n",
       "3       3       0                        NaN   \n",
       "4       4       0  Paris Metropolitan Region   \n",
       "\n",
       "                               companyName  \\\n",
       "0                                 bluenove   \n",
       "1                       démocratie ouverte   \n",
       "2  apm - association progrès du management   \n",
       "3                       démocratie ouverte   \n",
       "4                        dassault systèmes   \n",
       "\n",
       "                                         description  \\\n",
       "0  Bluenove accompagne la transformation positive...   \n",
       "1  Démocratie Ouverte est un collectif citoyen in...   \n",
       "2                                                NaN   \n",
       "3                                                NaN   \n",
       "4  Netvibes provides Dashboard Intelligence ~ tra...   \n",
       "\n",
       "                                              title  startDate_month  \\\n",
       "0                                 Directeur associé               11   \n",
       "1                                      Co-Président                1   \n",
       "2                                            Expert                1   \n",
       "3        Membre du Comité d'Orientation Stratégique                7   \n",
       "4  Senior Director, Strategic Business Development                 2   \n",
       "\n",
       "   startDate_year  endDate_month  endDate_year                 industry  \\\n",
       "0            2017              0             0  [Management Consulting]   \n",
       "1            2018              5          2020  [Management Consulting]   \n",
       "2            2017              0             0  [Management Consulting]   \n",
       "3            2021              0             0  [Management Consulting]   \n",
       "4            2013             10          2017  [Management Consulting]   \n",
       "\n",
       "   company_empl_low  company_empl_high  title_direction  titleconsulting  \\\n",
       "0                11                 50                1                0   \n",
       "1                11                 50                1                0   \n",
       "2                11                 50                0                0   \n",
       "3                11                 50                0                0   \n",
       "4                11                 50                1                0   \n",
       "\n",
       "   titlefounder  \n",
       "0             0  \n",
       "1             0  \n",
       "2             0  \n",
       "3             0  \n",
       "4             0  "
      ]
     },
     "execution_count": 87,
     "metadata": {},
     "output_type": "execute_result"
    }
   ],
   "source": [
    "experience.head()"
   ]
  },
  {
   "cell_type": "code",
   "execution_count": 91,
   "metadata": {},
   "outputs": [
    {
     "ename": "NameError",
     "evalue": "name 'editor' is not defined",
     "output_type": "error",
     "traceback": [
      "\u001b[0;31m---------------------------------------------------------------------------\u001b[0m",
      "\u001b[0;31mNameError\u001b[0m                                 Traceback (most recent call last)",
      "Cell \u001b[0;32mIn[91], line 1\u001b[0m\n\u001b[0;32m----> 1\u001b[0m editor\u001b[39m.\u001b[39munusualLineTerminators: \u001b[39m\"\u001b[39m\u001b[39mauto\u001b[39m\u001b[39m\"\u001b[39m\n",
      "\u001b[0;31mNameError\u001b[0m: name 'editor' is not defined"
     ]
    }
   ],
   "source": [
    "#editor.unusualLineTerminators: \"auto\"\n",
    "\n",
    "#   // Remove unusual line terminators that might cause problems.\n",
    "#   //  - auto: Unusual line terminators are automatically removed.\n",
    "#   //  - off: Unusual line terminators are ignored.\n",
    "#   //  - prompt: Unusual line terminators prompt to be removed.\n",
    "#   \"editor.unusualLineTerminators\": \"prompt\","
   ]
  },
  {
   "cell_type": "code",
   "execution_count": 92,
   "metadata": {},
   "outputs": [],
   "source": [
    "experience.to_csv(\"profiles/people_experience_db_2.csv\", sep=\";\", index=False)"
   ]
  },
  {
   "cell_type": "code",
   "execution_count": null,
   "metadata": {},
   "outputs": [],
   "source": [
    "from sqlalchemy.types import Integer, BigInteger, Boolean, Date, Float, LargeBinary, SmallInteger, String, Text, Unicode, UnicodeText\n",
    "\n",
    "experience.to_sql('experience', con=engine, if_exists='replace', index=False,\n",
    "          dtype={\"exp_id\": Integer(), 'ind_id': Integer(), 'startDate_month': Integer(), 'startDate_year': Integer(), 'endDate_month': Integer(),\n",
    "       'endDate_year': Integer(), 'company_empl_low':Integer(), 'company_empl_high':Integer(), 'title_direction': Integer(), 'titleconsulting': Integer(), 'titlefounder': Integer(), \n",
    "       'locationName': String(100), 'companyName': String(100), 'description': String(400),'title': String(100),'industry': String(100)})"
   ]
  },
  {
   "cell_type": "code",
   "execution_count": 93,
   "metadata": {},
   "outputs": [
    {
     "ename": "OperationalError",
     "evalue": "(pymysql.err.OperationalError) (1241, 'Operand should contain 1 column(s)')\n[SQL: INSERT INTO civictech.experience (exp_id, ind_id, `locationName`, `companyName`, description, title, `startDate_month`, `startDate_year`, `endDate_month`, `endDate_year`, industry, company_empl_low, company_empl_high, title_direction, titleconsulting, titlefounder) VALUES (%(exp_id)s, %(ind_id)s, %(locationName)s, %(companyName)s, %(description)s, %(title)s, %(startDate_month)s, %(startDate_year)s, %(endDate_month)s, %(endDate_year)s, %(industry)s, %(company_empl_low)s, %(company_empl_high)s, %(title_direction)s, %(titleconsulting)s, %(titlefounder)s)]\n[parameters: ({'exp_id': 0, 'ind_id': 0, 'locationName': 'Paris Metropolitan Region', 'companyName': 'bluenove', 'description': \"Bluenove accompagne la transformation positive des organisations en faisant levier de l'intelligence collective de toutes leurs parties prenantes.\\nPlus d'informations sur www.bluenove.com\", 'title': 'Directeur associé', 'startDate_month': 11, 'startDate_year': 2017, 'endDate_month': 0, 'endDate_year': 0, 'industry': ['Management Consulting'], 'company_empl_low': 11, 'company_empl_high': 50, 'title_direction': 1, 'titleconsulting': 0, 'titlefounder': 0}, {'exp_id': 1, 'ind_id': 0, 'locationName': 'Paris Metropolitan Region', 'companyName': 'démocratie ouverte', 'description': \"Démocratie Ouverte est un collectif citoyen indépendant qui agit pour :\\n\\n# Repérer, mettre en réseau et accompagner les innovateurs démocratiques\\n ... (302 characters truncated) ... ité\\n# Tester de nouvelles manières de faire de la politique\\n# Faire advenir une société ouverte, plus transparente, participative et collaborative.\", 'title': 'Co-Président', 'startDate_month': 1, 'startDate_year': 2018, 'endDate_month': 5, 'endDate_year': 2020, 'industry': ['Management Consulting'], 'company_empl_low': 11, 'company_empl_high': 50, 'title_direction': 1, 'titleconsulting': 0, 'titlefounder': 0}, {'exp_id': 2, 'ind_id': 0, 'locationName': 'Paris Metropolitan Region', 'companyName': 'apm - association progrès du management', 'description': None, 'title': 'Expert', 'startDate_month': 1, 'startDate_year': 2017, 'endDate_month': 0, 'endDate_year': 0, 'industry': ['Management Consulting'], 'company_empl_low': 11, 'company_empl_high': 50, 'title_direction': 0, 'titleconsulting': 0, 'titlefounder': 0}, {'exp_id': 3, 'ind_id': 0, 'locationName': None, 'companyName': 'démocratie ouverte', 'description': None, 'title': \"Membre du Comité d'Orientation Stratégique\", 'startDate_month': 7, 'startDate_year': 2021, 'endDate_month': 0, 'endDate_year': 0, 'industry': ['Management Consulting'], 'company_empl_low': 11, 'company_empl_high': 50, 'title_direction': 0, 'titleconsulting': 0, 'titlefounder': 0}, {'exp_id': 4, 'ind_id': 0, 'locationName': 'Paris Metropolitan Region', 'companyName': 'dassault systèmes', 'description': 'Netvibes provides Dashboard Intelligence ~ transform the intangible real-time web into tangible trends, expert knowledge and business action', 'title': 'Senior Director, Strategic Business Development ', 'startDate_month': 2, 'startDate_year': 2013, 'endDate_month': 10, 'endDate_year': 2017, 'industry': ['Management Consulting'], 'company_empl_low': 11, 'company_empl_high': 50, 'title_direction': 1, 'titleconsulting': 0, 'titlefounder': 0}, {'exp_id': 5, 'ind_id': 1, 'locationName': None, 'companyName': 'roch ventures', 'description': 'ROCH Ventures is a Luxembourg based VC fund providing Seed and Series A funding to startups in the Travel & Tourism sector. \\nWe believe that Travel  ... (97 characters truncated) ... ey drivers of opportunities and outperformance. \\nWe detect, select, and enable the future winners providing our investors with the highest returns. ', 'title': 'Founder & Managing Partner', 'startDate_month': 1, 'startDate_year': 2022, 'endDate_month': 0, 'endDate_year': 0, 'industry': ['Venture Capital', 'Private Equity'], 'company_empl_low': 2, 'company_empl_high': 10, 'title_direction': 0, 'titleconsulting': 0, 'titlefounder': 1}, {'exp_id': 6, 'ind_id': 1, 'locationName': 'Paris Metropolitan Region', 'companyName': 'boston consulting group (bcg)', 'description': 'Head of TUNED by BCG.\\nBCG change management app, helps companies bring a new, more powerful approach to communicating and engaging with employees during organisational change efforts.', 'title': 'Director', 'startDate_month': 11, 'startDate_year': 2017, 'endDate_month': 1, 'endDate_year': 2020, 'industry': ['Venture Capital', 'Private Equity'], 'company_empl_low': 2, 'company_empl_high': 10, 'title_direction': 1, 'titleconsulting': 0, 'titlefounder': 0}, {'exp_id': 7, 'ind_id': 1, 'locationName': 'Paris Metropolitan Region', 'companyName': 'Orange', 'description': 'Orange Business Services provides communication services to companies of all sizes in France and internationally. Its network, the most extensive in  ... (90 characters truncated) ... ers and employees.\\nMore than 160 countries and territories covered\\n21,500 employees\\n15 research and innovation laboratories\\n227 million customers', 'title': 'Advisory Board Member', 'startDate_month': 9, 'startDate_year': 2016, 'endDate_month': 6, 'endDate_year': 2021, 'industry': ['Venture Capital', 'Private Equity'], 'company_empl_low': 2, 'company_empl_high': 10, 'title_direction': 0, 'titleconsulting': 0, 'titlefounder': 0}  ... displaying 10 of 235 total bound parameter sets ...  {'exp_id': 233, 'ind_id': 46, 'locationName': None, 'companyName': 'cap collectif', 'description': None, 'title': 'Pôle Conseil', 'startDate_month': 11, 'startDate_year': 2016, 'endDate_month': 8, 'endDate_year': 2022, 'industry': ['Research'], 'company_empl_low': 11, 'company_empl_high': 50, 'title_direction': 0, 'titleconsulting': 0, 'titlefounder': 0}, {'exp_id': 234, 'ind_id': 46, 'locationName': None, 'companyName': 'médiateur de la république', 'description': None, 'title': 'assistant du directeur de cabinet', 'startDate_month': 2, 'startDate_year': 2009, 'endDate_month': 11, 'endDate_year': 2010, 'industry': ['Research'], 'company_empl_low': 11, 'company_empl_high': 50, 'title_direction': 1, 'titleconsulting': 0, 'titlefounder': 0})]\n(Background on this error at: https://sqlalche.me/e/14/e3q8)",
     "output_type": "error",
     "traceback": [
      "\u001b[0;31m---------------------------------------------------------------------------\u001b[0m",
      "\u001b[0;31mOperationalError\u001b[0m                          Traceback (most recent call last)",
      "File \u001b[0;32m~/opt/anaconda3/lib/python3.9/site-packages/sqlalchemy/engine/base.py:1799\u001b[0m, in \u001b[0;36mConnection._execute_context\u001b[0;34m(self, dialect, constructor, statement, parameters, execution_options, *args, **kw)\u001b[0m\n\u001b[1;32m   1798\u001b[0m     \u001b[39mif\u001b[39;00m \u001b[39mnot\u001b[39;00m evt_handled:\n\u001b[0;32m-> 1799\u001b[0m         \u001b[39mself\u001b[39;49m\u001b[39m.\u001b[39;49mdialect\u001b[39m.\u001b[39;49mdo_executemany(\n\u001b[1;32m   1800\u001b[0m             cursor, statement, parameters, context\n\u001b[1;32m   1801\u001b[0m         )\n\u001b[1;32m   1802\u001b[0m \u001b[39melif\u001b[39;00m \u001b[39mnot\u001b[39;00m parameters \u001b[39mand\u001b[39;00m context\u001b[39m.\u001b[39mno_parameters:\n",
      "File \u001b[0;32m~/opt/anaconda3/lib/python3.9/site-packages/sqlalchemy/dialects/mysql/mysqldb.py:193\u001b[0m, in \u001b[0;36mMySQLDialect_mysqldb.do_executemany\u001b[0;34m(self, cursor, statement, parameters, context)\u001b[0m\n\u001b[1;32m    192\u001b[0m \u001b[39mdef\u001b[39;00m \u001b[39mdo_executemany\u001b[39m(\u001b[39mself\u001b[39m, cursor, statement, parameters, context\u001b[39m=\u001b[39m\u001b[39mNone\u001b[39;00m):\n\u001b[0;32m--> 193\u001b[0m     rowcount \u001b[39m=\u001b[39m cursor\u001b[39m.\u001b[39;49mexecutemany(statement, parameters)\n\u001b[1;32m    194\u001b[0m     \u001b[39mif\u001b[39;00m context \u001b[39mis\u001b[39;00m \u001b[39mnot\u001b[39;00m \u001b[39mNone\u001b[39;00m:\n",
      "File \u001b[0;32m~/opt/anaconda3/lib/python3.9/site-packages/pymysql/cursors.py:173\u001b[0m, in \u001b[0;36mCursor.executemany\u001b[0;34m(self, query, args)\u001b[0m\n\u001b[1;32m    172\u001b[0m     \u001b[39massert\u001b[39;00m q_values[\u001b[39m0\u001b[39m] \u001b[39m==\u001b[39m \u001b[39m\"\u001b[39m\u001b[39m(\u001b[39m\u001b[39m\"\u001b[39m \u001b[39mand\u001b[39;00m q_values[\u001b[39m-\u001b[39m\u001b[39m1\u001b[39m] \u001b[39m==\u001b[39m \u001b[39m\"\u001b[39m\u001b[39m)\u001b[39m\u001b[39m\"\u001b[39m\n\u001b[0;32m--> 173\u001b[0m     \u001b[39mreturn\u001b[39;00m \u001b[39mself\u001b[39;49m\u001b[39m.\u001b[39;49m_do_execute_many(\n\u001b[1;32m    174\u001b[0m         q_prefix,\n\u001b[1;32m    175\u001b[0m         q_values,\n\u001b[1;32m    176\u001b[0m         q_postfix,\n\u001b[1;32m    177\u001b[0m         args,\n\u001b[1;32m    178\u001b[0m         \u001b[39mself\u001b[39;49m\u001b[39m.\u001b[39;49mmax_stmt_length,\n\u001b[1;32m    179\u001b[0m         \u001b[39mself\u001b[39;49m\u001b[39m.\u001b[39;49m_get_db()\u001b[39m.\u001b[39;49mencoding,\n\u001b[1;32m    180\u001b[0m     )\n\u001b[1;32m    182\u001b[0m \u001b[39mself\u001b[39m\u001b[39m.\u001b[39mrowcount \u001b[39m=\u001b[39m \u001b[39msum\u001b[39m(\u001b[39mself\u001b[39m\u001b[39m.\u001b[39mexecute(query, arg) \u001b[39mfor\u001b[39;00m arg \u001b[39min\u001b[39;00m args)\n",
      "File \u001b[0;32m~/opt/anaconda3/lib/python3.9/site-packages/pymysql/cursors.py:211\u001b[0m, in \u001b[0;36mCursor._do_execute_many\u001b[0;34m(self, prefix, values, postfix, args, max_stmt_length, encoding)\u001b[0m\n\u001b[1;32m    210\u001b[0m     sql \u001b[39m+\u001b[39m\u001b[39m=\u001b[39m v\n\u001b[0;32m--> 211\u001b[0m rows \u001b[39m+\u001b[39m\u001b[39m=\u001b[39m \u001b[39mself\u001b[39;49m\u001b[39m.\u001b[39;49mexecute(sql \u001b[39m+\u001b[39;49m postfix)\n\u001b[1;32m    212\u001b[0m \u001b[39mself\u001b[39m\u001b[39m.\u001b[39mrowcount \u001b[39m=\u001b[39m rows\n",
      "File \u001b[0;32m~/opt/anaconda3/lib/python3.9/site-packages/pymysql/cursors.py:148\u001b[0m, in \u001b[0;36mCursor.execute\u001b[0;34m(self, query, args)\u001b[0m\n\u001b[1;32m    146\u001b[0m query \u001b[39m=\u001b[39m \u001b[39mself\u001b[39m\u001b[39m.\u001b[39mmogrify(query, args)\n\u001b[0;32m--> 148\u001b[0m result \u001b[39m=\u001b[39m \u001b[39mself\u001b[39;49m\u001b[39m.\u001b[39;49m_query(query)\n\u001b[1;32m    149\u001b[0m \u001b[39mself\u001b[39m\u001b[39m.\u001b[39m_executed \u001b[39m=\u001b[39m query\n",
      "File \u001b[0;32m~/opt/anaconda3/lib/python3.9/site-packages/pymysql/cursors.py:310\u001b[0m, in \u001b[0;36mCursor._query\u001b[0;34m(self, q)\u001b[0m\n\u001b[1;32m    309\u001b[0m \u001b[39mself\u001b[39m\u001b[39m.\u001b[39m_clear_result()\n\u001b[0;32m--> 310\u001b[0m conn\u001b[39m.\u001b[39;49mquery(q)\n\u001b[1;32m    311\u001b[0m \u001b[39mself\u001b[39m\u001b[39m.\u001b[39m_do_get_result()\n",
      "File \u001b[0;32m~/opt/anaconda3/lib/python3.9/site-packages/pymysql/connections.py:548\u001b[0m, in \u001b[0;36mConnection.query\u001b[0;34m(self, sql, unbuffered)\u001b[0m\n\u001b[1;32m    547\u001b[0m \u001b[39mself\u001b[39m\u001b[39m.\u001b[39m_execute_command(COMMAND\u001b[39m.\u001b[39mCOM_QUERY, sql)\n\u001b[0;32m--> 548\u001b[0m \u001b[39mself\u001b[39m\u001b[39m.\u001b[39m_affected_rows \u001b[39m=\u001b[39m \u001b[39mself\u001b[39;49m\u001b[39m.\u001b[39;49m_read_query_result(unbuffered\u001b[39m=\u001b[39;49munbuffered)\n\u001b[1;32m    549\u001b[0m \u001b[39mreturn\u001b[39;00m \u001b[39mself\u001b[39m\u001b[39m.\u001b[39m_affected_rows\n",
      "File \u001b[0;32m~/opt/anaconda3/lib/python3.9/site-packages/pymysql/connections.py:775\u001b[0m, in \u001b[0;36mConnection._read_query_result\u001b[0;34m(self, unbuffered)\u001b[0m\n\u001b[1;32m    774\u001b[0m     result \u001b[39m=\u001b[39m MySQLResult(\u001b[39mself\u001b[39m)\n\u001b[0;32m--> 775\u001b[0m     result\u001b[39m.\u001b[39;49mread()\n\u001b[1;32m    776\u001b[0m \u001b[39mself\u001b[39m\u001b[39m.\u001b[39m_result \u001b[39m=\u001b[39m result\n",
      "File \u001b[0;32m~/opt/anaconda3/lib/python3.9/site-packages/pymysql/connections.py:1156\u001b[0m, in \u001b[0;36mMySQLResult.read\u001b[0;34m(self)\u001b[0m\n\u001b[1;32m   1155\u001b[0m \u001b[39mtry\u001b[39;00m:\n\u001b[0;32m-> 1156\u001b[0m     first_packet \u001b[39m=\u001b[39m \u001b[39mself\u001b[39;49m\u001b[39m.\u001b[39;49mconnection\u001b[39m.\u001b[39;49m_read_packet()\n\u001b[1;32m   1158\u001b[0m     \u001b[39mif\u001b[39;00m first_packet\u001b[39m.\u001b[39mis_ok_packet():\n",
      "File \u001b[0;32m~/opt/anaconda3/lib/python3.9/site-packages/pymysql/connections.py:725\u001b[0m, in \u001b[0;36mConnection._read_packet\u001b[0;34m(self, packet_type)\u001b[0m\n\u001b[1;32m    724\u001b[0m         \u001b[39mself\u001b[39m\u001b[39m.\u001b[39m_result\u001b[39m.\u001b[39munbuffered_active \u001b[39m=\u001b[39m \u001b[39mFalse\u001b[39;00m\n\u001b[0;32m--> 725\u001b[0m     packet\u001b[39m.\u001b[39;49mraise_for_error()\n\u001b[1;32m    726\u001b[0m \u001b[39mreturn\u001b[39;00m packet\n",
      "File \u001b[0;32m~/opt/anaconda3/lib/python3.9/site-packages/pymysql/protocol.py:221\u001b[0m, in \u001b[0;36mMysqlPacket.raise_for_error\u001b[0;34m(self)\u001b[0m\n\u001b[1;32m    220\u001b[0m     \u001b[39mprint\u001b[39m(\u001b[39m\"\u001b[39m\u001b[39merrno =\u001b[39m\u001b[39m\"\u001b[39m, errno)\n\u001b[0;32m--> 221\u001b[0m err\u001b[39m.\u001b[39;49mraise_mysql_exception(\u001b[39mself\u001b[39;49m\u001b[39m.\u001b[39;49m_data)\n",
      "File \u001b[0;32m~/opt/anaconda3/lib/python3.9/site-packages/pymysql/err.py:143\u001b[0m, in \u001b[0;36mraise_mysql_exception\u001b[0;34m(data)\u001b[0m\n\u001b[1;32m    142\u001b[0m     errorclass \u001b[39m=\u001b[39m InternalError \u001b[39mif\u001b[39;00m errno \u001b[39m<\u001b[39m \u001b[39m1000\u001b[39m \u001b[39melse\u001b[39;00m OperationalError\n\u001b[0;32m--> 143\u001b[0m \u001b[39mraise\u001b[39;00m errorclass(errno, errval)\n",
      "\u001b[0;31mOperationalError\u001b[0m: (1241, 'Operand should contain 1 column(s)')",
      "\nThe above exception was the direct cause of the following exception:\n",
      "\u001b[0;31mOperationalError\u001b[0m                          Traceback (most recent call last)",
      "Cell \u001b[0;32mIn[93], line 1\u001b[0m\n\u001b[0;32m----> 1\u001b[0m experience\u001b[39m.\u001b[39;49mto_sql(\u001b[39m'\u001b[39;49m\u001b[39mexperience\u001b[39;49m\u001b[39m'\u001b[39;49m, engine, \u001b[39m'\u001b[39;49m\u001b[39mcivictech\u001b[39;49m\u001b[39m'\u001b[39;49m, if_exists\u001b[39m=\u001b[39;49m\u001b[39m'\u001b[39;49m\u001b[39mreplace\u001b[39;49m\u001b[39m'\u001b[39;49m, index\u001b[39m=\u001b[39;49m\u001b[39mFalse\u001b[39;49;00m)\n\u001b[1;32m      2\u001b[0m \u001b[39m# specify data types \u001b[39;00m\n",
      "File \u001b[0;32m~/opt/anaconda3/lib/python3.9/site-packages/pandas/core/generic.py:2987\u001b[0m, in \u001b[0;36mNDFrame.to_sql\u001b[0;34m(self, name, con, schema, if_exists, index, index_label, chunksize, dtype, method)\u001b[0m\n\u001b[1;32m   2830\u001b[0m \u001b[39m\u001b[39m\u001b[39m\"\"\"\u001b[39;00m\n\u001b[1;32m   2831\u001b[0m \u001b[39mWrite records stored in a DataFrame to a SQL database.\u001b[39;00m\n\u001b[1;32m   2832\u001b[0m \n\u001b[0;32m   (...)\u001b[0m\n\u001b[1;32m   2983\u001b[0m \u001b[39m[(1,), (None,), (2,)]\u001b[39;00m\n\u001b[1;32m   2984\u001b[0m \u001b[39m\"\"\"\u001b[39;00m  \u001b[39m# noqa:E501\u001b[39;00m\n\u001b[1;32m   2985\u001b[0m \u001b[39mfrom\u001b[39;00m \u001b[39mpandas\u001b[39;00m\u001b[39m.\u001b[39;00m\u001b[39mio\u001b[39;00m \u001b[39mimport\u001b[39;00m sql\n\u001b[0;32m-> 2987\u001b[0m \u001b[39mreturn\u001b[39;00m sql\u001b[39m.\u001b[39;49mto_sql(\n\u001b[1;32m   2988\u001b[0m     \u001b[39mself\u001b[39;49m,\n\u001b[1;32m   2989\u001b[0m     name,\n\u001b[1;32m   2990\u001b[0m     con,\n\u001b[1;32m   2991\u001b[0m     schema\u001b[39m=\u001b[39;49mschema,\n\u001b[1;32m   2992\u001b[0m     if_exists\u001b[39m=\u001b[39;49mif_exists,\n\u001b[1;32m   2993\u001b[0m     index\u001b[39m=\u001b[39;49mindex,\n\u001b[1;32m   2994\u001b[0m     index_label\u001b[39m=\u001b[39;49mindex_label,\n\u001b[1;32m   2995\u001b[0m     chunksize\u001b[39m=\u001b[39;49mchunksize,\n\u001b[1;32m   2996\u001b[0m     dtype\u001b[39m=\u001b[39;49mdtype,\n\u001b[1;32m   2997\u001b[0m     method\u001b[39m=\u001b[39;49mmethod,\n\u001b[1;32m   2998\u001b[0m )\n",
      "File \u001b[0;32m~/opt/anaconda3/lib/python3.9/site-packages/pandas/io/sql.py:695\u001b[0m, in \u001b[0;36mto_sql\u001b[0;34m(frame, name, con, schema, if_exists, index, index_label, chunksize, dtype, method, engine, **engine_kwargs)\u001b[0m\n\u001b[1;32m    690\u001b[0m \u001b[39melif\u001b[39;00m \u001b[39mnot\u001b[39;00m \u001b[39misinstance\u001b[39m(frame, DataFrame):\n\u001b[1;32m    691\u001b[0m     \u001b[39mraise\u001b[39;00m \u001b[39mNotImplementedError\u001b[39;00m(\n\u001b[1;32m    692\u001b[0m         \u001b[39m\"\u001b[39m\u001b[39m'\u001b[39m\u001b[39mframe\u001b[39m\u001b[39m'\u001b[39m\u001b[39m argument should be either a Series or a DataFrame\u001b[39m\u001b[39m\"\u001b[39m\n\u001b[1;32m    693\u001b[0m     )\n\u001b[0;32m--> 695\u001b[0m \u001b[39mreturn\u001b[39;00m pandas_sql\u001b[39m.\u001b[39;49mto_sql(\n\u001b[1;32m    696\u001b[0m     frame,\n\u001b[1;32m    697\u001b[0m     name,\n\u001b[1;32m    698\u001b[0m     if_exists\u001b[39m=\u001b[39;49mif_exists,\n\u001b[1;32m    699\u001b[0m     index\u001b[39m=\u001b[39;49mindex,\n\u001b[1;32m    700\u001b[0m     index_label\u001b[39m=\u001b[39;49mindex_label,\n\u001b[1;32m    701\u001b[0m     schema\u001b[39m=\u001b[39;49mschema,\n\u001b[1;32m    702\u001b[0m     chunksize\u001b[39m=\u001b[39;49mchunksize,\n\u001b[1;32m    703\u001b[0m     dtype\u001b[39m=\u001b[39;49mdtype,\n\u001b[1;32m    704\u001b[0m     method\u001b[39m=\u001b[39;49mmethod,\n\u001b[1;32m    705\u001b[0m     engine\u001b[39m=\u001b[39;49mengine,\n\u001b[1;32m    706\u001b[0m     \u001b[39m*\u001b[39;49m\u001b[39m*\u001b[39;49mengine_kwargs,\n\u001b[1;32m    707\u001b[0m )\n",
      "File \u001b[0;32m~/opt/anaconda3/lib/python3.9/site-packages/pandas/io/sql.py:1738\u001b[0m, in \u001b[0;36mSQLDatabase.to_sql\u001b[0;34m(self, frame, name, if_exists, index, index_label, schema, chunksize, dtype, method, engine, **engine_kwargs)\u001b[0m\n\u001b[1;32m   1726\u001b[0m sql_engine \u001b[39m=\u001b[39m get_engine(engine)\n\u001b[1;32m   1728\u001b[0m table \u001b[39m=\u001b[39m \u001b[39mself\u001b[39m\u001b[39m.\u001b[39mprep_table(\n\u001b[1;32m   1729\u001b[0m     frame\u001b[39m=\u001b[39mframe,\n\u001b[1;32m   1730\u001b[0m     name\u001b[39m=\u001b[39mname,\n\u001b[0;32m   (...)\u001b[0m\n\u001b[1;32m   1735\u001b[0m     dtype\u001b[39m=\u001b[39mdtype,\n\u001b[1;32m   1736\u001b[0m )\n\u001b[0;32m-> 1738\u001b[0m total_inserted \u001b[39m=\u001b[39m sql_engine\u001b[39m.\u001b[39;49minsert_records(\n\u001b[1;32m   1739\u001b[0m     table\u001b[39m=\u001b[39;49mtable,\n\u001b[1;32m   1740\u001b[0m     con\u001b[39m=\u001b[39;49m\u001b[39mself\u001b[39;49m\u001b[39m.\u001b[39;49mconnectable,\n\u001b[1;32m   1741\u001b[0m     frame\u001b[39m=\u001b[39;49mframe,\n\u001b[1;32m   1742\u001b[0m     name\u001b[39m=\u001b[39;49mname,\n\u001b[1;32m   1743\u001b[0m     index\u001b[39m=\u001b[39;49mindex,\n\u001b[1;32m   1744\u001b[0m     schema\u001b[39m=\u001b[39;49mschema,\n\u001b[1;32m   1745\u001b[0m     chunksize\u001b[39m=\u001b[39;49mchunksize,\n\u001b[1;32m   1746\u001b[0m     method\u001b[39m=\u001b[39;49mmethod,\n\u001b[1;32m   1747\u001b[0m     \u001b[39m*\u001b[39;49m\u001b[39m*\u001b[39;49mengine_kwargs,\n\u001b[1;32m   1748\u001b[0m )\n\u001b[1;32m   1750\u001b[0m \u001b[39mself\u001b[39m\u001b[39m.\u001b[39mcheck_case_sensitive(name\u001b[39m=\u001b[39mname, schema\u001b[39m=\u001b[39mschema)\n\u001b[1;32m   1751\u001b[0m \u001b[39mreturn\u001b[39;00m total_inserted\n",
      "File \u001b[0;32m~/opt/anaconda3/lib/python3.9/site-packages/pandas/io/sql.py:1335\u001b[0m, in \u001b[0;36mSQLAlchemyEngine.insert_records\u001b[0;34m(self, table, con, frame, name, index, schema, chunksize, method, **engine_kwargs)\u001b[0m\n\u001b[1;32m   1333\u001b[0m     \u001b[39mraise\u001b[39;00m \u001b[39mValueError\u001b[39;00m(\u001b[39m\"\u001b[39m\u001b[39minf cannot be used with MySQL\u001b[39m\u001b[39m\"\u001b[39m) \u001b[39mfrom\u001b[39;00m \u001b[39merr\u001b[39;00m\n\u001b[1;32m   1334\u001b[0m \u001b[39melse\u001b[39;00m:\n\u001b[0;32m-> 1335\u001b[0m     \u001b[39mraise\u001b[39;00m err\n",
      "File \u001b[0;32m~/opt/anaconda3/lib/python3.9/site-packages/pandas/io/sql.py:1325\u001b[0m, in \u001b[0;36mSQLAlchemyEngine.insert_records\u001b[0;34m(self, table, con, frame, name, index, schema, chunksize, method, **engine_kwargs)\u001b[0m\n\u001b[1;32m   1322\u001b[0m \u001b[39mfrom\u001b[39;00m \u001b[39msqlalchemy\u001b[39;00m \u001b[39mimport\u001b[39;00m exc\n\u001b[1;32m   1324\u001b[0m \u001b[39mtry\u001b[39;00m:\n\u001b[0;32m-> 1325\u001b[0m     \u001b[39mreturn\u001b[39;00m table\u001b[39m.\u001b[39;49minsert(chunksize\u001b[39m=\u001b[39;49mchunksize, method\u001b[39m=\u001b[39;49mmethod)\n\u001b[1;32m   1326\u001b[0m \u001b[39mexcept\u001b[39;00m exc\u001b[39m.\u001b[39mSQLAlchemyError \u001b[39mas\u001b[39;00m err:\n\u001b[1;32m   1327\u001b[0m     \u001b[39m# GH34431\u001b[39;00m\n\u001b[1;32m   1328\u001b[0m     \u001b[39m# https://stackoverflow.com/a/67358288/6067848\u001b[39;00m\n\u001b[1;32m   1329\u001b[0m     msg \u001b[39m=\u001b[39m \u001b[39mr\u001b[39m\u001b[39m\"\"\"\u001b[39m\u001b[39m(\u001b[39m\u001b[39m\\\u001b[39m\u001b[39m(1054, \u001b[39m\u001b[39m\"\u001b[39m\u001b[39mUnknown column \u001b[39m\u001b[39m'\u001b[39m\u001b[39minf(e0)?\u001b[39m\u001b[39m'\u001b[39m\u001b[39m in \u001b[39m\u001b[39m'\u001b[39m\u001b[39mfield list\u001b[39m\u001b[39m'\u001b[39m\u001b[39m\"\u001b[39m\u001b[39m\\\u001b[39m\u001b[39m))(?#\u001b[39m\n\u001b[1;32m   1330\u001b[0m \u001b[39m    )|inf can not be used with MySQL\u001b[39m\u001b[39m\"\"\"\u001b[39m\n",
      "File \u001b[0;32m~/opt/anaconda3/lib/python3.9/site-packages/pandas/io/sql.py:946\u001b[0m, in \u001b[0;36mSQLTable.insert\u001b[0;34m(self, chunksize, method)\u001b[0m\n\u001b[1;32m    943\u001b[0m     \u001b[39mbreak\u001b[39;00m\n\u001b[1;32m    945\u001b[0m chunk_iter \u001b[39m=\u001b[39m \u001b[39mzip\u001b[39m(\u001b[39m*\u001b[39m(arr[start_i:end_i] \u001b[39mfor\u001b[39;00m arr \u001b[39min\u001b[39;00m data_list))\n\u001b[0;32m--> 946\u001b[0m num_inserted \u001b[39m=\u001b[39m exec_insert(conn, keys, chunk_iter)\n\u001b[1;32m    947\u001b[0m \u001b[39m# GH 46891\u001b[39;00m\n\u001b[1;32m    948\u001b[0m \u001b[39mif\u001b[39;00m is_integer(num_inserted):\n",
      "File \u001b[0;32m~/opt/anaconda3/lib/python3.9/site-packages/pandas/io/sql.py:853\u001b[0m, in \u001b[0;36mSQLTable._execute_insert\u001b[0;34m(self, conn, keys, data_iter)\u001b[0m\n\u001b[1;32m    841\u001b[0m \u001b[39m\u001b[39m\u001b[39m\"\"\"\u001b[39;00m\n\u001b[1;32m    842\u001b[0m \u001b[39mExecute SQL statement inserting data\u001b[39;00m\n\u001b[1;32m    843\u001b[0m \n\u001b[0;32m   (...)\u001b[0m\n\u001b[1;32m    850\u001b[0m \u001b[39m   Each item contains a list of values to be inserted\u001b[39;00m\n\u001b[1;32m    851\u001b[0m \u001b[39m\"\"\"\u001b[39;00m\n\u001b[1;32m    852\u001b[0m data \u001b[39m=\u001b[39m [\u001b[39mdict\u001b[39m(\u001b[39mzip\u001b[39m(keys, row)) \u001b[39mfor\u001b[39;00m row \u001b[39min\u001b[39;00m data_iter]\n\u001b[0;32m--> 853\u001b[0m result \u001b[39m=\u001b[39m conn\u001b[39m.\u001b[39;49mexecute(\u001b[39mself\u001b[39;49m\u001b[39m.\u001b[39;49mtable\u001b[39m.\u001b[39;49minsert(), data)\n\u001b[1;32m    854\u001b[0m \u001b[39mreturn\u001b[39;00m result\u001b[39m.\u001b[39mrowcount\n",
      "File \u001b[0;32m~/opt/anaconda3/lib/python3.9/site-packages/sqlalchemy/engine/base.py:1306\u001b[0m, in \u001b[0;36mConnection.execute\u001b[0;34m(self, statement, *multiparams, **params)\u001b[0m\n\u001b[1;32m   1302\u001b[0m     util\u001b[39m.\u001b[39mraise_(\n\u001b[1;32m   1303\u001b[0m         exc\u001b[39m.\u001b[39mObjectNotExecutableError(statement), replace_context\u001b[39m=\u001b[39merr\n\u001b[1;32m   1304\u001b[0m     )\n\u001b[1;32m   1305\u001b[0m \u001b[39melse\u001b[39;00m:\n\u001b[0;32m-> 1306\u001b[0m     \u001b[39mreturn\u001b[39;00m meth(\u001b[39mself\u001b[39;49m, multiparams, params, _EMPTY_EXECUTION_OPTS)\n",
      "File \u001b[0;32m~/opt/anaconda3/lib/python3.9/site-packages/sqlalchemy/sql/elements.py:332\u001b[0m, in \u001b[0;36mClauseElement._execute_on_connection\u001b[0;34m(self, connection, multiparams, params, execution_options, _force)\u001b[0m\n\u001b[1;32m    328\u001b[0m \u001b[39mdef\u001b[39;00m \u001b[39m_execute_on_connection\u001b[39m(\n\u001b[1;32m    329\u001b[0m     \u001b[39mself\u001b[39m, connection, multiparams, params, execution_options, _force\u001b[39m=\u001b[39m\u001b[39mFalse\u001b[39;00m\n\u001b[1;32m    330\u001b[0m ):\n\u001b[1;32m    331\u001b[0m     \u001b[39mif\u001b[39;00m _force \u001b[39mor\u001b[39;00m \u001b[39mself\u001b[39m\u001b[39m.\u001b[39msupports_execution:\n\u001b[0;32m--> 332\u001b[0m         \u001b[39mreturn\u001b[39;00m connection\u001b[39m.\u001b[39;49m_execute_clauseelement(\n\u001b[1;32m    333\u001b[0m             \u001b[39mself\u001b[39;49m, multiparams, params, execution_options\n\u001b[1;32m    334\u001b[0m         )\n\u001b[1;32m    335\u001b[0m     \u001b[39melse\u001b[39;00m:\n\u001b[1;32m    336\u001b[0m         \u001b[39mraise\u001b[39;00m exc\u001b[39m.\u001b[39mObjectNotExecutableError(\u001b[39mself\u001b[39m)\n",
      "File \u001b[0;32m~/opt/anaconda3/lib/python3.9/site-packages/sqlalchemy/engine/base.py:1498\u001b[0m, in \u001b[0;36mConnection._execute_clauseelement\u001b[0;34m(self, elem, multiparams, params, execution_options)\u001b[0m\n\u001b[1;32m   1486\u001b[0m compiled_cache \u001b[39m=\u001b[39m execution_options\u001b[39m.\u001b[39mget(\n\u001b[1;32m   1487\u001b[0m     \u001b[39m\"\u001b[39m\u001b[39mcompiled_cache\u001b[39m\u001b[39m\"\u001b[39m, \u001b[39mself\u001b[39m\u001b[39m.\u001b[39mengine\u001b[39m.\u001b[39m_compiled_cache\n\u001b[1;32m   1488\u001b[0m )\n\u001b[1;32m   1490\u001b[0m compiled_sql, extracted_params, cache_hit \u001b[39m=\u001b[39m elem\u001b[39m.\u001b[39m_compile_w_cache(\n\u001b[1;32m   1491\u001b[0m     dialect\u001b[39m=\u001b[39mdialect,\n\u001b[1;32m   1492\u001b[0m     compiled_cache\u001b[39m=\u001b[39mcompiled_cache,\n\u001b[0;32m   (...)\u001b[0m\n\u001b[1;32m   1496\u001b[0m     linting\u001b[39m=\u001b[39m\u001b[39mself\u001b[39m\u001b[39m.\u001b[39mdialect\u001b[39m.\u001b[39mcompiler_linting \u001b[39m|\u001b[39m compiler\u001b[39m.\u001b[39mWARN_LINTING,\n\u001b[1;32m   1497\u001b[0m )\n\u001b[0;32m-> 1498\u001b[0m ret \u001b[39m=\u001b[39m \u001b[39mself\u001b[39;49m\u001b[39m.\u001b[39;49m_execute_context(\n\u001b[1;32m   1499\u001b[0m     dialect,\n\u001b[1;32m   1500\u001b[0m     dialect\u001b[39m.\u001b[39;49mexecution_ctx_cls\u001b[39m.\u001b[39;49m_init_compiled,\n\u001b[1;32m   1501\u001b[0m     compiled_sql,\n\u001b[1;32m   1502\u001b[0m     distilled_params,\n\u001b[1;32m   1503\u001b[0m     execution_options,\n\u001b[1;32m   1504\u001b[0m     compiled_sql,\n\u001b[1;32m   1505\u001b[0m     distilled_params,\n\u001b[1;32m   1506\u001b[0m     elem,\n\u001b[1;32m   1507\u001b[0m     extracted_params,\n\u001b[1;32m   1508\u001b[0m     cache_hit\u001b[39m=\u001b[39;49mcache_hit,\n\u001b[1;32m   1509\u001b[0m )\n\u001b[1;32m   1510\u001b[0m \u001b[39mif\u001b[39;00m has_events:\n\u001b[1;32m   1511\u001b[0m     \u001b[39mself\u001b[39m\u001b[39m.\u001b[39mdispatch\u001b[39m.\u001b[39mafter_execute(\n\u001b[1;32m   1512\u001b[0m         \u001b[39mself\u001b[39m,\n\u001b[1;32m   1513\u001b[0m         elem,\n\u001b[0;32m   (...)\u001b[0m\n\u001b[1;32m   1517\u001b[0m         ret,\n\u001b[1;32m   1518\u001b[0m     )\n",
      "File \u001b[0;32m~/opt/anaconda3/lib/python3.9/site-packages/sqlalchemy/engine/base.py:1862\u001b[0m, in \u001b[0;36mConnection._execute_context\u001b[0;34m(self, dialect, constructor, statement, parameters, execution_options, *args, **kw)\u001b[0m\n\u001b[1;32m   1859\u001b[0m             branched\u001b[39m.\u001b[39mclose()\n\u001b[1;32m   1861\u001b[0m \u001b[39mexcept\u001b[39;00m \u001b[39mBaseException\u001b[39;00m \u001b[39mas\u001b[39;00m e:\n\u001b[0;32m-> 1862\u001b[0m     \u001b[39mself\u001b[39;49m\u001b[39m.\u001b[39;49m_handle_dbapi_exception(\n\u001b[1;32m   1863\u001b[0m         e, statement, parameters, cursor, context\n\u001b[1;32m   1864\u001b[0m     )\n\u001b[1;32m   1866\u001b[0m \u001b[39mreturn\u001b[39;00m result\n",
      "File \u001b[0;32m~/opt/anaconda3/lib/python3.9/site-packages/sqlalchemy/engine/base.py:2043\u001b[0m, in \u001b[0;36mConnection._handle_dbapi_exception\u001b[0;34m(self, e, statement, parameters, cursor, context)\u001b[0m\n\u001b[1;32m   2041\u001b[0m     util\u001b[39m.\u001b[39mraise_(newraise, with_traceback\u001b[39m=\u001b[39mexc_info[\u001b[39m2\u001b[39m], from_\u001b[39m=\u001b[39me)\n\u001b[1;32m   2042\u001b[0m \u001b[39melif\u001b[39;00m should_wrap:\n\u001b[0;32m-> 2043\u001b[0m     util\u001b[39m.\u001b[39;49mraise_(\n\u001b[1;32m   2044\u001b[0m         sqlalchemy_exception, with_traceback\u001b[39m=\u001b[39;49mexc_info[\u001b[39m2\u001b[39;49m], from_\u001b[39m=\u001b[39;49me\n\u001b[1;32m   2045\u001b[0m     )\n\u001b[1;32m   2046\u001b[0m \u001b[39melse\u001b[39;00m:\n\u001b[1;32m   2047\u001b[0m     util\u001b[39m.\u001b[39mraise_(exc_info[\u001b[39m1\u001b[39m], with_traceback\u001b[39m=\u001b[39mexc_info[\u001b[39m2\u001b[39m])\n",
      "File \u001b[0;32m~/opt/anaconda3/lib/python3.9/site-packages/sqlalchemy/util/compat.py:208\u001b[0m, in \u001b[0;36mraise_\u001b[0;34m(***failed resolving arguments***)\u001b[0m\n\u001b[1;32m    205\u001b[0m     exception\u001b[39m.\u001b[39m__cause__ \u001b[39m=\u001b[39m replace_context\n\u001b[1;32m    207\u001b[0m \u001b[39mtry\u001b[39;00m:\n\u001b[0;32m--> 208\u001b[0m     \u001b[39mraise\u001b[39;00m exception\n\u001b[1;32m    209\u001b[0m \u001b[39mfinally\u001b[39;00m:\n\u001b[1;32m    210\u001b[0m     \u001b[39m# credit to\u001b[39;00m\n\u001b[1;32m    211\u001b[0m     \u001b[39m# https://cosmicpercolator.com/2016/01/13/exception-leaks-in-python-2-and-3/\u001b[39;00m\n\u001b[1;32m    212\u001b[0m     \u001b[39m# as the __traceback__ object creates a cycle\u001b[39;00m\n\u001b[1;32m    213\u001b[0m     \u001b[39mdel\u001b[39;00m exception, replace_context, from_, with_traceback\n",
      "File \u001b[0;32m~/opt/anaconda3/lib/python3.9/site-packages/sqlalchemy/engine/base.py:1799\u001b[0m, in \u001b[0;36mConnection._execute_context\u001b[0;34m(self, dialect, constructor, statement, parameters, execution_options, *args, **kw)\u001b[0m\n\u001b[1;32m   1797\u001b[0m                 \u001b[39mbreak\u001b[39;00m\n\u001b[1;32m   1798\u001b[0m     \u001b[39mif\u001b[39;00m \u001b[39mnot\u001b[39;00m evt_handled:\n\u001b[0;32m-> 1799\u001b[0m         \u001b[39mself\u001b[39;49m\u001b[39m.\u001b[39;49mdialect\u001b[39m.\u001b[39;49mdo_executemany(\n\u001b[1;32m   1800\u001b[0m             cursor, statement, parameters, context\n\u001b[1;32m   1801\u001b[0m         )\n\u001b[1;32m   1802\u001b[0m \u001b[39melif\u001b[39;00m \u001b[39mnot\u001b[39;00m parameters \u001b[39mand\u001b[39;00m context\u001b[39m.\u001b[39mno_parameters:\n\u001b[1;32m   1803\u001b[0m     \u001b[39mif\u001b[39;00m \u001b[39mself\u001b[39m\u001b[39m.\u001b[39mdialect\u001b[39m.\u001b[39m_has_events:\n",
      "File \u001b[0;32m~/opt/anaconda3/lib/python3.9/site-packages/sqlalchemy/dialects/mysql/mysqldb.py:193\u001b[0m, in \u001b[0;36mMySQLDialect_mysqldb.do_executemany\u001b[0;34m(self, cursor, statement, parameters, context)\u001b[0m\n\u001b[1;32m    192\u001b[0m \u001b[39mdef\u001b[39;00m \u001b[39mdo_executemany\u001b[39m(\u001b[39mself\u001b[39m, cursor, statement, parameters, context\u001b[39m=\u001b[39m\u001b[39mNone\u001b[39;00m):\n\u001b[0;32m--> 193\u001b[0m     rowcount \u001b[39m=\u001b[39m cursor\u001b[39m.\u001b[39;49mexecutemany(statement, parameters)\n\u001b[1;32m    194\u001b[0m     \u001b[39mif\u001b[39;00m context \u001b[39mis\u001b[39;00m \u001b[39mnot\u001b[39;00m \u001b[39mNone\u001b[39;00m:\n\u001b[1;32m    195\u001b[0m         context\u001b[39m.\u001b[39m_rowcount \u001b[39m=\u001b[39m rowcount\n",
      "File \u001b[0;32m~/opt/anaconda3/lib/python3.9/site-packages/pymysql/cursors.py:173\u001b[0m, in \u001b[0;36mCursor.executemany\u001b[0;34m(self, query, args)\u001b[0m\n\u001b[1;32m    171\u001b[0m     q_postfix \u001b[39m=\u001b[39m m\u001b[39m.\u001b[39mgroup(\u001b[39m3\u001b[39m) \u001b[39mor\u001b[39;00m \u001b[39m\"\u001b[39m\u001b[39m\"\u001b[39m\n\u001b[1;32m    172\u001b[0m     \u001b[39massert\u001b[39;00m q_values[\u001b[39m0\u001b[39m] \u001b[39m==\u001b[39m \u001b[39m\"\u001b[39m\u001b[39m(\u001b[39m\u001b[39m\"\u001b[39m \u001b[39mand\u001b[39;00m q_values[\u001b[39m-\u001b[39m\u001b[39m1\u001b[39m] \u001b[39m==\u001b[39m \u001b[39m\"\u001b[39m\u001b[39m)\u001b[39m\u001b[39m\"\u001b[39m\n\u001b[0;32m--> 173\u001b[0m     \u001b[39mreturn\u001b[39;00m \u001b[39mself\u001b[39;49m\u001b[39m.\u001b[39;49m_do_execute_many(\n\u001b[1;32m    174\u001b[0m         q_prefix,\n\u001b[1;32m    175\u001b[0m         q_values,\n\u001b[1;32m    176\u001b[0m         q_postfix,\n\u001b[1;32m    177\u001b[0m         args,\n\u001b[1;32m    178\u001b[0m         \u001b[39mself\u001b[39;49m\u001b[39m.\u001b[39;49mmax_stmt_length,\n\u001b[1;32m    179\u001b[0m         \u001b[39mself\u001b[39;49m\u001b[39m.\u001b[39;49m_get_db()\u001b[39m.\u001b[39;49mencoding,\n\u001b[1;32m    180\u001b[0m     )\n\u001b[1;32m    182\u001b[0m \u001b[39mself\u001b[39m\u001b[39m.\u001b[39mrowcount \u001b[39m=\u001b[39m \u001b[39msum\u001b[39m(\u001b[39mself\u001b[39m\u001b[39m.\u001b[39mexecute(query, arg) \u001b[39mfor\u001b[39;00m arg \u001b[39min\u001b[39;00m args)\n\u001b[1;32m    183\u001b[0m \u001b[39mreturn\u001b[39;00m \u001b[39mself\u001b[39m\u001b[39m.\u001b[39mrowcount\n",
      "File \u001b[0;32m~/opt/anaconda3/lib/python3.9/site-packages/pymysql/cursors.py:211\u001b[0m, in \u001b[0;36mCursor._do_execute_many\u001b[0;34m(self, prefix, values, postfix, args, max_stmt_length, encoding)\u001b[0m\n\u001b[1;32m    209\u001b[0m         sql \u001b[39m+\u001b[39m\u001b[39m=\u001b[39m \u001b[39mb\u001b[39m\u001b[39m\"\u001b[39m\u001b[39m,\u001b[39m\u001b[39m\"\u001b[39m\n\u001b[1;32m    210\u001b[0m     sql \u001b[39m+\u001b[39m\u001b[39m=\u001b[39m v\n\u001b[0;32m--> 211\u001b[0m rows \u001b[39m+\u001b[39m\u001b[39m=\u001b[39m \u001b[39mself\u001b[39;49m\u001b[39m.\u001b[39;49mexecute(sql \u001b[39m+\u001b[39;49m postfix)\n\u001b[1;32m    212\u001b[0m \u001b[39mself\u001b[39m\u001b[39m.\u001b[39mrowcount \u001b[39m=\u001b[39m rows\n\u001b[1;32m    213\u001b[0m \u001b[39mreturn\u001b[39;00m rows\n",
      "File \u001b[0;32m~/opt/anaconda3/lib/python3.9/site-packages/pymysql/cursors.py:148\u001b[0m, in \u001b[0;36mCursor.execute\u001b[0;34m(self, query, args)\u001b[0m\n\u001b[1;32m    144\u001b[0m     \u001b[39mpass\u001b[39;00m\n\u001b[1;32m    146\u001b[0m query \u001b[39m=\u001b[39m \u001b[39mself\u001b[39m\u001b[39m.\u001b[39mmogrify(query, args)\n\u001b[0;32m--> 148\u001b[0m result \u001b[39m=\u001b[39m \u001b[39mself\u001b[39;49m\u001b[39m.\u001b[39;49m_query(query)\n\u001b[1;32m    149\u001b[0m \u001b[39mself\u001b[39m\u001b[39m.\u001b[39m_executed \u001b[39m=\u001b[39m query\n\u001b[1;32m    150\u001b[0m \u001b[39mreturn\u001b[39;00m result\n",
      "File \u001b[0;32m~/opt/anaconda3/lib/python3.9/site-packages/pymysql/cursors.py:310\u001b[0m, in \u001b[0;36mCursor._query\u001b[0;34m(self, q)\u001b[0m\n\u001b[1;32m    308\u001b[0m \u001b[39mself\u001b[39m\u001b[39m.\u001b[39m_last_executed \u001b[39m=\u001b[39m q\n\u001b[1;32m    309\u001b[0m \u001b[39mself\u001b[39m\u001b[39m.\u001b[39m_clear_result()\n\u001b[0;32m--> 310\u001b[0m conn\u001b[39m.\u001b[39;49mquery(q)\n\u001b[1;32m    311\u001b[0m \u001b[39mself\u001b[39m\u001b[39m.\u001b[39m_do_get_result()\n\u001b[1;32m    312\u001b[0m \u001b[39mreturn\u001b[39;00m \u001b[39mself\u001b[39m\u001b[39m.\u001b[39mrowcount\n",
      "File \u001b[0;32m~/opt/anaconda3/lib/python3.9/site-packages/pymysql/connections.py:548\u001b[0m, in \u001b[0;36mConnection.query\u001b[0;34m(self, sql, unbuffered)\u001b[0m\n\u001b[1;32m    546\u001b[0m     sql \u001b[39m=\u001b[39m sql\u001b[39m.\u001b[39mencode(\u001b[39mself\u001b[39m\u001b[39m.\u001b[39mencoding, \u001b[39m\"\u001b[39m\u001b[39msurrogateescape\u001b[39m\u001b[39m\"\u001b[39m)\n\u001b[1;32m    547\u001b[0m \u001b[39mself\u001b[39m\u001b[39m.\u001b[39m_execute_command(COMMAND\u001b[39m.\u001b[39mCOM_QUERY, sql)\n\u001b[0;32m--> 548\u001b[0m \u001b[39mself\u001b[39m\u001b[39m.\u001b[39m_affected_rows \u001b[39m=\u001b[39m \u001b[39mself\u001b[39;49m\u001b[39m.\u001b[39;49m_read_query_result(unbuffered\u001b[39m=\u001b[39;49munbuffered)\n\u001b[1;32m    549\u001b[0m \u001b[39mreturn\u001b[39;00m \u001b[39mself\u001b[39m\u001b[39m.\u001b[39m_affected_rows\n",
      "File \u001b[0;32m~/opt/anaconda3/lib/python3.9/site-packages/pymysql/connections.py:775\u001b[0m, in \u001b[0;36mConnection._read_query_result\u001b[0;34m(self, unbuffered)\u001b[0m\n\u001b[1;32m    773\u001b[0m \u001b[39melse\u001b[39;00m:\n\u001b[1;32m    774\u001b[0m     result \u001b[39m=\u001b[39m MySQLResult(\u001b[39mself\u001b[39m)\n\u001b[0;32m--> 775\u001b[0m     result\u001b[39m.\u001b[39;49mread()\n\u001b[1;32m    776\u001b[0m \u001b[39mself\u001b[39m\u001b[39m.\u001b[39m_result \u001b[39m=\u001b[39m result\n\u001b[1;32m    777\u001b[0m \u001b[39mif\u001b[39;00m result\u001b[39m.\u001b[39mserver_status \u001b[39mis\u001b[39;00m \u001b[39mnot\u001b[39;00m \u001b[39mNone\u001b[39;00m:\n",
      "File \u001b[0;32m~/opt/anaconda3/lib/python3.9/site-packages/pymysql/connections.py:1156\u001b[0m, in \u001b[0;36mMySQLResult.read\u001b[0;34m(self)\u001b[0m\n\u001b[1;32m   1154\u001b[0m \u001b[39mdef\u001b[39;00m \u001b[39mread\u001b[39m(\u001b[39mself\u001b[39m):\n\u001b[1;32m   1155\u001b[0m     \u001b[39mtry\u001b[39;00m:\n\u001b[0;32m-> 1156\u001b[0m         first_packet \u001b[39m=\u001b[39m \u001b[39mself\u001b[39;49m\u001b[39m.\u001b[39;49mconnection\u001b[39m.\u001b[39;49m_read_packet()\n\u001b[1;32m   1158\u001b[0m         \u001b[39mif\u001b[39;00m first_packet\u001b[39m.\u001b[39mis_ok_packet():\n\u001b[1;32m   1159\u001b[0m             \u001b[39mself\u001b[39m\u001b[39m.\u001b[39m_read_ok_packet(first_packet)\n",
      "File \u001b[0;32m~/opt/anaconda3/lib/python3.9/site-packages/pymysql/connections.py:725\u001b[0m, in \u001b[0;36mConnection._read_packet\u001b[0;34m(self, packet_type)\u001b[0m\n\u001b[1;32m    723\u001b[0m     \u001b[39mif\u001b[39;00m \u001b[39mself\u001b[39m\u001b[39m.\u001b[39m_result \u001b[39mis\u001b[39;00m \u001b[39mnot\u001b[39;00m \u001b[39mNone\u001b[39;00m \u001b[39mand\u001b[39;00m \u001b[39mself\u001b[39m\u001b[39m.\u001b[39m_result\u001b[39m.\u001b[39munbuffered_active \u001b[39mis\u001b[39;00m \u001b[39mTrue\u001b[39;00m:\n\u001b[1;32m    724\u001b[0m         \u001b[39mself\u001b[39m\u001b[39m.\u001b[39m_result\u001b[39m.\u001b[39munbuffered_active \u001b[39m=\u001b[39m \u001b[39mFalse\u001b[39;00m\n\u001b[0;32m--> 725\u001b[0m     packet\u001b[39m.\u001b[39;49mraise_for_error()\n\u001b[1;32m    726\u001b[0m \u001b[39mreturn\u001b[39;00m packet\n",
      "File \u001b[0;32m~/opt/anaconda3/lib/python3.9/site-packages/pymysql/protocol.py:221\u001b[0m, in \u001b[0;36mMysqlPacket.raise_for_error\u001b[0;34m(self)\u001b[0m\n\u001b[1;32m    219\u001b[0m \u001b[39mif\u001b[39;00m DEBUG:\n\u001b[1;32m    220\u001b[0m     \u001b[39mprint\u001b[39m(\u001b[39m\"\u001b[39m\u001b[39merrno =\u001b[39m\u001b[39m\"\u001b[39m, errno)\n\u001b[0;32m--> 221\u001b[0m err\u001b[39m.\u001b[39;49mraise_mysql_exception(\u001b[39mself\u001b[39;49m\u001b[39m.\u001b[39;49m_data)\n",
      "File \u001b[0;32m~/opt/anaconda3/lib/python3.9/site-packages/pymysql/err.py:143\u001b[0m, in \u001b[0;36mraise_mysql_exception\u001b[0;34m(data)\u001b[0m\n\u001b[1;32m    141\u001b[0m \u001b[39mif\u001b[39;00m errorclass \u001b[39mis\u001b[39;00m \u001b[39mNone\u001b[39;00m:\n\u001b[1;32m    142\u001b[0m     errorclass \u001b[39m=\u001b[39m InternalError \u001b[39mif\u001b[39;00m errno \u001b[39m<\u001b[39m \u001b[39m1000\u001b[39m \u001b[39melse\u001b[39;00m OperationalError\n\u001b[0;32m--> 143\u001b[0m \u001b[39mraise\u001b[39;00m errorclass(errno, errval)\n",
      "\u001b[0;31mOperationalError\u001b[0m: (pymysql.err.OperationalError) (1241, 'Operand should contain 1 column(s)')\n[SQL: INSERT INTO civictech.experience (exp_id, ind_id, `locationName`, `companyName`, description, title, `startDate_month`, `startDate_year`, `endDate_month`, `endDate_year`, industry, company_empl_low, company_empl_high, title_direction, titleconsulting, titlefounder) VALUES (%(exp_id)s, %(ind_id)s, %(locationName)s, %(companyName)s, %(description)s, %(title)s, %(startDate_month)s, %(startDate_year)s, %(endDate_month)s, %(endDate_year)s, %(industry)s, %(company_empl_low)s, %(company_empl_high)s, %(title_direction)s, %(titleconsulting)s, %(titlefounder)s)]\n[parameters: ({'exp_id': 0, 'ind_id': 0, 'locationName': 'Paris Metropolitan Region', 'companyName': 'bluenove', 'description': \"Bluenove accompagne la transformation positive des organisations en faisant levier de l'intelligence collective de toutes leurs parties prenantes.\\nPlus d'informations sur www.bluenove.com\", 'title': 'Directeur associé', 'startDate_month': 11, 'startDate_year': 2017, 'endDate_month': 0, 'endDate_year': 0, 'industry': ['Management Consulting'], 'company_empl_low': 11, 'company_empl_high': 50, 'title_direction': 1, 'titleconsulting': 0, 'titlefounder': 0}, {'exp_id': 1, 'ind_id': 0, 'locationName': 'Paris Metropolitan Region', 'companyName': 'démocratie ouverte', 'description': \"Démocratie Ouverte est un collectif citoyen indépendant qui agit pour :\\n\\n# Repérer, mettre en réseau et accompagner les innovateurs démocratiques\\n ... (302 characters truncated) ... ité\\n# Tester de nouvelles manières de faire de la politique\\n# Faire advenir une société ouverte, plus transparente, participative et collaborative.\", 'title': 'Co-Président', 'startDate_month': 1, 'startDate_year': 2018, 'endDate_month': 5, 'endDate_year': 2020, 'industry': ['Management Consulting'], 'company_empl_low': 11, 'company_empl_high': 50, 'title_direction': 1, 'titleconsulting': 0, 'titlefounder': 0}, {'exp_id': 2, 'ind_id': 0, 'locationName': 'Paris Metropolitan Region', 'companyName': 'apm - association progrès du management', 'description': None, 'title': 'Expert', 'startDate_month': 1, 'startDate_year': 2017, 'endDate_month': 0, 'endDate_year': 0, 'industry': ['Management Consulting'], 'company_empl_low': 11, 'company_empl_high': 50, 'title_direction': 0, 'titleconsulting': 0, 'titlefounder': 0}, {'exp_id': 3, 'ind_id': 0, 'locationName': None, 'companyName': 'démocratie ouverte', 'description': None, 'title': \"Membre du Comité d'Orientation Stratégique\", 'startDate_month': 7, 'startDate_year': 2021, 'endDate_month': 0, 'endDate_year': 0, 'industry': ['Management Consulting'], 'company_empl_low': 11, 'company_empl_high': 50, 'title_direction': 0, 'titleconsulting': 0, 'titlefounder': 0}, {'exp_id': 4, 'ind_id': 0, 'locationName': 'Paris Metropolitan Region', 'companyName': 'dassault systèmes', 'description': 'Netvibes provides Dashboard Intelligence ~ transform the intangible real-time web into tangible trends, expert knowledge and business action', 'title': 'Senior Director, Strategic Business Development ', 'startDate_month': 2, 'startDate_year': 2013, 'endDate_month': 10, 'endDate_year': 2017, 'industry': ['Management Consulting'], 'company_empl_low': 11, 'company_empl_high': 50, 'title_direction': 1, 'titleconsulting': 0, 'titlefounder': 0}, {'exp_id': 5, 'ind_id': 1, 'locationName': None, 'companyName': 'roch ventures', 'description': 'ROCH Ventures is a Luxembourg based VC fund providing Seed and Series A funding to startups in the Travel & Tourism sector. \\nWe believe that Travel  ... (97 characters truncated) ... ey drivers of opportunities and outperformance. \\nWe detect, select, and enable the future winners providing our investors with the highest returns. ', 'title': 'Founder & Managing Partner', 'startDate_month': 1, 'startDate_year': 2022, 'endDate_month': 0, 'endDate_year': 0, 'industry': ['Venture Capital', 'Private Equity'], 'company_empl_low': 2, 'company_empl_high': 10, 'title_direction': 0, 'titleconsulting': 0, 'titlefounder': 1}, {'exp_id': 6, 'ind_id': 1, 'locationName': 'Paris Metropolitan Region', 'companyName': 'boston consulting group (bcg)', 'description': 'Head of TUNED by BCG.\\nBCG change management app, helps companies bring a new, more powerful approach to communicating and engaging with employees during organisational change efforts.', 'title': 'Director', 'startDate_month': 11, 'startDate_year': 2017, 'endDate_month': 1, 'endDate_year': 2020, 'industry': ['Venture Capital', 'Private Equity'], 'company_empl_low': 2, 'company_empl_high': 10, 'title_direction': 1, 'titleconsulting': 0, 'titlefounder': 0}, {'exp_id': 7, 'ind_id': 1, 'locationName': 'Paris Metropolitan Region', 'companyName': 'Orange', 'description': 'Orange Business Services provides communication services to companies of all sizes in France and internationally. Its network, the most extensive in  ... (90 characters truncated) ... ers and employees.\\nMore than 160 countries and territories covered\\n21,500 employees\\n15 research and innovation laboratories\\n227 million customers', 'title': 'Advisory Board Member', 'startDate_month': 9, 'startDate_year': 2016, 'endDate_month': 6, 'endDate_year': 2021, 'industry': ['Venture Capital', 'Private Equity'], 'company_empl_low': 2, 'company_empl_high': 10, 'title_direction': 0, 'titleconsulting': 0, 'titlefounder': 0}  ... displaying 10 of 235 total bound parameter sets ...  {'exp_id': 233, 'ind_id': 46, 'locationName': None, 'companyName': 'cap collectif', 'description': None, 'title': 'Pôle Conseil', 'startDate_month': 11, 'startDate_year': 2016, 'endDate_month': 8, 'endDate_year': 2022, 'industry': ['Research'], 'company_empl_low': 11, 'company_empl_high': 50, 'title_direction': 0, 'titleconsulting': 0, 'titlefounder': 0}, {'exp_id': 234, 'ind_id': 46, 'locationName': None, 'companyName': 'médiateur de la république', 'description': None, 'title': 'assistant du directeur de cabinet', 'startDate_month': 2, 'startDate_year': 2009, 'endDate_month': 11, 'endDate_year': 2010, 'industry': ['Research'], 'company_empl_low': 11, 'company_empl_high': 50, 'title_direction': 1, 'titleconsulting': 0, 'titlefounder': 0})]\n(Background on this error at: https://sqlalche.me/e/14/e3q8)"
     ]
    }
   ],
   "source": [
    "experience.to_sql('experience', engine, 'civictech', if_exists='replace', index=False)\n",
    "# specify data types "
   ]
  },
  {
   "attachments": {},
   "cell_type": "markdown",
   "metadata": {},
   "source": [
    "### Education"
   ]
  },
  {
   "cell_type": "code",
   "execution_count": 25,
   "metadata": {},
   "outputs": [],
   "source": [
    "education=pd.read_csv('profiles/people_education_db.csv', sep=';')"
   ]
  },
  {
   "cell_type": "code",
   "execution_count": 26,
   "metadata": {},
   "outputs": [
    {
     "name": "stdout",
     "output_type": "stream",
     "text": [
      "['ind_id', 'school', 'degreeName', 'schoolName', 'fieldOfStudy', 'startDate_year']\n",
      "6\n",
      "141\n"
     ]
    }
   ],
   "source": [
    "print(list(education.columns))\n",
    "print(len(list(education.columns)))\n",
    "print(len(education))"
   ]
  },
  {
   "cell_type": "code",
   "execution_count": 27,
   "metadata": {},
   "outputs": [
    {
     "data": {
      "text/plain": [
       "fieldOfStudy      51\n",
       "school            46\n",
       "degreeName        44\n",
       "startDate_year    30\n",
       "schoolName        19\n",
       "ind_id             0\n",
       "dtype: int64"
      ]
     },
     "execution_count": 27,
     "metadata": {},
     "output_type": "execute_result"
    }
   ],
   "source": [
    "education.isna().sum().sort_values(ascending=False)"
   ]
  },
  {
   "cell_type": "code",
   "execution_count": 28,
   "metadata": {},
   "outputs": [
    {
     "data": {
      "text/plain": [
       "school             object\n",
       "degreeName         object\n",
       "schoolName         object\n",
       "fieldOfStudy       object\n",
       "startDate_year    float64\n",
       "ind_id              int64\n",
       "dtype: object"
      ]
     },
     "execution_count": 28,
     "metadata": {},
     "output_type": "execute_result"
    }
   ],
   "source": [
    "education.dtypes.sort_values(ascending=False)"
   ]
  },
  {
   "cell_type": "code",
   "execution_count": 29,
   "metadata": {},
   "outputs": [],
   "source": [
    "education.startDate_year.value_counts(dropna=False)\n",
    "education['startDate_year'] = education['startDate_year'].fillna(0)"
   ]
  },
  {
   "cell_type": "code",
   "execution_count": 30,
   "metadata": {},
   "outputs": [],
   "source": [
    "education['startDate_year']= education['startDate_year'].astype(int)"
   ]
  },
  {
   "cell_type": "code",
   "execution_count": 31,
   "metadata": {},
   "outputs": [
    {
     "data": {
      "text/plain": [
       "141"
      ]
     },
     "execution_count": 31,
     "metadata": {},
     "output_type": "execute_result"
    }
   ],
   "source": [
    "education.to_sql('education', engine, 'civictech', if_exists='replace', index=False)"
   ]
  },
  {
   "attachments": {},
   "cell_type": "markdown",
   "metadata": {},
   "source": [
    "# Organizations"
   ]
  },
  {
   "attachments": {},
   "cell_type": "markdown",
   "metadata": {},
   "source": [
    "## Companies finance data"
   ]
  },
  {
   "cell_type": "code",
   "execution_count": 47,
   "metadata": {},
   "outputs": [],
   "source": [
    "companies_finance=pd.read_csv('scraping_organizations/companies_finance_data.csv', sep=';') # possible index drop"
   ]
  },
  {
   "cell_type": "code",
   "execution_count": 54,
   "metadata": {},
   "outputs": [
    {
     "data": {
      "text/html": [
       "<div>\n",
       "<style scoped>\n",
       "    .dataframe tbody tr th:only-of-type {\n",
       "        vertical-align: middle;\n",
       "    }\n",
       "\n",
       "    .dataframe tbody tr th {\n",
       "        vertical-align: top;\n",
       "    }\n",
       "\n",
       "    .dataframe thead th {\n",
       "        text-align: right;\n",
       "    }\n",
       "</style>\n",
       "<table border=\"1\" class=\"dataframe\">\n",
       "  <thead>\n",
       "    <tr style=\"text-align: right;\">\n",
       "      <th></th>\n",
       "      <th>company</th>\n",
       "      <th>annee</th>\n",
       "      <th>chiffre_daffaires_e</th>\n",
       "      <th>marge_brute_e</th>\n",
       "      <th>resultat_dexploitation_e</th>\n",
       "      <th>resultat_net_e</th>\n",
       "      <th>taux_croissance_ca_pc</th>\n",
       "      <th>taux_marge_brute_pc</th>\n",
       "      <th>taux_marge_operationnelle_pc</th>\n",
       "      <th>bfr_e</th>\n",
       "      <th>...</th>\n",
       "      <th>fonds_propres_e</th>\n",
       "      <th>marge_nette_pc</th>\n",
       "      <th>rentabilite_sur_fonds_propres_pc</th>\n",
       "      <th>rentabilite_economique_pc</th>\n",
       "      <th>valeur_ajoutee_e</th>\n",
       "      <th>valeur_ajoutee_sur_ca_pc</th>\n",
       "      <th>salaires_et_charges_sociales_e</th>\n",
       "      <th>salaires_sur_ca_pc</th>\n",
       "      <th>impots_et_taxes_e</th>\n",
       "      <th>chiffre_daffaires_a_lexport_e</th>\n",
       "    </tr>\n",
       "  </thead>\n",
       "  <tbody>\n",
       "    <tr>\n",
       "      <th>0</th>\n",
       "      <td>citility</td>\n",
       "      <td>2017.0</td>\n",
       "      <td>0.0</td>\n",
       "      <td>0</td>\n",
       "      <td>0</td>\n",
       "      <td>-562000</td>\n",
       "      <td>0</td>\n",
       "      <td>0</td>\n",
       "      <td>0</td>\n",
       "      <td>-247000</td>\n",
       "      <td>...</td>\n",
       "      <td>1380000</td>\n",
       "      <td>0</td>\n",
       "      <td>0</td>\n",
       "      <td>0</td>\n",
       "      <td>0</td>\n",
       "      <td>0</td>\n",
       "      <td>0</td>\n",
       "      <td>0</td>\n",
       "      <td>0</td>\n",
       "      <td>0</td>\n",
       "    </tr>\n",
       "    <tr>\n",
       "      <th>1</th>\n",
       "      <td>citility</td>\n",
       "      <td>2016.0</td>\n",
       "      <td>30700.0</td>\n",
       "      <td>527000</td>\n",
       "      <td>-296000</td>\n",
       "      <td>-238000</td>\n",
       "      <td>4</td>\n",
       "      <td>1720</td>\n",
       "      <td>-965</td>\n",
       "      <td>-213000</td>\n",
       "      <td>...</td>\n",
       "      <td>382000</td>\n",
       "      <td>-775</td>\n",
       "      <td>-623</td>\n",
       "      <td>-173</td>\n",
       "      <td>351000</td>\n",
       "      <td>1140</td>\n",
       "      <td>636000</td>\n",
       "      <td>2070</td>\n",
       "      <td>9160</td>\n",
       "      <td>0</td>\n",
       "    </tr>\n",
       "    <tr>\n",
       "      <th>2</th>\n",
       "      <td>voxcracy</td>\n",
       "      <td>2019.0</td>\n",
       "      <td>46300.0</td>\n",
       "      <td>46300</td>\n",
       "      <td>-38500</td>\n",
       "      <td>-39000</td>\n",
       "      <td>177</td>\n",
       "      <td>100</td>\n",
       "      <td>-833</td>\n",
       "      <td>-44900</td>\n",
       "      <td>...</td>\n",
       "      <td>513000</td>\n",
       "      <td>-842</td>\n",
       "      <td>-76</td>\n",
       "      <td>-63</td>\n",
       "      <td>2170</td>\n",
       "      <td>47</td>\n",
       "      <td>33600</td>\n",
       "      <td>725</td>\n",
       "      <td>137</td>\n",
       "      <td>0</td>\n",
       "    </tr>\n",
       "    <tr>\n",
       "      <th>3</th>\n",
       "      <td>voxcracy</td>\n",
       "      <td>2018.0</td>\n",
       "      <td>16700.0</td>\n",
       "      <td>157000</td>\n",
       "      <td>-130000</td>\n",
       "      <td>-112000</td>\n",
       "      <td>861</td>\n",
       "      <td>940</td>\n",
       "      <td>-776</td>\n",
       "      <td>-27400</td>\n",
       "      <td>...</td>\n",
       "      <td>552000</td>\n",
       "      <td>-668</td>\n",
       "      <td>-202</td>\n",
       "      <td>-169</td>\n",
       "      <td>-21000</td>\n",
       "      <td>-126</td>\n",
       "      <td>101000</td>\n",
       "      <td>602</td>\n",
       "      <td>1120</td>\n",
       "      <td>5000</td>\n",
       "    </tr>\n",
       "    <tr>\n",
       "      <th>4</th>\n",
       "      <td>voxcracy</td>\n",
       "      <td>2017.0</td>\n",
       "      <td>1740.0</td>\n",
       "      <td>75900</td>\n",
       "      <td>-30300</td>\n",
       "      <td>-23400</td>\n",
       "      <td>0</td>\n",
       "      <td>4360</td>\n",
       "      <td>-1740</td>\n",
       "      <td>7680</td>\n",
       "      <td>...</td>\n",
       "      <td>569000</td>\n",
       "      <td>-1350</td>\n",
       "      <td>-41</td>\n",
       "      <td>-39</td>\n",
       "      <td>-5040</td>\n",
       "      <td>-290</td>\n",
       "      <td>19100</td>\n",
       "      <td>1100</td>\n",
       "      <td>329</td>\n",
       "      <td>0</td>\n",
       "    </tr>\n",
       "  </tbody>\n",
       "</table>\n",
       "<p>5 rows × 41 columns</p>\n",
       "</div>"
      ],
      "text/plain": [
       "    company   annee  chiffre_daffaires_e  marge_brute_e  \\\n",
       "0  citility  2017.0                  0.0              0   \n",
       "1  citility  2016.0              30700.0         527000   \n",
       "2  voxcracy  2019.0              46300.0          46300   \n",
       "3  voxcracy  2018.0              16700.0         157000   \n",
       "4  voxcracy  2017.0               1740.0          75900   \n",
       "\n",
       "   resultat_dexploitation_e  resultat_net_e  taux_croissance_ca_pc  \\\n",
       "0                         0         -562000                      0   \n",
       "1                   -296000         -238000                      4   \n",
       "2                    -38500          -39000                    177   \n",
       "3                   -130000         -112000                    861   \n",
       "4                    -30300          -23400                      0   \n",
       "\n",
       "   taux_marge_brute_pc  taux_marge_operationnelle_pc   bfr_e  ...  \\\n",
       "0                    0                             0 -247000  ...   \n",
       "1                 1720                          -965 -213000  ...   \n",
       "2                  100                          -833  -44900  ...   \n",
       "3                  940                          -776  -27400  ...   \n",
       "4                 4360                         -1740    7680  ...   \n",
       "\n",
       "   fonds_propres_e  marge_nette_pc  rentabilite_sur_fonds_propres_pc  \\\n",
       "0          1380000               0                                 0   \n",
       "1           382000            -775                              -623   \n",
       "2           513000            -842                               -76   \n",
       "3           552000            -668                              -202   \n",
       "4           569000           -1350                               -41   \n",
       "\n",
       "   rentabilite_economique_pc  valeur_ajoutee_e  valeur_ajoutee_sur_ca_pc  \\\n",
       "0                          0                 0                         0   \n",
       "1                       -173            351000                      1140   \n",
       "2                        -63              2170                        47   \n",
       "3                       -169            -21000                      -126   \n",
       "4                        -39             -5040                      -290   \n",
       "\n",
       "   salaires_et_charges_sociales_e  salaires_sur_ca_pc  impots_et_taxes_e  \\\n",
       "0                               0                   0                  0   \n",
       "1                          636000                2070               9160   \n",
       "2                           33600                 725                137   \n",
       "3                          101000                 602               1120   \n",
       "4                           19100                1100                329   \n",
       "\n",
       "   chiffre_daffaires_a_lexport_e  \n",
       "0                              0  \n",
       "1                              0  \n",
       "2                              0  \n",
       "3                           5000  \n",
       "4                              0  \n",
       "\n",
       "[5 rows x 41 columns]"
      ]
     },
     "execution_count": 54,
     "metadata": {},
     "output_type": "execute_result"
    }
   ],
   "source": [
    "companies_finance.head()"
   ]
  },
  {
   "cell_type": "code",
   "execution_count": 52,
   "metadata": {},
   "outputs": [],
   "source": [
    "companies_finance.drop(columns=['gestion_bfr', 'autonomie_financiere','solvabilite', 'rentabilite','structure_dactivite'], inplace=True)"
   ]
  },
  {
   "cell_type": "code",
   "execution_count": 56,
   "metadata": {},
   "outputs": [],
   "source": [
    "companies_finance.reset_index(inplace=True)"
   ]
  },
  {
   "cell_type": "code",
   "execution_count": 58,
   "metadata": {},
   "outputs": [],
   "source": [
    "companies_finance.rename(columns={\"index\": \"company_year_ide\"}, inplace=True)"
   ]
  },
  {
   "cell_type": "code",
   "execution_count": 60,
   "metadata": {},
   "outputs": [
    {
     "data": {
      "text/html": [
       "<div>\n",
       "<style scoped>\n",
       "    .dataframe tbody tr th:only-of-type {\n",
       "        vertical-align: middle;\n",
       "    }\n",
       "\n",
       "    .dataframe tbody tr th {\n",
       "        vertical-align: top;\n",
       "    }\n",
       "\n",
       "    .dataframe thead th {\n",
       "        text-align: right;\n",
       "    }\n",
       "</style>\n",
       "<table border=\"1\" class=\"dataframe\">\n",
       "  <thead>\n",
       "    <tr style=\"text-align: right;\">\n",
       "      <th></th>\n",
       "      <th>company_year_ide</th>\n",
       "      <th>company</th>\n",
       "      <th>annee</th>\n",
       "      <th>chiffre_daffaires_e</th>\n",
       "      <th>marge_brute_e</th>\n",
       "      <th>resultat_dexploitation_e</th>\n",
       "      <th>resultat_net_e</th>\n",
       "      <th>taux_croissance_ca_pc</th>\n",
       "      <th>taux_marge_brute_pc</th>\n",
       "      <th>taux_marge_operationnelle_pc</th>\n",
       "      <th>...</th>\n",
       "      <th>fonds_propres_e</th>\n",
       "      <th>marge_nette_pc</th>\n",
       "      <th>rentabilite_sur_fonds_propres_pc</th>\n",
       "      <th>rentabilite_economique_pc</th>\n",
       "      <th>valeur_ajoutee_e</th>\n",
       "      <th>valeur_ajoutee_sur_ca_pc</th>\n",
       "      <th>salaires_et_charges_sociales_e</th>\n",
       "      <th>salaires_sur_ca_pc</th>\n",
       "      <th>impots_et_taxes_e</th>\n",
       "      <th>chiffre_daffaires_a_lexport_e</th>\n",
       "    </tr>\n",
       "  </thead>\n",
       "  <tbody>\n",
       "    <tr>\n",
       "      <th>0</th>\n",
       "      <td>0</td>\n",
       "      <td>citility</td>\n",
       "      <td>2017.0</td>\n",
       "      <td>0.0</td>\n",
       "      <td>0</td>\n",
       "      <td>0</td>\n",
       "      <td>-562000</td>\n",
       "      <td>0</td>\n",
       "      <td>0</td>\n",
       "      <td>0</td>\n",
       "      <td>...</td>\n",
       "      <td>1380000</td>\n",
       "      <td>0</td>\n",
       "      <td>0</td>\n",
       "      <td>0</td>\n",
       "      <td>0</td>\n",
       "      <td>0</td>\n",
       "      <td>0</td>\n",
       "      <td>0</td>\n",
       "      <td>0</td>\n",
       "      <td>0</td>\n",
       "    </tr>\n",
       "    <tr>\n",
       "      <th>1</th>\n",
       "      <td>1</td>\n",
       "      <td>citility</td>\n",
       "      <td>2016.0</td>\n",
       "      <td>30700.0</td>\n",
       "      <td>527000</td>\n",
       "      <td>-296000</td>\n",
       "      <td>-238000</td>\n",
       "      <td>4</td>\n",
       "      <td>1720</td>\n",
       "      <td>-965</td>\n",
       "      <td>...</td>\n",
       "      <td>382000</td>\n",
       "      <td>-775</td>\n",
       "      <td>-623</td>\n",
       "      <td>-173</td>\n",
       "      <td>351000</td>\n",
       "      <td>1140</td>\n",
       "      <td>636000</td>\n",
       "      <td>2070</td>\n",
       "      <td>9160</td>\n",
       "      <td>0</td>\n",
       "    </tr>\n",
       "    <tr>\n",
       "      <th>2</th>\n",
       "      <td>2</td>\n",
       "      <td>voxcracy</td>\n",
       "      <td>2019.0</td>\n",
       "      <td>46300.0</td>\n",
       "      <td>46300</td>\n",
       "      <td>-38500</td>\n",
       "      <td>-39000</td>\n",
       "      <td>177</td>\n",
       "      <td>100</td>\n",
       "      <td>-833</td>\n",
       "      <td>...</td>\n",
       "      <td>513000</td>\n",
       "      <td>-842</td>\n",
       "      <td>-76</td>\n",
       "      <td>-63</td>\n",
       "      <td>2170</td>\n",
       "      <td>47</td>\n",
       "      <td>33600</td>\n",
       "      <td>725</td>\n",
       "      <td>137</td>\n",
       "      <td>0</td>\n",
       "    </tr>\n",
       "    <tr>\n",
       "      <th>3</th>\n",
       "      <td>3</td>\n",
       "      <td>voxcracy</td>\n",
       "      <td>2018.0</td>\n",
       "      <td>16700.0</td>\n",
       "      <td>157000</td>\n",
       "      <td>-130000</td>\n",
       "      <td>-112000</td>\n",
       "      <td>861</td>\n",
       "      <td>940</td>\n",
       "      <td>-776</td>\n",
       "      <td>...</td>\n",
       "      <td>552000</td>\n",
       "      <td>-668</td>\n",
       "      <td>-202</td>\n",
       "      <td>-169</td>\n",
       "      <td>-21000</td>\n",
       "      <td>-126</td>\n",
       "      <td>101000</td>\n",
       "      <td>602</td>\n",
       "      <td>1120</td>\n",
       "      <td>5000</td>\n",
       "    </tr>\n",
       "    <tr>\n",
       "      <th>4</th>\n",
       "      <td>4</td>\n",
       "      <td>voxcracy</td>\n",
       "      <td>2017.0</td>\n",
       "      <td>1740.0</td>\n",
       "      <td>75900</td>\n",
       "      <td>-30300</td>\n",
       "      <td>-23400</td>\n",
       "      <td>0</td>\n",
       "      <td>4360</td>\n",
       "      <td>-1740</td>\n",
       "      <td>...</td>\n",
       "      <td>569000</td>\n",
       "      <td>-1350</td>\n",
       "      <td>-41</td>\n",
       "      <td>-39</td>\n",
       "      <td>-5040</td>\n",
       "      <td>-290</td>\n",
       "      <td>19100</td>\n",
       "      <td>1100</td>\n",
       "      <td>329</td>\n",
       "      <td>0</td>\n",
       "    </tr>\n",
       "  </tbody>\n",
       "</table>\n",
       "<p>5 rows × 42 columns</p>\n",
       "</div>"
      ],
      "text/plain": [
       "   company_year_ide   company   annee  chiffre_daffaires_e  marge_brute_e  \\\n",
       "0                 0  citility  2017.0                  0.0              0   \n",
       "1                 1  citility  2016.0              30700.0         527000   \n",
       "2                 2  voxcracy  2019.0              46300.0          46300   \n",
       "3                 3  voxcracy  2018.0              16700.0         157000   \n",
       "4                 4  voxcracy  2017.0               1740.0          75900   \n",
       "\n",
       "   resultat_dexploitation_e  resultat_net_e  taux_croissance_ca_pc  \\\n",
       "0                         0         -562000                      0   \n",
       "1                   -296000         -238000                      4   \n",
       "2                    -38500          -39000                    177   \n",
       "3                   -130000         -112000                    861   \n",
       "4                    -30300          -23400                      0   \n",
       "\n",
       "   taux_marge_brute_pc  taux_marge_operationnelle_pc  ...  fonds_propres_e  \\\n",
       "0                    0                             0  ...          1380000   \n",
       "1                 1720                          -965  ...           382000   \n",
       "2                  100                          -833  ...           513000   \n",
       "3                  940                          -776  ...           552000   \n",
       "4                 4360                         -1740  ...           569000   \n",
       "\n",
       "   marge_nette_pc  rentabilite_sur_fonds_propres_pc  \\\n",
       "0               0                                 0   \n",
       "1            -775                              -623   \n",
       "2            -842                               -76   \n",
       "3            -668                              -202   \n",
       "4           -1350                               -41   \n",
       "\n",
       "   rentabilite_economique_pc  valeur_ajoutee_e  valeur_ajoutee_sur_ca_pc  \\\n",
       "0                          0                 0                         0   \n",
       "1                       -173            351000                      1140   \n",
       "2                        -63              2170                        47   \n",
       "3                       -169            -21000                      -126   \n",
       "4                        -39             -5040                      -290   \n",
       "\n",
       "   salaires_et_charges_sociales_e  salaires_sur_ca_pc  impots_et_taxes_e  \\\n",
       "0                               0                   0                  0   \n",
       "1                          636000                2070               9160   \n",
       "2                           33600                 725                137   \n",
       "3                          101000                 602               1120   \n",
       "4                           19100                1100                329   \n",
       "\n",
       "   chiffre_daffaires_a_lexport_e  \n",
       "0                              0  \n",
       "1                              0  \n",
       "2                              0  \n",
       "3                           5000  \n",
       "4                              0  \n",
       "\n",
       "[5 rows x 42 columns]"
      ]
     },
     "execution_count": 60,
     "metadata": {},
     "output_type": "execute_result"
    }
   ],
   "source": [
    "companies_finance.head()"
   ]
  },
  {
   "cell_type": "code",
   "execution_count": 59,
   "metadata": {},
   "outputs": [
    {
     "data": {
      "text/plain": [
       "74"
      ]
     },
     "execution_count": 59,
     "metadata": {},
     "output_type": "execute_result"
    }
   ],
   "source": [
    "companies_finance.to_sql('companies_finance', engine, 'civictech', if_exists='replace', index=False)"
   ]
  },
  {
   "attachments": {},
   "cell_type": "markdown",
   "metadata": {},
   "source": [
    "### Companies info"
   ]
  },
  {
   "cell_type": "code",
   "execution_count": 63,
   "metadata": {},
   "outputs": [
    {
     "name": "stdout",
     "output_type": "stream",
     "text": [
      "Index(['company_id', 'companyName', 'Adresse :', 'Activité :', 'Effectif :',\n",
      "       'Création :', 'Dirigeants :', 'Forme juridique :',\n",
      "       'Inscription au RCS :', 'Capital social :',\n",
      "       'Activité principale déclarée :', 'Code NAF ou APE :',\n",
      "       'Domaine d’activité :', 'Dirigeant :', 'Inscription au RNA :',\n",
      "       'Identifiant association :', 'Objet de l'association :',\n",
      "       'Statut INSEE :'],\n",
      "      dtype='object')\n"
     ]
    }
   ],
   "source": [
    "companies_info=pd.read_csv('scraping_organizations/companies_info_data.csv', sep=';')\n",
    "print(companies_info.columns)"
   ]
  },
  {
   "cell_type": "code",
   "execution_count": 64,
   "metadata": {},
   "outputs": [
    {
     "data": {
      "text/html": [
       "<div>\n",
       "<style scoped>\n",
       "    .dataframe tbody tr th:only-of-type {\n",
       "        vertical-align: middle;\n",
       "    }\n",
       "\n",
       "    .dataframe tbody tr th {\n",
       "        vertical-align: top;\n",
       "    }\n",
       "\n",
       "    .dataframe thead th {\n",
       "        text-align: right;\n",
       "    }\n",
       "</style>\n",
       "<table border=\"1\" class=\"dataframe\">\n",
       "  <thead>\n",
       "    <tr style=\"text-align: right;\">\n",
       "      <th></th>\n",
       "      <th>company_id</th>\n",
       "      <th>companyName</th>\n",
       "      <th>Adresse :</th>\n",
       "      <th>Activité :</th>\n",
       "      <th>Effectif :</th>\n",
       "      <th>Création :</th>\n",
       "      <th>Dirigeants :</th>\n",
       "      <th>Forme juridique :</th>\n",
       "      <th>Inscription au RCS :</th>\n",
       "      <th>Capital social :</th>\n",
       "      <th>Activité principale déclarée :</th>\n",
       "      <th>Code NAF ou APE :</th>\n",
       "      <th>Domaine d’activité :</th>\n",
       "      <th>Dirigeant :</th>\n",
       "      <th>Inscription au RNA :</th>\n",
       "      <th>Identifiant association :</th>\n",
       "      <th>Objet de l'association :</th>\n",
       "      <th>Statut INSEE :</th>\n",
       "    </tr>\n",
       "  </thead>\n",
       "  <tbody>\n",
       "    <tr>\n",
       "      <th>0</th>\n",
       "      <td>0</td>\n",
       "      <td>citility</td>\n",
       "      <td>5 RUE DE LA CLAIRE 69009 LYON 9EME</td>\n",
       "      <td>Édition de logiciels applicatifs</td>\n",
       "      <td>0 salarié  (donnée 2019)</td>\n",
       "      <td>05/05/2014</td>\n",
       "      <td>André MAY, ODICEO, Sabine SCHNECK</td>\n",
       "      <td>SAS, société par actions simplifiée</td>\n",
       "      <td>INSCRIT (au greffe de LYON, le 12/05/2014)</td>\n",
       "      <td>39 620,00 €</td>\n",
       "      <td>Edition de logiciels applicatifs.</td>\n",
       "      <td>58.29C (Édition de logiciels applicatifs)</td>\n",
       "      <td>Édition</td>\n",
       "      <td>NaN</td>\n",
       "      <td>NaN</td>\n",
       "      <td>NaN</td>\n",
       "      <td>NaN</td>\n",
       "      <td>NaN</td>\n",
       "    </tr>\n",
       "    <tr>\n",
       "      <th>1</th>\n",
       "      <td>1</td>\n",
       "      <td>poligma</td>\n",
       "      <td>RPT BENJAMIN FRANKLIN 34960 MONTPELLIER CEDEX 2</td>\n",
       "      <td>Conseil en systèmes et logiciels informatiques</td>\n",
       "      <td>Entre 3 et 5 salariés  (donnée 2020)</td>\n",
       "      <td>01/09/2015</td>\n",
       "      <td>NaN</td>\n",
       "      <td>SAS, société par actions simplifiée</td>\n",
       "      <td>INSCRIT (au greffe de MONTPELLIER, le 11/09/2015)</td>\n",
       "      <td>20 944,00 €</td>\n",
       "      <td>Développement de services informatiques et num...</td>\n",
       "      <td>62.02A (Conseil en systèmes et logiciels infor...</td>\n",
       "      <td>Programmation, conseil et autres activités inf...</td>\n",
       "      <td>Philippe GERARD</td>\n",
       "      <td>NaN</td>\n",
       "      <td>NaN</td>\n",
       "      <td>NaN</td>\n",
       "      <td>NaN</td>\n",
       "    </tr>\n",
       "    <tr>\n",
       "      <th>2</th>\n",
       "      <td>2</td>\n",
       "      <td>voxcracy</td>\n",
       "      <td>1133 RTE FENERIE 06580 PEGOMAS</td>\n",
       "      <td>Programmation informatique</td>\n",
       "      <td>0 salarié</td>\n",
       "      <td>01/09/2014</td>\n",
       "      <td>Olivier ROCCA, Pascal RUSCICA</td>\n",
       "      <td>SAS, société par actions simplifiée</td>\n",
       "      <td>INSCRIT (au greffe de GRASSE, le 17/07/2014)</td>\n",
       "      <td>1 000,00 €</td>\n",
       "      <td>La recherche, le développement et la commercia...</td>\n",
       "      <td>62.01Z (Programmation informatique)</td>\n",
       "      <td>Programmation, conseil et autres activités inf...</td>\n",
       "      <td>NaN</td>\n",
       "      <td>NaN</td>\n",
       "      <td>NaN</td>\n",
       "      <td>NaN</td>\n",
       "      <td>NaN</td>\n",
       "    </tr>\n",
       "    <tr>\n",
       "      <th>3</th>\n",
       "      <td>3</td>\n",
       "      <td>LLL_2</td>\n",
       "      <td>16 RUE DU CAIRE 75002 PARIS 2</td>\n",
       "      <td>Autres activités de soutien aux entreprises n....</td>\n",
       "      <td>Entre 3 et 5 salariés  (donnée 2020)</td>\n",
       "      <td>16/01/2015</td>\n",
       "      <td>ANNAMAMASHOW, Raymond Maeder, 3APEXCO</td>\n",
       "      <td>SAS, société par actions simplifiée</td>\n",
       "      <td>INSCRIT (au greffe de PARIS, le 03/02/2015)</td>\n",
       "      <td>45 000,00 €</td>\n",
       "      <td>Développement de nouvelles formes de collabora...</td>\n",
       "      <td>82.99Z (Autres activités de soutien aux entrep...</td>\n",
       "      <td>Activités administratives et autres activités ...</td>\n",
       "      <td>NaN</td>\n",
       "      <td>NaN</td>\n",
       "      <td>NaN</td>\n",
       "      <td>NaN</td>\n",
       "      <td>NaN</td>\n",
       "    </tr>\n",
       "    <tr>\n",
       "      <th>4</th>\n",
       "      <td>4</td>\n",
       "      <td>bluenove</td>\n",
       "      <td>112 B RUE CARDINET 75017 PARIS 17</td>\n",
       "      <td>Conseil pour les affaires et autres conseils d...</td>\n",
       "      <td>Entre 20 et 49 salariés  (donnée 2020)</td>\n",
       "      <td>23/01/2008</td>\n",
       "      <td>GROUPE BLUENOVE INC., Guillaume Drancy, Carole...</td>\n",
       "      <td>SAS, société par actions simplifiée</td>\n",
       "      <td>INSCRIT (au greffe de PARIS, le 21/11/2019)</td>\n",
       "      <td>56 445,00 €</td>\n",
       "      <td>L'activité de conseil en stratégie d'accompagn...</td>\n",
       "      <td>70.22Z (Conseil pour les affaires et autres co...</td>\n",
       "      <td>Activités des sièges sociaux ; conseil de gestion</td>\n",
       "      <td>NaN</td>\n",
       "      <td>NaN</td>\n",
       "      <td>NaN</td>\n",
       "      <td>NaN</td>\n",
       "      <td>NaN</td>\n",
       "    </tr>\n",
       "  </tbody>\n",
       "</table>\n",
       "</div>"
      ],
      "text/plain": [
       "   company_id companyName                                        Adresse :  \\\n",
       "0           0    citility               5 RUE DE LA CLAIRE 69009 LYON 9EME   \n",
       "1           1     poligma  RPT BENJAMIN FRANKLIN 34960 MONTPELLIER CEDEX 2   \n",
       "2           2    voxcracy                   1133 RTE FENERIE 06580 PEGOMAS   \n",
       "3           3       LLL_2                    16 RUE DU CAIRE 75002 PARIS 2   \n",
       "4           4    bluenove                112 B RUE CARDINET 75017 PARIS 17   \n",
       "\n",
       "                                          Activité :  \\\n",
       "0                   Édition de logiciels applicatifs   \n",
       "1     Conseil en systèmes et logiciels informatiques   \n",
       "2                         Programmation informatique   \n",
       "3  Autres activités de soutien aux entreprises n....   \n",
       "4  Conseil pour les affaires et autres conseils d...   \n",
       "\n",
       "                               Effectif :  Création :  \\\n",
       "0                0 salarié  (donnée 2019)  05/05/2014   \n",
       "1    Entre 3 et 5 salariés  (donnée 2020)  01/09/2015   \n",
       "2                               0 salarié  01/09/2014   \n",
       "3    Entre 3 et 5 salariés  (donnée 2020)  16/01/2015   \n",
       "4  Entre 20 et 49 salariés  (donnée 2020)  23/01/2008   \n",
       "\n",
       "                                        Dirigeants :  \\\n",
       "0                  André MAY, ODICEO, Sabine SCHNECK   \n",
       "1                                                NaN   \n",
       "2                      Olivier ROCCA, Pascal RUSCICA   \n",
       "3              ANNAMAMASHOW, Raymond Maeder, 3APEXCO   \n",
       "4  GROUPE BLUENOVE INC., Guillaume Drancy, Carole...   \n",
       "\n",
       "                     Forme juridique :  \\\n",
       "0  SAS, société par actions simplifiée   \n",
       "1  SAS, société par actions simplifiée   \n",
       "2  SAS, société par actions simplifiée   \n",
       "3  SAS, société par actions simplifiée   \n",
       "4  SAS, société par actions simplifiée   \n",
       "\n",
       "                                Inscription au RCS : Capital social :  \\\n",
       "0         INSCRIT (au greffe de LYON, le 12/05/2014)      39 620,00 €   \n",
       "1  INSCRIT (au greffe de MONTPELLIER, le 11/09/2015)      20 944,00 €   \n",
       "2       INSCRIT (au greffe de GRASSE, le 17/07/2014)       1 000,00 €   \n",
       "3        INSCRIT (au greffe de PARIS, le 03/02/2015)      45 000,00 €   \n",
       "4        INSCRIT (au greffe de PARIS, le 21/11/2019)      56 445,00 €   \n",
       "\n",
       "                      Activité principale déclarée :  \\\n",
       "0                  Edition de logiciels applicatifs.   \n",
       "1  Développement de services informatiques et num...   \n",
       "2  La recherche, le développement et la commercia...   \n",
       "3  Développement de nouvelles formes de collabora...   \n",
       "4  L'activité de conseil en stratégie d'accompagn...   \n",
       "\n",
       "                                   Code NAF ou APE :  \\\n",
       "0          58.29C (Édition de logiciels applicatifs)   \n",
       "1  62.02A (Conseil en systèmes et logiciels infor...   \n",
       "2                62.01Z (Programmation informatique)   \n",
       "3  82.99Z (Autres activités de soutien aux entrep...   \n",
       "4  70.22Z (Conseil pour les affaires et autres co...   \n",
       "\n",
       "                                Domaine d’activité :      Dirigeant :  \\\n",
       "0                                            Édition              NaN   \n",
       "1  Programmation, conseil et autres activités inf...  Philippe GERARD   \n",
       "2  Programmation, conseil et autres activités inf...              NaN   \n",
       "3  Activités administratives et autres activités ...              NaN   \n",
       "4  Activités des sièges sociaux ; conseil de gestion              NaN   \n",
       "\n",
       "  Inscription au RNA : Identifiant association : Objet de l'association :  \\\n",
       "0                  NaN                       NaN                      NaN   \n",
       "1                  NaN                       NaN                      NaN   \n",
       "2                  NaN                       NaN                      NaN   \n",
       "3                  NaN                       NaN                      NaN   \n",
       "4                  NaN                       NaN                      NaN   \n",
       "\n",
       "  Statut INSEE :  \n",
       "0            NaN  \n",
       "1            NaN  \n",
       "2            NaN  \n",
       "3            NaN  \n",
       "4            NaN  "
      ]
     },
     "execution_count": 64,
     "metadata": {},
     "output_type": "execute_result"
    }
   ],
   "source": [
    "companies_info.head()"
   ]
  },
  {
   "cell_type": "code",
   "execution_count": 65,
   "metadata": {},
   "outputs": [
    {
     "name": "stdout",
     "output_type": "stream",
     "text": [
      "['company_id', 'companyname', 'adresse', 'activite', 'effectif', 'creation', 'dirigeants', 'forme_juridique', 'inscription_au_rcs', 'capital_social', 'activite_principale_declaree', 'code_naf_ou_ape', 'domaine_dactivite', 'dirigeant', 'inscription_au_rna', 'identifiant_association', 'objet_de_lassociation', 'statut_insee']\n"
     ]
    }
   ],
   "source": [
    "new_cols=[]\n",
    "for i in list(companies_info.columns):\n",
    "    i=i.lower().replace(' :', '').replace('é', 'e').replace(\"(\", '').replace(')', '').replace(' ', '_').replace(\"'\",'').replace(\"’\",'').replace(\"è\", \"e\")\n",
    "    new_cols.append(i)\n",
    "print(new_cols)"
   ]
  },
  {
   "cell_type": "code",
   "execution_count": 66,
   "metadata": {},
   "outputs": [
    {
     "data": {
      "text/html": [
       "<div>\n",
       "<style scoped>\n",
       "    .dataframe tbody tr th:only-of-type {\n",
       "        vertical-align: middle;\n",
       "    }\n",
       "\n",
       "    .dataframe tbody tr th {\n",
       "        vertical-align: top;\n",
       "    }\n",
       "\n",
       "    .dataframe thead th {\n",
       "        text-align: right;\n",
       "    }\n",
       "</style>\n",
       "<table border=\"1\" class=\"dataframe\">\n",
       "  <thead>\n",
       "    <tr style=\"text-align: right;\">\n",
       "      <th></th>\n",
       "      <th>company_id</th>\n",
       "      <th>companyname</th>\n",
       "      <th>adresse</th>\n",
       "      <th>activite</th>\n",
       "      <th>effectif</th>\n",
       "      <th>creation</th>\n",
       "      <th>dirigeants</th>\n",
       "      <th>forme_juridique</th>\n",
       "      <th>inscription_au_rcs</th>\n",
       "      <th>capital_social</th>\n",
       "      <th>activite_principale_declaree</th>\n",
       "      <th>code_naf_ou_ape</th>\n",
       "      <th>domaine_dactivite</th>\n",
       "      <th>dirigeant</th>\n",
       "      <th>inscription_au_rna</th>\n",
       "      <th>identifiant_association</th>\n",
       "      <th>objet_de_lassociation</th>\n",
       "      <th>statut_insee</th>\n",
       "    </tr>\n",
       "  </thead>\n",
       "  <tbody>\n",
       "    <tr>\n",
       "      <th>0</th>\n",
       "      <td>0</td>\n",
       "      <td>citility</td>\n",
       "      <td>5 RUE DE LA CLAIRE 69009 LYON 9EME</td>\n",
       "      <td>Édition de logiciels applicatifs</td>\n",
       "      <td>0 salarié  (donnée 2019)</td>\n",
       "      <td>05/05/2014</td>\n",
       "      <td>André MAY, ODICEO, Sabine SCHNECK</td>\n",
       "      <td>SAS, société par actions simplifiée</td>\n",
       "      <td>INSCRIT (au greffe de LYON, le 12/05/2014)</td>\n",
       "      <td>39 620,00 €</td>\n",
       "      <td>Edition de logiciels applicatifs.</td>\n",
       "      <td>58.29C (Édition de logiciels applicatifs)</td>\n",
       "      <td>Édition</td>\n",
       "      <td>NaN</td>\n",
       "      <td>NaN</td>\n",
       "      <td>NaN</td>\n",
       "      <td>NaN</td>\n",
       "      <td>NaN</td>\n",
       "    </tr>\n",
       "    <tr>\n",
       "      <th>1</th>\n",
       "      <td>1</td>\n",
       "      <td>poligma</td>\n",
       "      <td>RPT BENJAMIN FRANKLIN 34960 MONTPELLIER CEDEX 2</td>\n",
       "      <td>Conseil en systèmes et logiciels informatiques</td>\n",
       "      <td>Entre 3 et 5 salariés  (donnée 2020)</td>\n",
       "      <td>01/09/2015</td>\n",
       "      <td>NaN</td>\n",
       "      <td>SAS, société par actions simplifiée</td>\n",
       "      <td>INSCRIT (au greffe de MONTPELLIER, le 11/09/2015)</td>\n",
       "      <td>20 944,00 €</td>\n",
       "      <td>Développement de services informatiques et num...</td>\n",
       "      <td>62.02A (Conseil en systèmes et logiciels infor...</td>\n",
       "      <td>Programmation, conseil et autres activités inf...</td>\n",
       "      <td>Philippe GERARD</td>\n",
       "      <td>NaN</td>\n",
       "      <td>NaN</td>\n",
       "      <td>NaN</td>\n",
       "      <td>NaN</td>\n",
       "    </tr>\n",
       "    <tr>\n",
       "      <th>2</th>\n",
       "      <td>2</td>\n",
       "      <td>voxcracy</td>\n",
       "      <td>1133 RTE FENERIE 06580 PEGOMAS</td>\n",
       "      <td>Programmation informatique</td>\n",
       "      <td>0 salarié</td>\n",
       "      <td>01/09/2014</td>\n",
       "      <td>Olivier ROCCA, Pascal RUSCICA</td>\n",
       "      <td>SAS, société par actions simplifiée</td>\n",
       "      <td>INSCRIT (au greffe de GRASSE, le 17/07/2014)</td>\n",
       "      <td>1 000,00 €</td>\n",
       "      <td>La recherche, le développement et la commercia...</td>\n",
       "      <td>62.01Z (Programmation informatique)</td>\n",
       "      <td>Programmation, conseil et autres activités inf...</td>\n",
       "      <td>NaN</td>\n",
       "      <td>NaN</td>\n",
       "      <td>NaN</td>\n",
       "      <td>NaN</td>\n",
       "      <td>NaN</td>\n",
       "    </tr>\n",
       "    <tr>\n",
       "      <th>3</th>\n",
       "      <td>3</td>\n",
       "      <td>LLL_2</td>\n",
       "      <td>16 RUE DU CAIRE 75002 PARIS 2</td>\n",
       "      <td>Autres activités de soutien aux entreprises n....</td>\n",
       "      <td>Entre 3 et 5 salariés  (donnée 2020)</td>\n",
       "      <td>16/01/2015</td>\n",
       "      <td>ANNAMAMASHOW, Raymond Maeder, 3APEXCO</td>\n",
       "      <td>SAS, société par actions simplifiée</td>\n",
       "      <td>INSCRIT (au greffe de PARIS, le 03/02/2015)</td>\n",
       "      <td>45 000,00 €</td>\n",
       "      <td>Développement de nouvelles formes de collabora...</td>\n",
       "      <td>82.99Z (Autres activités de soutien aux entrep...</td>\n",
       "      <td>Activités administratives et autres activités ...</td>\n",
       "      <td>NaN</td>\n",
       "      <td>NaN</td>\n",
       "      <td>NaN</td>\n",
       "      <td>NaN</td>\n",
       "      <td>NaN</td>\n",
       "    </tr>\n",
       "    <tr>\n",
       "      <th>4</th>\n",
       "      <td>4</td>\n",
       "      <td>bluenove</td>\n",
       "      <td>112 B RUE CARDINET 75017 PARIS 17</td>\n",
       "      <td>Conseil pour les affaires et autres conseils d...</td>\n",
       "      <td>Entre 20 et 49 salariés  (donnée 2020)</td>\n",
       "      <td>23/01/2008</td>\n",
       "      <td>GROUPE BLUENOVE INC., Guillaume Drancy, Carole...</td>\n",
       "      <td>SAS, société par actions simplifiée</td>\n",
       "      <td>INSCRIT (au greffe de PARIS, le 21/11/2019)</td>\n",
       "      <td>56 445,00 €</td>\n",
       "      <td>L'activité de conseil en stratégie d'accompagn...</td>\n",
       "      <td>70.22Z (Conseil pour les affaires et autres co...</td>\n",
       "      <td>Activités des sièges sociaux ; conseil de gestion</td>\n",
       "      <td>NaN</td>\n",
       "      <td>NaN</td>\n",
       "      <td>NaN</td>\n",
       "      <td>NaN</td>\n",
       "      <td>NaN</td>\n",
       "    </tr>\n",
       "  </tbody>\n",
       "</table>\n",
       "</div>"
      ],
      "text/plain": [
       "   company_id companyname                                          adresse  \\\n",
       "0           0    citility               5 RUE DE LA CLAIRE 69009 LYON 9EME   \n",
       "1           1     poligma  RPT BENJAMIN FRANKLIN 34960 MONTPELLIER CEDEX 2   \n",
       "2           2    voxcracy                   1133 RTE FENERIE 06580 PEGOMAS   \n",
       "3           3       LLL_2                    16 RUE DU CAIRE 75002 PARIS 2   \n",
       "4           4    bluenove                112 B RUE CARDINET 75017 PARIS 17   \n",
       "\n",
       "                                            activite  \\\n",
       "0                   Édition de logiciels applicatifs   \n",
       "1     Conseil en systèmes et logiciels informatiques   \n",
       "2                         Programmation informatique   \n",
       "3  Autres activités de soutien aux entreprises n....   \n",
       "4  Conseil pour les affaires et autres conseils d...   \n",
       "\n",
       "                                 effectif    creation  \\\n",
       "0                0 salarié  (donnée 2019)  05/05/2014   \n",
       "1    Entre 3 et 5 salariés  (donnée 2020)  01/09/2015   \n",
       "2                               0 salarié  01/09/2014   \n",
       "3    Entre 3 et 5 salariés  (donnée 2020)  16/01/2015   \n",
       "4  Entre 20 et 49 salariés  (donnée 2020)  23/01/2008   \n",
       "\n",
       "                                          dirigeants  \\\n",
       "0                  André MAY, ODICEO, Sabine SCHNECK   \n",
       "1                                                NaN   \n",
       "2                      Olivier ROCCA, Pascal RUSCICA   \n",
       "3              ANNAMAMASHOW, Raymond Maeder, 3APEXCO   \n",
       "4  GROUPE BLUENOVE INC., Guillaume Drancy, Carole...   \n",
       "\n",
       "                       forme_juridique  \\\n",
       "0  SAS, société par actions simplifiée   \n",
       "1  SAS, société par actions simplifiée   \n",
       "2  SAS, société par actions simplifiée   \n",
       "3  SAS, société par actions simplifiée   \n",
       "4  SAS, société par actions simplifiée   \n",
       "\n",
       "                                  inscription_au_rcs capital_social  \\\n",
       "0         INSCRIT (au greffe de LYON, le 12/05/2014)    39 620,00 €   \n",
       "1  INSCRIT (au greffe de MONTPELLIER, le 11/09/2015)    20 944,00 €   \n",
       "2       INSCRIT (au greffe de GRASSE, le 17/07/2014)     1 000,00 €   \n",
       "3        INSCRIT (au greffe de PARIS, le 03/02/2015)    45 000,00 €   \n",
       "4        INSCRIT (au greffe de PARIS, le 21/11/2019)    56 445,00 €   \n",
       "\n",
       "                        activite_principale_declaree  \\\n",
       "0                  Edition de logiciels applicatifs.   \n",
       "1  Développement de services informatiques et num...   \n",
       "2  La recherche, le développement et la commercia...   \n",
       "3  Développement de nouvelles formes de collabora...   \n",
       "4  L'activité de conseil en stratégie d'accompagn...   \n",
       "\n",
       "                                     code_naf_ou_ape  \\\n",
       "0          58.29C (Édition de logiciels applicatifs)   \n",
       "1  62.02A (Conseil en systèmes et logiciels infor...   \n",
       "2                62.01Z (Programmation informatique)   \n",
       "3  82.99Z (Autres activités de soutien aux entrep...   \n",
       "4  70.22Z (Conseil pour les affaires et autres co...   \n",
       "\n",
       "                                   domaine_dactivite        dirigeant  \\\n",
       "0                                            Édition              NaN   \n",
       "1  Programmation, conseil et autres activités inf...  Philippe GERARD   \n",
       "2  Programmation, conseil et autres activités inf...              NaN   \n",
       "3  Activités administratives et autres activités ...              NaN   \n",
       "4  Activités des sièges sociaux ; conseil de gestion              NaN   \n",
       "\n",
       "  inscription_au_rna identifiant_association objet_de_lassociation  \\\n",
       "0                NaN                     NaN                   NaN   \n",
       "1                NaN                     NaN                   NaN   \n",
       "2                NaN                     NaN                   NaN   \n",
       "3                NaN                     NaN                   NaN   \n",
       "4                NaN                     NaN                   NaN   \n",
       "\n",
       "  statut_insee  \n",
       "0          NaN  \n",
       "1          NaN  \n",
       "2          NaN  \n",
       "3          NaN  \n",
       "4          NaN  "
      ]
     },
     "execution_count": 66,
     "metadata": {},
     "output_type": "execute_result"
    }
   ],
   "source": [
    "companies_info.columns=new_cols\n",
    "companies_info.head()"
   ]
  },
  {
   "cell_type": "code",
   "execution_count": 67,
   "metadata": {},
   "outputs": [],
   "source": [
    "companies_info['creation'] = pd.to_datetime(companies_info['creation'], format=\"%d/%m/%Y\")"
   ]
  },
  {
   "cell_type": "code",
   "execution_count": 69,
   "metadata": {},
   "outputs": [
    {
     "data": {
      "text/plain": [
       "76"
      ]
     },
     "execution_count": 69,
     "metadata": {},
     "output_type": "execute_result"
    }
   ],
   "source": [
    "companies_info.to_sql('companies_info', engine, 'civictech', if_exists='replace', index=False)"
   ]
  },
  {
   "cell_type": "code",
   "execution_count": 70,
   "metadata": {},
   "outputs": [],
   "source": [
    "# https://pandas.pydata.org/docs/reference/api/pandas.DataFrame.to_sql.html\n",
    "\n",
    "# you can pass data types here \n",
    "# from sqlalchemy.types import Integer\n",
    "# df.to_sql('integers', con=engine, index=False,\n",
    "#           dtype={\"A\": Integer()})"
   ]
  }
 ],
 "metadata": {
  "kernelspec": {
   "display_name": "base",
   "language": "python",
   "name": "python3"
  },
  "language_info": {
   "codemirror_mode": {
    "name": "ipython",
    "version": 3
   },
   "file_extension": ".py",
   "mimetype": "text/x-python",
   "name": "python",
   "nbconvert_exporter": "python",
   "pygments_lexer": "ipython3",
   "version": "3.9.16"
  },
  "orig_nbformat": 4
 },
 "nbformat": 4,
 "nbformat_minor": 2
}
